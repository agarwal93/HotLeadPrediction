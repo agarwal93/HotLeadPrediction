{
 "cells": [
  {
   "cell_type": "code",
   "execution_count": null,
   "metadata": {},
   "outputs": [],
   "source": [
    "## Applying Clustering and seeing for the optimal no of clusters we are getting on the trains set"
   ]
  },
  {
   "cell_type": "code",
   "execution_count": 338,
   "metadata": {},
   "outputs": [],
   "source": [
    "from sklearn.cluster import KMeans"
   ]
  },
  {
   "cell_type": "code",
   "execution_count": 339,
   "metadata": {},
   "outputs": [
    {
     "data": {
      "text/html": [
       "<div>\n",
       "<style scoped>\n",
       "    .dataframe tbody tr th:only-of-type {\n",
       "        vertical-align: middle;\n",
       "    }\n",
       "\n",
       "    .dataframe tbody tr th {\n",
       "        vertical-align: top;\n",
       "    }\n",
       "\n",
       "    .dataframe thead th {\n",
       "        text-align: right;\n",
       "    }\n",
       "</style>\n",
       "<table border=\"1\" class=\"dataframe\">\n",
       "  <thead>\n",
       "    <tr style=\"text-align: right;\">\n",
       "      <th></th>\n",
       "      <th>no_of_clusters</th>\n",
       "      <th>cluster_errors</th>\n",
       "    </tr>\n",
       "  </thead>\n",
       "  <tbody>\n",
       "    <tr>\n",
       "      <td>0</td>\n",
       "      <td>1</td>\n",
       "      <td>31856.877927</td>\n",
       "    </tr>\n",
       "    <tr>\n",
       "      <td>1</td>\n",
       "      <td>2</td>\n",
       "      <td>27138.951597</td>\n",
       "    </tr>\n",
       "    <tr>\n",
       "      <td>2</td>\n",
       "      <td>3</td>\n",
       "      <td>24224.505206</td>\n",
       "    </tr>\n",
       "    <tr>\n",
       "      <td>3</td>\n",
       "      <td>4</td>\n",
       "      <td>22916.463309</td>\n",
       "    </tr>\n",
       "    <tr>\n",
       "      <td>4</td>\n",
       "      <td>5</td>\n",
       "      <td>21657.684158</td>\n",
       "    </tr>\n",
       "    <tr>\n",
       "      <td>5</td>\n",
       "      <td>6</td>\n",
       "      <td>20910.228561</td>\n",
       "    </tr>\n",
       "    <tr>\n",
       "      <td>6</td>\n",
       "      <td>7</td>\n",
       "      <td>20144.686959</td>\n",
       "    </tr>\n",
       "    <tr>\n",
       "      <td>7</td>\n",
       "      <td>8</td>\n",
       "      <td>19530.809686</td>\n",
       "    </tr>\n",
       "    <tr>\n",
       "      <td>8</td>\n",
       "      <td>9</td>\n",
       "      <td>18881.292519</td>\n",
       "    </tr>\n",
       "    <tr>\n",
       "      <td>9</td>\n",
       "      <td>10</td>\n",
       "      <td>18441.642868</td>\n",
       "    </tr>\n",
       "    <tr>\n",
       "      <td>10</td>\n",
       "      <td>11</td>\n",
       "      <td>18037.702935</td>\n",
       "    </tr>\n",
       "    <tr>\n",
       "      <td>11</td>\n",
       "      <td>12</td>\n",
       "      <td>17639.897064</td>\n",
       "    </tr>\n",
       "    <tr>\n",
       "      <td>12</td>\n",
       "      <td>13</td>\n",
       "      <td>17326.841047</td>\n",
       "    </tr>\n",
       "    <tr>\n",
       "      <td>13</td>\n",
       "      <td>14</td>\n",
       "      <td>16884.582039</td>\n",
       "    </tr>\n",
       "    <tr>\n",
       "      <td>14</td>\n",
       "      <td>15</td>\n",
       "      <td>16530.673148</td>\n",
       "    </tr>\n",
       "    <tr>\n",
       "      <td>15</td>\n",
       "      <td>16</td>\n",
       "      <td>16417.462469</td>\n",
       "    </tr>\n",
       "    <tr>\n",
       "      <td>16</td>\n",
       "      <td>17</td>\n",
       "      <td>16096.946272</td>\n",
       "    </tr>\n",
       "    <tr>\n",
       "      <td>17</td>\n",
       "      <td>18</td>\n",
       "      <td>15953.265443</td>\n",
       "    </tr>\n",
       "    <tr>\n",
       "      <td>18</td>\n",
       "      <td>19</td>\n",
       "      <td>15682.562172</td>\n",
       "    </tr>\n",
       "  </tbody>\n",
       "</table>\n",
       "</div>"
      ],
      "text/plain": [
       "    no_of_clusters  cluster_errors\n",
       "0                1    31856.877927\n",
       "1                2    27138.951597\n",
       "2                3    24224.505206\n",
       "3                4    22916.463309\n",
       "4                5    21657.684158\n",
       "5                6    20910.228561\n",
       "6                7    20144.686959\n",
       "7                8    19530.809686\n",
       "8                9    18881.292519\n",
       "9               10    18441.642868\n",
       "10              11    18037.702935\n",
       "11              12    17639.897064\n",
       "12              13    17326.841047\n",
       "13              14    16884.582039\n",
       "14              15    16530.673148\n",
       "15              16    16417.462469\n",
       "16              17    16096.946272\n",
       "17              18    15953.265443\n",
       "18              19    15682.562172"
      ]
     },
     "execution_count": 339,
     "metadata": {},
     "output_type": "execute_result"
    }
   ],
   "source": [
    "sse=[]\n",
    "\n",
    "for i in range(1,20):\n",
    "    \n",
    "    kmeans=KMeans(n_clusters=i,random_state=10)\n",
    "    kmeans.fit(X_train_selcols)\n",
    "    errors=kmeans.inertia_\n",
    "    sse.append(errors)\n",
    "    \n",
    "cluster_df=pd.DataFrame({'no_of_clusters':list(range(1,20)),'cluster_errors':sse})\n",
    "\n",
    "cluster_df"
   ]
  },
  {
   "cell_type": "code",
   "execution_count": 349,
   "metadata": {},
   "outputs": [
    {
     "data": {
      "image/png": "[encoded data removed]",
      "text/plain": [
       "<Figure size 432x288 with 1 Axes>"
      ]
     },
     "metadata": {
      "needs_background": "light"
     },
     "output_type": "display_data"
    }
   ],
   "source": [
    "#plotting the Elbow plot\n",
    "\n",
    "plt.plot(cluster_df['no_of_clusters'],cluster_df['cluster_errors'],marker='*')\n",
    "plt.xlabel('no_of_clusters')\n",
    "plt.ylabel('errors')\n",
    "plt.grid(True)\n"
   ]
  },
  {
   "cell_type": "code",
   "execution_count": 348,
   "metadata": {},
   "outputs": [
    {
     "name": "stdout",
     "output_type": "stream",
     "text": [
      "silhouette score for 2 no of clusters = 0.14598050224575057\n",
      "silhouette score for 3 no of clusters = 0.15129248694049055\n",
      "silhouette score for 4 no of clusters = 0.15317418276946831\n",
      "silhouette score for 5 no of clusters = 0.15089192821287334\n",
      "silhouette score for 6 no of clusters = 0.13580105769354966\n",
      "silhouette score for 7 no of clusters = 0.13426357719433013\n",
      "silhouette score for 8 no of clusters = 0.1403141517780117\n",
      "silhouette score for 9 no of clusters = 0.1424475608091472\n",
      "silhouette score for 10 no of clusters = 0.14830900393633248\n",
      "silhouette score for 11 no of clusters = 0.14839169745696887\n",
      "silhouette score for 12 no of clusters = 0.1459122197922241\n",
      "silhouette score for 13 no of clusters = 0.1296878966740695\n",
      "silhouette score for 14 no of clusters = 0.1355575281356524\n",
      "silhouette score for 15 no of clusters = 0.1378728254555757\n",
      "silhouette score for 16 no of clusters = 0.13670048218683206\n",
      "silhouette score for 17 no of clusters = 0.14565733522783025\n",
      "silhouette score for 18 no of clusters = 0.13815694901176434\n",
      "silhouette score for 19 no of clusters = 0.14171030454868588\n"
     ]
    }
   ],
   "source": [
    "#checking for optimal no of clusters on the basis of silhoutte scores\n",
    "\n",
    "for i in range(2,20):\n",
    "    kmeans=KMeans(n_clusters=i,random_state=10)\n",
    "    kmeans.fit(X_train_selcols)\n",
    "    labels=kmeans.predict(X_train_selcols)\n",
    "    silhouette_score=metrics.silhouette_score(X_train_selcols,labels)\n",
    "    print('silhouette score for {} no of clusters ='.format(i),silhouette_score)\n",
    "    "
   ]
  },
  {
   "cell_type": "code",
   "execution_count": null,
   "metadata": {},
   "outputs": [],
   "source": []
  },
  {
   "cell_type": "code",
   "execution_count": 352,
   "metadata": {},
   "outputs": [],
   "source": [
    "# evaluating our clustering model on the basis of given semi labelled data"
   ]
  },
  {
   "cell_type": "code",
   "execution_count": 353,
   "metadata": {},
   "outputs": [
    {
     "data": {
      "text/plain": [
       "0.36379097093382806"
      ]
     },
     "execution_count": 353,
     "metadata": {},
     "output_type": "execute_result"
    }
   ],
   "source": [
    "kmeans=KMeans(n_clusters=2,random_state=10)\n",
    "kmeans.fit(X_train_selcols)\n",
    "labels=kmeans.predict(X_train_selcols)\n",
    "\n",
    "metrics.accuracy_score(y_train,labels)"
   ]
  },
  {
   "cell_type": "code",
   "execution_count": null,
   "metadata": {},
   "outputs": [],
   "source": [
    "# plt.rcParams['figure.figsize']=(16,9)\n",
    "# plt.style.use('ggplot')"
   ]
  },
  {
   "cell_type": "code",
   "execution_count": null,
   "metadata": {},
   "outputs": [],
   "source": []
  }
 ],
 "metadata": {
  "kernelspec": {
   "display_name": "Python 3",
   "language": "python",
   "name": "python3"
  },
  "language_info": {
   "codemirror_mode": {
    "name": "ipython",
    "version": 3
   },
   "file_extension": ".py",
   "mimetype": "text/x-python",
   "name": "python",
   "nbconvert_exporter": "python",
   "pygments_lexer": "ipython3",
   "version": "3.7.4"
  }
 },
 "nbformat": 4,
 "nbformat_minor": 2
}
