{
 "cells": [
  {
   "cell_type": "code",
   "execution_count": 4,
   "metadata": {
    "id": "3MyL_ydzpWvx"
   },
   "outputs": [],
   "source": [
    "import numpy as np\n",
    "import pandas as pd\n",
    "import seaborn as sns \n",
    "import matplotlib.pyplot as plt\n",
    "%matplotlib inline"
   ]
  },
  {
   "cell_type": "code",
   "execution_count": 5,
   "metadata": {
    "id": "942gFlgUpWv7"
   },
   "outputs": [],
   "source": [
    "import warnings\n",
    "warnings.filterwarnings('ignore')"
   ]
  },
  {
   "cell_type": "code",
   "execution_count": 6,
   "metadata": {
    "id": "roaMLBaupWv8"
   },
   "outputs": [],
   "source": [
    "from sklearn.linear_model import LogisticRegression"
   ]
  },
  {
   "cell_type": "code",
   "execution_count": 7,
   "metadata": {
    "id": "sY0S9lcUpWv8"
   },
   "outputs": [],
   "source": [
    "lr=LogisticRegression()"
   ]
  },
  {
   "cell_type": "code",
   "execution_count": 15,
   "metadata": {
    "id": "OrgVdCQ1pWv9"
   },
   "outputs": [],
   "source": [
    "train_data=pd.read_excel('train_set.xlsx')"
   ]
  },
  {
   "cell_type": "code",
   "execution_count": null,
   "metadata": {
    "colab": {
     "base_uri": "https://localhost:8080/",
     "height": 467
    },
    "id": "05LubpGQpWv9",
    "outputId": "65ede1e8-45e7-48a7-d344-af28b60e4e82"
   },
   "outputs": [],
   "source": [
    "\n",
    "pd.set_option('display.max_columns',None)\n",
    "train_data.head()"
   ]
  },
  {
   "cell_type": "code",
   "execution_count": null,
   "metadata": {
    "id": "N435kjg0pWv_"
   },
   "outputs": [],
   "source": [
    "test_data=pd.read_excel('/content/test_set.xlsx')"
   ]
  },
  {
   "cell_type": "code",
   "execution_count": null,
   "metadata": {
    "colab": {
     "base_uri": "https://localhost:8080/",
     "height": 467
    },
    "id": "JeH4Xo5ApWv_",
    "outputId": "2e20d50f-5bd6-4fe9-dca1-d015a7a4b400"
   },
   "outputs": [],
   "source": [
    "\n",
    "pd.set_option('display.max_columns',None)\n",
    "test_data.head()"
   ]
  },
  {
   "cell_type": "code",
   "execution_count": null,
   "metadata": {
    "colab": {
     "base_uri": "https://localhost:8080/"
    },
    "id": "rnOrV26VpWwA",
    "outputId": "56922b50-889e-4366-9893-55d952062b1f"
   },
   "outputs": [],
   "source": [
    "train_data.shape"
   ]
  },
  {
   "cell_type": "code",
   "execution_count": null,
   "metadata": {
    "colab": {
     "base_uri": "https://localhost:8080/"
    },
    "id": "Zh9Z9vPLpWwA",
    "outputId": "dc752451-9266-4df4-979c-258bfa4f2019"
   },
   "outputs": [],
   "source": [
    "test_data.shape"
   ]
  },
  {
   "cell_type": "code",
   "execution_count": null,
   "metadata": {
    "colab": {
     "base_uri": "https://localhost:8080/"
    },
    "id": "sSWbu59gpWwB",
    "outputId": "e46d5f1f-3a08-4d64-bfa1-1932872ac378"
   },
   "outputs": [],
   "source": [
    "train_data.isnull().sum()"
   ]
  },
  {
   "cell_type": "code",
   "execution_count": null,
   "metadata": {
    "colab": {
     "base_uri": "https://localhost:8080/"
    },
    "id": "OQLvU3pbpWwB",
    "outputId": "e2c4aa32-48c6-418e-c3ce-75b9b466e70a"
   },
   "outputs": [],
   "source": [
    "test_data.isnull().sum()"
   ]
  },
  {
   "cell_type": "code",
   "execution_count": null,
   "metadata": {
    "id": "xIhTHri-pWwC"
   },
   "outputs": [],
   "source": [
    "# taking only one numerical feature which came relevant"
   ]
  },
  {
   "cell_type": "code",
   "execution_count": null,
   "metadata": {
    "id": "nVeqBABjpWwC"
   },
   "outputs": [],
   "source": [
    "train_data1=train_data.drop(['Unnamed: 0','TotalVisits','Page Views Per Visit','Asymmetrique Activity Score','Asymmetrique Profile Score'],axis=1)"
   ]
  },
  {
   "cell_type": "code",
   "execution_count": null,
   "metadata": {
    "colab": {
     "base_uri": "https://localhost:8080/",
     "height": 467
    },
    "id": "NYDKvhSjpWwD",
    "outputId": "60af1219-b952-4e95-d085-8e7c993085dd"
   },
   "outputs": [],
   "source": [
    "train_data1.head()"
   ]
  },
  {
   "cell_type": "code",
   "execution_count": null,
   "metadata": {
    "id": "Gv9JeA41pWwD"
   },
   "outputs": [],
   "source": [
    "#dropping same numerical features from the test set as well"
   ]
  },
  {
   "cell_type": "code",
   "execution_count": null,
   "metadata": {
    "id": "8nVdPJWgpWwE"
   },
   "outputs": [],
   "source": [
    "test_data1=test_data.drop(['Unnamed: 0','TotalVisits','Page Views Per Visit','Asymmetrique Activity Score','Asymmetrique Profile Score'],axis=1)"
   ]
  },
  {
   "cell_type": "code",
   "execution_count": null,
   "metadata": {
    "colab": {
     "base_uri": "https://localhost:8080/",
     "height": 467
    },
    "id": "6lZ43VXppWwE",
    "outputId": "9e6534c5-32b9-4a78-c004-8bb0bb27d823"
   },
   "outputs": [],
   "source": [
    "test_data1.head()"
   ]
  },
  {
   "cell_type": "code",
   "execution_count": null,
   "metadata": {
    "colab": {
     "base_uri": "https://localhost:8080/"
    },
    "id": "qc3GEWu8pWwE",
    "outputId": "38e2fc8f-820b-43e4-de77-f02e5bf0edcb"
   },
   "outputs": [],
   "source": [
    "train_data.shape"
   ]
  },
  {
   "cell_type": "code",
   "execution_count": null,
   "metadata": {
    "colab": {
     "base_uri": "https://localhost:8080/"
    },
    "id": "5IRpFgRYpWwF",
    "outputId": "7b3d7613-b83e-402a-a611-544c662920f9"
   },
   "outputs": [],
   "source": [
    "train_data1.shape"
   ]
  },
  {
   "cell_type": "code",
   "execution_count": 9,
   "metadata": {
    "colab": {
     "base_uri": "https://localhost:8080/"
    },
    "id": "_irTeM3KpWwF",
    "outputId": "0ad674d0-5df6-49f4-a07e-2551b19a3b52"
   },
   "outputs": [
    {
     "ename": "NameError",
     "evalue": "name 'test_data' is not defined",
     "output_type": "error",
     "traceback": [
      "\u001b[1;31m---------------------------------------------------------------------------\u001b[0m",
      "\u001b[1;31mNameError\u001b[0m                                 Traceback (most recent call last)",
      "\u001b[1;32m<ipython-input-9-de9adb2cfe46>\u001b[0m in \u001b[0;36m<module>\u001b[1;34m\u001b[0m\n\u001b[1;32m----> 1\u001b[1;33m \u001b[0mtest_data\u001b[0m\u001b[1;33m.\u001b[0m\u001b[0mshape\u001b[0m\u001b[1;33m\u001b[0m\u001b[1;33m\u001b[0m\u001b[0m\n\u001b[0m",
      "\u001b[1;31mNameError\u001b[0m: name 'test_data' is not defined"
     ]
    }
   ],
   "source": [
    "test_data.shape"
   ]
  },
  {
   "cell_type": "code",
   "execution_count": 10,
   "metadata": {
    "colab": {
     "base_uri": "https://localhost:8080/"
    },
    "id": "AKDEQWqppWwG",
    "outputId": "f36d2e02-5754-4b00-a707-98d52a095544"
   },
   "outputs": [
    {
     "ename": "NameError",
     "evalue": "name 'test_data1' is not defined",
     "output_type": "error",
     "traceback": [
      "\u001b[1;31m---------------------------------------------------------------------------\u001b[0m",
      "\u001b[1;31mNameError\u001b[0m                                 Traceback (most recent call last)",
      "\u001b[1;32m<ipython-input-10-b23e6acc74f1>\u001b[0m in \u001b[0;36m<module>\u001b[1;34m\u001b[0m\n\u001b[1;32m----> 1\u001b[1;33m \u001b[0mtest_data1\u001b[0m\u001b[1;33m.\u001b[0m\u001b[0mshape\u001b[0m\u001b[1;33m\u001b[0m\u001b[1;33m\u001b[0m\u001b[0m\n\u001b[0m",
      "\u001b[1;31mNameError\u001b[0m: name 'test_data1' is not defined"
     ]
    }
   ],
   "source": [
    "test_data1.shape"
   ]
  },
  {
   "cell_type": "code",
   "execution_count": 11,
   "metadata": {
    "id": "hkAuW7XcpWwG"
   },
   "outputs": [
    {
     "ename": "NameError",
     "evalue": "name 'train_data1' is not defined",
     "output_type": "error",
     "traceback": [
      "\u001b[1;31m---------------------------------------------------------------------------\u001b[0m",
      "\u001b[1;31mNameError\u001b[0m                                 Traceback (most recent call last)",
      "\u001b[1;32m<ipython-input-11-272e1ad13bbe>\u001b[0m in \u001b[0;36m<module>\u001b[1;34m\u001b[0m\n\u001b[1;32m----> 1\u001b[1;33m \u001b[0mX_train\u001b[0m\u001b[1;33m=\u001b[0m\u001b[0mtrain_data1\u001b[0m\u001b[1;33m.\u001b[0m\u001b[0mdrop\u001b[0m\u001b[1;33m(\u001b[0m\u001b[1;34m'Converted'\u001b[0m\u001b[1;33m,\u001b[0m\u001b[0maxis\u001b[0m\u001b[1;33m=\u001b[0m\u001b[1;36m1\u001b[0m\u001b[1;33m)\u001b[0m\u001b[1;33m\u001b[0m\u001b[1;33m\u001b[0m\u001b[0m\n\u001b[0m\u001b[0;32m      2\u001b[0m \u001b[0my_train\u001b[0m\u001b[1;33m=\u001b[0m\u001b[0mtrain_data1\u001b[0m\u001b[1;33m[\u001b[0m\u001b[1;34m'Converted'\u001b[0m\u001b[1;33m]\u001b[0m\u001b[1;33m\u001b[0m\u001b[1;33m\u001b[0m\u001b[0m\n",
      "\u001b[1;31mNameError\u001b[0m: name 'train_data1' is not defined"
     ]
    }
   ],
   "source": [
    "X_train=train_data1.drop('Converted',axis=1)\n",
    "y_train=train_data1['Converted']"
   ]
  },
  {
   "cell_type": "code",
   "execution_count": 12,
   "metadata": {
    "id": "QYsgLBIppWwG"
   },
   "outputs": [
    {
     "ename": "NameError",
     "evalue": "name 'test_data1' is not defined",
     "output_type": "error",
     "traceback": [
      "\u001b[1;31m---------------------------------------------------------------------------\u001b[0m",
      "\u001b[1;31mNameError\u001b[0m                                 Traceback (most recent call last)",
      "\u001b[1;32m<ipython-input-12-fd754017a5b8>\u001b[0m in \u001b[0;36m<module>\u001b[1;34m\u001b[0m\n\u001b[1;32m----> 1\u001b[1;33m \u001b[0mX_test\u001b[0m\u001b[1;33m=\u001b[0m\u001b[0mtest_data1\u001b[0m\u001b[1;33m.\u001b[0m\u001b[0mdrop\u001b[0m\u001b[1;33m(\u001b[0m\u001b[1;34m'Converted'\u001b[0m\u001b[1;33m,\u001b[0m\u001b[0maxis\u001b[0m\u001b[1;33m=\u001b[0m\u001b[1;36m1\u001b[0m\u001b[1;33m)\u001b[0m\u001b[1;33m\u001b[0m\u001b[1;33m\u001b[0m\u001b[0m\n\u001b[0m\u001b[0;32m      2\u001b[0m \u001b[0my_test\u001b[0m\u001b[1;33m=\u001b[0m\u001b[0mtest_data1\u001b[0m\u001b[1;33m[\u001b[0m\u001b[1;34m'Converted'\u001b[0m\u001b[1;33m]\u001b[0m\u001b[1;33m\u001b[0m\u001b[1;33m\u001b[0m\u001b[0m\n",
      "\u001b[1;31mNameError\u001b[0m: name 'test_data1' is not defined"
     ]
    }
   ],
   "source": [
    "X_test=test_data1.drop('Converted',axis=1)\n",
    "y_test=test_data1['Converted']"
   ]
  },
  {
   "cell_type": "code",
   "execution_count": 13,
   "metadata": {
    "colab": {
     "base_uri": "https://localhost:8080/",
     "height": 467
    },
    "id": "NBnbXvN9pWwH",
    "outputId": "284b5ccc-a784-463d-b9b9-dd3f679a7af9"
   },
   "outputs": [
    {
     "ename": "NameError",
     "evalue": "name 'X_train' is not defined",
     "output_type": "error",
     "traceback": [
      "\u001b[1;31m---------------------------------------------------------------------------\u001b[0m",
      "\u001b[1;31mNameError\u001b[0m                                 Traceback (most recent call last)",
      "\u001b[1;32m<ipython-input-13-73020798007e>\u001b[0m in \u001b[0;36m<module>\u001b[1;34m\u001b[0m\n\u001b[1;32m----> 1\u001b[1;33m \u001b[0mX_train\u001b[0m\u001b[1;33m.\u001b[0m\u001b[0mhead\u001b[0m\u001b[1;33m(\u001b[0m\u001b[1;33m)\u001b[0m\u001b[1;33m\u001b[0m\u001b[1;33m\u001b[0m\u001b[0m\n\u001b[0m",
      "\u001b[1;31mNameError\u001b[0m: name 'X_train' is not defined"
     ]
    }
   ],
   "source": [
    "X_train.head()"
   ]
  },
  {
   "cell_type": "code",
   "execution_count": 14,
   "metadata": {
    "colab": {
     "base_uri": "https://localhost:8080/",
     "height": 467
    },
    "id": "G1oHdWAIpWwH",
    "outputId": "192c554a-c52f-4012-9388-77753489f23e"
   },
   "outputs": [
    {
     "ename": "NameError",
     "evalue": "name 'X_test' is not defined",
     "output_type": "error",
     "traceback": [
      "\u001b[1;31m---------------------------------------------------------------------------\u001b[0m",
      "\u001b[1;31mNameError\u001b[0m                                 Traceback (most recent call last)",
      "\u001b[1;32m<ipython-input-14-c8ff277ea5c9>\u001b[0m in \u001b[0;36m<module>\u001b[1;34m\u001b[0m\n\u001b[1;32m----> 1\u001b[1;33m \u001b[0mX_test\u001b[0m\u001b[1;33m.\u001b[0m\u001b[0mhead\u001b[0m\u001b[1;33m(\u001b[0m\u001b[1;33m)\u001b[0m\u001b[1;33m\u001b[0m\u001b[1;33m\u001b[0m\u001b[0m\n\u001b[0m",
      "\u001b[1;31mNameError\u001b[0m: name 'X_test' is not defined"
     ]
    }
   ],
   "source": [
    "X_test.head()"
   ]
  },
  {
   "cell_type": "code",
   "execution_count": 135,
   "metadata": {
    "id": "yPOb0c7-pWwI"
   },
   "outputs": [],
   "source": []
  },
  {
   "cell_type": "code",
   "execution_count": 136,
   "metadata": {
    "id": "SRdbkR8lpWwI"
   },
   "outputs": [],
   "source": [
    "# now applying feature encoding"
   ]
  },
  {
   "cell_type": "markdown",
   "metadata": {
    "id": "pWISgabFpWwJ"
   },
   "source": [
    "X_train['Country'] => unique values india, pakistan\n",
    "X_test['Country'] => unqiue values india # unequal no of columns"
   ]
  },
  {
   "cell_type": "code",
   "execution_count": 137,
   "metadata": {
    "id": "zchxKrX8pWwJ"
   },
   "outputs": [],
   "source": [
    "X_train['train']=1"
   ]
  },
  {
   "cell_type": "code",
   "execution_count": 138,
   "metadata": {
    "id": "E8VCNmZzpWwJ"
   },
   "outputs": [],
   "source": [
    "X_test['train']=0"
   ]
  },
  {
   "cell_type": "code",
   "execution_count": 139,
   "metadata": {
    "colab": {
     "base_uri": "https://localhost:8080/",
     "height": 467
    },
    "id": "lPzAn8fRpWwK",
    "outputId": "19b4e461-202b-47c5-88dd-4f24c823e678"
   },
   "outputs": [
    {
     "data": {
      "text/html": [
       "<div>\n",
       "<style scoped>\n",
       "    .dataframe tbody tr th:only-of-type {\n",
       "        vertical-align: middle;\n",
       "    }\n",
       "\n",
       "    .dataframe tbody tr th {\n",
       "        vertical-align: top;\n",
       "    }\n",
       "\n",
       "    .dataframe thead th {\n",
       "        text-align: right;\n",
       "    }\n",
       "</style>\n",
       "<table border=\"1\" class=\"dataframe\">\n",
       "  <thead>\n",
       "    <tr style=\"text-align: right;\">\n",
       "      <th></th>\n",
       "      <th>Lead Source</th>\n",
       "      <th>Do Not Email</th>\n",
       "      <th>Total Time Spent on Website</th>\n",
       "      <th>Last Activity</th>\n",
       "      <th>Country</th>\n",
       "      <th>Specialization</th>\n",
       "      <th>How did you hear about X Education</th>\n",
       "      <th>What is your current occupation</th>\n",
       "      <th>What matters most to you in choosing a course</th>\n",
       "      <th>Tags</th>\n",
       "      <th>Lead Quality</th>\n",
       "      <th>Lead Profile</th>\n",
       "      <th>City</th>\n",
       "      <th>Asymmetrique Activity Index</th>\n",
       "      <th>Asymmetrique Profile Index</th>\n",
       "      <th>A free copy of Mastering The Interview</th>\n",
       "      <th>Last Notable Activity</th>\n",
       "      <th>train</th>\n",
       "    </tr>\n",
       "  </thead>\n",
       "  <tbody>\n",
       "    <tr>\n",
       "      <th>0</th>\n",
       "      <td>Direct Traffic</td>\n",
       "      <td>No</td>\n",
       "      <td>20.297783</td>\n",
       "      <td>Email Responded</td>\n",
       "      <td>India</td>\n",
       "      <td>E-Business</td>\n",
       "      <td>unknown</td>\n",
       "      <td>Unemployed</td>\n",
       "      <td>Better Career Prospects</td>\n",
       "      <td>Status Unknown</td>\n",
       "      <td>Not Sure</td>\n",
       "      <td>Unknown</td>\n",
       "      <td>Tier1</td>\n",
       "      <td>Medium</td>\n",
       "      <td>Medium</td>\n",
       "      <td>Yes</td>\n",
       "      <td>Email Opened</td>\n",
       "      <td>1</td>\n",
       "    </tr>\n",
       "    <tr>\n",
       "      <th>1</th>\n",
       "      <td>Organic Search</td>\n",
       "      <td>No</td>\n",
       "      <td>39.127995</td>\n",
       "      <td>SMS Reverted</td>\n",
       "      <td>India</td>\n",
       "      <td>Marketing</td>\n",
       "      <td>unknown</td>\n",
       "      <td>Unemployed</td>\n",
       "      <td>Better Career Prospects</td>\n",
       "      <td>Not Reachable</td>\n",
       "      <td>Not Sure</td>\n",
       "      <td>Unknown</td>\n",
       "      <td>Tier1</td>\n",
       "      <td>Medium</td>\n",
       "      <td>High</td>\n",
       "      <td>Yes</td>\n",
       "      <td>SMS Sent</td>\n",
       "      <td>1</td>\n",
       "    </tr>\n",
       "    <tr>\n",
       "      <th>2</th>\n",
       "      <td>Reference</td>\n",
       "      <td>No</td>\n",
       "      <td>35.327043</td>\n",
       "      <td>Email Responded</td>\n",
       "      <td>India</td>\n",
       "      <td>HR</td>\n",
       "      <td>unknown</td>\n",
       "      <td>Student</td>\n",
       "      <td>Better Career Prospects</td>\n",
       "      <td>Closed by Horizzon</td>\n",
       "      <td>Low in Relevance</td>\n",
       "      <td>Potential Lead</td>\n",
       "      <td>Tier1</td>\n",
       "      <td>Medium</td>\n",
       "      <td>High</td>\n",
       "      <td>Yes</td>\n",
       "      <td>Email Opened</td>\n",
       "      <td>1</td>\n",
       "    </tr>\n",
       "    <tr>\n",
       "      <th>3</th>\n",
       "      <td>Google</td>\n",
       "      <td>No</td>\n",
       "      <td>33.719431</td>\n",
       "      <td>Email Responded</td>\n",
       "      <td>India</td>\n",
       "      <td>Marketing</td>\n",
       "      <td>unknown</td>\n",
       "      <td>Unemployed</td>\n",
       "      <td>Better Career Prospects</td>\n",
       "      <td>Response Received</td>\n",
       "      <td>High in Relevance</td>\n",
       "      <td>Potential Lead</td>\n",
       "      <td>Tier1</td>\n",
       "      <td>Medium</td>\n",
       "      <td>High</td>\n",
       "      <td>Yes</td>\n",
       "      <td>Email Opened</td>\n",
       "      <td>1</td>\n",
       "    </tr>\n",
       "    <tr>\n",
       "      <th>4</th>\n",
       "      <td>Organic Search</td>\n",
       "      <td>No</td>\n",
       "      <td>31.670175</td>\n",
       "      <td>Email Responded</td>\n",
       "      <td>India</td>\n",
       "      <td>Logistics</td>\n",
       "      <td>Social Media</td>\n",
       "      <td>Unemployed</td>\n",
       "      <td>Better Career Prospects</td>\n",
       "      <td>Not Reachable</td>\n",
       "      <td>Not Sure</td>\n",
       "      <td>Unknown</td>\n",
       "      <td>Tier1</td>\n",
       "      <td>Medium</td>\n",
       "      <td>Medium</td>\n",
       "      <td>No</td>\n",
       "      <td>Email Opened</td>\n",
       "      <td>1</td>\n",
       "    </tr>\n",
       "  </tbody>\n",
       "</table>\n",
       "</div>"
      ],
      "text/plain": [
       "      Lead Source Do Not Email  Total Time Spent on Website    Last Activity  \\\n",
       "0  Direct Traffic           No                    20.297783  Email Responded   \n",
       "1  Organic Search           No                    39.127995     SMS Reverted   \n",
       "2       Reference           No                    35.327043  Email Responded   \n",
       "3          Google           No                    33.719431  Email Responded   \n",
       "4  Organic Search           No                    31.670175  Email Responded   \n",
       "\n",
       "  Country Specialization How did you hear about X Education  \\\n",
       "0   India     E-Business                            unknown   \n",
       "1   India      Marketing                            unknown   \n",
       "2   India             HR                            unknown   \n",
       "3   India      Marketing                            unknown   \n",
       "4   India      Logistics                       Social Media   \n",
       "\n",
       "  What is your current occupation  \\\n",
       "0                      Unemployed   \n",
       "1                      Unemployed   \n",
       "2                         Student   \n",
       "3                      Unemployed   \n",
       "4                      Unemployed   \n",
       "\n",
       "  What matters most to you in choosing a course                Tags  \\\n",
       "0                       Better Career Prospects      Status Unknown   \n",
       "1                       Better Career Prospects       Not Reachable   \n",
       "2                       Better Career Prospects  Closed by Horizzon   \n",
       "3                       Better Career Prospects   Response Received   \n",
       "4                       Better Career Prospects       Not Reachable   \n",
       "\n",
       "        Lead Quality    Lead Profile   City Asymmetrique Activity Index  \\\n",
       "0           Not Sure         Unknown  Tier1                      Medium   \n",
       "1           Not Sure         Unknown  Tier1                      Medium   \n",
       "2   Low in Relevance  Potential Lead  Tier1                      Medium   \n",
       "3  High in Relevance  Potential Lead  Tier1                      Medium   \n",
       "4           Not Sure         Unknown  Tier1                      Medium   \n",
       "\n",
       "  Asymmetrique Profile Index A free copy of Mastering The Interview  \\\n",
       "0                     Medium                                    Yes   \n",
       "1                       High                                    Yes   \n",
       "2                       High                                    Yes   \n",
       "3                       High                                    Yes   \n",
       "4                     Medium                                     No   \n",
       "\n",
       "  Last Notable Activity  train  \n",
       "0          Email Opened      1  \n",
       "1              SMS Sent      1  \n",
       "2          Email Opened      1  \n",
       "3          Email Opened      1  \n",
       "4          Email Opened      1  "
      ]
     },
     "execution_count": 139,
     "metadata": {
      "tags": []
     },
     "output_type": "execute_result"
    }
   ],
   "source": [
    "X_train.head()"
   ]
  },
  {
   "cell_type": "code",
   "execution_count": 140,
   "metadata": {
    "colab": {
     "base_uri": "https://localhost:8080/",
     "height": 467
    },
    "id": "pOIPXTISpWwK",
    "outputId": "f10bbb6a-4450-41ca-ad0d-45a210df25be"
   },
   "outputs": [
    {
     "data": {
      "text/html": [
       "<div>\n",
       "<style scoped>\n",
       "    .dataframe tbody tr th:only-of-type {\n",
       "        vertical-align: middle;\n",
       "    }\n",
       "\n",
       "    .dataframe tbody tr th {\n",
       "        vertical-align: top;\n",
       "    }\n",
       "\n",
       "    .dataframe thead th {\n",
       "        text-align: right;\n",
       "    }\n",
       "</style>\n",
       "<table border=\"1\" class=\"dataframe\">\n",
       "  <thead>\n",
       "    <tr style=\"text-align: right;\">\n",
       "      <th></th>\n",
       "      <th>Lead Source</th>\n",
       "      <th>Do Not Email</th>\n",
       "      <th>Total Time Spent on Website</th>\n",
       "      <th>Last Activity</th>\n",
       "      <th>Country</th>\n",
       "      <th>Specialization</th>\n",
       "      <th>How did you hear about X Education</th>\n",
       "      <th>What is your current occupation</th>\n",
       "      <th>What matters most to you in choosing a course</th>\n",
       "      <th>Tags</th>\n",
       "      <th>Lead Quality</th>\n",
       "      <th>Lead Profile</th>\n",
       "      <th>City</th>\n",
       "      <th>Asymmetrique Activity Index</th>\n",
       "      <th>Asymmetrique Profile Index</th>\n",
       "      <th>A free copy of Mastering The Interview</th>\n",
       "      <th>Last Notable Activity</th>\n",
       "      <th>train</th>\n",
       "    </tr>\n",
       "  </thead>\n",
       "  <tbody>\n",
       "    <tr>\n",
       "      <th>0</th>\n",
       "      <td>Google</td>\n",
       "      <td>No</td>\n",
       "      <td>18.220867</td>\n",
       "      <td>Email Responded</td>\n",
       "      <td>India</td>\n",
       "      <td>IT Projects</td>\n",
       "      <td>Multiple Sources</td>\n",
       "      <td>Unemployed</td>\n",
       "      <td>Better Career Prospects</td>\n",
       "      <td>Not Reachable</td>\n",
       "      <td>Not Sure</td>\n",
       "      <td>Unknown</td>\n",
       "      <td>Tier1</td>\n",
       "      <td>Medium</td>\n",
       "      <td>Medium</td>\n",
       "      <td>No</td>\n",
       "      <td>Email Opened</td>\n",
       "      <td>0</td>\n",
       "    </tr>\n",
       "    <tr>\n",
       "      <th>1</th>\n",
       "      <td>Google</td>\n",
       "      <td>No</td>\n",
       "      <td>39.395431</td>\n",
       "      <td>Converted to Lead</td>\n",
       "      <td>India</td>\n",
       "      <td>Marketing</td>\n",
       "      <td>Other</td>\n",
       "      <td>Unemployed</td>\n",
       "      <td>Better Career Prospects</td>\n",
       "      <td>Lost to Others</td>\n",
       "      <td>Not Sure</td>\n",
       "      <td>Other Leads</td>\n",
       "      <td>Tier1</td>\n",
       "      <td>Medium</td>\n",
       "      <td>High</td>\n",
       "      <td>No</td>\n",
       "      <td>Modified</td>\n",
       "      <td>0</td>\n",
       "    </tr>\n",
       "    <tr>\n",
       "      <th>2</th>\n",
       "      <td>Google</td>\n",
       "      <td>No</td>\n",
       "      <td>36.660606</td>\n",
       "      <td>Email Responded</td>\n",
       "      <td>India</td>\n",
       "      <td>Tourism</td>\n",
       "      <td>unknown</td>\n",
       "      <td>Unemployed</td>\n",
       "      <td>Better Career Prospects</td>\n",
       "      <td>Response Received</td>\n",
       "      <td>Not Sure</td>\n",
       "      <td>Unknown</td>\n",
       "      <td>Unknown</td>\n",
       "      <td>Medium</td>\n",
       "      <td>Low</td>\n",
       "      <td>No</td>\n",
       "      <td>Email Opened</td>\n",
       "      <td>0</td>\n",
       "    </tr>\n",
       "    <tr>\n",
       "      <th>3</th>\n",
       "      <td>Google</td>\n",
       "      <td>No</td>\n",
       "      <td>13.674794</td>\n",
       "      <td>Email Responded</td>\n",
       "      <td>India</td>\n",
       "      <td>Finance</td>\n",
       "      <td>Online Search</td>\n",
       "      <td>Unemployed</td>\n",
       "      <td>Better Career Prospects</td>\n",
       "      <td>Status Unknown</td>\n",
       "      <td>Not Sure</td>\n",
       "      <td>Unknown</td>\n",
       "      <td>Tier2</td>\n",
       "      <td>Medium</td>\n",
       "      <td>Medium</td>\n",
       "      <td>No</td>\n",
       "      <td>Email Opened</td>\n",
       "      <td>0</td>\n",
       "    </tr>\n",
       "    <tr>\n",
       "      <th>4</th>\n",
       "      <td>Google</td>\n",
       "      <td>No</td>\n",
       "      <td>26.495283</td>\n",
       "      <td>Email Responded</td>\n",
       "      <td>India</td>\n",
       "      <td>Marketing</td>\n",
       "      <td>Social Media</td>\n",
       "      <td>Unemployed</td>\n",
       "      <td>Better Career Prospects</td>\n",
       "      <td>Response Received</td>\n",
       "      <td>Not Sure</td>\n",
       "      <td>Unknown</td>\n",
       "      <td>Tier3</td>\n",
       "      <td>Medium</td>\n",
       "      <td>High</td>\n",
       "      <td>No</td>\n",
       "      <td>Email Opened</td>\n",
       "      <td>0</td>\n",
       "    </tr>\n",
       "  </tbody>\n",
       "</table>\n",
       "</div>"
      ],
      "text/plain": [
       "  Lead Source Do Not Email  Total Time Spent on Website      Last Activity  \\\n",
       "0      Google           No                    18.220867    Email Responded   \n",
       "1      Google           No                    39.395431  Converted to Lead   \n",
       "2      Google           No                    36.660606    Email Responded   \n",
       "3      Google           No                    13.674794    Email Responded   \n",
       "4      Google           No                    26.495283    Email Responded   \n",
       "\n",
       "  Country Specialization How did you hear about X Education  \\\n",
       "0   India    IT Projects                   Multiple Sources   \n",
       "1   India      Marketing                              Other   \n",
       "2   India        Tourism                            unknown   \n",
       "3   India        Finance                      Online Search   \n",
       "4   India      Marketing                       Social Media   \n",
       "\n",
       "  What is your current occupation  \\\n",
       "0                      Unemployed   \n",
       "1                      Unemployed   \n",
       "2                      Unemployed   \n",
       "3                      Unemployed   \n",
       "4                      Unemployed   \n",
       "\n",
       "  What matters most to you in choosing a course               Tags  \\\n",
       "0                       Better Career Prospects      Not Reachable   \n",
       "1                       Better Career Prospects     Lost to Others   \n",
       "2                       Better Career Prospects  Response Received   \n",
       "3                       Better Career Prospects     Status Unknown   \n",
       "4                       Better Career Prospects  Response Received   \n",
       "\n",
       "  Lead Quality Lead Profile     City Asymmetrique Activity Index  \\\n",
       "0     Not Sure      Unknown    Tier1                      Medium   \n",
       "1     Not Sure  Other Leads    Tier1                      Medium   \n",
       "2     Not Sure      Unknown  Unknown                      Medium   \n",
       "3     Not Sure      Unknown    Tier2                      Medium   \n",
       "4     Not Sure      Unknown    Tier3                      Medium   \n",
       "\n",
       "  Asymmetrique Profile Index A free copy of Mastering The Interview  \\\n",
       "0                     Medium                                     No   \n",
       "1                       High                                     No   \n",
       "2                        Low                                     No   \n",
       "3                     Medium                                     No   \n",
       "4                       High                                     No   \n",
       "\n",
       "  Last Notable Activity  train  \n",
       "0          Email Opened      0  \n",
       "1              Modified      0  \n",
       "2          Email Opened      0  \n",
       "3          Email Opened      0  \n",
       "4          Email Opened      0  "
      ]
     },
     "execution_count": 140,
     "metadata": {
      "tags": []
     },
     "output_type": "execute_result"
    }
   ],
   "source": [
    "X_test.head()"
   ]
  },
  {
   "cell_type": "code",
   "execution_count": 141,
   "metadata": {
    "id": "qeSQkG1kpWwK"
   },
   "outputs": [],
   "source": [
    "X=pd.concat([X_train,X_test],axis=0)"
   ]
  },
  {
   "cell_type": "code",
   "execution_count": 142,
   "metadata": {
    "colab": {
     "base_uri": "https://localhost:8080/"
    },
    "id": "pZKZth6HpWwL",
    "outputId": "d4af0895-94e9-47c7-d801-cb71a3963349"
   },
   "outputs": [
    {
     "data": {
      "text/plain": [
       "(9240, 18)"
      ]
     },
     "execution_count": 142,
     "metadata": {
      "tags": []
     },
     "output_type": "execute_result"
    }
   ],
   "source": [
    "X.shape"
   ]
  },
  {
   "cell_type": "code",
   "execution_count": 143,
   "metadata": {
    "id": "tTDxYJONpWwL"
   },
   "outputs": [],
   "source": [
    "#encoding ['Asymmetrique Activity Index','Asymmetrique Profile Index']"
   ]
  },
  {
   "cell_type": "code",
   "execution_count": 144,
   "metadata": {
    "colab": {
     "base_uri": "https://localhost:8080/"
    },
    "id": "OjmCI9vnpWwL",
    "outputId": "53434eaa-b9ef-4fa9-d3b5-f8848dc7903c"
   },
   "outputs": [
    {
     "data": {
      "text/plain": [
       "array(['Medium', 'High', 'Low'], dtype=object)"
      ]
     },
     "execution_count": 144,
     "metadata": {
      "tags": []
     },
     "output_type": "execute_result"
    }
   ],
   "source": [
    "X['Asymmetrique Activity Index'].unique()"
   ]
  },
  {
   "cell_type": "code",
   "execution_count": 145,
   "metadata": {
    "id": "QwmoPCqJpWwL"
   },
   "outputs": [],
   "source": [
    "X['Asymmetrique Activity Index']=X['Asymmetrique Activity Index'].map({'Low':1,'Medium':2,'High':3})"
   ]
  },
  {
   "cell_type": "code",
   "execution_count": 145,
   "metadata": {
    "id": "--tnXdrYpWwM"
   },
   "outputs": [],
   "source": []
  },
  {
   "cell_type": "code",
   "execution_count": 146,
   "metadata": {
    "colab": {
     "base_uri": "https://localhost:8080/"
    },
    "id": "6smfAY8xpWwM",
    "outputId": "04cdf749-a82e-406d-9e4c-b59d3e0e20be"
   },
   "outputs": [
    {
     "data": {
      "text/plain": [
       "array(['Medium', 'High', 'Low'], dtype=object)"
      ]
     },
     "execution_count": 146,
     "metadata": {
      "tags": []
     },
     "output_type": "execute_result"
    }
   ],
   "source": [
    "X['Asymmetrique Profile Index'].unique()"
   ]
  },
  {
   "cell_type": "code",
   "execution_count": 147,
   "metadata": {
    "id": "9BTEzMCepWwM"
   },
   "outputs": [],
   "source": [
    "X['Asymmetrique Profile Index']=X['Asymmetrique Profile Index'].map({'Low':1,'Medium':2,'High':3})"
   ]
  },
  {
   "cell_type": "code",
   "execution_count": 148,
   "metadata": {
    "colab": {
     "base_uri": "https://localhost:8080/",
     "height": 467
    },
    "id": "jjPdWsnepWwM",
    "outputId": "4f2639eb-8ef0-47d3-f7c3-5a40434671bd"
   },
   "outputs": [
    {
     "data": {
      "text/html": [
       "<div>\n",
       "<style scoped>\n",
       "    .dataframe tbody tr th:only-of-type {\n",
       "        vertical-align: middle;\n",
       "    }\n",
       "\n",
       "    .dataframe tbody tr th {\n",
       "        vertical-align: top;\n",
       "    }\n",
       "\n",
       "    .dataframe thead th {\n",
       "        text-align: right;\n",
       "    }\n",
       "</style>\n",
       "<table border=\"1\" class=\"dataframe\">\n",
       "  <thead>\n",
       "    <tr style=\"text-align: right;\">\n",
       "      <th></th>\n",
       "      <th>Lead Source</th>\n",
       "      <th>Do Not Email</th>\n",
       "      <th>Total Time Spent on Website</th>\n",
       "      <th>Last Activity</th>\n",
       "      <th>Country</th>\n",
       "      <th>Specialization</th>\n",
       "      <th>How did you hear about X Education</th>\n",
       "      <th>What is your current occupation</th>\n",
       "      <th>What matters most to you in choosing a course</th>\n",
       "      <th>Tags</th>\n",
       "      <th>Lead Quality</th>\n",
       "      <th>Lead Profile</th>\n",
       "      <th>City</th>\n",
       "      <th>Asymmetrique Activity Index</th>\n",
       "      <th>Asymmetrique Profile Index</th>\n",
       "      <th>A free copy of Mastering The Interview</th>\n",
       "      <th>Last Notable Activity</th>\n",
       "      <th>train</th>\n",
       "    </tr>\n",
       "  </thead>\n",
       "  <tbody>\n",
       "    <tr>\n",
       "      <th>0</th>\n",
       "      <td>Direct Traffic</td>\n",
       "      <td>No</td>\n",
       "      <td>20.297783</td>\n",
       "      <td>Email Responded</td>\n",
       "      <td>India</td>\n",
       "      <td>E-Business</td>\n",
       "      <td>unknown</td>\n",
       "      <td>Unemployed</td>\n",
       "      <td>Better Career Prospects</td>\n",
       "      <td>Status Unknown</td>\n",
       "      <td>Not Sure</td>\n",
       "      <td>Unknown</td>\n",
       "      <td>Tier1</td>\n",
       "      <td>2</td>\n",
       "      <td>2</td>\n",
       "      <td>Yes</td>\n",
       "      <td>Email Opened</td>\n",
       "      <td>1</td>\n",
       "    </tr>\n",
       "    <tr>\n",
       "      <th>1</th>\n",
       "      <td>Organic Search</td>\n",
       "      <td>No</td>\n",
       "      <td>39.127995</td>\n",
       "      <td>SMS Reverted</td>\n",
       "      <td>India</td>\n",
       "      <td>Marketing</td>\n",
       "      <td>unknown</td>\n",
       "      <td>Unemployed</td>\n",
       "      <td>Better Career Prospects</td>\n",
       "      <td>Not Reachable</td>\n",
       "      <td>Not Sure</td>\n",
       "      <td>Unknown</td>\n",
       "      <td>Tier1</td>\n",
       "      <td>2</td>\n",
       "      <td>3</td>\n",
       "      <td>Yes</td>\n",
       "      <td>SMS Sent</td>\n",
       "      <td>1</td>\n",
       "    </tr>\n",
       "    <tr>\n",
       "      <th>2</th>\n",
       "      <td>Reference</td>\n",
       "      <td>No</td>\n",
       "      <td>35.327043</td>\n",
       "      <td>Email Responded</td>\n",
       "      <td>India</td>\n",
       "      <td>HR</td>\n",
       "      <td>unknown</td>\n",
       "      <td>Student</td>\n",
       "      <td>Better Career Prospects</td>\n",
       "      <td>Closed by Horizzon</td>\n",
       "      <td>Low in Relevance</td>\n",
       "      <td>Potential Lead</td>\n",
       "      <td>Tier1</td>\n",
       "      <td>2</td>\n",
       "      <td>3</td>\n",
       "      <td>Yes</td>\n",
       "      <td>Email Opened</td>\n",
       "      <td>1</td>\n",
       "    </tr>\n",
       "    <tr>\n",
       "      <th>3</th>\n",
       "      <td>Google</td>\n",
       "      <td>No</td>\n",
       "      <td>33.719431</td>\n",
       "      <td>Email Responded</td>\n",
       "      <td>India</td>\n",
       "      <td>Marketing</td>\n",
       "      <td>unknown</td>\n",
       "      <td>Unemployed</td>\n",
       "      <td>Better Career Prospects</td>\n",
       "      <td>Response Received</td>\n",
       "      <td>High in Relevance</td>\n",
       "      <td>Potential Lead</td>\n",
       "      <td>Tier1</td>\n",
       "      <td>2</td>\n",
       "      <td>3</td>\n",
       "      <td>Yes</td>\n",
       "      <td>Email Opened</td>\n",
       "      <td>1</td>\n",
       "    </tr>\n",
       "    <tr>\n",
       "      <th>4</th>\n",
       "      <td>Organic Search</td>\n",
       "      <td>No</td>\n",
       "      <td>31.670175</td>\n",
       "      <td>Email Responded</td>\n",
       "      <td>India</td>\n",
       "      <td>Logistics</td>\n",
       "      <td>Social Media</td>\n",
       "      <td>Unemployed</td>\n",
       "      <td>Better Career Prospects</td>\n",
       "      <td>Not Reachable</td>\n",
       "      <td>Not Sure</td>\n",
       "      <td>Unknown</td>\n",
       "      <td>Tier1</td>\n",
       "      <td>2</td>\n",
       "      <td>2</td>\n",
       "      <td>No</td>\n",
       "      <td>Email Opened</td>\n",
       "      <td>1</td>\n",
       "    </tr>\n",
       "  </tbody>\n",
       "</table>\n",
       "</div>"
      ],
      "text/plain": [
       "      Lead Source Do Not Email  Total Time Spent on Website    Last Activity  \\\n",
       "0  Direct Traffic           No                    20.297783  Email Responded   \n",
       "1  Organic Search           No                    39.127995     SMS Reverted   \n",
       "2       Reference           No                    35.327043  Email Responded   \n",
       "3          Google           No                    33.719431  Email Responded   \n",
       "4  Organic Search           No                    31.670175  Email Responded   \n",
       "\n",
       "  Country Specialization How did you hear about X Education  \\\n",
       "0   India     E-Business                            unknown   \n",
       "1   India      Marketing                            unknown   \n",
       "2   India             HR                            unknown   \n",
       "3   India      Marketing                            unknown   \n",
       "4   India      Logistics                       Social Media   \n",
       "\n",
       "  What is your current occupation  \\\n",
       "0                      Unemployed   \n",
       "1                      Unemployed   \n",
       "2                         Student   \n",
       "3                      Unemployed   \n",
       "4                      Unemployed   \n",
       "\n",
       "  What matters most to you in choosing a course                Tags  \\\n",
       "0                       Better Career Prospects      Status Unknown   \n",
       "1                       Better Career Prospects       Not Reachable   \n",
       "2                       Better Career Prospects  Closed by Horizzon   \n",
       "3                       Better Career Prospects   Response Received   \n",
       "4                       Better Career Prospects       Not Reachable   \n",
       "\n",
       "        Lead Quality    Lead Profile   City  Asymmetrique Activity Index  \\\n",
       "0           Not Sure         Unknown  Tier1                            2   \n",
       "1           Not Sure         Unknown  Tier1                            2   \n",
       "2   Low in Relevance  Potential Lead  Tier1                            2   \n",
       "3  High in Relevance  Potential Lead  Tier1                            2   \n",
       "4           Not Sure         Unknown  Tier1                            2   \n",
       "\n",
       "   Asymmetrique Profile Index A free copy of Mastering The Interview  \\\n",
       "0                           2                                    Yes   \n",
       "1                           3                                    Yes   \n",
       "2                           3                                    Yes   \n",
       "3                           3                                    Yes   \n",
       "4                           2                                     No   \n",
       "\n",
       "  Last Notable Activity  train  \n",
       "0          Email Opened      1  \n",
       "1              SMS Sent      1  \n",
       "2          Email Opened      1  \n",
       "3          Email Opened      1  \n",
       "4          Email Opened      1  "
      ]
     },
     "execution_count": 148,
     "metadata": {
      "tags": []
     },
     "output_type": "execute_result"
    }
   ],
   "source": [
    "X.head()"
   ]
  },
  {
   "cell_type": "code",
   "execution_count": 149,
   "metadata": {
    "id": "u6YeR0CypWwN"
   },
   "outputs": [],
   "source": [
    "#now encoding left nominal features."
   ]
  },
  {
   "cell_type": "code",
   "execution_count": 150,
   "metadata": {
    "id": "7J283IRBpWwN"
   },
   "outputs": [],
   "source": [
    "cat_cols=list(X.select_dtypes(include=['object']).columns)"
   ]
  },
  {
   "cell_type": "code",
   "execution_count": 151,
   "metadata": {
    "colab": {
     "base_uri": "https://localhost:8080/"
    },
    "id": "owM3EeNLpWwN",
    "outputId": "fc43e7c7-9303-4679-a920-c8714a41c5fe"
   },
   "outputs": [
    {
     "data": {
      "text/plain": [
       "['Lead Source',\n",
       " 'Do Not Email',\n",
       " 'Last Activity',\n",
       " 'Country',\n",
       " 'Specialization',\n",
       " 'How did you hear about X Education',\n",
       " 'What is your current occupation',\n",
       " 'What matters most to you in choosing a course',\n",
       " 'Tags',\n",
       " 'Lead Quality',\n",
       " 'Lead Profile',\n",
       " 'City',\n",
       " 'A free copy of Mastering The Interview',\n",
       " 'Last Notable Activity']"
      ]
     },
     "execution_count": 151,
     "metadata": {
      "tags": []
     },
     "output_type": "execute_result"
    }
   ],
   "source": [
    "cat_cols"
   ]
  },
  {
   "cell_type": "code",
   "execution_count": 151,
   "metadata": {
    "id": "kH7SBGCDpWwN"
   },
   "outputs": [],
   "source": []
  },
  {
   "cell_type": "code",
   "execution_count": 152,
   "metadata": {
    "id": "eWSaZytzpWwN"
   },
   "outputs": [],
   "source": [
    "X=pd.get_dummies(X,columns=list(cat_cols),drop_first=True)"
   ]
  },
  {
   "cell_type": "code",
   "execution_count": 153,
   "metadata": {
    "colab": {
     "base_uri": "https://localhost:8080/",
     "height": 472
    },
    "id": "7CSodayPpWwO",
    "outputId": "c006269a-5af7-4a2a-fe67-99e4cbeb813b"
   },
   "outputs": [
    {
     "data": {
      "text/html": [
       "<div>\n",
       "<style scoped>\n",
       "    .dataframe tbody tr th:only-of-type {\n",
       "        vertical-align: middle;\n",
       "    }\n",
       "\n",
       "    .dataframe tbody tr th {\n",
       "        vertical-align: top;\n",
       "    }\n",
       "\n",
       "    .dataframe thead th {\n",
       "        text-align: right;\n",
       "    }\n",
       "</style>\n",
       "<table border=\"1\" class=\"dataframe\">\n",
       "  <thead>\n",
       "    <tr style=\"text-align: right;\">\n",
       "      <th></th>\n",
       "      <th>Total Time Spent on Website</th>\n",
       "      <th>Asymmetrique Activity Index</th>\n",
       "      <th>Asymmetrique Profile Index</th>\n",
       "      <th>train</th>\n",
       "      <th>Lead Source_Google</th>\n",
       "      <th>Lead Source_Olark Chat</th>\n",
       "      <th>Lead Source_Organic Search</th>\n",
       "      <th>Lead Source_Other Sources</th>\n",
       "      <th>Lead Source_Reference</th>\n",
       "      <th>Do Not Email_Yes</th>\n",
       "      <th>Last Activity_Email Responded</th>\n",
       "      <th>Last Activity_Email Unsubscribed</th>\n",
       "      <th>Last Activity_Olark Chat Conversation</th>\n",
       "      <th>Last Activity_Page Visited on Website</th>\n",
       "      <th>Last Activity_SMS Reverted</th>\n",
       "      <th>Country_other_country</th>\n",
       "      <th>Country_unknown</th>\n",
       "      <th>Specialization_Finance</th>\n",
       "      <th>Specialization_HR</th>\n",
       "      <th>Specialization_Healthcare</th>\n",
       "      <th>Specialization_IT Projects</th>\n",
       "      <th>Specialization_International Business</th>\n",
       "      <th>Specialization_Logistics</th>\n",
       "      <th>Specialization_Marketing</th>\n",
       "      <th>Specialization_Rural and Agribusiness</th>\n",
       "      <th>Specialization_Tourism</th>\n",
       "      <th>Specialization_unknown</th>\n",
       "      <th>How did you hear about X Education_Email</th>\n",
       "      <th>How did you hear about X Education_Multiple Sources</th>\n",
       "      <th>How did you hear about X Education_Online Search</th>\n",
       "      <th>How did you hear about X Education_Other</th>\n",
       "      <th>How did you hear about X Education_SMS</th>\n",
       "      <th>How did you hear about X Education_Social Media</th>\n",
       "      <th>How did you hear about X Education_Student of SomeSchool</th>\n",
       "      <th>How did you hear about X Education_Word Of Mouth</th>\n",
       "      <th>How did you hear about X Education_unknown</th>\n",
       "      <th>What is your current occupation_Others</th>\n",
       "      <th>What is your current occupation_Student</th>\n",
       "      <th>What is your current occupation_Unemployed</th>\n",
       "      <th>What is your current occupation_Working Professional</th>\n",
       "      <th>What matters most to you in choosing a course_Others</th>\n",
       "      <th>Tags_Graduation in progress</th>\n",
       "      <th>Tags_Lost to Others</th>\n",
       "      <th>Tags_Not Eligible</th>\n",
       "      <th>Tags_Not Reachable</th>\n",
       "      <th>Tags_Response Received</th>\n",
       "      <th>Tags_Status Unknown</th>\n",
       "      <th>Lead Quality_Low in Relevance</th>\n",
       "      <th>Lead Quality_Might be</th>\n",
       "      <th>Lead Quality_Not Sure</th>\n",
       "      <th>Lead Quality_Worst</th>\n",
       "      <th>Lead Profile_Lateral Student</th>\n",
       "      <th>Lead Profile_Other Leads</th>\n",
       "      <th>Lead Profile_Potential Lead</th>\n",
       "      <th>Lead Profile_Student of SomeSchool</th>\n",
       "      <th>Lead Profile_Unknown</th>\n",
       "      <th>City_Tier2</th>\n",
       "      <th>City_Tier3</th>\n",
       "      <th>City_Unknown</th>\n",
       "      <th>A free copy of Mastering The Interview_Yes</th>\n",
       "      <th>Last Notable Activity_Email Bounced</th>\n",
       "      <th>Last Notable Activity_Email Link Clicked</th>\n",
       "      <th>Last Notable Activity_Email Marked Spam</th>\n",
       "      <th>Last Notable Activity_Email Opened</th>\n",
       "      <th>Last Notable Activity_Email Received</th>\n",
       "      <th>Last Notable Activity_Form Submitted on Website</th>\n",
       "      <th>Last Notable Activity_Had a Phone Conversation</th>\n",
       "      <th>Last Notable Activity_Modified</th>\n",
       "      <th>Last Notable Activity_Olark Chat Conversation</th>\n",
       "      <th>Last Notable Activity_Page Visited on Website</th>\n",
       "      <th>Last Notable Activity_Resubscribed to emails</th>\n",
       "      <th>Last Notable Activity_SMS Sent</th>\n",
       "      <th>Last Notable Activity_Unreachable</th>\n",
       "      <th>Last Notable Activity_Unsubscribed</th>\n",
       "      <th>Last Notable Activity_View in browser link Clicked</th>\n",
       "    </tr>\n",
       "  </thead>\n",
       "  <tbody>\n",
       "    <tr>\n",
       "      <th>0</th>\n",
       "      <td>20.297783</td>\n",
       "      <td>2</td>\n",
       "      <td>2</td>\n",
       "      <td>1</td>\n",
       "      <td>0</td>\n",
       "      <td>0</td>\n",
       "      <td>0</td>\n",
       "      <td>0</td>\n",
       "      <td>0</td>\n",
       "      <td>0</td>\n",
       "      <td>1</td>\n",
       "      <td>0</td>\n",
       "      <td>0</td>\n",
       "      <td>0</td>\n",
       "      <td>0</td>\n",
       "      <td>0</td>\n",
       "      <td>0</td>\n",
       "      <td>0</td>\n",
       "      <td>0</td>\n",
       "      <td>0</td>\n",
       "      <td>0</td>\n",
       "      <td>0</td>\n",
       "      <td>0</td>\n",
       "      <td>0</td>\n",
       "      <td>0</td>\n",
       "      <td>0</td>\n",
       "      <td>0</td>\n",
       "      <td>0</td>\n",
       "      <td>0</td>\n",
       "      <td>0</td>\n",
       "      <td>0</td>\n",
       "      <td>0</td>\n",
       "      <td>0</td>\n",
       "      <td>0</td>\n",
       "      <td>0</td>\n",
       "      <td>1</td>\n",
       "      <td>0</td>\n",
       "      <td>0</td>\n",
       "      <td>1</td>\n",
       "      <td>0</td>\n",
       "      <td>0</td>\n",
       "      <td>0</td>\n",
       "      <td>0</td>\n",
       "      <td>0</td>\n",
       "      <td>0</td>\n",
       "      <td>0</td>\n",
       "      <td>1</td>\n",
       "      <td>0</td>\n",
       "      <td>0</td>\n",
       "      <td>1</td>\n",
       "      <td>0</td>\n",
       "      <td>0</td>\n",
       "      <td>0</td>\n",
       "      <td>0</td>\n",
       "      <td>0</td>\n",
       "      <td>1</td>\n",
       "      <td>0</td>\n",
       "      <td>0</td>\n",
       "      <td>0</td>\n",
       "      <td>1</td>\n",
       "      <td>0</td>\n",
       "      <td>0</td>\n",
       "      <td>0</td>\n",
       "      <td>1</td>\n",
       "      <td>0</td>\n",
       "      <td>0</td>\n",
       "      <td>0</td>\n",
       "      <td>0</td>\n",
       "      <td>0</td>\n",
       "      <td>0</td>\n",
       "      <td>0</td>\n",
       "      <td>0</td>\n",
       "      <td>0</td>\n",
       "      <td>0</td>\n",
       "      <td>0</td>\n",
       "    </tr>\n",
       "    <tr>\n",
       "      <th>1</th>\n",
       "      <td>39.127995</td>\n",
       "      <td>2</td>\n",
       "      <td>3</td>\n",
       "      <td>1</td>\n",
       "      <td>0</td>\n",
       "      <td>0</td>\n",
       "      <td>1</td>\n",
       "      <td>0</td>\n",
       "      <td>0</td>\n",
       "      <td>0</td>\n",
       "      <td>0</td>\n",
       "      <td>0</td>\n",
       "      <td>0</td>\n",
       "      <td>0</td>\n",
       "      <td>1</td>\n",
       "      <td>0</td>\n",
       "      <td>0</td>\n",
       "      <td>0</td>\n",
       "      <td>0</td>\n",
       "      <td>0</td>\n",
       "      <td>0</td>\n",
       "      <td>0</td>\n",
       "      <td>0</td>\n",
       "      <td>1</td>\n",
       "      <td>0</td>\n",
       "      <td>0</td>\n",
       "      <td>0</td>\n",
       "      <td>0</td>\n",
       "      <td>0</td>\n",
       "      <td>0</td>\n",
       "      <td>0</td>\n",
       "      <td>0</td>\n",
       "      <td>0</td>\n",
       "      <td>0</td>\n",
       "      <td>0</td>\n",
       "      <td>1</td>\n",
       "      <td>0</td>\n",
       "      <td>0</td>\n",
       "      <td>1</td>\n",
       "      <td>0</td>\n",
       "      <td>0</td>\n",
       "      <td>0</td>\n",
       "      <td>0</td>\n",
       "      <td>0</td>\n",
       "      <td>1</td>\n",
       "      <td>0</td>\n",
       "      <td>0</td>\n",
       "      <td>0</td>\n",
       "      <td>0</td>\n",
       "      <td>1</td>\n",
       "      <td>0</td>\n",
       "      <td>0</td>\n",
       "      <td>0</td>\n",
       "      <td>0</td>\n",
       "      <td>0</td>\n",
       "      <td>1</td>\n",
       "      <td>0</td>\n",
       "      <td>0</td>\n",
       "      <td>0</td>\n",
       "      <td>1</td>\n",
       "      <td>0</td>\n",
       "      <td>0</td>\n",
       "      <td>0</td>\n",
       "      <td>0</td>\n",
       "      <td>0</td>\n",
       "      <td>0</td>\n",
       "      <td>0</td>\n",
       "      <td>0</td>\n",
       "      <td>0</td>\n",
       "      <td>0</td>\n",
       "      <td>0</td>\n",
       "      <td>1</td>\n",
       "      <td>0</td>\n",
       "      <td>0</td>\n",
       "      <td>0</td>\n",
       "    </tr>\n",
       "    <tr>\n",
       "      <th>2</th>\n",
       "      <td>35.327043</td>\n",
       "      <td>2</td>\n",
       "      <td>3</td>\n",
       "      <td>1</td>\n",
       "      <td>0</td>\n",
       "      <td>0</td>\n",
       "      <td>0</td>\n",
       "      <td>0</td>\n",
       "      <td>1</td>\n",
       "      <td>0</td>\n",
       "      <td>1</td>\n",
       "      <td>0</td>\n",
       "      <td>0</td>\n",
       "      <td>0</td>\n",
       "      <td>0</td>\n",
       "      <td>0</td>\n",
       "      <td>0</td>\n",
       "      <td>0</td>\n",
       "      <td>1</td>\n",
       "      <td>0</td>\n",
       "      <td>0</td>\n",
       "      <td>0</td>\n",
       "      <td>0</td>\n",
       "      <td>0</td>\n",
       "      <td>0</td>\n",
       "      <td>0</td>\n",
       "      <td>0</td>\n",
       "      <td>0</td>\n",
       "      <td>0</td>\n",
       "      <td>0</td>\n",
       "      <td>0</td>\n",
       "      <td>0</td>\n",
       "      <td>0</td>\n",
       "      <td>0</td>\n",
       "      <td>0</td>\n",
       "      <td>1</td>\n",
       "      <td>0</td>\n",
       "      <td>1</td>\n",
       "      <td>0</td>\n",
       "      <td>0</td>\n",
       "      <td>0</td>\n",
       "      <td>0</td>\n",
       "      <td>0</td>\n",
       "      <td>0</td>\n",
       "      <td>0</td>\n",
       "      <td>0</td>\n",
       "      <td>0</td>\n",
       "      <td>1</td>\n",
       "      <td>0</td>\n",
       "      <td>0</td>\n",
       "      <td>0</td>\n",
       "      <td>0</td>\n",
       "      <td>0</td>\n",
       "      <td>1</td>\n",
       "      <td>0</td>\n",
       "      <td>0</td>\n",
       "      <td>0</td>\n",
       "      <td>0</td>\n",
       "      <td>0</td>\n",
       "      <td>1</td>\n",
       "      <td>0</td>\n",
       "      <td>0</td>\n",
       "      <td>0</td>\n",
       "      <td>1</td>\n",
       "      <td>0</td>\n",
       "      <td>0</td>\n",
       "      <td>0</td>\n",
       "      <td>0</td>\n",
       "      <td>0</td>\n",
       "      <td>0</td>\n",
       "      <td>0</td>\n",
       "      <td>0</td>\n",
       "      <td>0</td>\n",
       "      <td>0</td>\n",
       "      <td>0</td>\n",
       "    </tr>\n",
       "    <tr>\n",
       "      <th>3</th>\n",
       "      <td>33.719431</td>\n",
       "      <td>2</td>\n",
       "      <td>3</td>\n",
       "      <td>1</td>\n",
       "      <td>1</td>\n",
       "      <td>0</td>\n",
       "      <td>0</td>\n",
       "      <td>0</td>\n",
       "      <td>0</td>\n",
       "      <td>0</td>\n",
       "      <td>1</td>\n",
       "      <td>0</td>\n",
       "      <td>0</td>\n",
       "      <td>0</td>\n",
       "      <td>0</td>\n",
       "      <td>0</td>\n",
       "      <td>0</td>\n",
       "      <td>0</td>\n",
       "      <td>0</td>\n",
       "      <td>0</td>\n",
       "      <td>0</td>\n",
       "      <td>0</td>\n",
       "      <td>0</td>\n",
       "      <td>1</td>\n",
       "      <td>0</td>\n",
       "      <td>0</td>\n",
       "      <td>0</td>\n",
       "      <td>0</td>\n",
       "      <td>0</td>\n",
       "      <td>0</td>\n",
       "      <td>0</td>\n",
       "      <td>0</td>\n",
       "      <td>0</td>\n",
       "      <td>0</td>\n",
       "      <td>0</td>\n",
       "      <td>1</td>\n",
       "      <td>0</td>\n",
       "      <td>0</td>\n",
       "      <td>1</td>\n",
       "      <td>0</td>\n",
       "      <td>0</td>\n",
       "      <td>0</td>\n",
       "      <td>0</td>\n",
       "      <td>0</td>\n",
       "      <td>0</td>\n",
       "      <td>1</td>\n",
       "      <td>0</td>\n",
       "      <td>0</td>\n",
       "      <td>0</td>\n",
       "      <td>0</td>\n",
       "      <td>0</td>\n",
       "      <td>0</td>\n",
       "      <td>0</td>\n",
       "      <td>1</td>\n",
       "      <td>0</td>\n",
       "      <td>0</td>\n",
       "      <td>0</td>\n",
       "      <td>0</td>\n",
       "      <td>0</td>\n",
       "      <td>1</td>\n",
       "      <td>0</td>\n",
       "      <td>0</td>\n",
       "      <td>0</td>\n",
       "      <td>1</td>\n",
       "      <td>0</td>\n",
       "      <td>0</td>\n",
       "      <td>0</td>\n",
       "      <td>0</td>\n",
       "      <td>0</td>\n",
       "      <td>0</td>\n",
       "      <td>0</td>\n",
       "      <td>0</td>\n",
       "      <td>0</td>\n",
       "      <td>0</td>\n",
       "      <td>0</td>\n",
       "    </tr>\n",
       "    <tr>\n",
       "      <th>4</th>\n",
       "      <td>31.670175</td>\n",
       "      <td>2</td>\n",
       "      <td>2</td>\n",
       "      <td>1</td>\n",
       "      <td>0</td>\n",
       "      <td>0</td>\n",
       "      <td>1</td>\n",
       "      <td>0</td>\n",
       "      <td>0</td>\n",
       "      <td>0</td>\n",
       "      <td>1</td>\n",
       "      <td>0</td>\n",
       "      <td>0</td>\n",
       "      <td>0</td>\n",
       "      <td>0</td>\n",
       "      <td>0</td>\n",
       "      <td>0</td>\n",
       "      <td>0</td>\n",
       "      <td>0</td>\n",
       "      <td>0</td>\n",
       "      <td>0</td>\n",
       "      <td>0</td>\n",
       "      <td>1</td>\n",
       "      <td>0</td>\n",
       "      <td>0</td>\n",
       "      <td>0</td>\n",
       "      <td>0</td>\n",
       "      <td>0</td>\n",
       "      <td>0</td>\n",
       "      <td>0</td>\n",
       "      <td>0</td>\n",
       "      <td>0</td>\n",
       "      <td>1</td>\n",
       "      <td>0</td>\n",
       "      <td>0</td>\n",
       "      <td>0</td>\n",
       "      <td>0</td>\n",
       "      <td>0</td>\n",
       "      <td>1</td>\n",
       "      <td>0</td>\n",
       "      <td>0</td>\n",
       "      <td>0</td>\n",
       "      <td>0</td>\n",
       "      <td>0</td>\n",
       "      <td>1</td>\n",
       "      <td>0</td>\n",
       "      <td>0</td>\n",
       "      <td>0</td>\n",
       "      <td>0</td>\n",
       "      <td>1</td>\n",
       "      <td>0</td>\n",
       "      <td>0</td>\n",
       "      <td>0</td>\n",
       "      <td>0</td>\n",
       "      <td>0</td>\n",
       "      <td>1</td>\n",
       "      <td>0</td>\n",
       "      <td>0</td>\n",
       "      <td>0</td>\n",
       "      <td>0</td>\n",
       "      <td>0</td>\n",
       "      <td>0</td>\n",
       "      <td>0</td>\n",
       "      <td>1</td>\n",
       "      <td>0</td>\n",
       "      <td>0</td>\n",
       "      <td>0</td>\n",
       "      <td>0</td>\n",
       "      <td>0</td>\n",
       "      <td>0</td>\n",
       "      <td>0</td>\n",
       "      <td>0</td>\n",
       "      <td>0</td>\n",
       "      <td>0</td>\n",
       "      <td>0</td>\n",
       "    </tr>\n",
       "    <tr>\n",
       "      <th>...</th>\n",
       "      <td>...</td>\n",
       "      <td>...</td>\n",
       "      <td>...</td>\n",
       "      <td>...</td>\n",
       "      <td>...</td>\n",
       "      <td>...</td>\n",
       "      <td>...</td>\n",
       "      <td>...</td>\n",
       "      <td>...</td>\n",
       "      <td>...</td>\n",
       "      <td>...</td>\n",
       "      <td>...</td>\n",
       "      <td>...</td>\n",
       "      <td>...</td>\n",
       "      <td>...</td>\n",
       "      <td>...</td>\n",
       "      <td>...</td>\n",
       "      <td>...</td>\n",
       "      <td>...</td>\n",
       "      <td>...</td>\n",
       "      <td>...</td>\n",
       "      <td>...</td>\n",
       "      <td>...</td>\n",
       "      <td>...</td>\n",
       "      <td>...</td>\n",
       "      <td>...</td>\n",
       "      <td>...</td>\n",
       "      <td>...</td>\n",
       "      <td>...</td>\n",
       "      <td>...</td>\n",
       "      <td>...</td>\n",
       "      <td>...</td>\n",
       "      <td>...</td>\n",
       "      <td>...</td>\n",
       "      <td>...</td>\n",
       "      <td>...</td>\n",
       "      <td>...</td>\n",
       "      <td>...</td>\n",
       "      <td>...</td>\n",
       "      <td>...</td>\n",
       "      <td>...</td>\n",
       "      <td>...</td>\n",
       "      <td>...</td>\n",
       "      <td>...</td>\n",
       "      <td>...</td>\n",
       "      <td>...</td>\n",
       "      <td>...</td>\n",
       "      <td>...</td>\n",
       "      <td>...</td>\n",
       "      <td>...</td>\n",
       "      <td>...</td>\n",
       "      <td>...</td>\n",
       "      <td>...</td>\n",
       "      <td>...</td>\n",
       "      <td>...</td>\n",
       "      <td>...</td>\n",
       "      <td>...</td>\n",
       "      <td>...</td>\n",
       "      <td>...</td>\n",
       "      <td>...</td>\n",
       "      <td>...</td>\n",
       "      <td>...</td>\n",
       "      <td>...</td>\n",
       "      <td>...</td>\n",
       "      <td>...</td>\n",
       "      <td>...</td>\n",
       "      <td>...</td>\n",
       "      <td>...</td>\n",
       "      <td>...</td>\n",
       "      <td>...</td>\n",
       "      <td>...</td>\n",
       "      <td>...</td>\n",
       "      <td>...</td>\n",
       "      <td>...</td>\n",
       "      <td>...</td>\n",
       "    </tr>\n",
       "    <tr>\n",
       "      <th>2767</th>\n",
       "      <td>16.309506</td>\n",
       "      <td>2</td>\n",
       "      <td>2</td>\n",
       "      <td>0</td>\n",
       "      <td>1</td>\n",
       "      <td>0</td>\n",
       "      <td>0</td>\n",
       "      <td>0</td>\n",
       "      <td>0</td>\n",
       "      <td>0</td>\n",
       "      <td>0</td>\n",
       "      <td>0</td>\n",
       "      <td>0</td>\n",
       "      <td>0</td>\n",
       "      <td>1</td>\n",
       "      <td>0</td>\n",
       "      <td>0</td>\n",
       "      <td>0</td>\n",
       "      <td>0</td>\n",
       "      <td>0</td>\n",
       "      <td>0</td>\n",
       "      <td>0</td>\n",
       "      <td>0</td>\n",
       "      <td>0</td>\n",
       "      <td>0</td>\n",
       "      <td>0</td>\n",
       "      <td>1</td>\n",
       "      <td>0</td>\n",
       "      <td>0</td>\n",
       "      <td>0</td>\n",
       "      <td>0</td>\n",
       "      <td>0</td>\n",
       "      <td>0</td>\n",
       "      <td>0</td>\n",
       "      <td>0</td>\n",
       "      <td>1</td>\n",
       "      <td>0</td>\n",
       "      <td>0</td>\n",
       "      <td>0</td>\n",
       "      <td>0</td>\n",
       "      <td>1</td>\n",
       "      <td>0</td>\n",
       "      <td>0</td>\n",
       "      <td>0</td>\n",
       "      <td>0</td>\n",
       "      <td>0</td>\n",
       "      <td>1</td>\n",
       "      <td>0</td>\n",
       "      <td>0</td>\n",
       "      <td>1</td>\n",
       "      <td>0</td>\n",
       "      <td>0</td>\n",
       "      <td>0</td>\n",
       "      <td>0</td>\n",
       "      <td>0</td>\n",
       "      <td>1</td>\n",
       "      <td>0</td>\n",
       "      <td>0</td>\n",
       "      <td>1</td>\n",
       "      <td>0</td>\n",
       "      <td>0</td>\n",
       "      <td>0</td>\n",
       "      <td>0</td>\n",
       "      <td>0</td>\n",
       "      <td>0</td>\n",
       "      <td>0</td>\n",
       "      <td>0</td>\n",
       "      <td>1</td>\n",
       "      <td>0</td>\n",
       "      <td>0</td>\n",
       "      <td>0</td>\n",
       "      <td>0</td>\n",
       "      <td>0</td>\n",
       "      <td>0</td>\n",
       "      <td>0</td>\n",
       "    </tr>\n",
       "    <tr>\n",
       "      <th>2768</th>\n",
       "      <td>39.812058</td>\n",
       "      <td>2</td>\n",
       "      <td>2</td>\n",
       "      <td>0</td>\n",
       "      <td>1</td>\n",
       "      <td>0</td>\n",
       "      <td>0</td>\n",
       "      <td>0</td>\n",
       "      <td>0</td>\n",
       "      <td>0</td>\n",
       "      <td>1</td>\n",
       "      <td>0</td>\n",
       "      <td>0</td>\n",
       "      <td>0</td>\n",
       "      <td>0</td>\n",
       "      <td>0</td>\n",
       "      <td>0</td>\n",
       "      <td>0</td>\n",
       "      <td>0</td>\n",
       "      <td>0</td>\n",
       "      <td>0</td>\n",
       "      <td>0</td>\n",
       "      <td>0</td>\n",
       "      <td>0</td>\n",
       "      <td>0</td>\n",
       "      <td>0</td>\n",
       "      <td>1</td>\n",
       "      <td>0</td>\n",
       "      <td>0</td>\n",
       "      <td>0</td>\n",
       "      <td>0</td>\n",
       "      <td>0</td>\n",
       "      <td>0</td>\n",
       "      <td>0</td>\n",
       "      <td>0</td>\n",
       "      <td>1</td>\n",
       "      <td>0</td>\n",
       "      <td>0</td>\n",
       "      <td>1</td>\n",
       "      <td>0</td>\n",
       "      <td>0</td>\n",
       "      <td>0</td>\n",
       "      <td>0</td>\n",
       "      <td>0</td>\n",
       "      <td>1</td>\n",
       "      <td>0</td>\n",
       "      <td>0</td>\n",
       "      <td>0</td>\n",
       "      <td>0</td>\n",
       "      <td>1</td>\n",
       "      <td>0</td>\n",
       "      <td>0</td>\n",
       "      <td>0</td>\n",
       "      <td>0</td>\n",
       "      <td>0</td>\n",
       "      <td>1</td>\n",
       "      <td>0</td>\n",
       "      <td>0</td>\n",
       "      <td>1</td>\n",
       "      <td>0</td>\n",
       "      <td>0</td>\n",
       "      <td>0</td>\n",
       "      <td>0</td>\n",
       "      <td>0</td>\n",
       "      <td>0</td>\n",
       "      <td>0</td>\n",
       "      <td>0</td>\n",
       "      <td>1</td>\n",
       "      <td>0</td>\n",
       "      <td>0</td>\n",
       "      <td>0</td>\n",
       "      <td>0</td>\n",
       "      <td>0</td>\n",
       "      <td>0</td>\n",
       "      <td>0</td>\n",
       "    </tr>\n",
       "    <tr>\n",
       "      <th>2769</th>\n",
       "      <td>17.464249</td>\n",
       "      <td>2</td>\n",
       "      <td>3</td>\n",
       "      <td>0</td>\n",
       "      <td>1</td>\n",
       "      <td>0</td>\n",
       "      <td>0</td>\n",
       "      <td>0</td>\n",
       "      <td>0</td>\n",
       "      <td>0</td>\n",
       "      <td>0</td>\n",
       "      <td>0</td>\n",
       "      <td>0</td>\n",
       "      <td>0</td>\n",
       "      <td>0</td>\n",
       "      <td>0</td>\n",
       "      <td>0</td>\n",
       "      <td>0</td>\n",
       "      <td>0</td>\n",
       "      <td>0</td>\n",
       "      <td>0</td>\n",
       "      <td>0</td>\n",
       "      <td>0</td>\n",
       "      <td>1</td>\n",
       "      <td>0</td>\n",
       "      <td>0</td>\n",
       "      <td>0</td>\n",
       "      <td>0</td>\n",
       "      <td>0</td>\n",
       "      <td>0</td>\n",
       "      <td>0</td>\n",
       "      <td>0</td>\n",
       "      <td>0</td>\n",
       "      <td>1</td>\n",
       "      <td>0</td>\n",
       "      <td>0</td>\n",
       "      <td>0</td>\n",
       "      <td>0</td>\n",
       "      <td>1</td>\n",
       "      <td>0</td>\n",
       "      <td>0</td>\n",
       "      <td>0</td>\n",
       "      <td>1</td>\n",
       "      <td>0</td>\n",
       "      <td>0</td>\n",
       "      <td>0</td>\n",
       "      <td>0</td>\n",
       "      <td>0</td>\n",
       "      <td>0</td>\n",
       "      <td>0</td>\n",
       "      <td>1</td>\n",
       "      <td>0</td>\n",
       "      <td>1</td>\n",
       "      <td>0</td>\n",
       "      <td>0</td>\n",
       "      <td>0</td>\n",
       "      <td>0</td>\n",
       "      <td>0</td>\n",
       "      <td>0</td>\n",
       "      <td>0</td>\n",
       "      <td>0</td>\n",
       "      <td>0</td>\n",
       "      <td>0</td>\n",
       "      <td>0</td>\n",
       "      <td>0</td>\n",
       "      <td>0</td>\n",
       "      <td>0</td>\n",
       "      <td>1</td>\n",
       "      <td>0</td>\n",
       "      <td>0</td>\n",
       "      <td>0</td>\n",
       "      <td>0</td>\n",
       "      <td>0</td>\n",
       "      <td>0</td>\n",
       "      <td>0</td>\n",
       "    </tr>\n",
       "    <tr>\n",
       "      <th>2770</th>\n",
       "      <td>0.000000</td>\n",
       "      <td>2</td>\n",
       "      <td>2</td>\n",
       "      <td>0</td>\n",
       "      <td>0</td>\n",
       "      <td>1</td>\n",
       "      <td>0</td>\n",
       "      <td>0</td>\n",
       "      <td>0</td>\n",
       "      <td>0</td>\n",
       "      <td>0</td>\n",
       "      <td>0</td>\n",
       "      <td>0</td>\n",
       "      <td>0</td>\n",
       "      <td>1</td>\n",
       "      <td>0</td>\n",
       "      <td>1</td>\n",
       "      <td>0</td>\n",
       "      <td>0</td>\n",
       "      <td>0</td>\n",
       "      <td>0</td>\n",
       "      <td>0</td>\n",
       "      <td>0</td>\n",
       "      <td>0</td>\n",
       "      <td>0</td>\n",
       "      <td>0</td>\n",
       "      <td>1</td>\n",
       "      <td>0</td>\n",
       "      <td>0</td>\n",
       "      <td>0</td>\n",
       "      <td>0</td>\n",
       "      <td>0</td>\n",
       "      <td>0</td>\n",
       "      <td>0</td>\n",
       "      <td>0</td>\n",
       "      <td>1</td>\n",
       "      <td>0</td>\n",
       "      <td>0</td>\n",
       "      <td>1</td>\n",
       "      <td>0</td>\n",
       "      <td>0</td>\n",
       "      <td>0</td>\n",
       "      <td>0</td>\n",
       "      <td>0</td>\n",
       "      <td>1</td>\n",
       "      <td>0</td>\n",
       "      <td>0</td>\n",
       "      <td>0</td>\n",
       "      <td>1</td>\n",
       "      <td>0</td>\n",
       "      <td>0</td>\n",
       "      <td>0</td>\n",
       "      <td>0</td>\n",
       "      <td>0</td>\n",
       "      <td>0</td>\n",
       "      <td>1</td>\n",
       "      <td>0</td>\n",
       "      <td>0</td>\n",
       "      <td>1</td>\n",
       "      <td>0</td>\n",
       "      <td>0</td>\n",
       "      <td>0</td>\n",
       "      <td>0</td>\n",
       "      <td>0</td>\n",
       "      <td>0</td>\n",
       "      <td>0</td>\n",
       "      <td>0</td>\n",
       "      <td>0</td>\n",
       "      <td>0</td>\n",
       "      <td>0</td>\n",
       "      <td>0</td>\n",
       "      <td>1</td>\n",
       "      <td>0</td>\n",
       "      <td>0</td>\n",
       "      <td>0</td>\n",
       "    </tr>\n",
       "    <tr>\n",
       "      <th>2771</th>\n",
       "      <td>16.309506</td>\n",
       "      <td>2</td>\n",
       "      <td>2</td>\n",
       "      <td>0</td>\n",
       "      <td>0</td>\n",
       "      <td>0</td>\n",
       "      <td>1</td>\n",
       "      <td>0</td>\n",
       "      <td>0</td>\n",
       "      <td>0</td>\n",
       "      <td>1</td>\n",
       "      <td>0</td>\n",
       "      <td>0</td>\n",
       "      <td>0</td>\n",
       "      <td>0</td>\n",
       "      <td>0</td>\n",
       "      <td>0</td>\n",
       "      <td>0</td>\n",
       "      <td>0</td>\n",
       "      <td>1</td>\n",
       "      <td>0</td>\n",
       "      <td>0</td>\n",
       "      <td>0</td>\n",
       "      <td>0</td>\n",
       "      <td>0</td>\n",
       "      <td>0</td>\n",
       "      <td>0</td>\n",
       "      <td>0</td>\n",
       "      <td>1</td>\n",
       "      <td>0</td>\n",
       "      <td>0</td>\n",
       "      <td>0</td>\n",
       "      <td>0</td>\n",
       "      <td>0</td>\n",
       "      <td>0</td>\n",
       "      <td>0</td>\n",
       "      <td>0</td>\n",
       "      <td>0</td>\n",
       "      <td>1</td>\n",
       "      <td>0</td>\n",
       "      <td>0</td>\n",
       "      <td>0</td>\n",
       "      <td>0</td>\n",
       "      <td>0</td>\n",
       "      <td>1</td>\n",
       "      <td>0</td>\n",
       "      <td>0</td>\n",
       "      <td>0</td>\n",
       "      <td>0</td>\n",
       "      <td>1</td>\n",
       "      <td>0</td>\n",
       "      <td>0</td>\n",
       "      <td>0</td>\n",
       "      <td>0</td>\n",
       "      <td>0</td>\n",
       "      <td>1</td>\n",
       "      <td>0</td>\n",
       "      <td>0</td>\n",
       "      <td>0</td>\n",
       "      <td>0</td>\n",
       "      <td>0</td>\n",
       "      <td>0</td>\n",
       "      <td>0</td>\n",
       "      <td>1</td>\n",
       "      <td>0</td>\n",
       "      <td>0</td>\n",
       "      <td>0</td>\n",
       "      <td>0</td>\n",
       "      <td>0</td>\n",
       "      <td>0</td>\n",
       "      <td>0</td>\n",
       "      <td>0</td>\n",
       "      <td>0</td>\n",
       "      <td>0</td>\n",
       "      <td>0</td>\n",
       "    </tr>\n",
       "  </tbody>\n",
       "</table>\n",
       "<p>9240 rows × 75 columns</p>\n",
       "</div>"
      ],
      "text/plain": [
       "      Total Time Spent on Website  Asymmetrique Activity Index  \\\n",
       "0                       20.297783                            2   \n",
       "1                       39.127995                            2   \n",
       "2                       35.327043                            2   \n",
       "3                       33.719431                            2   \n",
       "4                       31.670175                            2   \n",
       "...                           ...                          ...   \n",
       "2767                    16.309506                            2   \n",
       "2768                    39.812058                            2   \n",
       "2769                    17.464249                            2   \n",
       "2770                     0.000000                            2   \n",
       "2771                    16.309506                            2   \n",
       "\n",
       "      Asymmetrique Profile Index  train  Lead Source_Google  \\\n",
       "0                              2      1                   0   \n",
       "1                              3      1                   0   \n",
       "2                              3      1                   0   \n",
       "3                              3      1                   1   \n",
       "4                              2      1                   0   \n",
       "...                          ...    ...                 ...   \n",
       "2767                           2      0                   1   \n",
       "2768                           2      0                   1   \n",
       "2769                           3      0                   1   \n",
       "2770                           2      0                   0   \n",
       "2771                           2      0                   0   \n",
       "\n",
       "      Lead Source_Olark Chat  Lead Source_Organic Search  \\\n",
       "0                          0                           0   \n",
       "1                          0                           1   \n",
       "2                          0                           0   \n",
       "3                          0                           0   \n",
       "4                          0                           1   \n",
       "...                      ...                         ...   \n",
       "2767                       0                           0   \n",
       "2768                       0                           0   \n",
       "2769                       0                           0   \n",
       "2770                       1                           0   \n",
       "2771                       0                           1   \n",
       "\n",
       "      Lead Source_Other Sources  Lead Source_Reference  Do Not Email_Yes  \\\n",
       "0                             0                      0                 0   \n",
       "1                             0                      0                 0   \n",
       "2                             0                      1                 0   \n",
       "3                             0                      0                 0   \n",
       "4                             0                      0                 0   \n",
       "...                         ...                    ...               ...   \n",
       "2767                          0                      0                 0   \n",
       "2768                          0                      0                 0   \n",
       "2769                          0                      0                 0   \n",
       "2770                          0                      0                 0   \n",
       "2771                          0                      0                 0   \n",
       "\n",
       "      Last Activity_Email Responded  Last Activity_Email Unsubscribed  \\\n",
       "0                                 1                                 0   \n",
       "1                                 0                                 0   \n",
       "2                                 1                                 0   \n",
       "3                                 1                                 0   \n",
       "4                                 1                                 0   \n",
       "...                             ...                               ...   \n",
       "2767                              0                                 0   \n",
       "2768                              1                                 0   \n",
       "2769                              0                                 0   \n",
       "2770                              0                                 0   \n",
       "2771                              1                                 0   \n",
       "\n",
       "      Last Activity_Olark Chat Conversation  \\\n",
       "0                                         0   \n",
       "1                                         0   \n",
       "2                                         0   \n",
       "3                                         0   \n",
       "4                                         0   \n",
       "...                                     ...   \n",
       "2767                                      0   \n",
       "2768                                      0   \n",
       "2769                                      0   \n",
       "2770                                      0   \n",
       "2771                                      0   \n",
       "\n",
       "      Last Activity_Page Visited on Website  Last Activity_SMS Reverted  \\\n",
       "0                                         0                           0   \n",
       "1                                         0                           1   \n",
       "2                                         0                           0   \n",
       "3                                         0                           0   \n",
       "4                                         0                           0   \n",
       "...                                     ...                         ...   \n",
       "2767                                      0                           1   \n",
       "2768                                      0                           0   \n",
       "2769                                      0                           0   \n",
       "2770                                      0                           1   \n",
       "2771                                      0                           0   \n",
       "\n",
       "      Country_other_country  Country_unknown  Specialization_Finance  \\\n",
       "0                         0                0                       0   \n",
       "1                         0                0                       0   \n",
       "2                         0                0                       0   \n",
       "3                         0                0                       0   \n",
       "4                         0                0                       0   \n",
       "...                     ...              ...                     ...   \n",
       "2767                      0                0                       0   \n",
       "2768                      0                0                       0   \n",
       "2769                      0                0                       0   \n",
       "2770                      0                1                       0   \n",
       "2771                      0                0                       0   \n",
       "\n",
       "      Specialization_HR  Specialization_Healthcare  \\\n",
       "0                     0                          0   \n",
       "1                     0                          0   \n",
       "2                     1                          0   \n",
       "3                     0                          0   \n",
       "4                     0                          0   \n",
       "...                 ...                        ...   \n",
       "2767                  0                          0   \n",
       "2768                  0                          0   \n",
       "2769                  0                          0   \n",
       "2770                  0                          0   \n",
       "2771                  0                          1   \n",
       "\n",
       "      Specialization_IT Projects  Specialization_International Business  \\\n",
       "0                              0                                      0   \n",
       "1                              0                                      0   \n",
       "2                              0                                      0   \n",
       "3                              0                                      0   \n",
       "4                              0                                      0   \n",
       "...                          ...                                    ...   \n",
       "2767                           0                                      0   \n",
       "2768                           0                                      0   \n",
       "2769                           0                                      0   \n",
       "2770                           0                                      0   \n",
       "2771                           0                                      0   \n",
       "\n",
       "      Specialization_Logistics  Specialization_Marketing  \\\n",
       "0                            0                         0   \n",
       "1                            0                         1   \n",
       "2                            0                         0   \n",
       "3                            0                         1   \n",
       "4                            1                         0   \n",
       "...                        ...                       ...   \n",
       "2767                         0                         0   \n",
       "2768                         0                         0   \n",
       "2769                         0                         1   \n",
       "2770                         0                         0   \n",
       "2771                         0                         0   \n",
       "\n",
       "      Specialization_Rural and Agribusiness  Specialization_Tourism  \\\n",
       "0                                         0                       0   \n",
       "1                                         0                       0   \n",
       "2                                         0                       0   \n",
       "3                                         0                       0   \n",
       "4                                         0                       0   \n",
       "...                                     ...                     ...   \n",
       "2767                                      0                       0   \n",
       "2768                                      0                       0   \n",
       "2769                                      0                       0   \n",
       "2770                                      0                       0   \n",
       "2771                                      0                       0   \n",
       "\n",
       "      Specialization_unknown  How did you hear about X Education_Email  \\\n",
       "0                          0                                         0   \n",
       "1                          0                                         0   \n",
       "2                          0                                         0   \n",
       "3                          0                                         0   \n",
       "4                          0                                         0   \n",
       "...                      ...                                       ...   \n",
       "2767                       1                                         0   \n",
       "2768                       1                                         0   \n",
       "2769                       0                                         0   \n",
       "2770                       1                                         0   \n",
       "2771                       0                                         0   \n",
       "\n",
       "      How did you hear about X Education_Multiple Sources  \\\n",
       "0                                                     0     \n",
       "1                                                     0     \n",
       "2                                                     0     \n",
       "3                                                     0     \n",
       "4                                                     0     \n",
       "...                                                 ...     \n",
       "2767                                                  0     \n",
       "2768                                                  0     \n",
       "2769                                                  0     \n",
       "2770                                                  0     \n",
       "2771                                                  1     \n",
       "\n",
       "      How did you hear about X Education_Online Search  \\\n",
       "0                                                    0   \n",
       "1                                                    0   \n",
       "2                                                    0   \n",
       "3                                                    0   \n",
       "4                                                    0   \n",
       "...                                                ...   \n",
       "2767                                                 0   \n",
       "2768                                                 0   \n",
       "2769                                                 0   \n",
       "2770                                                 0   \n",
       "2771                                                 0   \n",
       "\n",
       "      How did you hear about X Education_Other  \\\n",
       "0                                            0   \n",
       "1                                            0   \n",
       "2                                            0   \n",
       "3                                            0   \n",
       "4                                            0   \n",
       "...                                        ...   \n",
       "2767                                         0   \n",
       "2768                                         0   \n",
       "2769                                         0   \n",
       "2770                                         0   \n",
       "2771                                         0   \n",
       "\n",
       "      How did you hear about X Education_SMS  \\\n",
       "0                                          0   \n",
       "1                                          0   \n",
       "2                                          0   \n",
       "3                                          0   \n",
       "4                                          0   \n",
       "...                                      ...   \n",
       "2767                                       0   \n",
       "2768                                       0   \n",
       "2769                                       0   \n",
       "2770                                       0   \n",
       "2771                                       0   \n",
       "\n",
       "      How did you hear about X Education_Social Media  \\\n",
       "0                                                   0   \n",
       "1                                                   0   \n",
       "2                                                   0   \n",
       "3                                                   0   \n",
       "4                                                   1   \n",
       "...                                               ...   \n",
       "2767                                                0   \n",
       "2768                                                0   \n",
       "2769                                                0   \n",
       "2770                                                0   \n",
       "2771                                                0   \n",
       "\n",
       "      How did you hear about X Education_Student of SomeSchool  \\\n",
       "0                                                     0          \n",
       "1                                                     0          \n",
       "2                                                     0          \n",
       "3                                                     0          \n",
       "4                                                     0          \n",
       "...                                                 ...          \n",
       "2767                                                  0          \n",
       "2768                                                  0          \n",
       "2769                                                  1          \n",
       "2770                                                  0          \n",
       "2771                                                  0          \n",
       "\n",
       "      How did you hear about X Education_Word Of Mouth  \\\n",
       "0                                                    0   \n",
       "1                                                    0   \n",
       "2                                                    0   \n",
       "3                                                    0   \n",
       "4                                                    0   \n",
       "...                                                ...   \n",
       "2767                                                 0   \n",
       "2768                                                 0   \n",
       "2769                                                 0   \n",
       "2770                                                 0   \n",
       "2771                                                 0   \n",
       "\n",
       "      How did you hear about X Education_unknown  \\\n",
       "0                                              1   \n",
       "1                                              1   \n",
       "2                                              1   \n",
       "3                                              1   \n",
       "4                                              0   \n",
       "...                                          ...   \n",
       "2767                                           1   \n",
       "2768                                           1   \n",
       "2769                                           0   \n",
       "2770                                           1   \n",
       "2771                                           0   \n",
       "\n",
       "      What is your current occupation_Others  \\\n",
       "0                                          0   \n",
       "1                                          0   \n",
       "2                                          0   \n",
       "3                                          0   \n",
       "4                                          0   \n",
       "...                                      ...   \n",
       "2767                                       0   \n",
       "2768                                       0   \n",
       "2769                                       0   \n",
       "2770                                       0   \n",
       "2771                                       0   \n",
       "\n",
       "      What is your current occupation_Student  \\\n",
       "0                                           0   \n",
       "1                                           0   \n",
       "2                                           1   \n",
       "3                                           0   \n",
       "4                                           0   \n",
       "...                                       ...   \n",
       "2767                                        0   \n",
       "2768                                        0   \n",
       "2769                                        0   \n",
       "2770                                        0   \n",
       "2771                                        0   \n",
       "\n",
       "      What is your current occupation_Unemployed  \\\n",
       "0                                              1   \n",
       "1                                              1   \n",
       "2                                              0   \n",
       "3                                              1   \n",
       "4                                              1   \n",
       "...                                          ...   \n",
       "2767                                           0   \n",
       "2768                                           1   \n",
       "2769                                           1   \n",
       "2770                                           1   \n",
       "2771                                           1   \n",
       "\n",
       "      What is your current occupation_Working Professional  \\\n",
       "0                                                     0      \n",
       "1                                                     0      \n",
       "2                                                     0      \n",
       "3                                                     0      \n",
       "4                                                     0      \n",
       "...                                                 ...      \n",
       "2767                                                  0      \n",
       "2768                                                  0      \n",
       "2769                                                  0      \n",
       "2770                                                  0      \n",
       "2771                                                  0      \n",
       "\n",
       "      What matters most to you in choosing a course_Others  \\\n",
       "0                                                     0      \n",
       "1                                                     0      \n",
       "2                                                     0      \n",
       "3                                                     0      \n",
       "4                                                     0      \n",
       "...                                                 ...      \n",
       "2767                                                  1      \n",
       "2768                                                  0      \n",
       "2769                                                  0      \n",
       "2770                                                  0      \n",
       "2771                                                  0      \n",
       "\n",
       "      Tags_Graduation in progress  Tags_Lost to Others  Tags_Not Eligible  \\\n",
       "0                               0                    0                  0   \n",
       "1                               0                    0                  0   \n",
       "2                               0                    0                  0   \n",
       "3                               0                    0                  0   \n",
       "4                               0                    0                  0   \n",
       "...                           ...                  ...                ...   \n",
       "2767                            0                    0                  0   \n",
       "2768                            0                    0                  0   \n",
       "2769                            0                    1                  0   \n",
       "2770                            0                    0                  0   \n",
       "2771                            0                    0                  0   \n",
       "\n",
       "      Tags_Not Reachable  Tags_Response Received  Tags_Status Unknown  \\\n",
       "0                      0                       0                    1   \n",
       "1                      1                       0                    0   \n",
       "2                      0                       0                    0   \n",
       "3                      0                       1                    0   \n",
       "4                      1                       0                    0   \n",
       "...                  ...                     ...                  ...   \n",
       "2767                   0                       0                    1   \n",
       "2768                   1                       0                    0   \n",
       "2769                   0                       0                    0   \n",
       "2770                   1                       0                    0   \n",
       "2771                   1                       0                    0   \n",
       "\n",
       "      Lead Quality_Low in Relevance  Lead Quality_Might be  \\\n",
       "0                                 0                      0   \n",
       "1                                 0                      0   \n",
       "2                                 1                      0   \n",
       "3                                 0                      0   \n",
       "4                                 0                      0   \n",
       "...                             ...                    ...   \n",
       "2767                              0                      0   \n",
       "2768                              0                      0   \n",
       "2769                              0                      0   \n",
       "2770                              0                      1   \n",
       "2771                              0                      0   \n",
       "\n",
       "      Lead Quality_Not Sure  Lead Quality_Worst  Lead Profile_Lateral Student  \\\n",
       "0                         1                   0                             0   \n",
       "1                         1                   0                             0   \n",
       "2                         0                   0                             0   \n",
       "3                         0                   0                             0   \n",
       "4                         1                   0                             0   \n",
       "...                     ...                 ...                           ...   \n",
       "2767                      1                   0                             0   \n",
       "2768                      1                   0                             0   \n",
       "2769                      0                   1                             0   \n",
       "2770                      0                   0                             0   \n",
       "2771                      1                   0                             0   \n",
       "\n",
       "      Lead Profile_Other Leads  Lead Profile_Potential Lead  \\\n",
       "0                            0                            0   \n",
       "1                            0                            0   \n",
       "2                            0                            1   \n",
       "3                            0                            1   \n",
       "4                            0                            0   \n",
       "...                        ...                          ...   \n",
       "2767                         0                            0   \n",
       "2768                         0                            0   \n",
       "2769                         1                            0   \n",
       "2770                         0                            0   \n",
       "2771                         0                            0   \n",
       "\n",
       "      Lead Profile_Student of SomeSchool  Lead Profile_Unknown  City_Tier2  \\\n",
       "0                                      0                     1           0   \n",
       "1                                      0                     1           0   \n",
       "2                                      0                     0           0   \n",
       "3                                      0                     0           0   \n",
       "4                                      0                     1           0   \n",
       "...                                  ...                   ...         ...   \n",
       "2767                                   0                     1           0   \n",
       "2768                                   0                     1           0   \n",
       "2769                                   0                     0           0   \n",
       "2770                                   0                     1           0   \n",
       "2771                                   0                     1           0   \n",
       "\n",
       "      City_Tier3  City_Unknown  A free copy of Mastering The Interview_Yes  \\\n",
       "0              0             0                                           1   \n",
       "1              0             0                                           1   \n",
       "2              0             0                                           1   \n",
       "3              0             0                                           1   \n",
       "4              0             0                                           0   \n",
       "...          ...           ...                                         ...   \n",
       "2767           0             1                                           0   \n",
       "2768           0             1                                           0   \n",
       "2769           0             0                                           0   \n",
       "2770           0             1                                           0   \n",
       "2771           0             0                                           0   \n",
       "\n",
       "      Last Notable Activity_Email Bounced  \\\n",
       "0                                       0   \n",
       "1                                       0   \n",
       "2                                       0   \n",
       "3                                       0   \n",
       "4                                       0   \n",
       "...                                   ...   \n",
       "2767                                    0   \n",
       "2768                                    0   \n",
       "2769                                    0   \n",
       "2770                                    0   \n",
       "2771                                    0   \n",
       "\n",
       "      Last Notable Activity_Email Link Clicked  \\\n",
       "0                                            0   \n",
       "1                                            0   \n",
       "2                                            0   \n",
       "3                                            0   \n",
       "4                                            0   \n",
       "...                                        ...   \n",
       "2767                                         0   \n",
       "2768                                         0   \n",
       "2769                                         0   \n",
       "2770                                         0   \n",
       "2771                                         0   \n",
       "\n",
       "      Last Notable Activity_Email Marked Spam  \\\n",
       "0                                           0   \n",
       "1                                           0   \n",
       "2                                           0   \n",
       "3                                           0   \n",
       "4                                           0   \n",
       "...                                       ...   \n",
       "2767                                        0   \n",
       "2768                                        0   \n",
       "2769                                        0   \n",
       "2770                                        0   \n",
       "2771                                        0   \n",
       "\n",
       "      Last Notable Activity_Email Opened  \\\n",
       "0                                      1   \n",
       "1                                      0   \n",
       "2                                      1   \n",
       "3                                      1   \n",
       "4                                      1   \n",
       "...                                  ...   \n",
       "2767                                   0   \n",
       "2768                                   0   \n",
       "2769                                   0   \n",
       "2770                                   0   \n",
       "2771                                   1   \n",
       "\n",
       "      Last Notable Activity_Email Received  \\\n",
       "0                                        0   \n",
       "1                                        0   \n",
       "2                                        0   \n",
       "3                                        0   \n",
       "4                                        0   \n",
       "...                                    ...   \n",
       "2767                                     0   \n",
       "2768                                     0   \n",
       "2769                                     0   \n",
       "2770                                     0   \n",
       "2771                                     0   \n",
       "\n",
       "      Last Notable Activity_Form Submitted on Website  \\\n",
       "0                                                   0   \n",
       "1                                                   0   \n",
       "2                                                   0   \n",
       "3                                                   0   \n",
       "4                                                   0   \n",
       "...                                               ...   \n",
       "2767                                                0   \n",
       "2768                                                0   \n",
       "2769                                                0   \n",
       "2770                                                0   \n",
       "2771                                                0   \n",
       "\n",
       "      Last Notable Activity_Had a Phone Conversation  \\\n",
       "0                                                  0   \n",
       "1                                                  0   \n",
       "2                                                  0   \n",
       "3                                                  0   \n",
       "4                                                  0   \n",
       "...                                              ...   \n",
       "2767                                               0   \n",
       "2768                                               0   \n",
       "2769                                               0   \n",
       "2770                                               0   \n",
       "2771                                               0   \n",
       "\n",
       "      Last Notable Activity_Modified  \\\n",
       "0                                  0   \n",
       "1                                  0   \n",
       "2                                  0   \n",
       "3                                  0   \n",
       "4                                  0   \n",
       "...                              ...   \n",
       "2767                               1   \n",
       "2768                               1   \n",
       "2769                               1   \n",
       "2770                               0   \n",
       "2771                               0   \n",
       "\n",
       "      Last Notable Activity_Olark Chat Conversation  \\\n",
       "0                                                 0   \n",
       "1                                                 0   \n",
       "2                                                 0   \n",
       "3                                                 0   \n",
       "4                                                 0   \n",
       "...                                             ...   \n",
       "2767                                              0   \n",
       "2768                                              0   \n",
       "2769                                              0   \n",
       "2770                                              0   \n",
       "2771                                              0   \n",
       "\n",
       "      Last Notable Activity_Page Visited on Website  \\\n",
       "0                                                 0   \n",
       "1                                                 0   \n",
       "2                                                 0   \n",
       "3                                                 0   \n",
       "4                                                 0   \n",
       "...                                             ...   \n",
       "2767                                              0   \n",
       "2768                                              0   \n",
       "2769                                              0   \n",
       "2770                                              0   \n",
       "2771                                              0   \n",
       "\n",
       "      Last Notable Activity_Resubscribed to emails  \\\n",
       "0                                                0   \n",
       "1                                                0   \n",
       "2                                                0   \n",
       "3                                                0   \n",
       "4                                                0   \n",
       "...                                            ...   \n",
       "2767                                             0   \n",
       "2768                                             0   \n",
       "2769                                             0   \n",
       "2770                                             0   \n",
       "2771                                             0   \n",
       "\n",
       "      Last Notable Activity_SMS Sent  Last Notable Activity_Unreachable  \\\n",
       "0                                  0                                  0   \n",
       "1                                  1                                  0   \n",
       "2                                  0                                  0   \n",
       "3                                  0                                  0   \n",
       "4                                  0                                  0   \n",
       "...                              ...                                ...   \n",
       "2767                               0                                  0   \n",
       "2768                               0                                  0   \n",
       "2769                               0                                  0   \n",
       "2770                               1                                  0   \n",
       "2771                               0                                  0   \n",
       "\n",
       "      Last Notable Activity_Unsubscribed  \\\n",
       "0                                      0   \n",
       "1                                      0   \n",
       "2                                      0   \n",
       "3                                      0   \n",
       "4                                      0   \n",
       "...                                  ...   \n",
       "2767                                   0   \n",
       "2768                                   0   \n",
       "2769                                   0   \n",
       "2770                                   0   \n",
       "2771                                   0   \n",
       "\n",
       "      Last Notable Activity_View in browser link Clicked  \n",
       "0                                                     0   \n",
       "1                                                     0   \n",
       "2                                                     0   \n",
       "3                                                     0   \n",
       "4                                                     0   \n",
       "...                                                 ...   \n",
       "2767                                                  0   \n",
       "2768                                                  0   \n",
       "2769                                                  0   \n",
       "2770                                                  0   \n",
       "2771                                                  0   \n",
       "\n",
       "[9240 rows x 75 columns]"
      ]
     },
     "execution_count": 153,
     "metadata": {
      "tags": []
     },
     "output_type": "execute_result"
    }
   ],
   "source": [
    "X"
   ]
  },
  {
   "cell_type": "code",
   "execution_count": 154,
   "metadata": {
    "id": "vABSzllTpWwO"
   },
   "outputs": [],
   "source": [
    "X_train=X[X['train']==1]"
   ]
  },
  {
   "cell_type": "code",
   "execution_count": 155,
   "metadata": {
    "id": "H8vkWPG7pWwO"
   },
   "outputs": [],
   "source": [
    "X_test=X[X['train']==0]"
   ]
  },
  {
   "cell_type": "code",
   "execution_count": 156,
   "metadata": {
    "colab": {
     "base_uri": "https://localhost:8080/",
     "height": 266
    },
    "id": "ZOHAQA0apWwO",
    "outputId": "4b706b7c-eeb9-4369-dfec-4b9c25054e2b"
   },
   "outputs": [
    {
     "data": {
      "text/html": [
       "<div>\n",
       "<style scoped>\n",
       "    .dataframe tbody tr th:only-of-type {\n",
       "        vertical-align: middle;\n",
       "    }\n",
       "\n",
       "    .dataframe tbody tr th {\n",
       "        vertical-align: top;\n",
       "    }\n",
       "\n",
       "    .dataframe thead th {\n",
       "        text-align: right;\n",
       "    }\n",
       "</style>\n",
       "<table border=\"1\" class=\"dataframe\">\n",
       "  <thead>\n",
       "    <tr style=\"text-align: right;\">\n",
       "      <th></th>\n",
       "      <th>Total Time Spent on Website</th>\n",
       "      <th>Asymmetrique Activity Index</th>\n",
       "      <th>Asymmetrique Profile Index</th>\n",
       "      <th>train</th>\n",
       "      <th>Lead Source_Google</th>\n",
       "      <th>Lead Source_Olark Chat</th>\n",
       "      <th>Lead Source_Organic Search</th>\n",
       "      <th>Lead Source_Other Sources</th>\n",
       "      <th>Lead Source_Reference</th>\n",
       "      <th>Do Not Email_Yes</th>\n",
       "      <th>Last Activity_Email Responded</th>\n",
       "      <th>Last Activity_Email Unsubscribed</th>\n",
       "      <th>Last Activity_Olark Chat Conversation</th>\n",
       "      <th>Last Activity_Page Visited on Website</th>\n",
       "      <th>Last Activity_SMS Reverted</th>\n",
       "      <th>Country_other_country</th>\n",
       "      <th>Country_unknown</th>\n",
       "      <th>Specialization_Finance</th>\n",
       "      <th>Specialization_HR</th>\n",
       "      <th>Specialization_Healthcare</th>\n",
       "      <th>Specialization_IT Projects</th>\n",
       "      <th>Specialization_International Business</th>\n",
       "      <th>Specialization_Logistics</th>\n",
       "      <th>Specialization_Marketing</th>\n",
       "      <th>Specialization_Rural and Agribusiness</th>\n",
       "      <th>Specialization_Tourism</th>\n",
       "      <th>Specialization_unknown</th>\n",
       "      <th>How did you hear about X Education_Email</th>\n",
       "      <th>How did you hear about X Education_Multiple Sources</th>\n",
       "      <th>How did you hear about X Education_Online Search</th>\n",
       "      <th>How did you hear about X Education_Other</th>\n",
       "      <th>How did you hear about X Education_SMS</th>\n",
       "      <th>How did you hear about X Education_Social Media</th>\n",
       "      <th>How did you hear about X Education_Student of SomeSchool</th>\n",
       "      <th>How did you hear about X Education_Word Of Mouth</th>\n",
       "      <th>How did you hear about X Education_unknown</th>\n",
       "      <th>What is your current occupation_Others</th>\n",
       "      <th>What is your current occupation_Student</th>\n",
       "      <th>What is your current occupation_Unemployed</th>\n",
       "      <th>What is your current occupation_Working Professional</th>\n",
       "      <th>What matters most to you in choosing a course_Others</th>\n",
       "      <th>Tags_Graduation in progress</th>\n",
       "      <th>Tags_Lost to Others</th>\n",
       "      <th>Tags_Not Eligible</th>\n",
       "      <th>Tags_Not Reachable</th>\n",
       "      <th>Tags_Response Received</th>\n",
       "      <th>Tags_Status Unknown</th>\n",
       "      <th>Lead Quality_Low in Relevance</th>\n",
       "      <th>Lead Quality_Might be</th>\n",
       "      <th>Lead Quality_Not Sure</th>\n",
       "      <th>Lead Quality_Worst</th>\n",
       "      <th>Lead Profile_Lateral Student</th>\n",
       "      <th>Lead Profile_Other Leads</th>\n",
       "      <th>Lead Profile_Potential Lead</th>\n",
       "      <th>Lead Profile_Student of SomeSchool</th>\n",
       "      <th>Lead Profile_Unknown</th>\n",
       "      <th>City_Tier2</th>\n",
       "      <th>City_Tier3</th>\n",
       "      <th>City_Unknown</th>\n",
       "      <th>A free copy of Mastering The Interview_Yes</th>\n",
       "      <th>Last Notable Activity_Email Bounced</th>\n",
       "      <th>Last Notable Activity_Email Link Clicked</th>\n",
       "      <th>Last Notable Activity_Email Marked Spam</th>\n",
       "      <th>Last Notable Activity_Email Opened</th>\n",
       "      <th>Last Notable Activity_Email Received</th>\n",
       "      <th>Last Notable Activity_Form Submitted on Website</th>\n",
       "      <th>Last Notable Activity_Had a Phone Conversation</th>\n",
       "      <th>Last Notable Activity_Modified</th>\n",
       "      <th>Last Notable Activity_Olark Chat Conversation</th>\n",
       "      <th>Last Notable Activity_Page Visited on Website</th>\n",
       "      <th>Last Notable Activity_Resubscribed to emails</th>\n",
       "      <th>Last Notable Activity_SMS Sent</th>\n",
       "      <th>Last Notable Activity_Unreachable</th>\n",
       "      <th>Last Notable Activity_Unsubscribed</th>\n",
       "      <th>Last Notable Activity_View in browser link Clicked</th>\n",
       "    </tr>\n",
       "  </thead>\n",
       "  <tbody>\n",
       "    <tr>\n",
       "      <th>0</th>\n",
       "      <td>20.297783</td>\n",
       "      <td>2</td>\n",
       "      <td>2</td>\n",
       "      <td>1</td>\n",
       "      <td>0</td>\n",
       "      <td>0</td>\n",
       "      <td>0</td>\n",
       "      <td>0</td>\n",
       "      <td>0</td>\n",
       "      <td>0</td>\n",
       "      <td>1</td>\n",
       "      <td>0</td>\n",
       "      <td>0</td>\n",
       "      <td>0</td>\n",
       "      <td>0</td>\n",
       "      <td>0</td>\n",
       "      <td>0</td>\n",
       "      <td>0</td>\n",
       "      <td>0</td>\n",
       "      <td>0</td>\n",
       "      <td>0</td>\n",
       "      <td>0</td>\n",
       "      <td>0</td>\n",
       "      <td>0</td>\n",
       "      <td>0</td>\n",
       "      <td>0</td>\n",
       "      <td>0</td>\n",
       "      <td>0</td>\n",
       "      <td>0</td>\n",
       "      <td>0</td>\n",
       "      <td>0</td>\n",
       "      <td>0</td>\n",
       "      <td>0</td>\n",
       "      <td>0</td>\n",
       "      <td>0</td>\n",
       "      <td>1</td>\n",
       "      <td>0</td>\n",
       "      <td>0</td>\n",
       "      <td>1</td>\n",
       "      <td>0</td>\n",
       "      <td>0</td>\n",
       "      <td>0</td>\n",
       "      <td>0</td>\n",
       "      <td>0</td>\n",
       "      <td>0</td>\n",
       "      <td>0</td>\n",
       "      <td>1</td>\n",
       "      <td>0</td>\n",
       "      <td>0</td>\n",
       "      <td>1</td>\n",
       "      <td>0</td>\n",
       "      <td>0</td>\n",
       "      <td>0</td>\n",
       "      <td>0</td>\n",
       "      <td>0</td>\n",
       "      <td>1</td>\n",
       "      <td>0</td>\n",
       "      <td>0</td>\n",
       "      <td>0</td>\n",
       "      <td>1</td>\n",
       "      <td>0</td>\n",
       "      <td>0</td>\n",
       "      <td>0</td>\n",
       "      <td>1</td>\n",
       "      <td>0</td>\n",
       "      <td>0</td>\n",
       "      <td>0</td>\n",
       "      <td>0</td>\n",
       "      <td>0</td>\n",
       "      <td>0</td>\n",
       "      <td>0</td>\n",
       "      <td>0</td>\n",
       "      <td>0</td>\n",
       "      <td>0</td>\n",
       "      <td>0</td>\n",
       "    </tr>\n",
       "    <tr>\n",
       "      <th>1</th>\n",
       "      <td>39.127995</td>\n",
       "      <td>2</td>\n",
       "      <td>3</td>\n",
       "      <td>1</td>\n",
       "      <td>0</td>\n",
       "      <td>0</td>\n",
       "      <td>1</td>\n",
       "      <td>0</td>\n",
       "      <td>0</td>\n",
       "      <td>0</td>\n",
       "      <td>0</td>\n",
       "      <td>0</td>\n",
       "      <td>0</td>\n",
       "      <td>0</td>\n",
       "      <td>1</td>\n",
       "      <td>0</td>\n",
       "      <td>0</td>\n",
       "      <td>0</td>\n",
       "      <td>0</td>\n",
       "      <td>0</td>\n",
       "      <td>0</td>\n",
       "      <td>0</td>\n",
       "      <td>0</td>\n",
       "      <td>1</td>\n",
       "      <td>0</td>\n",
       "      <td>0</td>\n",
       "      <td>0</td>\n",
       "      <td>0</td>\n",
       "      <td>0</td>\n",
       "      <td>0</td>\n",
       "      <td>0</td>\n",
       "      <td>0</td>\n",
       "      <td>0</td>\n",
       "      <td>0</td>\n",
       "      <td>0</td>\n",
       "      <td>1</td>\n",
       "      <td>0</td>\n",
       "      <td>0</td>\n",
       "      <td>1</td>\n",
       "      <td>0</td>\n",
       "      <td>0</td>\n",
       "      <td>0</td>\n",
       "      <td>0</td>\n",
       "      <td>0</td>\n",
       "      <td>1</td>\n",
       "      <td>0</td>\n",
       "      <td>0</td>\n",
       "      <td>0</td>\n",
       "      <td>0</td>\n",
       "      <td>1</td>\n",
       "      <td>0</td>\n",
       "      <td>0</td>\n",
       "      <td>0</td>\n",
       "      <td>0</td>\n",
       "      <td>0</td>\n",
       "      <td>1</td>\n",
       "      <td>0</td>\n",
       "      <td>0</td>\n",
       "      <td>0</td>\n",
       "      <td>1</td>\n",
       "      <td>0</td>\n",
       "      <td>0</td>\n",
       "      <td>0</td>\n",
       "      <td>0</td>\n",
       "      <td>0</td>\n",
       "      <td>0</td>\n",
       "      <td>0</td>\n",
       "      <td>0</td>\n",
       "      <td>0</td>\n",
       "      <td>0</td>\n",
       "      <td>0</td>\n",
       "      <td>1</td>\n",
       "      <td>0</td>\n",
       "      <td>0</td>\n",
       "      <td>0</td>\n",
       "    </tr>\n",
       "    <tr>\n",
       "      <th>2</th>\n",
       "      <td>35.327043</td>\n",
       "      <td>2</td>\n",
       "      <td>3</td>\n",
       "      <td>1</td>\n",
       "      <td>0</td>\n",
       "      <td>0</td>\n",
       "      <td>0</td>\n",
       "      <td>0</td>\n",
       "      <td>1</td>\n",
       "      <td>0</td>\n",
       "      <td>1</td>\n",
       "      <td>0</td>\n",
       "      <td>0</td>\n",
       "      <td>0</td>\n",
       "      <td>0</td>\n",
       "      <td>0</td>\n",
       "      <td>0</td>\n",
       "      <td>0</td>\n",
       "      <td>1</td>\n",
       "      <td>0</td>\n",
       "      <td>0</td>\n",
       "      <td>0</td>\n",
       "      <td>0</td>\n",
       "      <td>0</td>\n",
       "      <td>0</td>\n",
       "      <td>0</td>\n",
       "      <td>0</td>\n",
       "      <td>0</td>\n",
       "      <td>0</td>\n",
       "      <td>0</td>\n",
       "      <td>0</td>\n",
       "      <td>0</td>\n",
       "      <td>0</td>\n",
       "      <td>0</td>\n",
       "      <td>0</td>\n",
       "      <td>1</td>\n",
       "      <td>0</td>\n",
       "      <td>1</td>\n",
       "      <td>0</td>\n",
       "      <td>0</td>\n",
       "      <td>0</td>\n",
       "      <td>0</td>\n",
       "      <td>0</td>\n",
       "      <td>0</td>\n",
       "      <td>0</td>\n",
       "      <td>0</td>\n",
       "      <td>0</td>\n",
       "      <td>1</td>\n",
       "      <td>0</td>\n",
       "      <td>0</td>\n",
       "      <td>0</td>\n",
       "      <td>0</td>\n",
       "      <td>0</td>\n",
       "      <td>1</td>\n",
       "      <td>0</td>\n",
       "      <td>0</td>\n",
       "      <td>0</td>\n",
       "      <td>0</td>\n",
       "      <td>0</td>\n",
       "      <td>1</td>\n",
       "      <td>0</td>\n",
       "      <td>0</td>\n",
       "      <td>0</td>\n",
       "      <td>1</td>\n",
       "      <td>0</td>\n",
       "      <td>0</td>\n",
       "      <td>0</td>\n",
       "      <td>0</td>\n",
       "      <td>0</td>\n",
       "      <td>0</td>\n",
       "      <td>0</td>\n",
       "      <td>0</td>\n",
       "      <td>0</td>\n",
       "      <td>0</td>\n",
       "      <td>0</td>\n",
       "    </tr>\n",
       "    <tr>\n",
       "      <th>3</th>\n",
       "      <td>33.719431</td>\n",
       "      <td>2</td>\n",
       "      <td>3</td>\n",
       "      <td>1</td>\n",
       "      <td>1</td>\n",
       "      <td>0</td>\n",
       "      <td>0</td>\n",
       "      <td>0</td>\n",
       "      <td>0</td>\n",
       "      <td>0</td>\n",
       "      <td>1</td>\n",
       "      <td>0</td>\n",
       "      <td>0</td>\n",
       "      <td>0</td>\n",
       "      <td>0</td>\n",
       "      <td>0</td>\n",
       "      <td>0</td>\n",
       "      <td>0</td>\n",
       "      <td>0</td>\n",
       "      <td>0</td>\n",
       "      <td>0</td>\n",
       "      <td>0</td>\n",
       "      <td>0</td>\n",
       "      <td>1</td>\n",
       "      <td>0</td>\n",
       "      <td>0</td>\n",
       "      <td>0</td>\n",
       "      <td>0</td>\n",
       "      <td>0</td>\n",
       "      <td>0</td>\n",
       "      <td>0</td>\n",
       "      <td>0</td>\n",
       "      <td>0</td>\n",
       "      <td>0</td>\n",
       "      <td>0</td>\n",
       "      <td>1</td>\n",
       "      <td>0</td>\n",
       "      <td>0</td>\n",
       "      <td>1</td>\n",
       "      <td>0</td>\n",
       "      <td>0</td>\n",
       "      <td>0</td>\n",
       "      <td>0</td>\n",
       "      <td>0</td>\n",
       "      <td>0</td>\n",
       "      <td>1</td>\n",
       "      <td>0</td>\n",
       "      <td>0</td>\n",
       "      <td>0</td>\n",
       "      <td>0</td>\n",
       "      <td>0</td>\n",
       "      <td>0</td>\n",
       "      <td>0</td>\n",
       "      <td>1</td>\n",
       "      <td>0</td>\n",
       "      <td>0</td>\n",
       "      <td>0</td>\n",
       "      <td>0</td>\n",
       "      <td>0</td>\n",
       "      <td>1</td>\n",
       "      <td>0</td>\n",
       "      <td>0</td>\n",
       "      <td>0</td>\n",
       "      <td>1</td>\n",
       "      <td>0</td>\n",
       "      <td>0</td>\n",
       "      <td>0</td>\n",
       "      <td>0</td>\n",
       "      <td>0</td>\n",
       "      <td>0</td>\n",
       "      <td>0</td>\n",
       "      <td>0</td>\n",
       "      <td>0</td>\n",
       "      <td>0</td>\n",
       "      <td>0</td>\n",
       "    </tr>\n",
       "    <tr>\n",
       "      <th>4</th>\n",
       "      <td>31.670175</td>\n",
       "      <td>2</td>\n",
       "      <td>2</td>\n",
       "      <td>1</td>\n",
       "      <td>0</td>\n",
       "      <td>0</td>\n",
       "      <td>1</td>\n",
       "      <td>0</td>\n",
       "      <td>0</td>\n",
       "      <td>0</td>\n",
       "      <td>1</td>\n",
       "      <td>0</td>\n",
       "      <td>0</td>\n",
       "      <td>0</td>\n",
       "      <td>0</td>\n",
       "      <td>0</td>\n",
       "      <td>0</td>\n",
       "      <td>0</td>\n",
       "      <td>0</td>\n",
       "      <td>0</td>\n",
       "      <td>0</td>\n",
       "      <td>0</td>\n",
       "      <td>1</td>\n",
       "      <td>0</td>\n",
       "      <td>0</td>\n",
       "      <td>0</td>\n",
       "      <td>0</td>\n",
       "      <td>0</td>\n",
       "      <td>0</td>\n",
       "      <td>0</td>\n",
       "      <td>0</td>\n",
       "      <td>0</td>\n",
       "      <td>1</td>\n",
       "      <td>0</td>\n",
       "      <td>0</td>\n",
       "      <td>0</td>\n",
       "      <td>0</td>\n",
       "      <td>0</td>\n",
       "      <td>1</td>\n",
       "      <td>0</td>\n",
       "      <td>0</td>\n",
       "      <td>0</td>\n",
       "      <td>0</td>\n",
       "      <td>0</td>\n",
       "      <td>1</td>\n",
       "      <td>0</td>\n",
       "      <td>0</td>\n",
       "      <td>0</td>\n",
       "      <td>0</td>\n",
       "      <td>1</td>\n",
       "      <td>0</td>\n",
       "      <td>0</td>\n",
       "      <td>0</td>\n",
       "      <td>0</td>\n",
       "      <td>0</td>\n",
       "      <td>1</td>\n",
       "      <td>0</td>\n",
       "      <td>0</td>\n",
       "      <td>0</td>\n",
       "      <td>0</td>\n",
       "      <td>0</td>\n",
       "      <td>0</td>\n",
       "      <td>0</td>\n",
       "      <td>1</td>\n",
       "      <td>0</td>\n",
       "      <td>0</td>\n",
       "      <td>0</td>\n",
       "      <td>0</td>\n",
       "      <td>0</td>\n",
       "      <td>0</td>\n",
       "      <td>0</td>\n",
       "      <td>0</td>\n",
       "      <td>0</td>\n",
       "      <td>0</td>\n",
       "      <td>0</td>\n",
       "    </tr>\n",
       "  </tbody>\n",
       "</table>\n",
       "</div>"
      ],
      "text/plain": [
       "   Total Time Spent on Website  Asymmetrique Activity Index  \\\n",
       "0                    20.297783                            2   \n",
       "1                    39.127995                            2   \n",
       "2                    35.327043                            2   \n",
       "3                    33.719431                            2   \n",
       "4                    31.670175                            2   \n",
       "\n",
       "   Asymmetrique Profile Index  train  Lead Source_Google  \\\n",
       "0                           2      1                   0   \n",
       "1                           3      1                   0   \n",
       "2                           3      1                   0   \n",
       "3                           3      1                   1   \n",
       "4                           2      1                   0   \n",
       "\n",
       "   Lead Source_Olark Chat  Lead Source_Organic Search  \\\n",
       "0                       0                           0   \n",
       "1                       0                           1   \n",
       "2                       0                           0   \n",
       "3                       0                           0   \n",
       "4                       0                           1   \n",
       "\n",
       "   Lead Source_Other Sources  Lead Source_Reference  Do Not Email_Yes  \\\n",
       "0                          0                      0                 0   \n",
       "1                          0                      0                 0   \n",
       "2                          0                      1                 0   \n",
       "3                          0                      0                 0   \n",
       "4                          0                      0                 0   \n",
       "\n",
       "   Last Activity_Email Responded  Last Activity_Email Unsubscribed  \\\n",
       "0                              1                                 0   \n",
       "1                              0                                 0   \n",
       "2                              1                                 0   \n",
       "3                              1                                 0   \n",
       "4                              1                                 0   \n",
       "\n",
       "   Last Activity_Olark Chat Conversation  \\\n",
       "0                                      0   \n",
       "1                                      0   \n",
       "2                                      0   \n",
       "3                                      0   \n",
       "4                                      0   \n",
       "\n",
       "   Last Activity_Page Visited on Website  Last Activity_SMS Reverted  \\\n",
       "0                                      0                           0   \n",
       "1                                      0                           1   \n",
       "2                                      0                           0   \n",
       "3                                      0                           0   \n",
       "4                                      0                           0   \n",
       "\n",
       "   Country_other_country  Country_unknown  Specialization_Finance  \\\n",
       "0                      0                0                       0   \n",
       "1                      0                0                       0   \n",
       "2                      0                0                       0   \n",
       "3                      0                0                       0   \n",
       "4                      0                0                       0   \n",
       "\n",
       "   Specialization_HR  Specialization_Healthcare  Specialization_IT Projects  \\\n",
       "0                  0                          0                           0   \n",
       "1                  0                          0                           0   \n",
       "2                  1                          0                           0   \n",
       "3                  0                          0                           0   \n",
       "4                  0                          0                           0   \n",
       "\n",
       "   Specialization_International Business  Specialization_Logistics  \\\n",
       "0                                      0                         0   \n",
       "1                                      0                         0   \n",
       "2                                      0                         0   \n",
       "3                                      0                         0   \n",
       "4                                      0                         1   \n",
       "\n",
       "   Specialization_Marketing  Specialization_Rural and Agribusiness  \\\n",
       "0                         0                                      0   \n",
       "1                         1                                      0   \n",
       "2                         0                                      0   \n",
       "3                         1                                      0   \n",
       "4                         0                                      0   \n",
       "\n",
       "   Specialization_Tourism  Specialization_unknown  \\\n",
       "0                       0                       0   \n",
       "1                       0                       0   \n",
       "2                       0                       0   \n",
       "3                       0                       0   \n",
       "4                       0                       0   \n",
       "\n",
       "   How did you hear about X Education_Email  \\\n",
       "0                                         0   \n",
       "1                                         0   \n",
       "2                                         0   \n",
       "3                                         0   \n",
       "4                                         0   \n",
       "\n",
       "   How did you hear about X Education_Multiple Sources  \\\n",
       "0                                                  0     \n",
       "1                                                  0     \n",
       "2                                                  0     \n",
       "3                                                  0     \n",
       "4                                                  0     \n",
       "\n",
       "   How did you hear about X Education_Online Search  \\\n",
       "0                                                 0   \n",
       "1                                                 0   \n",
       "2                                                 0   \n",
       "3                                                 0   \n",
       "4                                                 0   \n",
       "\n",
       "   How did you hear about X Education_Other  \\\n",
       "0                                         0   \n",
       "1                                         0   \n",
       "2                                         0   \n",
       "3                                         0   \n",
       "4                                         0   \n",
       "\n",
       "   How did you hear about X Education_SMS  \\\n",
       "0                                       0   \n",
       "1                                       0   \n",
       "2                                       0   \n",
       "3                                       0   \n",
       "4                                       0   \n",
       "\n",
       "   How did you hear about X Education_Social Media  \\\n",
       "0                                                0   \n",
       "1                                                0   \n",
       "2                                                0   \n",
       "3                                                0   \n",
       "4                                                1   \n",
       "\n",
       "   How did you hear about X Education_Student of SomeSchool  \\\n",
       "0                                                  0          \n",
       "1                                                  0          \n",
       "2                                                  0          \n",
       "3                                                  0          \n",
       "4                                                  0          \n",
       "\n",
       "   How did you hear about X Education_Word Of Mouth  \\\n",
       "0                                                 0   \n",
       "1                                                 0   \n",
       "2                                                 0   \n",
       "3                                                 0   \n",
       "4                                                 0   \n",
       "\n",
       "   How did you hear about X Education_unknown  \\\n",
       "0                                           1   \n",
       "1                                           1   \n",
       "2                                           1   \n",
       "3                                           1   \n",
       "4                                           0   \n",
       "\n",
       "   What is your current occupation_Others  \\\n",
       "0                                       0   \n",
       "1                                       0   \n",
       "2                                       0   \n",
       "3                                       0   \n",
       "4                                       0   \n",
       "\n",
       "   What is your current occupation_Student  \\\n",
       "0                                        0   \n",
       "1                                        0   \n",
       "2                                        1   \n",
       "3                                        0   \n",
       "4                                        0   \n",
       "\n",
       "   What is your current occupation_Unemployed  \\\n",
       "0                                           1   \n",
       "1                                           1   \n",
       "2                                           0   \n",
       "3                                           1   \n",
       "4                                           1   \n",
       "\n",
       "   What is your current occupation_Working Professional  \\\n",
       "0                                                  0      \n",
       "1                                                  0      \n",
       "2                                                  0      \n",
       "3                                                  0      \n",
       "4                                                  0      \n",
       "\n",
       "   What matters most to you in choosing a course_Others  \\\n",
       "0                                                  0      \n",
       "1                                                  0      \n",
       "2                                                  0      \n",
       "3                                                  0      \n",
       "4                                                  0      \n",
       "\n",
       "   Tags_Graduation in progress  Tags_Lost to Others  Tags_Not Eligible  \\\n",
       "0                            0                    0                  0   \n",
       "1                            0                    0                  0   \n",
       "2                            0                    0                  0   \n",
       "3                            0                    0                  0   \n",
       "4                            0                    0                  0   \n",
       "\n",
       "   Tags_Not Reachable  Tags_Response Received  Tags_Status Unknown  \\\n",
       "0                   0                       0                    1   \n",
       "1                   1                       0                    0   \n",
       "2                   0                       0                    0   \n",
       "3                   0                       1                    0   \n",
       "4                   1                       0                    0   \n",
       "\n",
       "   Lead Quality_Low in Relevance  Lead Quality_Might be  \\\n",
       "0                              0                      0   \n",
       "1                              0                      0   \n",
       "2                              1                      0   \n",
       "3                              0                      0   \n",
       "4                              0                      0   \n",
       "\n",
       "   Lead Quality_Not Sure  Lead Quality_Worst  Lead Profile_Lateral Student  \\\n",
       "0                      1                   0                             0   \n",
       "1                      1                   0                             0   \n",
       "2                      0                   0                             0   \n",
       "3                      0                   0                             0   \n",
       "4                      1                   0                             0   \n",
       "\n",
       "   Lead Profile_Other Leads  Lead Profile_Potential Lead  \\\n",
       "0                         0                            0   \n",
       "1                         0                            0   \n",
       "2                         0                            1   \n",
       "3                         0                            1   \n",
       "4                         0                            0   \n",
       "\n",
       "   Lead Profile_Student of SomeSchool  Lead Profile_Unknown  City_Tier2  \\\n",
       "0                                   0                     1           0   \n",
       "1                                   0                     1           0   \n",
       "2                                   0                     0           0   \n",
       "3                                   0                     0           0   \n",
       "4                                   0                     1           0   \n",
       "\n",
       "   City_Tier3  City_Unknown  A free copy of Mastering The Interview_Yes  \\\n",
       "0           0             0                                           1   \n",
       "1           0             0                                           1   \n",
       "2           0             0                                           1   \n",
       "3           0             0                                           1   \n",
       "4           0             0                                           0   \n",
       "\n",
       "   Last Notable Activity_Email Bounced  \\\n",
       "0                                    0   \n",
       "1                                    0   \n",
       "2                                    0   \n",
       "3                                    0   \n",
       "4                                    0   \n",
       "\n",
       "   Last Notable Activity_Email Link Clicked  \\\n",
       "0                                         0   \n",
       "1                                         0   \n",
       "2                                         0   \n",
       "3                                         0   \n",
       "4                                         0   \n",
       "\n",
       "   Last Notable Activity_Email Marked Spam  \\\n",
       "0                                        0   \n",
       "1                                        0   \n",
       "2                                        0   \n",
       "3                                        0   \n",
       "4                                        0   \n",
       "\n",
       "   Last Notable Activity_Email Opened  Last Notable Activity_Email Received  \\\n",
       "0                                   1                                     0   \n",
       "1                                   0                                     0   \n",
       "2                                   1                                     0   \n",
       "3                                   1                                     0   \n",
       "4                                   1                                     0   \n",
       "\n",
       "   Last Notable Activity_Form Submitted on Website  \\\n",
       "0                                                0   \n",
       "1                                                0   \n",
       "2                                                0   \n",
       "3                                                0   \n",
       "4                                                0   \n",
       "\n",
       "   Last Notable Activity_Had a Phone Conversation  \\\n",
       "0                                               0   \n",
       "1                                               0   \n",
       "2                                               0   \n",
       "3                                               0   \n",
       "4                                               0   \n",
       "\n",
       "   Last Notable Activity_Modified  \\\n",
       "0                               0   \n",
       "1                               0   \n",
       "2                               0   \n",
       "3                               0   \n",
       "4                               0   \n",
       "\n",
       "   Last Notable Activity_Olark Chat Conversation  \\\n",
       "0                                              0   \n",
       "1                                              0   \n",
       "2                                              0   \n",
       "3                                              0   \n",
       "4                                              0   \n",
       "\n",
       "   Last Notable Activity_Page Visited on Website  \\\n",
       "0                                              0   \n",
       "1                                              0   \n",
       "2                                              0   \n",
       "3                                              0   \n",
       "4                                              0   \n",
       "\n",
       "   Last Notable Activity_Resubscribed to emails  \\\n",
       "0                                             0   \n",
       "1                                             0   \n",
       "2                                             0   \n",
       "3                                             0   \n",
       "4                                             0   \n",
       "\n",
       "   Last Notable Activity_SMS Sent  Last Notable Activity_Unreachable  \\\n",
       "0                               0                                  0   \n",
       "1                               1                                  0   \n",
       "2                               0                                  0   \n",
       "3                               0                                  0   \n",
       "4                               0                                  0   \n",
       "\n",
       "   Last Notable Activity_Unsubscribed  \\\n",
       "0                                   0   \n",
       "1                                   0   \n",
       "2                                   0   \n",
       "3                                   0   \n",
       "4                                   0   \n",
       "\n",
       "   Last Notable Activity_View in browser link Clicked  \n",
       "0                                                  0   \n",
       "1                                                  0   \n",
       "2                                                  0   \n",
       "3                                                  0   \n",
       "4                                                  0   "
      ]
     },
     "execution_count": 156,
     "metadata": {
      "tags": []
     },
     "output_type": "execute_result"
    }
   ],
   "source": [
    "X_train.head()"
   ]
  },
  {
   "cell_type": "code",
   "execution_count": 157,
   "metadata": {
    "colab": {
     "base_uri": "https://localhost:8080/",
     "height": 266
    },
    "id": "f1esl9pnpWwO",
    "outputId": "2c16c553-1e47-4f31-da3c-0f522136a218"
   },
   "outputs": [
    {
     "data": {
      "text/html": [
       "<div>\n",
       "<style scoped>\n",
       "    .dataframe tbody tr th:only-of-type {\n",
       "        vertical-align: middle;\n",
       "    }\n",
       "\n",
       "    .dataframe tbody tr th {\n",
       "        vertical-align: top;\n",
       "    }\n",
       "\n",
       "    .dataframe thead th {\n",
       "        text-align: right;\n",
       "    }\n",
       "</style>\n",
       "<table border=\"1\" class=\"dataframe\">\n",
       "  <thead>\n",
       "    <tr style=\"text-align: right;\">\n",
       "      <th></th>\n",
       "      <th>Total Time Spent on Website</th>\n",
       "      <th>Asymmetrique Activity Index</th>\n",
       "      <th>Asymmetrique Profile Index</th>\n",
       "      <th>train</th>\n",
       "      <th>Lead Source_Google</th>\n",
       "      <th>Lead Source_Olark Chat</th>\n",
       "      <th>Lead Source_Organic Search</th>\n",
       "      <th>Lead Source_Other Sources</th>\n",
       "      <th>Lead Source_Reference</th>\n",
       "      <th>Do Not Email_Yes</th>\n",
       "      <th>Last Activity_Email Responded</th>\n",
       "      <th>Last Activity_Email Unsubscribed</th>\n",
       "      <th>Last Activity_Olark Chat Conversation</th>\n",
       "      <th>Last Activity_Page Visited on Website</th>\n",
       "      <th>Last Activity_SMS Reverted</th>\n",
       "      <th>Country_other_country</th>\n",
       "      <th>Country_unknown</th>\n",
       "      <th>Specialization_Finance</th>\n",
       "      <th>Specialization_HR</th>\n",
       "      <th>Specialization_Healthcare</th>\n",
       "      <th>Specialization_IT Projects</th>\n",
       "      <th>Specialization_International Business</th>\n",
       "      <th>Specialization_Logistics</th>\n",
       "      <th>Specialization_Marketing</th>\n",
       "      <th>Specialization_Rural and Agribusiness</th>\n",
       "      <th>Specialization_Tourism</th>\n",
       "      <th>Specialization_unknown</th>\n",
       "      <th>How did you hear about X Education_Email</th>\n",
       "      <th>How did you hear about X Education_Multiple Sources</th>\n",
       "      <th>How did you hear about X Education_Online Search</th>\n",
       "      <th>How did you hear about X Education_Other</th>\n",
       "      <th>How did you hear about X Education_SMS</th>\n",
       "      <th>How did you hear about X Education_Social Media</th>\n",
       "      <th>How did you hear about X Education_Student of SomeSchool</th>\n",
       "      <th>How did you hear about X Education_Word Of Mouth</th>\n",
       "      <th>How did you hear about X Education_unknown</th>\n",
       "      <th>What is your current occupation_Others</th>\n",
       "      <th>What is your current occupation_Student</th>\n",
       "      <th>What is your current occupation_Unemployed</th>\n",
       "      <th>What is your current occupation_Working Professional</th>\n",
       "      <th>What matters most to you in choosing a course_Others</th>\n",
       "      <th>Tags_Graduation in progress</th>\n",
       "      <th>Tags_Lost to Others</th>\n",
       "      <th>Tags_Not Eligible</th>\n",
       "      <th>Tags_Not Reachable</th>\n",
       "      <th>Tags_Response Received</th>\n",
       "      <th>Tags_Status Unknown</th>\n",
       "      <th>Lead Quality_Low in Relevance</th>\n",
       "      <th>Lead Quality_Might be</th>\n",
       "      <th>Lead Quality_Not Sure</th>\n",
       "      <th>Lead Quality_Worst</th>\n",
       "      <th>Lead Profile_Lateral Student</th>\n",
       "      <th>Lead Profile_Other Leads</th>\n",
       "      <th>Lead Profile_Potential Lead</th>\n",
       "      <th>Lead Profile_Student of SomeSchool</th>\n",
       "      <th>Lead Profile_Unknown</th>\n",
       "      <th>City_Tier2</th>\n",
       "      <th>City_Tier3</th>\n",
       "      <th>City_Unknown</th>\n",
       "      <th>A free copy of Mastering The Interview_Yes</th>\n",
       "      <th>Last Notable Activity_Email Bounced</th>\n",
       "      <th>Last Notable Activity_Email Link Clicked</th>\n",
       "      <th>Last Notable Activity_Email Marked Spam</th>\n",
       "      <th>Last Notable Activity_Email Opened</th>\n",
       "      <th>Last Notable Activity_Email Received</th>\n",
       "      <th>Last Notable Activity_Form Submitted on Website</th>\n",
       "      <th>Last Notable Activity_Had a Phone Conversation</th>\n",
       "      <th>Last Notable Activity_Modified</th>\n",
       "      <th>Last Notable Activity_Olark Chat Conversation</th>\n",
       "      <th>Last Notable Activity_Page Visited on Website</th>\n",
       "      <th>Last Notable Activity_Resubscribed to emails</th>\n",
       "      <th>Last Notable Activity_SMS Sent</th>\n",
       "      <th>Last Notable Activity_Unreachable</th>\n",
       "      <th>Last Notable Activity_Unsubscribed</th>\n",
       "      <th>Last Notable Activity_View in browser link Clicked</th>\n",
       "    </tr>\n",
       "  </thead>\n",
       "  <tbody>\n",
       "    <tr>\n",
       "      <th>0</th>\n",
       "      <td>18.220867</td>\n",
       "      <td>2</td>\n",
       "      <td>2</td>\n",
       "      <td>0</td>\n",
       "      <td>1</td>\n",
       "      <td>0</td>\n",
       "      <td>0</td>\n",
       "      <td>0</td>\n",
       "      <td>0</td>\n",
       "      <td>0</td>\n",
       "      <td>1</td>\n",
       "      <td>0</td>\n",
       "      <td>0</td>\n",
       "      <td>0</td>\n",
       "      <td>0</td>\n",
       "      <td>0</td>\n",
       "      <td>0</td>\n",
       "      <td>0</td>\n",
       "      <td>0</td>\n",
       "      <td>0</td>\n",
       "      <td>1</td>\n",
       "      <td>0</td>\n",
       "      <td>0</td>\n",
       "      <td>0</td>\n",
       "      <td>0</td>\n",
       "      <td>0</td>\n",
       "      <td>0</td>\n",
       "      <td>0</td>\n",
       "      <td>1</td>\n",
       "      <td>0</td>\n",
       "      <td>0</td>\n",
       "      <td>0</td>\n",
       "      <td>0</td>\n",
       "      <td>0</td>\n",
       "      <td>0</td>\n",
       "      <td>0</td>\n",
       "      <td>0</td>\n",
       "      <td>0</td>\n",
       "      <td>1</td>\n",
       "      <td>0</td>\n",
       "      <td>0</td>\n",
       "      <td>0</td>\n",
       "      <td>0</td>\n",
       "      <td>0</td>\n",
       "      <td>1</td>\n",
       "      <td>0</td>\n",
       "      <td>0</td>\n",
       "      <td>0</td>\n",
       "      <td>0</td>\n",
       "      <td>1</td>\n",
       "      <td>0</td>\n",
       "      <td>0</td>\n",
       "      <td>0</td>\n",
       "      <td>0</td>\n",
       "      <td>0</td>\n",
       "      <td>1</td>\n",
       "      <td>0</td>\n",
       "      <td>0</td>\n",
       "      <td>0</td>\n",
       "      <td>0</td>\n",
       "      <td>0</td>\n",
       "      <td>0</td>\n",
       "      <td>0</td>\n",
       "      <td>1</td>\n",
       "      <td>0</td>\n",
       "      <td>0</td>\n",
       "      <td>0</td>\n",
       "      <td>0</td>\n",
       "      <td>0</td>\n",
       "      <td>0</td>\n",
       "      <td>0</td>\n",
       "      <td>0</td>\n",
       "      <td>0</td>\n",
       "      <td>0</td>\n",
       "      <td>0</td>\n",
       "    </tr>\n",
       "    <tr>\n",
       "      <th>1</th>\n",
       "      <td>39.395431</td>\n",
       "      <td>2</td>\n",
       "      <td>3</td>\n",
       "      <td>0</td>\n",
       "      <td>1</td>\n",
       "      <td>0</td>\n",
       "      <td>0</td>\n",
       "      <td>0</td>\n",
       "      <td>0</td>\n",
       "      <td>0</td>\n",
       "      <td>0</td>\n",
       "      <td>0</td>\n",
       "      <td>0</td>\n",
       "      <td>0</td>\n",
       "      <td>0</td>\n",
       "      <td>0</td>\n",
       "      <td>0</td>\n",
       "      <td>0</td>\n",
       "      <td>0</td>\n",
       "      <td>0</td>\n",
       "      <td>0</td>\n",
       "      <td>0</td>\n",
       "      <td>0</td>\n",
       "      <td>1</td>\n",
       "      <td>0</td>\n",
       "      <td>0</td>\n",
       "      <td>0</td>\n",
       "      <td>0</td>\n",
       "      <td>0</td>\n",
       "      <td>0</td>\n",
       "      <td>1</td>\n",
       "      <td>0</td>\n",
       "      <td>0</td>\n",
       "      <td>0</td>\n",
       "      <td>0</td>\n",
       "      <td>0</td>\n",
       "      <td>0</td>\n",
       "      <td>0</td>\n",
       "      <td>1</td>\n",
       "      <td>0</td>\n",
       "      <td>0</td>\n",
       "      <td>0</td>\n",
       "      <td>1</td>\n",
       "      <td>0</td>\n",
       "      <td>0</td>\n",
       "      <td>0</td>\n",
       "      <td>0</td>\n",
       "      <td>0</td>\n",
       "      <td>0</td>\n",
       "      <td>1</td>\n",
       "      <td>0</td>\n",
       "      <td>0</td>\n",
       "      <td>1</td>\n",
       "      <td>0</td>\n",
       "      <td>0</td>\n",
       "      <td>0</td>\n",
       "      <td>0</td>\n",
       "      <td>0</td>\n",
       "      <td>0</td>\n",
       "      <td>0</td>\n",
       "      <td>0</td>\n",
       "      <td>0</td>\n",
       "      <td>0</td>\n",
       "      <td>0</td>\n",
       "      <td>0</td>\n",
       "      <td>0</td>\n",
       "      <td>0</td>\n",
       "      <td>1</td>\n",
       "      <td>0</td>\n",
       "      <td>0</td>\n",
       "      <td>0</td>\n",
       "      <td>0</td>\n",
       "      <td>0</td>\n",
       "      <td>0</td>\n",
       "      <td>0</td>\n",
       "    </tr>\n",
       "    <tr>\n",
       "      <th>2</th>\n",
       "      <td>36.660606</td>\n",
       "      <td>2</td>\n",
       "      <td>1</td>\n",
       "      <td>0</td>\n",
       "      <td>1</td>\n",
       "      <td>0</td>\n",
       "      <td>0</td>\n",
       "      <td>0</td>\n",
       "      <td>0</td>\n",
       "      <td>0</td>\n",
       "      <td>1</td>\n",
       "      <td>0</td>\n",
       "      <td>0</td>\n",
       "      <td>0</td>\n",
       "      <td>0</td>\n",
       "      <td>0</td>\n",
       "      <td>0</td>\n",
       "      <td>0</td>\n",
       "      <td>0</td>\n",
       "      <td>0</td>\n",
       "      <td>0</td>\n",
       "      <td>0</td>\n",
       "      <td>0</td>\n",
       "      <td>0</td>\n",
       "      <td>0</td>\n",
       "      <td>1</td>\n",
       "      <td>0</td>\n",
       "      <td>0</td>\n",
       "      <td>0</td>\n",
       "      <td>0</td>\n",
       "      <td>0</td>\n",
       "      <td>0</td>\n",
       "      <td>0</td>\n",
       "      <td>0</td>\n",
       "      <td>0</td>\n",
       "      <td>1</td>\n",
       "      <td>0</td>\n",
       "      <td>0</td>\n",
       "      <td>1</td>\n",
       "      <td>0</td>\n",
       "      <td>0</td>\n",
       "      <td>0</td>\n",
       "      <td>0</td>\n",
       "      <td>0</td>\n",
       "      <td>0</td>\n",
       "      <td>1</td>\n",
       "      <td>0</td>\n",
       "      <td>0</td>\n",
       "      <td>0</td>\n",
       "      <td>1</td>\n",
       "      <td>0</td>\n",
       "      <td>0</td>\n",
       "      <td>0</td>\n",
       "      <td>0</td>\n",
       "      <td>0</td>\n",
       "      <td>1</td>\n",
       "      <td>0</td>\n",
       "      <td>0</td>\n",
       "      <td>1</td>\n",
       "      <td>0</td>\n",
       "      <td>0</td>\n",
       "      <td>0</td>\n",
       "      <td>0</td>\n",
       "      <td>1</td>\n",
       "      <td>0</td>\n",
       "      <td>0</td>\n",
       "      <td>0</td>\n",
       "      <td>0</td>\n",
       "      <td>0</td>\n",
       "      <td>0</td>\n",
       "      <td>0</td>\n",
       "      <td>0</td>\n",
       "      <td>0</td>\n",
       "      <td>0</td>\n",
       "      <td>0</td>\n",
       "    </tr>\n",
       "    <tr>\n",
       "      <th>3</th>\n",
       "      <td>13.674794</td>\n",
       "      <td>2</td>\n",
       "      <td>2</td>\n",
       "      <td>0</td>\n",
       "      <td>1</td>\n",
       "      <td>0</td>\n",
       "      <td>0</td>\n",
       "      <td>0</td>\n",
       "      <td>0</td>\n",
       "      <td>0</td>\n",
       "      <td>1</td>\n",
       "      <td>0</td>\n",
       "      <td>0</td>\n",
       "      <td>0</td>\n",
       "      <td>0</td>\n",
       "      <td>0</td>\n",
       "      <td>0</td>\n",
       "      <td>1</td>\n",
       "      <td>0</td>\n",
       "      <td>0</td>\n",
       "      <td>0</td>\n",
       "      <td>0</td>\n",
       "      <td>0</td>\n",
       "      <td>0</td>\n",
       "      <td>0</td>\n",
       "      <td>0</td>\n",
       "      <td>0</td>\n",
       "      <td>0</td>\n",
       "      <td>0</td>\n",
       "      <td>1</td>\n",
       "      <td>0</td>\n",
       "      <td>0</td>\n",
       "      <td>0</td>\n",
       "      <td>0</td>\n",
       "      <td>0</td>\n",
       "      <td>0</td>\n",
       "      <td>0</td>\n",
       "      <td>0</td>\n",
       "      <td>1</td>\n",
       "      <td>0</td>\n",
       "      <td>0</td>\n",
       "      <td>0</td>\n",
       "      <td>0</td>\n",
       "      <td>0</td>\n",
       "      <td>0</td>\n",
       "      <td>0</td>\n",
       "      <td>1</td>\n",
       "      <td>0</td>\n",
       "      <td>0</td>\n",
       "      <td>1</td>\n",
       "      <td>0</td>\n",
       "      <td>0</td>\n",
       "      <td>0</td>\n",
       "      <td>0</td>\n",
       "      <td>0</td>\n",
       "      <td>1</td>\n",
       "      <td>1</td>\n",
       "      <td>0</td>\n",
       "      <td>0</td>\n",
       "      <td>0</td>\n",
       "      <td>0</td>\n",
       "      <td>0</td>\n",
       "      <td>0</td>\n",
       "      <td>1</td>\n",
       "      <td>0</td>\n",
       "      <td>0</td>\n",
       "      <td>0</td>\n",
       "      <td>0</td>\n",
       "      <td>0</td>\n",
       "      <td>0</td>\n",
       "      <td>0</td>\n",
       "      <td>0</td>\n",
       "      <td>0</td>\n",
       "      <td>0</td>\n",
       "      <td>0</td>\n",
       "    </tr>\n",
       "    <tr>\n",
       "      <th>4</th>\n",
       "      <td>26.495283</td>\n",
       "      <td>2</td>\n",
       "      <td>3</td>\n",
       "      <td>0</td>\n",
       "      <td>1</td>\n",
       "      <td>0</td>\n",
       "      <td>0</td>\n",
       "      <td>0</td>\n",
       "      <td>0</td>\n",
       "      <td>0</td>\n",
       "      <td>1</td>\n",
       "      <td>0</td>\n",
       "      <td>0</td>\n",
       "      <td>0</td>\n",
       "      <td>0</td>\n",
       "      <td>0</td>\n",
       "      <td>0</td>\n",
       "      <td>0</td>\n",
       "      <td>0</td>\n",
       "      <td>0</td>\n",
       "      <td>0</td>\n",
       "      <td>0</td>\n",
       "      <td>0</td>\n",
       "      <td>1</td>\n",
       "      <td>0</td>\n",
       "      <td>0</td>\n",
       "      <td>0</td>\n",
       "      <td>0</td>\n",
       "      <td>0</td>\n",
       "      <td>0</td>\n",
       "      <td>0</td>\n",
       "      <td>0</td>\n",
       "      <td>1</td>\n",
       "      <td>0</td>\n",
       "      <td>0</td>\n",
       "      <td>0</td>\n",
       "      <td>0</td>\n",
       "      <td>0</td>\n",
       "      <td>1</td>\n",
       "      <td>0</td>\n",
       "      <td>0</td>\n",
       "      <td>0</td>\n",
       "      <td>0</td>\n",
       "      <td>0</td>\n",
       "      <td>0</td>\n",
       "      <td>1</td>\n",
       "      <td>0</td>\n",
       "      <td>0</td>\n",
       "      <td>0</td>\n",
       "      <td>1</td>\n",
       "      <td>0</td>\n",
       "      <td>0</td>\n",
       "      <td>0</td>\n",
       "      <td>0</td>\n",
       "      <td>0</td>\n",
       "      <td>1</td>\n",
       "      <td>0</td>\n",
       "      <td>1</td>\n",
       "      <td>0</td>\n",
       "      <td>0</td>\n",
       "      <td>0</td>\n",
       "      <td>0</td>\n",
       "      <td>0</td>\n",
       "      <td>1</td>\n",
       "      <td>0</td>\n",
       "      <td>0</td>\n",
       "      <td>0</td>\n",
       "      <td>0</td>\n",
       "      <td>0</td>\n",
       "      <td>0</td>\n",
       "      <td>0</td>\n",
       "      <td>0</td>\n",
       "      <td>0</td>\n",
       "      <td>0</td>\n",
       "      <td>0</td>\n",
       "    </tr>\n",
       "  </tbody>\n",
       "</table>\n",
       "</div>"
      ],
      "text/plain": [
       "   Total Time Spent on Website  Asymmetrique Activity Index  \\\n",
       "0                    18.220867                            2   \n",
       "1                    39.395431                            2   \n",
       "2                    36.660606                            2   \n",
       "3                    13.674794                            2   \n",
       "4                    26.495283                            2   \n",
       "\n",
       "   Asymmetrique Profile Index  train  Lead Source_Google  \\\n",
       "0                           2      0                   1   \n",
       "1                           3      0                   1   \n",
       "2                           1      0                   1   \n",
       "3                           2      0                   1   \n",
       "4                           3      0                   1   \n",
       "\n",
       "   Lead Source_Olark Chat  Lead Source_Organic Search  \\\n",
       "0                       0                           0   \n",
       "1                       0                           0   \n",
       "2                       0                           0   \n",
       "3                       0                           0   \n",
       "4                       0                           0   \n",
       "\n",
       "   Lead Source_Other Sources  Lead Source_Reference  Do Not Email_Yes  \\\n",
       "0                          0                      0                 0   \n",
       "1                          0                      0                 0   \n",
       "2                          0                      0                 0   \n",
       "3                          0                      0                 0   \n",
       "4                          0                      0                 0   \n",
       "\n",
       "   Last Activity_Email Responded  Last Activity_Email Unsubscribed  \\\n",
       "0                              1                                 0   \n",
       "1                              0                                 0   \n",
       "2                              1                                 0   \n",
       "3                              1                                 0   \n",
       "4                              1                                 0   \n",
       "\n",
       "   Last Activity_Olark Chat Conversation  \\\n",
       "0                                      0   \n",
       "1                                      0   \n",
       "2                                      0   \n",
       "3                                      0   \n",
       "4                                      0   \n",
       "\n",
       "   Last Activity_Page Visited on Website  Last Activity_SMS Reverted  \\\n",
       "0                                      0                           0   \n",
       "1                                      0                           0   \n",
       "2                                      0                           0   \n",
       "3                                      0                           0   \n",
       "4                                      0                           0   \n",
       "\n",
       "   Country_other_country  Country_unknown  Specialization_Finance  \\\n",
       "0                      0                0                       0   \n",
       "1                      0                0                       0   \n",
       "2                      0                0                       0   \n",
       "3                      0                0                       1   \n",
       "4                      0                0                       0   \n",
       "\n",
       "   Specialization_HR  Specialization_Healthcare  Specialization_IT Projects  \\\n",
       "0                  0                          0                           1   \n",
       "1                  0                          0                           0   \n",
       "2                  0                          0                           0   \n",
       "3                  0                          0                           0   \n",
       "4                  0                          0                           0   \n",
       "\n",
       "   Specialization_International Business  Specialization_Logistics  \\\n",
       "0                                      0                         0   \n",
       "1                                      0                         0   \n",
       "2                                      0                         0   \n",
       "3                                      0                         0   \n",
       "4                                      0                         0   \n",
       "\n",
       "   Specialization_Marketing  Specialization_Rural and Agribusiness  \\\n",
       "0                         0                                      0   \n",
       "1                         1                                      0   \n",
       "2                         0                                      0   \n",
       "3                         0                                      0   \n",
       "4                         1                                      0   \n",
       "\n",
       "   Specialization_Tourism  Specialization_unknown  \\\n",
       "0                       0                       0   \n",
       "1                       0                       0   \n",
       "2                       1                       0   \n",
       "3                       0                       0   \n",
       "4                       0                       0   \n",
       "\n",
       "   How did you hear about X Education_Email  \\\n",
       "0                                         0   \n",
       "1                                         0   \n",
       "2                                         0   \n",
       "3                                         0   \n",
       "4                                         0   \n",
       "\n",
       "   How did you hear about X Education_Multiple Sources  \\\n",
       "0                                                  1     \n",
       "1                                                  0     \n",
       "2                                                  0     \n",
       "3                                                  0     \n",
       "4                                                  0     \n",
       "\n",
       "   How did you hear about X Education_Online Search  \\\n",
       "0                                                 0   \n",
       "1                                                 0   \n",
       "2                                                 0   \n",
       "3                                                 1   \n",
       "4                                                 0   \n",
       "\n",
       "   How did you hear about X Education_Other  \\\n",
       "0                                         0   \n",
       "1                                         1   \n",
       "2                                         0   \n",
       "3                                         0   \n",
       "4                                         0   \n",
       "\n",
       "   How did you hear about X Education_SMS  \\\n",
       "0                                       0   \n",
       "1                                       0   \n",
       "2                                       0   \n",
       "3                                       0   \n",
       "4                                       0   \n",
       "\n",
       "   How did you hear about X Education_Social Media  \\\n",
       "0                                                0   \n",
       "1                                                0   \n",
       "2                                                0   \n",
       "3                                                0   \n",
       "4                                                1   \n",
       "\n",
       "   How did you hear about X Education_Student of SomeSchool  \\\n",
       "0                                                  0          \n",
       "1                                                  0          \n",
       "2                                                  0          \n",
       "3                                                  0          \n",
       "4                                                  0          \n",
       "\n",
       "   How did you hear about X Education_Word Of Mouth  \\\n",
       "0                                                 0   \n",
       "1                                                 0   \n",
       "2                                                 0   \n",
       "3                                                 0   \n",
       "4                                                 0   \n",
       "\n",
       "   How did you hear about X Education_unknown  \\\n",
       "0                                           0   \n",
       "1                                           0   \n",
       "2                                           1   \n",
       "3                                           0   \n",
       "4                                           0   \n",
       "\n",
       "   What is your current occupation_Others  \\\n",
       "0                                       0   \n",
       "1                                       0   \n",
       "2                                       0   \n",
       "3                                       0   \n",
       "4                                       0   \n",
       "\n",
       "   What is your current occupation_Student  \\\n",
       "0                                        0   \n",
       "1                                        0   \n",
       "2                                        0   \n",
       "3                                        0   \n",
       "4                                        0   \n",
       "\n",
       "   What is your current occupation_Unemployed  \\\n",
       "0                                           1   \n",
       "1                                           1   \n",
       "2                                           1   \n",
       "3                                           1   \n",
       "4                                           1   \n",
       "\n",
       "   What is your current occupation_Working Professional  \\\n",
       "0                                                  0      \n",
       "1                                                  0      \n",
       "2                                                  0      \n",
       "3                                                  0      \n",
       "4                                                  0      \n",
       "\n",
       "   What matters most to you in choosing a course_Others  \\\n",
       "0                                                  0      \n",
       "1                                                  0      \n",
       "2                                                  0      \n",
       "3                                                  0      \n",
       "4                                                  0      \n",
       "\n",
       "   Tags_Graduation in progress  Tags_Lost to Others  Tags_Not Eligible  \\\n",
       "0                            0                    0                  0   \n",
       "1                            0                    1                  0   \n",
       "2                            0                    0                  0   \n",
       "3                            0                    0                  0   \n",
       "4                            0                    0                  0   \n",
       "\n",
       "   Tags_Not Reachable  Tags_Response Received  Tags_Status Unknown  \\\n",
       "0                   1                       0                    0   \n",
       "1                   0                       0                    0   \n",
       "2                   0                       1                    0   \n",
       "3                   0                       0                    1   \n",
       "4                   0                       1                    0   \n",
       "\n",
       "   Lead Quality_Low in Relevance  Lead Quality_Might be  \\\n",
       "0                              0                      0   \n",
       "1                              0                      0   \n",
       "2                              0                      0   \n",
       "3                              0                      0   \n",
       "4                              0                      0   \n",
       "\n",
       "   Lead Quality_Not Sure  Lead Quality_Worst  Lead Profile_Lateral Student  \\\n",
       "0                      1                   0                             0   \n",
       "1                      1                   0                             0   \n",
       "2                      1                   0                             0   \n",
       "3                      1                   0                             0   \n",
       "4                      1                   0                             0   \n",
       "\n",
       "   Lead Profile_Other Leads  Lead Profile_Potential Lead  \\\n",
       "0                         0                            0   \n",
       "1                         1                            0   \n",
       "2                         0                            0   \n",
       "3                         0                            0   \n",
       "4                         0                            0   \n",
       "\n",
       "   Lead Profile_Student of SomeSchool  Lead Profile_Unknown  City_Tier2  \\\n",
       "0                                   0                     1           0   \n",
       "1                                   0                     0           0   \n",
       "2                                   0                     1           0   \n",
       "3                                   0                     1           1   \n",
       "4                                   0                     1           0   \n",
       "\n",
       "   City_Tier3  City_Unknown  A free copy of Mastering The Interview_Yes  \\\n",
       "0           0             0                                           0   \n",
       "1           0             0                                           0   \n",
       "2           0             1                                           0   \n",
       "3           0             0                                           0   \n",
       "4           1             0                                           0   \n",
       "\n",
       "   Last Notable Activity_Email Bounced  \\\n",
       "0                                    0   \n",
       "1                                    0   \n",
       "2                                    0   \n",
       "3                                    0   \n",
       "4                                    0   \n",
       "\n",
       "   Last Notable Activity_Email Link Clicked  \\\n",
       "0                                         0   \n",
       "1                                         0   \n",
       "2                                         0   \n",
       "3                                         0   \n",
       "4                                         0   \n",
       "\n",
       "   Last Notable Activity_Email Marked Spam  \\\n",
       "0                                        0   \n",
       "1                                        0   \n",
       "2                                        0   \n",
       "3                                        0   \n",
       "4                                        0   \n",
       "\n",
       "   Last Notable Activity_Email Opened  Last Notable Activity_Email Received  \\\n",
       "0                                   1                                     0   \n",
       "1                                   0                                     0   \n",
       "2                                   1                                     0   \n",
       "3                                   1                                     0   \n",
       "4                                   1                                     0   \n",
       "\n",
       "   Last Notable Activity_Form Submitted on Website  \\\n",
       "0                                                0   \n",
       "1                                                0   \n",
       "2                                                0   \n",
       "3                                                0   \n",
       "4                                                0   \n",
       "\n",
       "   Last Notable Activity_Had a Phone Conversation  \\\n",
       "0                                               0   \n",
       "1                                               0   \n",
       "2                                               0   \n",
       "3                                               0   \n",
       "4                                               0   \n",
       "\n",
       "   Last Notable Activity_Modified  \\\n",
       "0                               0   \n",
       "1                               1   \n",
       "2                               0   \n",
       "3                               0   \n",
       "4                               0   \n",
       "\n",
       "   Last Notable Activity_Olark Chat Conversation  \\\n",
       "0                                              0   \n",
       "1                                              0   \n",
       "2                                              0   \n",
       "3                                              0   \n",
       "4                                              0   \n",
       "\n",
       "   Last Notable Activity_Page Visited on Website  \\\n",
       "0                                              0   \n",
       "1                                              0   \n",
       "2                                              0   \n",
       "3                                              0   \n",
       "4                                              0   \n",
       "\n",
       "   Last Notable Activity_Resubscribed to emails  \\\n",
       "0                                             0   \n",
       "1                                             0   \n",
       "2                                             0   \n",
       "3                                             0   \n",
       "4                                             0   \n",
       "\n",
       "   Last Notable Activity_SMS Sent  Last Notable Activity_Unreachable  \\\n",
       "0                               0                                  0   \n",
       "1                               0                                  0   \n",
       "2                               0                                  0   \n",
       "3                               0                                  0   \n",
       "4                               0                                  0   \n",
       "\n",
       "   Last Notable Activity_Unsubscribed  \\\n",
       "0                                   0   \n",
       "1                                   0   \n",
       "2                                   0   \n",
       "3                                   0   \n",
       "4                                   0   \n",
       "\n",
       "   Last Notable Activity_View in browser link Clicked  \n",
       "0                                                  0   \n",
       "1                                                  0   \n",
       "2                                                  0   \n",
       "3                                                  0   \n",
       "4                                                  0   "
      ]
     },
     "execution_count": 157,
     "metadata": {
      "tags": []
     },
     "output_type": "execute_result"
    }
   ],
   "source": [
    "X_test.head()"
   ]
  },
  {
   "cell_type": "code",
   "execution_count": 158,
   "metadata": {
    "colab": {
     "base_uri": "https://localhost:8080/"
    },
    "id": "hDrBjQISpWwP",
    "outputId": "db929c53-71e2-4daf-ddde-497efcc78311"
   },
   "outputs": [
    {
     "data": {
      "text/plain": [
       "(6468, 75)"
      ]
     },
     "execution_count": 158,
     "metadata": {
      "tags": []
     },
     "output_type": "execute_result"
    }
   ],
   "source": [
    "X_train.shape"
   ]
  },
  {
   "cell_type": "code",
   "execution_count": 159,
   "metadata": {
    "colab": {
     "base_uri": "https://localhost:8080/"
    },
    "id": "CG1zZZCvpWwP",
    "outputId": "cdb162f8-f0ef-41cc-928e-f86fe640ca78"
   },
   "outputs": [
    {
     "data": {
      "text/plain": [
       "(2772, 75)"
      ]
     },
     "execution_count": 159,
     "metadata": {
      "tags": []
     },
     "output_type": "execute_result"
    }
   ],
   "source": [
    "X_test.shape"
   ]
  },
  {
   "cell_type": "code",
   "execution_count": 160,
   "metadata": {
    "colab": {
     "base_uri": "https://localhost:8080/"
    },
    "id": "DConiTsbpWwP",
    "outputId": "0a269e46-0fe9-46ba-899f-5cb21b79171c"
   },
   "outputs": [
    {
     "data": {
      "text/plain": [
       "(9240, 75)"
      ]
     },
     "execution_count": 160,
     "metadata": {
      "tags": []
     },
     "output_type": "execute_result"
    }
   ],
   "source": [
    "X.shape"
   ]
  },
  {
   "cell_type": "code",
   "execution_count": 161,
   "metadata": {
    "id": "XmV3o-edpWwP"
   },
   "outputs": [],
   "source": [
    "X_train=X_train.drop('train',axis=1)"
   ]
  },
  {
   "cell_type": "code",
   "execution_count": 162,
   "metadata": {
    "id": "8ZlAoePspWwQ"
   },
   "outputs": [],
   "source": [
    "X_test=X_test.drop('train',axis=1)"
   ]
  },
  {
   "cell_type": "code",
   "execution_count": 163,
   "metadata": {
    "colab": {
     "base_uri": "https://localhost:8080/"
    },
    "id": "12xTxdINpWwQ",
    "outputId": "0a675925-73c8-476c-fa6c-c711a85ff642"
   },
   "outputs": [
    {
     "data": {
      "text/plain": [
       "(6468, 74)"
      ]
     },
     "execution_count": 163,
     "metadata": {
      "tags": []
     },
     "output_type": "execute_result"
    }
   ],
   "source": [
    "X_train.shape"
   ]
  },
  {
   "cell_type": "code",
   "execution_count": 164,
   "metadata": {
    "colab": {
     "base_uri": "https://localhost:8080/"
    },
    "id": "bmfqMoQnpWwQ",
    "outputId": "62f1b722-971b-4fb3-8216-501edcb9ec2a"
   },
   "outputs": [
    {
     "data": {
      "text/plain": [
       "(2772, 74)"
      ]
     },
     "execution_count": 164,
     "metadata": {
      "tags": []
     },
     "output_type": "execute_result"
    }
   ],
   "source": [
    "X_test.shape"
   ]
  },
  {
   "cell_type": "code",
   "execution_count": 164,
   "metadata": {
    "id": "ENMij2qApWwQ"
   },
   "outputs": [],
   "source": []
  },
  {
   "cell_type": "code",
   "execution_count": 165,
   "metadata": {
    "id": "SA0ao_SepWwQ"
   },
   "outputs": [],
   "source": [
    "# applying RFECV for feature selection"
   ]
  },
  {
   "cell_type": "code",
   "execution_count": 166,
   "metadata": {
    "id": "Vz_HYw9apWwR"
   },
   "outputs": [],
   "source": [
    "from sklearn.feature_selection import RFECV"
   ]
  },
  {
   "cell_type": "code",
   "execution_count": 167,
   "metadata": {
    "id": "Eyo-s97XpWwR"
   },
   "outputs": [],
   "source": [
    "from sklearn.linear_model import LogisticRegression\n",
    "model=LogisticRegression()"
   ]
  },
  {
   "cell_type": "code",
   "execution_count": 168,
   "metadata": {
    "id": "ux-ZUMKfpWwR"
   },
   "outputs": [],
   "source": [
    "from sklearn import metrics"
   ]
  },
  {
   "cell_type": "code",
   "execution_count": 169,
   "metadata": {
    "colab": {
     "base_uri": "https://localhost:8080/"
    },
    "id": "4kG6WJf-pWwR",
    "outputId": "4f785191-f53a-4533-a2d4-29c61af989a5"
   },
   "outputs": [
    {
     "data": {
      "text/plain": [
       "dict_keys(['explained_variance', 'r2', 'max_error', 'neg_median_absolute_error', 'neg_mean_absolute_error', 'neg_mean_squared_error', 'neg_mean_squared_log_error', 'neg_root_mean_squared_error', 'neg_mean_poisson_deviance', 'neg_mean_gamma_deviance', 'accuracy', 'roc_auc', 'roc_auc_ovr', 'roc_auc_ovo', 'roc_auc_ovr_weighted', 'roc_auc_ovo_weighted', 'balanced_accuracy', 'average_precision', 'neg_log_loss', 'neg_brier_score', 'adjusted_rand_score', 'homogeneity_score', 'completeness_score', 'v_measure_score', 'mutual_info_score', 'adjusted_mutual_info_score', 'normalized_mutual_info_score', 'fowlkes_mallows_score', 'precision', 'precision_macro', 'precision_micro', 'precision_samples', 'precision_weighted', 'recall', 'recall_macro', 'recall_micro', 'recall_samples', 'recall_weighted', 'f1', 'f1_macro', 'f1_micro', 'f1_samples', 'f1_weighted', 'jaccard', 'jaccard_macro', 'jaccard_micro', 'jaccard_samples', 'jaccard_weighted'])"
      ]
     },
     "execution_count": 169,
     "metadata": {
      "tags": []
     },
     "output_type": "execute_result"
    }
   ],
   "source": [
    "metrics.SCORERS.keys()"
   ]
  },
  {
   "cell_type": "code",
   "execution_count": 170,
   "metadata": {
    "colab": {
     "base_uri": "https://localhost:8080/"
    },
    "id": "p8fEo2uYpWwR",
    "outputId": "2bde81d2-d2e3-4889-855a-47656af6acef"
   },
   "outputs": [
    {
     "data": {
      "text/plain": [
       "RFECV(cv=10,\n",
       "      estimator=LogisticRegression(C=1.0, class_weight=None, dual=False,\n",
       "                                   fit_intercept=True, intercept_scaling=1,\n",
       "                                   l1_ratio=None, max_iter=100,\n",
       "                                   multi_class='auto', n_jobs=None,\n",
       "                                   penalty='l2', random_state=None,\n",
       "                                   solver='lbfgs', tol=0.0001, verbose=0,\n",
       "                                   warm_start=False),\n",
       "      min_features_to_select=1, n_jobs=None, scoring='roc_auc', step=1,\n",
       "      verbose=0)"
      ]
     },
     "execution_count": 170,
     "metadata": {
      "tags": []
     },
     "output_type": "execute_result"
    }
   ],
   "source": [
    "\n",
    "rfecv=RFECV(model,cv=10,scoring='roc_auc')\n",
    "rfecv.fit(X_train,y_train)"
   ]
  },
  {
   "cell_type": "code",
   "execution_count": 171,
   "metadata": {
    "colab": {
     "base_uri": "https://localhost:8080/"
    },
    "id": "jtQagyORpWwS",
    "outputId": "353e0b39-4be5-4664-f6c8-31109c0f2784"
   },
   "outputs": [
    {
     "data": {
      "text/plain": [
       "array([0.54799396, 0.56828303, 0.69402523, 0.69728136, 0.8652359 ,\n",
       "       0.90702142, 0.92269239, 0.92767881, 0.93109806, 0.93352338,\n",
       "       0.93510932, 0.93601212, 0.93788608, 0.93842624, 0.93922629,\n",
       "       0.93878066, 0.93991545, 0.94122233, 0.94087346, 0.9415762 ,\n",
       "       0.94145645, 0.94182979, 0.94186631, 0.94197274, 0.94195113,\n",
       "       0.94199082, 0.94214747, 0.94234451, 0.94279536, 0.94272434,\n",
       "       0.94260253, 0.94255002, 0.94266539, 0.942772  , 0.94271346,\n",
       "       0.94280166, 0.94262674, 0.94263803, 0.9427095 , 0.94271209,\n",
       "       0.94278147, 0.94265865, 0.94255093, 0.94260938, 0.9426053 ,\n",
       "       0.94269683, 0.94270924, 0.9426855 , 0.9426452 , 0.94262557,\n",
       "       0.94264717, 0.94253398, 0.94491001, 0.94489504, 0.94768011,\n",
       "       0.95151811, 0.95230326, 0.95235194, 0.95364062, 0.95636935,\n",
       "       0.95645643, 0.9565399 , 0.95659546, 0.95658976, 0.95659911,\n",
       "       0.95676124, 0.95667863, 0.9566705 , 0.95661817, 0.95661705,\n",
       "       0.95658503, 0.95650567, 0.95656705, 0.95665142])"
      ]
     },
     "execution_count": 171,
     "metadata": {
      "tags": []
     },
     "output_type": "execute_result"
    }
   ],
   "source": [
    "rfecv.grid_scores_"
   ]
  },
  {
   "cell_type": "code",
   "execution_count": 172,
   "metadata": {
    "colab": {
     "base_uri": "https://localhost:8080/",
     "height": 297
    },
    "id": "UNrpOFgdpWwS",
    "outputId": "ad8bb1ec-ce3f-499d-d332-1c70d72df5ea"
   },
   "outputs": [
    {
     "data": {
      "text/plain": [
       "Text(0, 0.5, 'mean_roc_auc_scores')"
      ]
     },
     "execution_count": 172,
     "metadata": {
      "tags": []
     },
     "output_type": "execute_result"
    },
    {
     "data": {
      "image/png": "[encoded data removed]",
      "text/plain": [
       "<Figure size 432x288 with 1 Axes>"
      ]
     },
     "metadata": {
      "needs_background": "light",
      "tags": []
     },
     "output_type": "display_data"
    }
   ],
   "source": [
    "no_of_features=[]\n",
    "mean_roc_auc_scores=[]\n",
    "for i,j in enumerate(rfecv.grid_scores_,1):\n",
    "    no_of_features.append(i)\n",
    "    mean_roc_auc_scores.append(j)\n",
    "plt.plot(no_of_features,mean_roc_auc_scores)\n",
    "plt.xlabel('no_of_features')\n",
    "plt.ylabel('mean_roc_auc_scores')"
   ]
  },
  {
   "cell_type": "code",
   "execution_count": 173,
   "metadata": {
    "colab": {
     "base_uri": "https://localhost:8080/"
    },
    "id": "jXV87KtlpWwS",
    "outputId": "e04e563c-6a3b-479f-e3a7-15e4e514812b"
   },
   "outputs": [
    {
     "name": "stdout",
     "output_type": "stream",
     "text": [
      "best no of features 66\n"
     ]
    }
   ],
   "source": [
    "print('best no of features',rfecv.n_features_)"
   ]
  },
  {
   "cell_type": "code",
   "execution_count": 174,
   "metadata": {
    "colab": {
     "base_uri": "https://localhost:8080/"
    },
    "id": "SbUdNMS8pWwS",
    "outputId": "8d7a60b2-062e-4294-ecf0-09c448b35d44"
   },
   "outputs": [
    {
     "data": {
      "text/plain": [
       "array([ True,  True,  True, False, False,  True,  True,  True,  True,\n",
       "        True,  True,  True,  True,  True,  True,  True, False,  True,\n",
       "        True,  True,  True,  True,  True,  True,  True,  True,  True,\n",
       "        True,  True,  True,  True,  True,  True,  True,  True,  True,\n",
       "        True, False,  True,  True,  True,  True,  True,  True,  True,\n",
       "        True,  True,  True,  True,  True,  True,  True,  True,  True,\n",
       "        True,  True, False,  True,  True,  True,  True,  True,  True,\n",
       "       False, False,  True,  True,  True,  True,  True,  True,  True,\n",
       "        True, False])"
      ]
     },
     "execution_count": 174,
     "metadata": {
      "tags": []
     },
     "output_type": "execute_result"
    }
   ],
   "source": [
    "rfecv.support_"
   ]
  },
  {
   "cell_type": "code",
   "execution_count": 175,
   "metadata": {
    "colab": {
     "base_uri": "https://localhost:8080/"
    },
    "id": "n9vKiG8PpWwT",
    "outputId": "037c27b9-c11c-4667-badc-db6e39072efd"
   },
   "outputs": [
    {
     "data": {
      "text/plain": [
       "['Total Time Spent on Website',\n",
       " 'Asymmetrique Activity Index',\n",
       " 'Asymmetrique Profile Index',\n",
       " 'Lead Source_Organic Search',\n",
       " 'Lead Source_Other Sources',\n",
       " 'Lead Source_Reference',\n",
       " 'Do Not Email_Yes',\n",
       " 'Last Activity_Email Responded',\n",
       " 'Last Activity_Email Unsubscribed',\n",
       " 'Last Activity_Olark Chat Conversation',\n",
       " 'Last Activity_Page Visited on Website',\n",
       " 'Last Activity_SMS Reverted',\n",
       " 'Country_other_country',\n",
       " 'Country_unknown',\n",
       " 'Specialization_HR',\n",
       " 'Specialization_Healthcare',\n",
       " 'Specialization_IT Projects',\n",
       " 'Specialization_International Business',\n",
       " 'Specialization_Logistics',\n",
       " 'Specialization_Marketing',\n",
       " 'Specialization_Rural and Agribusiness',\n",
       " 'Specialization_Tourism',\n",
       " 'Specialization_unknown',\n",
       " 'How did you hear about X Education_Email',\n",
       " 'How did you hear about X Education_Multiple Sources',\n",
       " 'How did you hear about X Education_Online Search',\n",
       " 'How did you hear about X Education_Other',\n",
       " 'How did you hear about X Education_SMS',\n",
       " 'How did you hear about X Education_Social Media',\n",
       " 'How did you hear about X Education_Student of SomeSchool',\n",
       " 'How did you hear about X Education_Word Of Mouth',\n",
       " 'How did you hear about X Education_unknown',\n",
       " 'What is your current occupation_Others',\n",
       " 'What is your current occupation_Student',\n",
       " 'What is your current occupation_Working Professional',\n",
       " 'What matters most to you in choosing a course_Others',\n",
       " 'Tags_Graduation in progress',\n",
       " 'Tags_Lost to Others',\n",
       " 'Tags_Not Eligible',\n",
       " 'Tags_Not Reachable',\n",
       " 'Tags_Response Received',\n",
       " 'Tags_Status Unknown',\n",
       " 'Lead Quality_Low in Relevance',\n",
       " 'Lead Quality_Might be',\n",
       " 'Lead Quality_Not Sure',\n",
       " 'Lead Quality_Worst',\n",
       " 'Lead Profile_Lateral Student',\n",
       " 'Lead Profile_Other Leads',\n",
       " 'Lead Profile_Potential Lead',\n",
       " 'Lead Profile_Student of SomeSchool',\n",
       " 'Lead Profile_Unknown',\n",
       " 'City_Tier2',\n",
       " 'City_Unknown',\n",
       " 'A free copy of Mastering The Interview_Yes',\n",
       " 'Last Notable Activity_Email Bounced',\n",
       " 'Last Notable Activity_Email Link Clicked',\n",
       " 'Last Notable Activity_Email Marked Spam',\n",
       " 'Last Notable Activity_Email Opened',\n",
       " 'Last Notable Activity_Had a Phone Conversation',\n",
       " 'Last Notable Activity_Modified',\n",
       " 'Last Notable Activity_Olark Chat Conversation',\n",
       " 'Last Notable Activity_Page Visited on Website',\n",
       " 'Last Notable Activity_Resubscribed to emails',\n",
       " 'Last Notable Activity_SMS Sent',\n",
       " 'Last Notable Activity_Unreachable',\n",
       " 'Last Notable Activity_Unsubscribed']"
      ]
     },
     "execution_count": 175,
     "metadata": {
      "tags": []
     },
     "output_type": "execute_result"
    }
   ],
   "source": [
    "list(X_train.columns[rfecv.support_])                        #list of best features we got"
   ]
  },
  {
   "cell_type": "code",
   "execution_count": 176,
   "metadata": {
    "id": "-8-5471npWwT"
   },
   "outputs": [],
   "source": [
    "X_train_selcols=X_train[list(X_train.columns[rfecv.support_])]"
   ]
  },
  {
   "cell_type": "code",
   "execution_count": 177,
   "metadata": {
    "id": "rPJHLVxEpWwT"
   },
   "outputs": [],
   "source": [
    "X_test_selcols=X_test[list(X_train.columns[rfecv.support_])]"
   ]
  },
  {
   "cell_type": "code",
   "execution_count": 178,
   "metadata": {
    "colab": {
     "base_uri": "https://localhost:8080/"
    },
    "id": "v68PmjvopWwT",
    "outputId": "1720e6f9-42d1-47f3-e625-1a5fcadc8cdd"
   },
   "outputs": [
    {
     "data": {
      "text/plain": [
       "74"
      ]
     },
     "execution_count": 178,
     "metadata": {
      "tags": []
     },
     "output_type": "execute_result"
    }
   ],
   "source": [
    "len(X_train.columns)"
   ]
  },
  {
   "cell_type": "code",
   "execution_count": 179,
   "metadata": {
    "colab": {
     "base_uri": "https://localhost:8080/"
    },
    "id": "7G3z6BYwpWwT",
    "outputId": "170abe7e-7bbb-4c4d-c823-33203281c001"
   },
   "outputs": [
    {
     "data": {
      "text/plain": [
       "66"
      ]
     },
     "execution_count": 179,
     "metadata": {
      "tags": []
     },
     "output_type": "execute_result"
    }
   ],
   "source": [
    "len(X_train_selcols.columns)"
   ]
  },
  {
   "cell_type": "code",
   "execution_count": 180,
   "metadata": {
    "colab": {
     "base_uri": "https://localhost:8080/"
    },
    "id": "ctZLs6UOpWwU",
    "outputId": "6b68a84d-8310-4939-ea1b-488ff2af3c1a"
   },
   "outputs": [
    {
     "data": {
      "text/plain": [
       "74"
      ]
     },
     "execution_count": 180,
     "metadata": {
      "tags": []
     },
     "output_type": "execute_result"
    }
   ],
   "source": [
    "len(X_test.columns)"
   ]
  },
  {
   "cell_type": "code",
   "execution_count": 181,
   "metadata": {
    "colab": {
     "base_uri": "https://localhost:8080/"
    },
    "id": "TTK-uTKlpWwU",
    "outputId": "f61c7c0d-8ced-44da-b814-4d6b6b9116d4"
   },
   "outputs": [
    {
     "data": {
      "text/plain": [
       "66"
      ]
     },
     "execution_count": 181,
     "metadata": {
      "tags": []
     },
     "output_type": "execute_result"
    }
   ],
   "source": [
    "len(X_test_selcols.columns)"
   ]
  },
  {
   "cell_type": "code",
   "execution_count": 181,
   "metadata": {
    "id": "3DSGvXeTpWwU"
   },
   "outputs": [],
   "source": []
  },
  {
   "cell_type": "code",
   "execution_count": 182,
   "metadata": {
    "id": "A0JoNrjMpWwU"
   },
   "outputs": [],
   "source": [
    "# now applying feature scaling"
   ]
  },
  {
   "cell_type": "code",
   "execution_count": 183,
   "metadata": {
    "id": "BHsENibypWwU"
   },
   "outputs": [],
   "source": [
    "from sklearn.preprocessing import MinMaxScaler\n",
    "mmc=MinMaxScaler()"
   ]
  },
  {
   "cell_type": "code",
   "execution_count": 183,
   "metadata": {
    "id": "_MpStoOipWwU"
   },
   "outputs": [],
   "source": []
  },
  {
   "cell_type": "code",
   "execution_count": 184,
   "metadata": {
    "id": "gOqdy6uopWwV"
   },
   "outputs": [],
   "source": [
    "X_train_selcols=pd.DataFrame(mmc.fit_transform(X_train_selcols),columns=X_train_selcols.columns)"
   ]
  },
  {
   "cell_type": "code",
   "execution_count": 185,
   "metadata": {
    "id": "y7IQyRKLpWwV"
   },
   "outputs": [],
   "source": [
    "X_test_selcols=pd.DataFrame(mmc.transform(X_test_selcols),columns=X_test_selcols.columns)"
   ]
  },
  {
   "cell_type": "code",
   "execution_count": 186,
   "metadata": {
    "colab": {
     "base_uri": "https://localhost:8080/",
     "height": 282
    },
    "id": "RMaqEw62pWwV",
    "outputId": "bc2b01a4-4e6a-463d-b7ba-0126bfdc4605"
   },
   "outputs": [
    {
     "data": {
      "text/html": [
       "<div>\n",
       "<style scoped>\n",
       "    .dataframe tbody tr th:only-of-type {\n",
       "        vertical-align: middle;\n",
       "    }\n",
       "\n",
       "    .dataframe tbody tr th {\n",
       "        vertical-align: top;\n",
       "    }\n",
       "\n",
       "    .dataframe thead th {\n",
       "        text-align: right;\n",
       "    }\n",
       "</style>\n",
       "<table border=\"1\" class=\"dataframe\">\n",
       "  <thead>\n",
       "    <tr style=\"text-align: right;\">\n",
       "      <th></th>\n",
       "      <th>Total Time Spent on Website</th>\n",
       "      <th>Asymmetrique Activity Index</th>\n",
       "      <th>Asymmetrique Profile Index</th>\n",
       "      <th>Lead Source_Organic Search</th>\n",
       "      <th>Lead Source_Other Sources</th>\n",
       "      <th>Lead Source_Reference</th>\n",
       "      <th>Do Not Email_Yes</th>\n",
       "      <th>Last Activity_Email Responded</th>\n",
       "      <th>Last Activity_Email Unsubscribed</th>\n",
       "      <th>Last Activity_Olark Chat Conversation</th>\n",
       "      <th>Last Activity_Page Visited on Website</th>\n",
       "      <th>Last Activity_SMS Reverted</th>\n",
       "      <th>Country_other_country</th>\n",
       "      <th>Country_unknown</th>\n",
       "      <th>Specialization_HR</th>\n",
       "      <th>Specialization_Healthcare</th>\n",
       "      <th>Specialization_IT Projects</th>\n",
       "      <th>Specialization_International Business</th>\n",
       "      <th>Specialization_Logistics</th>\n",
       "      <th>Specialization_Marketing</th>\n",
       "      <th>Specialization_Rural and Agribusiness</th>\n",
       "      <th>Specialization_Tourism</th>\n",
       "      <th>Specialization_unknown</th>\n",
       "      <th>How did you hear about X Education_Email</th>\n",
       "      <th>How did you hear about X Education_Multiple Sources</th>\n",
       "      <th>How did you hear about X Education_Online Search</th>\n",
       "      <th>How did you hear about X Education_Other</th>\n",
       "      <th>How did you hear about X Education_SMS</th>\n",
       "      <th>How did you hear about X Education_Social Media</th>\n",
       "      <th>How did you hear about X Education_Student of SomeSchool</th>\n",
       "      <th>How did you hear about X Education_Word Of Mouth</th>\n",
       "      <th>How did you hear about X Education_unknown</th>\n",
       "      <th>What is your current occupation_Others</th>\n",
       "      <th>What is your current occupation_Student</th>\n",
       "      <th>What is your current occupation_Working Professional</th>\n",
       "      <th>What matters most to you in choosing a course_Others</th>\n",
       "      <th>Tags_Graduation in progress</th>\n",
       "      <th>Tags_Lost to Others</th>\n",
       "      <th>Tags_Not Eligible</th>\n",
       "      <th>Tags_Not Reachable</th>\n",
       "      <th>Tags_Response Received</th>\n",
       "      <th>Tags_Status Unknown</th>\n",
       "      <th>Lead Quality_Low in Relevance</th>\n",
       "      <th>Lead Quality_Might be</th>\n",
       "      <th>Lead Quality_Not Sure</th>\n",
       "      <th>Lead Quality_Worst</th>\n",
       "      <th>Lead Profile_Lateral Student</th>\n",
       "      <th>Lead Profile_Other Leads</th>\n",
       "      <th>Lead Profile_Potential Lead</th>\n",
       "      <th>Lead Profile_Student of SomeSchool</th>\n",
       "      <th>Lead Profile_Unknown</th>\n",
       "      <th>City_Tier2</th>\n",
       "      <th>City_Unknown</th>\n",
       "      <th>A free copy of Mastering The Interview_Yes</th>\n",
       "      <th>Last Notable Activity_Email Bounced</th>\n",
       "      <th>Last Notable Activity_Email Link Clicked</th>\n",
       "      <th>Last Notable Activity_Email Marked Spam</th>\n",
       "      <th>Last Notable Activity_Email Opened</th>\n",
       "      <th>Last Notable Activity_Had a Phone Conversation</th>\n",
       "      <th>Last Notable Activity_Modified</th>\n",
       "      <th>Last Notable Activity_Olark Chat Conversation</th>\n",
       "      <th>Last Notable Activity_Page Visited on Website</th>\n",
       "      <th>Last Notable Activity_Resubscribed to emails</th>\n",
       "      <th>Last Notable Activity_SMS Sent</th>\n",
       "      <th>Last Notable Activity_Unreachable</th>\n",
       "      <th>Last Notable Activity_Unsubscribed</th>\n",
       "    </tr>\n",
       "  </thead>\n",
       "  <tbody>\n",
       "    <tr>\n",
       "      <th>0</th>\n",
       "      <td>0.427630</td>\n",
       "      <td>0.5</td>\n",
       "      <td>0.5</td>\n",
       "      <td>0.0</td>\n",
       "      <td>0.0</td>\n",
       "      <td>0.0</td>\n",
       "      <td>0.0</td>\n",
       "      <td>1.0</td>\n",
       "      <td>0.0</td>\n",
       "      <td>0.0</td>\n",
       "      <td>0.0</td>\n",
       "      <td>0.0</td>\n",
       "      <td>0.0</td>\n",
       "      <td>0.0</td>\n",
       "      <td>0.0</td>\n",
       "      <td>0.0</td>\n",
       "      <td>0.0</td>\n",
       "      <td>0.0</td>\n",
       "      <td>0.0</td>\n",
       "      <td>0.0</td>\n",
       "      <td>0.0</td>\n",
       "      <td>0.0</td>\n",
       "      <td>0.0</td>\n",
       "      <td>0.0</td>\n",
       "      <td>0.0</td>\n",
       "      <td>0.0</td>\n",
       "      <td>0.0</td>\n",
       "      <td>0.0</td>\n",
       "      <td>0.0</td>\n",
       "      <td>0.0</td>\n",
       "      <td>0.0</td>\n",
       "      <td>1.0</td>\n",
       "      <td>0.0</td>\n",
       "      <td>0.0</td>\n",
       "      <td>0.0</td>\n",
       "      <td>0.0</td>\n",
       "      <td>0.0</td>\n",
       "      <td>0.0</td>\n",
       "      <td>0.0</td>\n",
       "      <td>0.0</td>\n",
       "      <td>0.0</td>\n",
       "      <td>1.0</td>\n",
       "      <td>0.0</td>\n",
       "      <td>0.0</td>\n",
       "      <td>1.0</td>\n",
       "      <td>0.0</td>\n",
       "      <td>0.0</td>\n",
       "      <td>0.0</td>\n",
       "      <td>0.0</td>\n",
       "      <td>0.0</td>\n",
       "      <td>1.0</td>\n",
       "      <td>0.0</td>\n",
       "      <td>0.0</td>\n",
       "      <td>1.0</td>\n",
       "      <td>0.0</td>\n",
       "      <td>0.0</td>\n",
       "      <td>0.0</td>\n",
       "      <td>1.0</td>\n",
       "      <td>0.0</td>\n",
       "      <td>0.0</td>\n",
       "      <td>0.0</td>\n",
       "      <td>0.0</td>\n",
       "      <td>0.0</td>\n",
       "      <td>0.0</td>\n",
       "      <td>0.0</td>\n",
       "      <td>0.0</td>\n",
       "    </tr>\n",
       "    <tr>\n",
       "      <th>1</th>\n",
       "      <td>0.824341</td>\n",
       "      <td>0.5</td>\n",
       "      <td>1.0</td>\n",
       "      <td>1.0</td>\n",
       "      <td>0.0</td>\n",
       "      <td>0.0</td>\n",
       "      <td>0.0</td>\n",
       "      <td>0.0</td>\n",
       "      <td>0.0</td>\n",
       "      <td>0.0</td>\n",
       "      <td>0.0</td>\n",
       "      <td>1.0</td>\n",
       "      <td>0.0</td>\n",
       "      <td>0.0</td>\n",
       "      <td>0.0</td>\n",
       "      <td>0.0</td>\n",
       "      <td>0.0</td>\n",
       "      <td>0.0</td>\n",
       "      <td>0.0</td>\n",
       "      <td>1.0</td>\n",
       "      <td>0.0</td>\n",
       "      <td>0.0</td>\n",
       "      <td>0.0</td>\n",
       "      <td>0.0</td>\n",
       "      <td>0.0</td>\n",
       "      <td>0.0</td>\n",
       "      <td>0.0</td>\n",
       "      <td>0.0</td>\n",
       "      <td>0.0</td>\n",
       "      <td>0.0</td>\n",
       "      <td>0.0</td>\n",
       "      <td>1.0</td>\n",
       "      <td>0.0</td>\n",
       "      <td>0.0</td>\n",
       "      <td>0.0</td>\n",
       "      <td>0.0</td>\n",
       "      <td>0.0</td>\n",
       "      <td>0.0</td>\n",
       "      <td>0.0</td>\n",
       "      <td>1.0</td>\n",
       "      <td>0.0</td>\n",
       "      <td>0.0</td>\n",
       "      <td>0.0</td>\n",
       "      <td>0.0</td>\n",
       "      <td>1.0</td>\n",
       "      <td>0.0</td>\n",
       "      <td>0.0</td>\n",
       "      <td>0.0</td>\n",
       "      <td>0.0</td>\n",
       "      <td>0.0</td>\n",
       "      <td>1.0</td>\n",
       "      <td>0.0</td>\n",
       "      <td>0.0</td>\n",
       "      <td>1.0</td>\n",
       "      <td>0.0</td>\n",
       "      <td>0.0</td>\n",
       "      <td>0.0</td>\n",
       "      <td>0.0</td>\n",
       "      <td>0.0</td>\n",
       "      <td>0.0</td>\n",
       "      <td>0.0</td>\n",
       "      <td>0.0</td>\n",
       "      <td>0.0</td>\n",
       "      <td>1.0</td>\n",
       "      <td>0.0</td>\n",
       "      <td>0.0</td>\n",
       "    </tr>\n",
       "    <tr>\n",
       "      <th>2</th>\n",
       "      <td>0.744263</td>\n",
       "      <td>0.5</td>\n",
       "      <td>1.0</td>\n",
       "      <td>0.0</td>\n",
       "      <td>0.0</td>\n",
       "      <td>1.0</td>\n",
       "      <td>0.0</td>\n",
       "      <td>1.0</td>\n",
       "      <td>0.0</td>\n",
       "      <td>0.0</td>\n",
       "      <td>0.0</td>\n",
       "      <td>0.0</td>\n",
       "      <td>0.0</td>\n",
       "      <td>0.0</td>\n",
       "      <td>1.0</td>\n",
       "      <td>0.0</td>\n",
       "      <td>0.0</td>\n",
       "      <td>0.0</td>\n",
       "      <td>0.0</td>\n",
       "      <td>0.0</td>\n",
       "      <td>0.0</td>\n",
       "      <td>0.0</td>\n",
       "      <td>0.0</td>\n",
       "      <td>0.0</td>\n",
       "      <td>0.0</td>\n",
       "      <td>0.0</td>\n",
       "      <td>0.0</td>\n",
       "      <td>0.0</td>\n",
       "      <td>0.0</td>\n",
       "      <td>0.0</td>\n",
       "      <td>0.0</td>\n",
       "      <td>1.0</td>\n",
       "      <td>0.0</td>\n",
       "      <td>1.0</td>\n",
       "      <td>0.0</td>\n",
       "      <td>0.0</td>\n",
       "      <td>0.0</td>\n",
       "      <td>0.0</td>\n",
       "      <td>0.0</td>\n",
       "      <td>0.0</td>\n",
       "      <td>0.0</td>\n",
       "      <td>0.0</td>\n",
       "      <td>1.0</td>\n",
       "      <td>0.0</td>\n",
       "      <td>0.0</td>\n",
       "      <td>0.0</td>\n",
       "      <td>0.0</td>\n",
       "      <td>0.0</td>\n",
       "      <td>1.0</td>\n",
       "      <td>0.0</td>\n",
       "      <td>0.0</td>\n",
       "      <td>0.0</td>\n",
       "      <td>0.0</td>\n",
       "      <td>1.0</td>\n",
       "      <td>0.0</td>\n",
       "      <td>0.0</td>\n",
       "      <td>0.0</td>\n",
       "      <td>1.0</td>\n",
       "      <td>0.0</td>\n",
       "      <td>0.0</td>\n",
       "      <td>0.0</td>\n",
       "      <td>0.0</td>\n",
       "      <td>0.0</td>\n",
       "      <td>0.0</td>\n",
       "      <td>0.0</td>\n",
       "      <td>0.0</td>\n",
       "    </tr>\n",
       "    <tr>\n",
       "      <th>3</th>\n",
       "      <td>0.710395</td>\n",
       "      <td>0.5</td>\n",
       "      <td>1.0</td>\n",
       "      <td>0.0</td>\n",
       "      <td>0.0</td>\n",
       "      <td>0.0</td>\n",
       "      <td>0.0</td>\n",
       "      <td>1.0</td>\n",
       "      <td>0.0</td>\n",
       "      <td>0.0</td>\n",
       "      <td>0.0</td>\n",
       "      <td>0.0</td>\n",
       "      <td>0.0</td>\n",
       "      <td>0.0</td>\n",
       "      <td>0.0</td>\n",
       "      <td>0.0</td>\n",
       "      <td>0.0</td>\n",
       "      <td>0.0</td>\n",
       "      <td>0.0</td>\n",
       "      <td>1.0</td>\n",
       "      <td>0.0</td>\n",
       "      <td>0.0</td>\n",
       "      <td>0.0</td>\n",
       "      <td>0.0</td>\n",
       "      <td>0.0</td>\n",
       "      <td>0.0</td>\n",
       "      <td>0.0</td>\n",
       "      <td>0.0</td>\n",
       "      <td>0.0</td>\n",
       "      <td>0.0</td>\n",
       "      <td>0.0</td>\n",
       "      <td>1.0</td>\n",
       "      <td>0.0</td>\n",
       "      <td>0.0</td>\n",
       "      <td>0.0</td>\n",
       "      <td>0.0</td>\n",
       "      <td>0.0</td>\n",
       "      <td>0.0</td>\n",
       "      <td>0.0</td>\n",
       "      <td>0.0</td>\n",
       "      <td>1.0</td>\n",
       "      <td>0.0</td>\n",
       "      <td>0.0</td>\n",
       "      <td>0.0</td>\n",
       "      <td>0.0</td>\n",
       "      <td>0.0</td>\n",
       "      <td>0.0</td>\n",
       "      <td>0.0</td>\n",
       "      <td>1.0</td>\n",
       "      <td>0.0</td>\n",
       "      <td>0.0</td>\n",
       "      <td>0.0</td>\n",
       "      <td>0.0</td>\n",
       "      <td>1.0</td>\n",
       "      <td>0.0</td>\n",
       "      <td>0.0</td>\n",
       "      <td>0.0</td>\n",
       "      <td>1.0</td>\n",
       "      <td>0.0</td>\n",
       "      <td>0.0</td>\n",
       "      <td>0.0</td>\n",
       "      <td>0.0</td>\n",
       "      <td>0.0</td>\n",
       "      <td>0.0</td>\n",
       "      <td>0.0</td>\n",
       "      <td>0.0</td>\n",
       "    </tr>\n",
       "    <tr>\n",
       "      <th>4</th>\n",
       "      <td>0.667221</td>\n",
       "      <td>0.5</td>\n",
       "      <td>0.5</td>\n",
       "      <td>1.0</td>\n",
       "      <td>0.0</td>\n",
       "      <td>0.0</td>\n",
       "      <td>0.0</td>\n",
       "      <td>1.0</td>\n",
       "      <td>0.0</td>\n",
       "      <td>0.0</td>\n",
       "      <td>0.0</td>\n",
       "      <td>0.0</td>\n",
       "      <td>0.0</td>\n",
       "      <td>0.0</td>\n",
       "      <td>0.0</td>\n",
       "      <td>0.0</td>\n",
       "      <td>0.0</td>\n",
       "      <td>0.0</td>\n",
       "      <td>1.0</td>\n",
       "      <td>0.0</td>\n",
       "      <td>0.0</td>\n",
       "      <td>0.0</td>\n",
       "      <td>0.0</td>\n",
       "      <td>0.0</td>\n",
       "      <td>0.0</td>\n",
       "      <td>0.0</td>\n",
       "      <td>0.0</td>\n",
       "      <td>0.0</td>\n",
       "      <td>1.0</td>\n",
       "      <td>0.0</td>\n",
       "      <td>0.0</td>\n",
       "      <td>0.0</td>\n",
       "      <td>0.0</td>\n",
       "      <td>0.0</td>\n",
       "      <td>0.0</td>\n",
       "      <td>0.0</td>\n",
       "      <td>0.0</td>\n",
       "      <td>0.0</td>\n",
       "      <td>0.0</td>\n",
       "      <td>1.0</td>\n",
       "      <td>0.0</td>\n",
       "      <td>0.0</td>\n",
       "      <td>0.0</td>\n",
       "      <td>0.0</td>\n",
       "      <td>1.0</td>\n",
       "      <td>0.0</td>\n",
       "      <td>0.0</td>\n",
       "      <td>0.0</td>\n",
       "      <td>0.0</td>\n",
       "      <td>0.0</td>\n",
       "      <td>1.0</td>\n",
       "      <td>0.0</td>\n",
       "      <td>0.0</td>\n",
       "      <td>0.0</td>\n",
       "      <td>0.0</td>\n",
       "      <td>0.0</td>\n",
       "      <td>0.0</td>\n",
       "      <td>1.0</td>\n",
       "      <td>0.0</td>\n",
       "      <td>0.0</td>\n",
       "      <td>0.0</td>\n",
       "      <td>0.0</td>\n",
       "      <td>0.0</td>\n",
       "      <td>0.0</td>\n",
       "      <td>0.0</td>\n",
       "      <td>0.0</td>\n",
       "    </tr>\n",
       "  </tbody>\n",
       "</table>\n",
       "</div>"
      ],
      "text/plain": [
       "   Total Time Spent on Website  Asymmetrique Activity Index  \\\n",
       "0                     0.427630                          0.5   \n",
       "1                     0.824341                          0.5   \n",
       "2                     0.744263                          0.5   \n",
       "3                     0.710395                          0.5   \n",
       "4                     0.667221                          0.5   \n",
       "\n",
       "   Asymmetrique Profile Index  Lead Source_Organic Search  \\\n",
       "0                         0.5                         0.0   \n",
       "1                         1.0                         1.0   \n",
       "2                         1.0                         0.0   \n",
       "3                         1.0                         0.0   \n",
       "4                         0.5                         1.0   \n",
       "\n",
       "   Lead Source_Other Sources  Lead Source_Reference  Do Not Email_Yes  \\\n",
       "0                        0.0                    0.0               0.0   \n",
       "1                        0.0                    0.0               0.0   \n",
       "2                        0.0                    1.0               0.0   \n",
       "3                        0.0                    0.0               0.0   \n",
       "4                        0.0                    0.0               0.0   \n",
       "\n",
       "   Last Activity_Email Responded  Last Activity_Email Unsubscribed  \\\n",
       "0                            1.0                               0.0   \n",
       "1                            0.0                               0.0   \n",
       "2                            1.0                               0.0   \n",
       "3                            1.0                               0.0   \n",
       "4                            1.0                               0.0   \n",
       "\n",
       "   Last Activity_Olark Chat Conversation  \\\n",
       "0                                    0.0   \n",
       "1                                    0.0   \n",
       "2                                    0.0   \n",
       "3                                    0.0   \n",
       "4                                    0.0   \n",
       "\n",
       "   Last Activity_Page Visited on Website  Last Activity_SMS Reverted  \\\n",
       "0                                    0.0                         0.0   \n",
       "1                                    0.0                         1.0   \n",
       "2                                    0.0                         0.0   \n",
       "3                                    0.0                         0.0   \n",
       "4                                    0.0                         0.0   \n",
       "\n",
       "   Country_other_country  Country_unknown  Specialization_HR  \\\n",
       "0                    0.0              0.0                0.0   \n",
       "1                    0.0              0.0                0.0   \n",
       "2                    0.0              0.0                1.0   \n",
       "3                    0.0              0.0                0.0   \n",
       "4                    0.0              0.0                0.0   \n",
       "\n",
       "   Specialization_Healthcare  Specialization_IT Projects  \\\n",
       "0                        0.0                         0.0   \n",
       "1                        0.0                         0.0   \n",
       "2                        0.0                         0.0   \n",
       "3                        0.0                         0.0   \n",
       "4                        0.0                         0.0   \n",
       "\n",
       "   Specialization_International Business  Specialization_Logistics  \\\n",
       "0                                    0.0                       0.0   \n",
       "1                                    0.0                       0.0   \n",
       "2                                    0.0                       0.0   \n",
       "3                                    0.0                       0.0   \n",
       "4                                    0.0                       1.0   \n",
       "\n",
       "   Specialization_Marketing  Specialization_Rural and Agribusiness  \\\n",
       "0                       0.0                                    0.0   \n",
       "1                       1.0                                    0.0   \n",
       "2                       0.0                                    0.0   \n",
       "3                       1.0                                    0.0   \n",
       "4                       0.0                                    0.0   \n",
       "\n",
       "   Specialization_Tourism  Specialization_unknown  \\\n",
       "0                     0.0                     0.0   \n",
       "1                     0.0                     0.0   \n",
       "2                     0.0                     0.0   \n",
       "3                     0.0                     0.0   \n",
       "4                     0.0                     0.0   \n",
       "\n",
       "   How did you hear about X Education_Email  \\\n",
       "0                                       0.0   \n",
       "1                                       0.0   \n",
       "2                                       0.0   \n",
       "3                                       0.0   \n",
       "4                                       0.0   \n",
       "\n",
       "   How did you hear about X Education_Multiple Sources  \\\n",
       "0                                                0.0     \n",
       "1                                                0.0     \n",
       "2                                                0.0     \n",
       "3                                                0.0     \n",
       "4                                                0.0     \n",
       "\n",
       "   How did you hear about X Education_Online Search  \\\n",
       "0                                               0.0   \n",
       "1                                               0.0   \n",
       "2                                               0.0   \n",
       "3                                               0.0   \n",
       "4                                               0.0   \n",
       "\n",
       "   How did you hear about X Education_Other  \\\n",
       "0                                       0.0   \n",
       "1                                       0.0   \n",
       "2                                       0.0   \n",
       "3                                       0.0   \n",
       "4                                       0.0   \n",
       "\n",
       "   How did you hear about X Education_SMS  \\\n",
       "0                                     0.0   \n",
       "1                                     0.0   \n",
       "2                                     0.0   \n",
       "3                                     0.0   \n",
       "4                                     0.0   \n",
       "\n",
       "   How did you hear about X Education_Social Media  \\\n",
       "0                                              0.0   \n",
       "1                                              0.0   \n",
       "2                                              0.0   \n",
       "3                                              0.0   \n",
       "4                                              1.0   \n",
       "\n",
       "   How did you hear about X Education_Student of SomeSchool  \\\n",
       "0                                                0.0          \n",
       "1                                                0.0          \n",
       "2                                                0.0          \n",
       "3                                                0.0          \n",
       "4                                                0.0          \n",
       "\n",
       "   How did you hear about X Education_Word Of Mouth  \\\n",
       "0                                               0.0   \n",
       "1                                               0.0   \n",
       "2                                               0.0   \n",
       "3                                               0.0   \n",
       "4                                               0.0   \n",
       "\n",
       "   How did you hear about X Education_unknown  \\\n",
       "0                                         1.0   \n",
       "1                                         1.0   \n",
       "2                                         1.0   \n",
       "3                                         1.0   \n",
       "4                                         0.0   \n",
       "\n",
       "   What is your current occupation_Others  \\\n",
       "0                                     0.0   \n",
       "1                                     0.0   \n",
       "2                                     0.0   \n",
       "3                                     0.0   \n",
       "4                                     0.0   \n",
       "\n",
       "   What is your current occupation_Student  \\\n",
       "0                                      0.0   \n",
       "1                                      0.0   \n",
       "2                                      1.0   \n",
       "3                                      0.0   \n",
       "4                                      0.0   \n",
       "\n",
       "   What is your current occupation_Working Professional  \\\n",
       "0                                                0.0      \n",
       "1                                                0.0      \n",
       "2                                                0.0      \n",
       "3                                                0.0      \n",
       "4                                                0.0      \n",
       "\n",
       "   What matters most to you in choosing a course_Others  \\\n",
       "0                                                0.0      \n",
       "1                                                0.0      \n",
       "2                                                0.0      \n",
       "3                                                0.0      \n",
       "4                                                0.0      \n",
       "\n",
       "   Tags_Graduation in progress  Tags_Lost to Others  Tags_Not Eligible  \\\n",
       "0                          0.0                  0.0                0.0   \n",
       "1                          0.0                  0.0                0.0   \n",
       "2                          0.0                  0.0                0.0   \n",
       "3                          0.0                  0.0                0.0   \n",
       "4                          0.0                  0.0                0.0   \n",
       "\n",
       "   Tags_Not Reachable  Tags_Response Received  Tags_Status Unknown  \\\n",
       "0                 0.0                     0.0                  1.0   \n",
       "1                 1.0                     0.0                  0.0   \n",
       "2                 0.0                     0.0                  0.0   \n",
       "3                 0.0                     1.0                  0.0   \n",
       "4                 1.0                     0.0                  0.0   \n",
       "\n",
       "   Lead Quality_Low in Relevance  Lead Quality_Might be  \\\n",
       "0                            0.0                    0.0   \n",
       "1                            0.0                    0.0   \n",
       "2                            1.0                    0.0   \n",
       "3                            0.0                    0.0   \n",
       "4                            0.0                    0.0   \n",
       "\n",
       "   Lead Quality_Not Sure  Lead Quality_Worst  Lead Profile_Lateral Student  \\\n",
       "0                    1.0                 0.0                           0.0   \n",
       "1                    1.0                 0.0                           0.0   \n",
       "2                    0.0                 0.0                           0.0   \n",
       "3                    0.0                 0.0                           0.0   \n",
       "4                    1.0                 0.0                           0.0   \n",
       "\n",
       "   Lead Profile_Other Leads  Lead Profile_Potential Lead  \\\n",
       "0                       0.0                          0.0   \n",
       "1                       0.0                          0.0   \n",
       "2                       0.0                          1.0   \n",
       "3                       0.0                          1.0   \n",
       "4                       0.0                          0.0   \n",
       "\n",
       "   Lead Profile_Student of SomeSchool  Lead Profile_Unknown  City_Tier2  \\\n",
       "0                                 0.0                   1.0         0.0   \n",
       "1                                 0.0                   1.0         0.0   \n",
       "2                                 0.0                   0.0         0.0   \n",
       "3                                 0.0                   0.0         0.0   \n",
       "4                                 0.0                   1.0         0.0   \n",
       "\n",
       "   City_Unknown  A free copy of Mastering The Interview_Yes  \\\n",
       "0           0.0                                         1.0   \n",
       "1           0.0                                         1.0   \n",
       "2           0.0                                         1.0   \n",
       "3           0.0                                         1.0   \n",
       "4           0.0                                         0.0   \n",
       "\n",
       "   Last Notable Activity_Email Bounced  \\\n",
       "0                                  0.0   \n",
       "1                                  0.0   \n",
       "2                                  0.0   \n",
       "3                                  0.0   \n",
       "4                                  0.0   \n",
       "\n",
       "   Last Notable Activity_Email Link Clicked  \\\n",
       "0                                       0.0   \n",
       "1                                       0.0   \n",
       "2                                       0.0   \n",
       "3                                       0.0   \n",
       "4                                       0.0   \n",
       "\n",
       "   Last Notable Activity_Email Marked Spam  \\\n",
       "0                                      0.0   \n",
       "1                                      0.0   \n",
       "2                                      0.0   \n",
       "3                                      0.0   \n",
       "4                                      0.0   \n",
       "\n",
       "   Last Notable Activity_Email Opened  \\\n",
       "0                                 1.0   \n",
       "1                                 0.0   \n",
       "2                                 1.0   \n",
       "3                                 1.0   \n",
       "4                                 1.0   \n",
       "\n",
       "   Last Notable Activity_Had a Phone Conversation  \\\n",
       "0                                             0.0   \n",
       "1                                             0.0   \n",
       "2                                             0.0   \n",
       "3                                             0.0   \n",
       "4                                             0.0   \n",
       "\n",
       "   Last Notable Activity_Modified  \\\n",
       "0                             0.0   \n",
       "1                             0.0   \n",
       "2                             0.0   \n",
       "3                             0.0   \n",
       "4                             0.0   \n",
       "\n",
       "   Last Notable Activity_Olark Chat Conversation  \\\n",
       "0                                            0.0   \n",
       "1                                            0.0   \n",
       "2                                            0.0   \n",
       "3                                            0.0   \n",
       "4                                            0.0   \n",
       "\n",
       "   Last Notable Activity_Page Visited on Website  \\\n",
       "0                                            0.0   \n",
       "1                                            0.0   \n",
       "2                                            0.0   \n",
       "3                                            0.0   \n",
       "4                                            0.0   \n",
       "\n",
       "   Last Notable Activity_Resubscribed to emails  \\\n",
       "0                                           0.0   \n",
       "1                                           0.0   \n",
       "2                                           0.0   \n",
       "3                                           0.0   \n",
       "4                                           0.0   \n",
       "\n",
       "   Last Notable Activity_SMS Sent  Last Notable Activity_Unreachable  \\\n",
       "0                             0.0                                0.0   \n",
       "1                             1.0                                0.0   \n",
       "2                             0.0                                0.0   \n",
       "3                             0.0                                0.0   \n",
       "4                             0.0                                0.0   \n",
       "\n",
       "   Last Notable Activity_Unsubscribed  \n",
       "0                                 0.0  \n",
       "1                                 0.0  \n",
       "2                                 0.0  \n",
       "3                                 0.0  \n",
       "4                                 0.0  "
      ]
     },
     "execution_count": 186,
     "metadata": {
      "tags": []
     },
     "output_type": "execute_result"
    }
   ],
   "source": [
    "X_train_selcols.head()"
   ]
  },
  {
   "cell_type": "code",
   "execution_count": 187,
   "metadata": {
    "colab": {
     "base_uri": "https://localhost:8080/",
     "height": 282
    },
    "id": "kzv6uquwpWwV",
    "outputId": "aeccaa15-80f4-43f6-afc0-9e5deeeded04"
   },
   "outputs": [
    {
     "data": {
      "text/html": [
       "<div>\n",
       "<style scoped>\n",
       "    .dataframe tbody tr th:only-of-type {\n",
       "        vertical-align: middle;\n",
       "    }\n",
       "\n",
       "    .dataframe tbody tr th {\n",
       "        vertical-align: top;\n",
       "    }\n",
       "\n",
       "    .dataframe thead th {\n",
       "        text-align: right;\n",
       "    }\n",
       "</style>\n",
       "<table border=\"1\" class=\"dataframe\">\n",
       "  <thead>\n",
       "    <tr style=\"text-align: right;\">\n",
       "      <th></th>\n",
       "      <th>Total Time Spent on Website</th>\n",
       "      <th>Asymmetrique Activity Index</th>\n",
       "      <th>Asymmetrique Profile Index</th>\n",
       "      <th>Lead Source_Organic Search</th>\n",
       "      <th>Lead Source_Other Sources</th>\n",
       "      <th>Lead Source_Reference</th>\n",
       "      <th>Do Not Email_Yes</th>\n",
       "      <th>Last Activity_Email Responded</th>\n",
       "      <th>Last Activity_Email Unsubscribed</th>\n",
       "      <th>Last Activity_Olark Chat Conversation</th>\n",
       "      <th>Last Activity_Page Visited on Website</th>\n",
       "      <th>Last Activity_SMS Reverted</th>\n",
       "      <th>Country_other_country</th>\n",
       "      <th>Country_unknown</th>\n",
       "      <th>Specialization_HR</th>\n",
       "      <th>Specialization_Healthcare</th>\n",
       "      <th>Specialization_IT Projects</th>\n",
       "      <th>Specialization_International Business</th>\n",
       "      <th>Specialization_Logistics</th>\n",
       "      <th>Specialization_Marketing</th>\n",
       "      <th>Specialization_Rural and Agribusiness</th>\n",
       "      <th>Specialization_Tourism</th>\n",
       "      <th>Specialization_unknown</th>\n",
       "      <th>How did you hear about X Education_Email</th>\n",
       "      <th>How did you hear about X Education_Multiple Sources</th>\n",
       "      <th>How did you hear about X Education_Online Search</th>\n",
       "      <th>How did you hear about X Education_Other</th>\n",
       "      <th>How did you hear about X Education_SMS</th>\n",
       "      <th>How did you hear about X Education_Social Media</th>\n",
       "      <th>How did you hear about X Education_Student of SomeSchool</th>\n",
       "      <th>How did you hear about X Education_Word Of Mouth</th>\n",
       "      <th>How did you hear about X Education_unknown</th>\n",
       "      <th>What is your current occupation_Others</th>\n",
       "      <th>What is your current occupation_Student</th>\n",
       "      <th>What is your current occupation_Working Professional</th>\n",
       "      <th>What matters most to you in choosing a course_Others</th>\n",
       "      <th>Tags_Graduation in progress</th>\n",
       "      <th>Tags_Lost to Others</th>\n",
       "      <th>Tags_Not Eligible</th>\n",
       "      <th>Tags_Not Reachable</th>\n",
       "      <th>Tags_Response Received</th>\n",
       "      <th>Tags_Status Unknown</th>\n",
       "      <th>Lead Quality_Low in Relevance</th>\n",
       "      <th>Lead Quality_Might be</th>\n",
       "      <th>Lead Quality_Not Sure</th>\n",
       "      <th>Lead Quality_Worst</th>\n",
       "      <th>Lead Profile_Lateral Student</th>\n",
       "      <th>Lead Profile_Other Leads</th>\n",
       "      <th>Lead Profile_Potential Lead</th>\n",
       "      <th>Lead Profile_Student of SomeSchool</th>\n",
       "      <th>Lead Profile_Unknown</th>\n",
       "      <th>City_Tier2</th>\n",
       "      <th>City_Unknown</th>\n",
       "      <th>A free copy of Mastering The Interview_Yes</th>\n",
       "      <th>Last Notable Activity_Email Bounced</th>\n",
       "      <th>Last Notable Activity_Email Link Clicked</th>\n",
       "      <th>Last Notable Activity_Email Marked Spam</th>\n",
       "      <th>Last Notable Activity_Email Opened</th>\n",
       "      <th>Last Notable Activity_Had a Phone Conversation</th>\n",
       "      <th>Last Notable Activity_Modified</th>\n",
       "      <th>Last Notable Activity_Olark Chat Conversation</th>\n",
       "      <th>Last Notable Activity_Page Visited on Website</th>\n",
       "      <th>Last Notable Activity_Resubscribed to emails</th>\n",
       "      <th>Last Notable Activity_SMS Sent</th>\n",
       "      <th>Last Notable Activity_Unreachable</th>\n",
       "      <th>Last Notable Activity_Unsubscribed</th>\n",
       "    </tr>\n",
       "  </thead>\n",
       "  <tbody>\n",
       "    <tr>\n",
       "      <th>0</th>\n",
       "      <td>0.383874</td>\n",
       "      <td>0.5</td>\n",
       "      <td>0.5</td>\n",
       "      <td>0.0</td>\n",
       "      <td>0.0</td>\n",
       "      <td>0.0</td>\n",
       "      <td>0.0</td>\n",
       "      <td>1.0</td>\n",
       "      <td>0.0</td>\n",
       "      <td>0.0</td>\n",
       "      <td>0.0</td>\n",
       "      <td>0.0</td>\n",
       "      <td>0.0</td>\n",
       "      <td>0.0</td>\n",
       "      <td>0.0</td>\n",
       "      <td>0.0</td>\n",
       "      <td>1.0</td>\n",
       "      <td>0.0</td>\n",
       "      <td>0.0</td>\n",
       "      <td>0.0</td>\n",
       "      <td>0.0</td>\n",
       "      <td>0.0</td>\n",
       "      <td>0.0</td>\n",
       "      <td>0.0</td>\n",
       "      <td>1.0</td>\n",
       "      <td>0.0</td>\n",
       "      <td>0.0</td>\n",
       "      <td>0.0</td>\n",
       "      <td>0.0</td>\n",
       "      <td>0.0</td>\n",
       "      <td>0.0</td>\n",
       "      <td>0.0</td>\n",
       "      <td>0.0</td>\n",
       "      <td>0.0</td>\n",
       "      <td>0.0</td>\n",
       "      <td>0.0</td>\n",
       "      <td>0.0</td>\n",
       "      <td>0.0</td>\n",
       "      <td>0.0</td>\n",
       "      <td>1.0</td>\n",
       "      <td>0.0</td>\n",
       "      <td>0.0</td>\n",
       "      <td>0.0</td>\n",
       "      <td>0.0</td>\n",
       "      <td>1.0</td>\n",
       "      <td>0.0</td>\n",
       "      <td>0.0</td>\n",
       "      <td>0.0</td>\n",
       "      <td>0.0</td>\n",
       "      <td>0.0</td>\n",
       "      <td>1.0</td>\n",
       "      <td>0.0</td>\n",
       "      <td>0.0</td>\n",
       "      <td>0.0</td>\n",
       "      <td>0.0</td>\n",
       "      <td>0.0</td>\n",
       "      <td>0.0</td>\n",
       "      <td>1.0</td>\n",
       "      <td>0.0</td>\n",
       "      <td>0.0</td>\n",
       "      <td>0.0</td>\n",
       "      <td>0.0</td>\n",
       "      <td>0.0</td>\n",
       "      <td>0.0</td>\n",
       "      <td>0.0</td>\n",
       "      <td>0.0</td>\n",
       "    </tr>\n",
       "    <tr>\n",
       "      <th>1</th>\n",
       "      <td>0.829975</td>\n",
       "      <td>0.5</td>\n",
       "      <td>1.0</td>\n",
       "      <td>0.0</td>\n",
       "      <td>0.0</td>\n",
       "      <td>0.0</td>\n",
       "      <td>0.0</td>\n",
       "      <td>0.0</td>\n",
       "      <td>0.0</td>\n",
       "      <td>0.0</td>\n",
       "      <td>0.0</td>\n",
       "      <td>0.0</td>\n",
       "      <td>0.0</td>\n",
       "      <td>0.0</td>\n",
       "      <td>0.0</td>\n",
       "      <td>0.0</td>\n",
       "      <td>0.0</td>\n",
       "      <td>0.0</td>\n",
       "      <td>0.0</td>\n",
       "      <td>1.0</td>\n",
       "      <td>0.0</td>\n",
       "      <td>0.0</td>\n",
       "      <td>0.0</td>\n",
       "      <td>0.0</td>\n",
       "      <td>0.0</td>\n",
       "      <td>0.0</td>\n",
       "      <td>1.0</td>\n",
       "      <td>0.0</td>\n",
       "      <td>0.0</td>\n",
       "      <td>0.0</td>\n",
       "      <td>0.0</td>\n",
       "      <td>0.0</td>\n",
       "      <td>0.0</td>\n",
       "      <td>0.0</td>\n",
       "      <td>0.0</td>\n",
       "      <td>0.0</td>\n",
       "      <td>0.0</td>\n",
       "      <td>1.0</td>\n",
       "      <td>0.0</td>\n",
       "      <td>0.0</td>\n",
       "      <td>0.0</td>\n",
       "      <td>0.0</td>\n",
       "      <td>0.0</td>\n",
       "      <td>0.0</td>\n",
       "      <td>1.0</td>\n",
       "      <td>0.0</td>\n",
       "      <td>0.0</td>\n",
       "      <td>1.0</td>\n",
       "      <td>0.0</td>\n",
       "      <td>0.0</td>\n",
       "      <td>0.0</td>\n",
       "      <td>0.0</td>\n",
       "      <td>0.0</td>\n",
       "      <td>0.0</td>\n",
       "      <td>0.0</td>\n",
       "      <td>0.0</td>\n",
       "      <td>0.0</td>\n",
       "      <td>0.0</td>\n",
       "      <td>0.0</td>\n",
       "      <td>1.0</td>\n",
       "      <td>0.0</td>\n",
       "      <td>0.0</td>\n",
       "      <td>0.0</td>\n",
       "      <td>0.0</td>\n",
       "      <td>0.0</td>\n",
       "      <td>0.0</td>\n",
       "    </tr>\n",
       "    <tr>\n",
       "      <th>2</th>\n",
       "      <td>0.772359</td>\n",
       "      <td>0.5</td>\n",
       "      <td>0.0</td>\n",
       "      <td>0.0</td>\n",
       "      <td>0.0</td>\n",
       "      <td>0.0</td>\n",
       "      <td>0.0</td>\n",
       "      <td>1.0</td>\n",
       "      <td>0.0</td>\n",
       "      <td>0.0</td>\n",
       "      <td>0.0</td>\n",
       "      <td>0.0</td>\n",
       "      <td>0.0</td>\n",
       "      <td>0.0</td>\n",
       "      <td>0.0</td>\n",
       "      <td>0.0</td>\n",
       "      <td>0.0</td>\n",
       "      <td>0.0</td>\n",
       "      <td>0.0</td>\n",
       "      <td>0.0</td>\n",
       "      <td>0.0</td>\n",
       "      <td>1.0</td>\n",
       "      <td>0.0</td>\n",
       "      <td>0.0</td>\n",
       "      <td>0.0</td>\n",
       "      <td>0.0</td>\n",
       "      <td>0.0</td>\n",
       "      <td>0.0</td>\n",
       "      <td>0.0</td>\n",
       "      <td>0.0</td>\n",
       "      <td>0.0</td>\n",
       "      <td>1.0</td>\n",
       "      <td>0.0</td>\n",
       "      <td>0.0</td>\n",
       "      <td>0.0</td>\n",
       "      <td>0.0</td>\n",
       "      <td>0.0</td>\n",
       "      <td>0.0</td>\n",
       "      <td>0.0</td>\n",
       "      <td>0.0</td>\n",
       "      <td>1.0</td>\n",
       "      <td>0.0</td>\n",
       "      <td>0.0</td>\n",
       "      <td>0.0</td>\n",
       "      <td>1.0</td>\n",
       "      <td>0.0</td>\n",
       "      <td>0.0</td>\n",
       "      <td>0.0</td>\n",
       "      <td>0.0</td>\n",
       "      <td>0.0</td>\n",
       "      <td>1.0</td>\n",
       "      <td>0.0</td>\n",
       "      <td>1.0</td>\n",
       "      <td>0.0</td>\n",
       "      <td>0.0</td>\n",
       "      <td>0.0</td>\n",
       "      <td>0.0</td>\n",
       "      <td>1.0</td>\n",
       "      <td>0.0</td>\n",
       "      <td>0.0</td>\n",
       "      <td>0.0</td>\n",
       "      <td>0.0</td>\n",
       "      <td>0.0</td>\n",
       "      <td>0.0</td>\n",
       "      <td>0.0</td>\n",
       "      <td>0.0</td>\n",
       "    </tr>\n",
       "    <tr>\n",
       "      <th>3</th>\n",
       "      <td>0.288098</td>\n",
       "      <td>0.5</td>\n",
       "      <td>0.5</td>\n",
       "      <td>0.0</td>\n",
       "      <td>0.0</td>\n",
       "      <td>0.0</td>\n",
       "      <td>0.0</td>\n",
       "      <td>1.0</td>\n",
       "      <td>0.0</td>\n",
       "      <td>0.0</td>\n",
       "      <td>0.0</td>\n",
       "      <td>0.0</td>\n",
       "      <td>0.0</td>\n",
       "      <td>0.0</td>\n",
       "      <td>0.0</td>\n",
       "      <td>0.0</td>\n",
       "      <td>0.0</td>\n",
       "      <td>0.0</td>\n",
       "      <td>0.0</td>\n",
       "      <td>0.0</td>\n",
       "      <td>0.0</td>\n",
       "      <td>0.0</td>\n",
       "      <td>0.0</td>\n",
       "      <td>0.0</td>\n",
       "      <td>0.0</td>\n",
       "      <td>1.0</td>\n",
       "      <td>0.0</td>\n",
       "      <td>0.0</td>\n",
       "      <td>0.0</td>\n",
       "      <td>0.0</td>\n",
       "      <td>0.0</td>\n",
       "      <td>0.0</td>\n",
       "      <td>0.0</td>\n",
       "      <td>0.0</td>\n",
       "      <td>0.0</td>\n",
       "      <td>0.0</td>\n",
       "      <td>0.0</td>\n",
       "      <td>0.0</td>\n",
       "      <td>0.0</td>\n",
       "      <td>0.0</td>\n",
       "      <td>0.0</td>\n",
       "      <td>1.0</td>\n",
       "      <td>0.0</td>\n",
       "      <td>0.0</td>\n",
       "      <td>1.0</td>\n",
       "      <td>0.0</td>\n",
       "      <td>0.0</td>\n",
       "      <td>0.0</td>\n",
       "      <td>0.0</td>\n",
       "      <td>0.0</td>\n",
       "      <td>1.0</td>\n",
       "      <td>1.0</td>\n",
       "      <td>0.0</td>\n",
       "      <td>0.0</td>\n",
       "      <td>0.0</td>\n",
       "      <td>0.0</td>\n",
       "      <td>0.0</td>\n",
       "      <td>1.0</td>\n",
       "      <td>0.0</td>\n",
       "      <td>0.0</td>\n",
       "      <td>0.0</td>\n",
       "      <td>0.0</td>\n",
       "      <td>0.0</td>\n",
       "      <td>0.0</td>\n",
       "      <td>0.0</td>\n",
       "      <td>0.0</td>\n",
       "    </tr>\n",
       "    <tr>\n",
       "      <th>4</th>\n",
       "      <td>0.558198</td>\n",
       "      <td>0.5</td>\n",
       "      <td>1.0</td>\n",
       "      <td>0.0</td>\n",
       "      <td>0.0</td>\n",
       "      <td>0.0</td>\n",
       "      <td>0.0</td>\n",
       "      <td>1.0</td>\n",
       "      <td>0.0</td>\n",
       "      <td>0.0</td>\n",
       "      <td>0.0</td>\n",
       "      <td>0.0</td>\n",
       "      <td>0.0</td>\n",
       "      <td>0.0</td>\n",
       "      <td>0.0</td>\n",
       "      <td>0.0</td>\n",
       "      <td>0.0</td>\n",
       "      <td>0.0</td>\n",
       "      <td>0.0</td>\n",
       "      <td>1.0</td>\n",
       "      <td>0.0</td>\n",
       "      <td>0.0</td>\n",
       "      <td>0.0</td>\n",
       "      <td>0.0</td>\n",
       "      <td>0.0</td>\n",
       "      <td>0.0</td>\n",
       "      <td>0.0</td>\n",
       "      <td>0.0</td>\n",
       "      <td>1.0</td>\n",
       "      <td>0.0</td>\n",
       "      <td>0.0</td>\n",
       "      <td>0.0</td>\n",
       "      <td>0.0</td>\n",
       "      <td>0.0</td>\n",
       "      <td>0.0</td>\n",
       "      <td>0.0</td>\n",
       "      <td>0.0</td>\n",
       "      <td>0.0</td>\n",
       "      <td>0.0</td>\n",
       "      <td>0.0</td>\n",
       "      <td>1.0</td>\n",
       "      <td>0.0</td>\n",
       "      <td>0.0</td>\n",
       "      <td>0.0</td>\n",
       "      <td>1.0</td>\n",
       "      <td>0.0</td>\n",
       "      <td>0.0</td>\n",
       "      <td>0.0</td>\n",
       "      <td>0.0</td>\n",
       "      <td>0.0</td>\n",
       "      <td>1.0</td>\n",
       "      <td>0.0</td>\n",
       "      <td>0.0</td>\n",
       "      <td>0.0</td>\n",
       "      <td>0.0</td>\n",
       "      <td>0.0</td>\n",
       "      <td>0.0</td>\n",
       "      <td>1.0</td>\n",
       "      <td>0.0</td>\n",
       "      <td>0.0</td>\n",
       "      <td>0.0</td>\n",
       "      <td>0.0</td>\n",
       "      <td>0.0</td>\n",
       "      <td>0.0</td>\n",
       "      <td>0.0</td>\n",
       "      <td>0.0</td>\n",
       "    </tr>\n",
       "  </tbody>\n",
       "</table>\n",
       "</div>"
      ],
      "text/plain": [
       "   Total Time Spent on Website  Asymmetrique Activity Index  \\\n",
       "0                     0.383874                          0.5   \n",
       "1                     0.829975                          0.5   \n",
       "2                     0.772359                          0.5   \n",
       "3                     0.288098                          0.5   \n",
       "4                     0.558198                          0.5   \n",
       "\n",
       "   Asymmetrique Profile Index  Lead Source_Organic Search  \\\n",
       "0                         0.5                         0.0   \n",
       "1                         1.0                         0.0   \n",
       "2                         0.0                         0.0   \n",
       "3                         0.5                         0.0   \n",
       "4                         1.0                         0.0   \n",
       "\n",
       "   Lead Source_Other Sources  Lead Source_Reference  Do Not Email_Yes  \\\n",
       "0                        0.0                    0.0               0.0   \n",
       "1                        0.0                    0.0               0.0   \n",
       "2                        0.0                    0.0               0.0   \n",
       "3                        0.0                    0.0               0.0   \n",
       "4                        0.0                    0.0               0.0   \n",
       "\n",
       "   Last Activity_Email Responded  Last Activity_Email Unsubscribed  \\\n",
       "0                            1.0                               0.0   \n",
       "1                            0.0                               0.0   \n",
       "2                            1.0                               0.0   \n",
       "3                            1.0                               0.0   \n",
       "4                            1.0                               0.0   \n",
       "\n",
       "   Last Activity_Olark Chat Conversation  \\\n",
       "0                                    0.0   \n",
       "1                                    0.0   \n",
       "2                                    0.0   \n",
       "3                                    0.0   \n",
       "4                                    0.0   \n",
       "\n",
       "   Last Activity_Page Visited on Website  Last Activity_SMS Reverted  \\\n",
       "0                                    0.0                         0.0   \n",
       "1                                    0.0                         0.0   \n",
       "2                                    0.0                         0.0   \n",
       "3                                    0.0                         0.0   \n",
       "4                                    0.0                         0.0   \n",
       "\n",
       "   Country_other_country  Country_unknown  Specialization_HR  \\\n",
       "0                    0.0              0.0                0.0   \n",
       "1                    0.0              0.0                0.0   \n",
       "2                    0.0              0.0                0.0   \n",
       "3                    0.0              0.0                0.0   \n",
       "4                    0.0              0.0                0.0   \n",
       "\n",
       "   Specialization_Healthcare  Specialization_IT Projects  \\\n",
       "0                        0.0                         1.0   \n",
       "1                        0.0                         0.0   \n",
       "2                        0.0                         0.0   \n",
       "3                        0.0                         0.0   \n",
       "4                        0.0                         0.0   \n",
       "\n",
       "   Specialization_International Business  Specialization_Logistics  \\\n",
       "0                                    0.0                       0.0   \n",
       "1                                    0.0                       0.0   \n",
       "2                                    0.0                       0.0   \n",
       "3                                    0.0                       0.0   \n",
       "4                                    0.0                       0.0   \n",
       "\n",
       "   Specialization_Marketing  Specialization_Rural and Agribusiness  \\\n",
       "0                       0.0                                    0.0   \n",
       "1                       1.0                                    0.0   \n",
       "2                       0.0                                    0.0   \n",
       "3                       0.0                                    0.0   \n",
       "4                       1.0                                    0.0   \n",
       "\n",
       "   Specialization_Tourism  Specialization_unknown  \\\n",
       "0                     0.0                     0.0   \n",
       "1                     0.0                     0.0   \n",
       "2                     1.0                     0.0   \n",
       "3                     0.0                     0.0   \n",
       "4                     0.0                     0.0   \n",
       "\n",
       "   How did you hear about X Education_Email  \\\n",
       "0                                       0.0   \n",
       "1                                       0.0   \n",
       "2                                       0.0   \n",
       "3                                       0.0   \n",
       "4                                       0.0   \n",
       "\n",
       "   How did you hear about X Education_Multiple Sources  \\\n",
       "0                                                1.0     \n",
       "1                                                0.0     \n",
       "2                                                0.0     \n",
       "3                                                0.0     \n",
       "4                                                0.0     \n",
       "\n",
       "   How did you hear about X Education_Online Search  \\\n",
       "0                                               0.0   \n",
       "1                                               0.0   \n",
       "2                                               0.0   \n",
       "3                                               1.0   \n",
       "4                                               0.0   \n",
       "\n",
       "   How did you hear about X Education_Other  \\\n",
       "0                                       0.0   \n",
       "1                                       1.0   \n",
       "2                                       0.0   \n",
       "3                                       0.0   \n",
       "4                                       0.0   \n",
       "\n",
       "   How did you hear about X Education_SMS  \\\n",
       "0                                     0.0   \n",
       "1                                     0.0   \n",
       "2                                     0.0   \n",
       "3                                     0.0   \n",
       "4                                     0.0   \n",
       "\n",
       "   How did you hear about X Education_Social Media  \\\n",
       "0                                              0.0   \n",
       "1                                              0.0   \n",
       "2                                              0.0   \n",
       "3                                              0.0   \n",
       "4                                              1.0   \n",
       "\n",
       "   How did you hear about X Education_Student of SomeSchool  \\\n",
       "0                                                0.0          \n",
       "1                                                0.0          \n",
       "2                                                0.0          \n",
       "3                                                0.0          \n",
       "4                                                0.0          \n",
       "\n",
       "   How did you hear about X Education_Word Of Mouth  \\\n",
       "0                                               0.0   \n",
       "1                                               0.0   \n",
       "2                                               0.0   \n",
       "3                                               0.0   \n",
       "4                                               0.0   \n",
       "\n",
       "   How did you hear about X Education_unknown  \\\n",
       "0                                         0.0   \n",
       "1                                         0.0   \n",
       "2                                         1.0   \n",
       "3                                         0.0   \n",
       "4                                         0.0   \n",
       "\n",
       "   What is your current occupation_Others  \\\n",
       "0                                     0.0   \n",
       "1                                     0.0   \n",
       "2                                     0.0   \n",
       "3                                     0.0   \n",
       "4                                     0.0   \n",
       "\n",
       "   What is your current occupation_Student  \\\n",
       "0                                      0.0   \n",
       "1                                      0.0   \n",
       "2                                      0.0   \n",
       "3                                      0.0   \n",
       "4                                      0.0   \n",
       "\n",
       "   What is your current occupation_Working Professional  \\\n",
       "0                                                0.0      \n",
       "1                                                0.0      \n",
       "2                                                0.0      \n",
       "3                                                0.0      \n",
       "4                                                0.0      \n",
       "\n",
       "   What matters most to you in choosing a course_Others  \\\n",
       "0                                                0.0      \n",
       "1                                                0.0      \n",
       "2                                                0.0      \n",
       "3                                                0.0      \n",
       "4                                                0.0      \n",
       "\n",
       "   Tags_Graduation in progress  Tags_Lost to Others  Tags_Not Eligible  \\\n",
       "0                          0.0                  0.0                0.0   \n",
       "1                          0.0                  1.0                0.0   \n",
       "2                          0.0                  0.0                0.0   \n",
       "3                          0.0                  0.0                0.0   \n",
       "4                          0.0                  0.0                0.0   \n",
       "\n",
       "   Tags_Not Reachable  Tags_Response Received  Tags_Status Unknown  \\\n",
       "0                 1.0                     0.0                  0.0   \n",
       "1                 0.0                     0.0                  0.0   \n",
       "2                 0.0                     1.0                  0.0   \n",
       "3                 0.0                     0.0                  1.0   \n",
       "4                 0.0                     1.0                  0.0   \n",
       "\n",
       "   Lead Quality_Low in Relevance  Lead Quality_Might be  \\\n",
       "0                            0.0                    0.0   \n",
       "1                            0.0                    0.0   \n",
       "2                            0.0                    0.0   \n",
       "3                            0.0                    0.0   \n",
       "4                            0.0                    0.0   \n",
       "\n",
       "   Lead Quality_Not Sure  Lead Quality_Worst  Lead Profile_Lateral Student  \\\n",
       "0                    1.0                 0.0                           0.0   \n",
       "1                    1.0                 0.0                           0.0   \n",
       "2                    1.0                 0.0                           0.0   \n",
       "3                    1.0                 0.0                           0.0   \n",
       "4                    1.0                 0.0                           0.0   \n",
       "\n",
       "   Lead Profile_Other Leads  Lead Profile_Potential Lead  \\\n",
       "0                       0.0                          0.0   \n",
       "1                       1.0                          0.0   \n",
       "2                       0.0                          0.0   \n",
       "3                       0.0                          0.0   \n",
       "4                       0.0                          0.0   \n",
       "\n",
       "   Lead Profile_Student of SomeSchool  Lead Profile_Unknown  City_Tier2  \\\n",
       "0                                 0.0                   1.0         0.0   \n",
       "1                                 0.0                   0.0         0.0   \n",
       "2                                 0.0                   1.0         0.0   \n",
       "3                                 0.0                   1.0         1.0   \n",
       "4                                 0.0                   1.0         0.0   \n",
       "\n",
       "   City_Unknown  A free copy of Mastering The Interview_Yes  \\\n",
       "0           0.0                                         0.0   \n",
       "1           0.0                                         0.0   \n",
       "2           1.0                                         0.0   \n",
       "3           0.0                                         0.0   \n",
       "4           0.0                                         0.0   \n",
       "\n",
       "   Last Notable Activity_Email Bounced  \\\n",
       "0                                  0.0   \n",
       "1                                  0.0   \n",
       "2                                  0.0   \n",
       "3                                  0.0   \n",
       "4                                  0.0   \n",
       "\n",
       "   Last Notable Activity_Email Link Clicked  \\\n",
       "0                                       0.0   \n",
       "1                                       0.0   \n",
       "2                                       0.0   \n",
       "3                                       0.0   \n",
       "4                                       0.0   \n",
       "\n",
       "   Last Notable Activity_Email Marked Spam  \\\n",
       "0                                      0.0   \n",
       "1                                      0.0   \n",
       "2                                      0.0   \n",
       "3                                      0.0   \n",
       "4                                      0.0   \n",
       "\n",
       "   Last Notable Activity_Email Opened  \\\n",
       "0                                 1.0   \n",
       "1                                 0.0   \n",
       "2                                 1.0   \n",
       "3                                 1.0   \n",
       "4                                 1.0   \n",
       "\n",
       "   Last Notable Activity_Had a Phone Conversation  \\\n",
       "0                                             0.0   \n",
       "1                                             0.0   \n",
       "2                                             0.0   \n",
       "3                                             0.0   \n",
       "4                                             0.0   \n",
       "\n",
       "   Last Notable Activity_Modified  \\\n",
       "0                             0.0   \n",
       "1                             1.0   \n",
       "2                             0.0   \n",
       "3                             0.0   \n",
       "4                             0.0   \n",
       "\n",
       "   Last Notable Activity_Olark Chat Conversation  \\\n",
       "0                                            0.0   \n",
       "1                                            0.0   \n",
       "2                                            0.0   \n",
       "3                                            0.0   \n",
       "4                                            0.0   \n",
       "\n",
       "   Last Notable Activity_Page Visited on Website  \\\n",
       "0                                            0.0   \n",
       "1                                            0.0   \n",
       "2                                            0.0   \n",
       "3                                            0.0   \n",
       "4                                            0.0   \n",
       "\n",
       "   Last Notable Activity_Resubscribed to emails  \\\n",
       "0                                           0.0   \n",
       "1                                           0.0   \n",
       "2                                           0.0   \n",
       "3                                           0.0   \n",
       "4                                           0.0   \n",
       "\n",
       "   Last Notable Activity_SMS Sent  Last Notable Activity_Unreachable  \\\n",
       "0                             0.0                                0.0   \n",
       "1                             0.0                                0.0   \n",
       "2                             0.0                                0.0   \n",
       "3                             0.0                                0.0   \n",
       "4                             0.0                                0.0   \n",
       "\n",
       "   Last Notable Activity_Unsubscribed  \n",
       "0                                 0.0  \n",
       "1                                 0.0  \n",
       "2                                 0.0  \n",
       "3                                 0.0  \n",
       "4                                 0.0  "
      ]
     },
     "execution_count": 187,
     "metadata": {
      "tags": []
     },
     "output_type": "execute_result"
    }
   ],
   "source": [
    "X_test_selcols.head()"
   ]
  },
  {
   "cell_type": "code",
   "execution_count": 187,
   "metadata": {
    "id": "jfYw5lGzpWwW"
   },
   "outputs": [],
   "source": []
  },
  {
   "cell_type": "code",
   "execution_count": 188,
   "metadata": {
    "id": "6flc3eT0pWwW"
   },
   "outputs": [],
   "source": [
    "model=[]\n",
    "accuracy_score=[]\n",
    "roc_auc_score=[]\n",
    "recall_score=[]\n",
    "precision_score=[]\n",
    "f1_score=[]"
   ]
  },
  {
   "cell_type": "code",
   "execution_count": 188,
   "metadata": {
    "id": "z-OHj7PhpWwW"
   },
   "outputs": [],
   "source": []
  },
  {
   "cell_type": "code",
   "execution_count": 188,
   "metadata": {
    "id": "TXJAwdTzpWwW"
   },
   "outputs": [],
   "source": []
  },
  {
   "cell_type": "code",
   "execution_count": 189,
   "metadata": {
    "id": "zh91PwL6pWwW"
   },
   "outputs": [],
   "source": [
    "# now applying basic Logistic Regression model"
   ]
  },
  {
   "cell_type": "code",
   "execution_count": 190,
   "metadata": {
    "id": "fYrV3m0lpWwW"
   },
   "outputs": [],
   "source": [
    "lr=LogisticRegression()"
   ]
  },
  {
   "cell_type": "code",
   "execution_count": 191,
   "metadata": {
    "colab": {
     "base_uri": "https://localhost:8080/"
    },
    "id": "dAjrhKj7pWwX",
    "outputId": "1cba7f70-6982-4020-dd9e-23ea4a571f16"
   },
   "outputs": [
    {
     "data": {
      "text/plain": [
       "LogisticRegression(C=1.0, class_weight=None, dual=False, fit_intercept=True,\n",
       "                   intercept_scaling=1, l1_ratio=None, max_iter=100,\n",
       "                   multi_class='auto', n_jobs=None, penalty='l2',\n",
       "                   random_state=None, solver='lbfgs', tol=0.0001, verbose=0,\n",
       "                   warm_start=False)"
      ]
     },
     "execution_count": 191,
     "metadata": {
      "tags": []
     },
     "output_type": "execute_result"
    }
   ],
   "source": [
    "lr.fit(X_train_selcols,y_train)"
   ]
  },
  {
   "cell_type": "code",
   "execution_count": 191,
   "metadata": {
    "id": "Ylr6-GzfpWwX"
   },
   "outputs": [],
   "source": []
  },
  {
   "cell_type": "code",
   "execution_count": 192,
   "metadata": {
    "id": "X5xYdEn2pWwX"
   },
   "outputs": [],
   "source": [
    "y_test_pred=lr.predict(X_test_selcols)\n",
    "y_test_predprob=lr.predict_proba(X_test_selcols)[:,1]"
   ]
  },
  {
   "cell_type": "code",
   "execution_count": 193,
   "metadata": {
    "id": "coJzCRfdpWwX"
   },
   "outputs": [],
   "source": [
    "from sklearn import metrics"
   ]
  },
  {
   "cell_type": "code",
   "execution_count": 194,
   "metadata": {
    "colab": {
     "base_uri": "https://localhost:8080/"
    },
    "id": "_kBT0jmlpWwY",
    "outputId": "a8407d59-d522-4092-f686-ccad69e2cfb1"
   },
   "outputs": [
    {
     "name": "stdout",
     "output_type": "stream",
     "text": [
      "accuracy score on train set = 0.9025974025974026\n"
     ]
    }
   ],
   "source": [
    "# printing accuracy score on train set after building basic logistic regression model\n",
    "\n",
    "\n",
    "print('accuracy score on train set =',lr.score(X_train_selcols,y_train))\n"
   ]
  },
  {
   "cell_type": "code",
   "execution_count": 195,
   "metadata": {
    "colab": {
     "base_uri": "https://localhost:8080/"
    },
    "id": "ociKodKEpWwY",
    "outputId": "d50958fd-183f-4c52-d425-32a90e21816d"
   },
   "outputs": [
    {
     "name": "stdout",
     "output_type": "stream",
     "text": [
      "accuracy score on test set= 0.9090909090909091\n",
      "roc_auc_score on test set= 0.9595412704345057\n",
      "precision score on test set= 0.8971028971028971\n",
      "recall score on test set= 0.8576886341929322\n",
      "f1 score on test set= 0.876953125\n"
     ]
    }
   ],
   "source": [
    "# printing all scores on test set after building basic logistc regression model\n",
    "\n",
    "model.append('Logistic Regression')\n",
    "accuracy_score.append(lr.score(X_test_selcols,y_test))\n",
    "roc_auc_score.append(metrics.roc_auc_score(y_test,y_test_predprob))\n",
    "recall_score.append(metrics.recall_score(y_test,y_test_pred))\n",
    "precision_score.append(metrics.precision_score(y_test,y_test_pred))\n",
    "f1_score.append(metrics.f1_score(y_test,y_test_pred))\n",
    "\n",
    "print('accuracy score on test set=',lr.score(X_test_selcols,y_test))\n",
    "print('roc_auc_score on test set=',metrics.roc_auc_score(y_test,y_test_predprob))\n",
    "print('precision score on test set=',metrics.precision_score(y_test,y_test_pred))\n",
    "print('recall score on test set=',metrics.recall_score(y_test,y_test_pred))\n",
    "print('f1 score on test set=',metrics.f1_score(y_test,y_test_pred))"
   ]
  },
  {
   "cell_type": "code",
   "execution_count": 196,
   "metadata": {
    "colab": {
     "base_uri": "https://localhost:8080/"
    },
    "id": "MUlQq6HKpWwZ",
    "outputId": "5c98cf92-39d1-42a2-ad3a-37f72e7f8857"
   },
   "outputs": [
    {
     "data": {
      "text/plain": [
       "array([[1622,  103],\n",
       "       [ 149,  898]])"
      ]
     },
     "execution_count": 196,
     "metadata": {
      "tags": []
     },
     "output_type": "execute_result"
    }
   ],
   "source": [
    "metrics.confusion_matrix(y_test,y_test_pred)"
   ]
  },
  {
   "cell_type": "code",
   "execution_count": 197,
   "metadata": {
    "id": "ewPk2xCRpWwZ"
   },
   "outputs": [],
   "source": [
    "from sklearn.metrics import roc_curve"
   ]
  },
  {
   "cell_type": "code",
   "execution_count": 198,
   "metadata": {
    "id": "FITTQHywpWwZ"
   },
   "outputs": [],
   "source": [
    "y_train_pred=lr.predict(X_train_selcols)\n",
    "y_train_predprob=lr.predict_proba(X_train_selcols)[:,1]"
   ]
  },
  {
   "cell_type": "code",
   "execution_count": 199,
   "metadata": {
    "colab": {
     "base_uri": "https://localhost:8080/",
     "height": 281
    },
    "id": "3byPYO5wpWwa",
    "outputId": "0e15ddfb-7ba2-4625-c063-7e9aa6f7a92d"
   },
   "outputs": [
    {
     "data": {
      "image/png": "[encoded data removed]",
      "text/plain": [
       "<Figure size 432x288 with 1 Axes>"
      ]
     },
     "metadata": {
      "needs_background": "light",
      "tags": []
     },
     "output_type": "display_data"
    }
   ],
   "source": [
    "fpr,tpr,thresholds=metrics.roc_curve(y_test,y_test_predprob)\n",
    "fpr1,tpr1,thresholds1=metrics.roc_curve(y_train,y_train_predprob)\n",
    "\n",
    "thresholds=thresholds[0]-1\n",
    "thresholds1=thresholds1[0]-1\n",
    "\n",
    "plt.plot(fpr1,tpr1,'y',label='train_set')\n",
    "\n",
    "\n",
    "plt.plot(fpr,tpr,'b',label='test_set')\n",
    "\n",
    "plt.plot(fpr1,fpr1,'r')\n",
    "plt.legend()\n",
    "plt.title('roc auc curve')\n",
    "\n",
    "plt.show()"
   ]
  },
  {
   "cell_type": "code",
   "execution_count": 199,
   "metadata": {
    "id": "kNSQs4vbpWwa"
   },
   "outputs": [],
   "source": []
  },
  {
   "cell_type": "code",
   "execution_count": 199,
   "metadata": {
    "id": "I4aa6_wypWwa"
   },
   "outputs": [],
   "source": []
  },
  {
   "cell_type": "code",
   "execution_count": 200,
   "metadata": {
    "id": "YWzLT66gpWwa"
   },
   "outputs": [],
   "source": [
    "# now applying random forest Classifier with hyperparameter tuning"
   ]
  },
  {
   "cell_type": "code",
   "execution_count": 201,
   "metadata": {
    "id": "9YsBY88upWwa"
   },
   "outputs": [],
   "source": [
    "from sklearn.ensemble import RandomForestClassifier"
   ]
  },
  {
   "cell_type": "code",
   "execution_count": 202,
   "metadata": {
    "id": "YG8sKvwDpWwb"
   },
   "outputs": [],
   "source": [
    "rfc=RandomForestClassifier(random_state=10)"
   ]
  },
  {
   "cell_type": "code",
   "execution_count": 203,
   "metadata": {
    "id": "910Xyer3pWwb"
   },
   "outputs": [],
   "source": [
    "#params={'n_estimators':np.arange(80,200),'max_depth':np.arange(2,8),'min_samples_split':np.arange(2,30),\n",
    "#      'min_samples_leaf':np.arange(1,20)}"
   ]
  },
  {
   "cell_type": "code",
   "execution_count": 204,
   "metadata": {
    "id": "ujiW0zFGpWwb"
   },
   "outputs": [],
   "source": [
    "#from sklearn.model_selection import GridSearchCV"
   ]
  },
  {
   "cell_type": "code",
   "execution_count": 205,
   "metadata": {
    "id": "1VijZCz9pWwc"
   },
   "outputs": [],
   "source": [
    "#gsearch=GridSearchCV(rfc,param_grid=params,cv=10,scoring='roc_auc')"
   ]
  },
  {
   "cell_type": "code",
   "execution_count": 206,
   "metadata": {
    "id": "dq5TBGSjpWwc"
   },
   "outputs": [],
   "source": [
    "#gsearch.fit(X_train_selcols,y_train)"
   ]
  },
  {
   "cell_type": "code",
   "execution_count": 207,
   "metadata": {
    "id": "Jyewu323pWwc"
   },
   "outputs": [],
   "source": [
    "from scipy.stats import randint as sp_randint"
   ]
  },
  {
   "cell_type": "code",
   "execution_count": 208,
   "metadata": {
    "id": "qZp1IfRrpWwc"
   },
   "outputs": [],
   "source": [
    "params={'n_estimators':sp_randint(80,250),'max_depth':sp_randint(2,10),'min_samples_split':sp_randint(2,30),\n",
    "       'min_samples_leaf':sp_randint(1,20)}"
   ]
  },
  {
   "cell_type": "code",
   "execution_count": 209,
   "metadata": {
    "id": "uz8n0amZpWwd"
   },
   "outputs": [],
   "source": [
    "from sklearn.model_selection import RandomizedSearchCV"
   ]
  },
  {
   "cell_type": "code",
   "execution_count": 210,
   "metadata": {
    "id": "T-eVF78RpWwd"
   },
   "outputs": [],
   "source": [
    "rsearch=RandomizedSearchCV(rfc,param_distributions=params,cv=10,scoring='roc_auc',n_iter=100,n_jobs=-1)"
   ]
  },
  {
   "cell_type": "code",
   "execution_count": 211,
   "metadata": {
    "colab": {
     "base_uri": "https://localhost:8080/"
    },
    "id": "HDJDUFtqpWwd",
    "outputId": "a84411c3-070e-448e-a433-f43c17a508b0"
   },
   "outputs": [
    {
     "data": {
      "text/plain": [
       "RandomizedSearchCV(cv=10, error_score=nan,\n",
       "                   estimator=RandomForestClassifier(bootstrap=True,\n",
       "                                                    ccp_alpha=0.0,\n",
       "                                                    class_weight=None,\n",
       "                                                    criterion='gini',\n",
       "                                                    max_depth=None,\n",
       "                                                    max_features='auto',\n",
       "                                                    max_leaf_nodes=None,\n",
       "                                                    max_samples=None,\n",
       "                                                    min_impurity_decrease=0.0,\n",
       "                                                    min_impurity_split=None,\n",
       "                                                    min_samples_leaf=1,\n",
       "                                                    min_samples_split=2,\n",
       "                                                    min_weight_fraction_leaf=0.0,\n",
       "                                                    n_estimators=100,\n",
       "                                                    n_job...\n",
       "                                        'min_samples_leaf': <scipy.stats._distn_infrastructure.rv_frozen object at 0x7f9a69783110>,\n",
       "                                        'min_samples_split': <scipy.stats._distn_infrastructure.rv_frozen object at 0x7f9a69783e50>,\n",
       "                                        'n_estimators': <scipy.stats._distn_infrastructure.rv_frozen object at 0x7f9a69831850>},\n",
       "                   pre_dispatch='2*n_jobs', random_state=None, refit=True,\n",
       "                   return_train_score=False, scoring='roc_auc', verbose=0)"
      ]
     },
     "execution_count": 211,
     "metadata": {
      "tags": []
     },
     "output_type": "execute_result"
    }
   ],
   "source": [
    "rsearch.fit(X_train_selcols,y_train)"
   ]
  },
  {
   "cell_type": "code",
   "execution_count": 212,
   "metadata": {
    "colab": {
     "base_uri": "https://localhost:8080/"
    },
    "id": "xUx2QYT2pWwd",
    "outputId": "60da5fd3-9537-44cf-ded9-4220b1b73b8b"
   },
   "outputs": [
    {
     "data": {
      "text/plain": [
       "{'max_depth': 9,\n",
       " 'min_samples_leaf': 2,\n",
       " 'min_samples_split': 16,\n",
       " 'n_estimators': 185}"
      ]
     },
     "execution_count": 212,
     "metadata": {
      "tags": []
     },
     "output_type": "execute_result"
    }
   ],
   "source": [
    "rsearch.best_params_"
   ]
  },
  {
   "cell_type": "code",
   "execution_count": 212,
   "metadata": {
    "id": "-nzaju1DpWwe"
   },
   "outputs": [],
   "source": []
  },
  {
   "cell_type": "code",
   "execution_count": 213,
   "metadata": {
    "id": "AqzExSdUpWwe"
   },
   "outputs": [],
   "source": [
    "rfc1=RandomForestClassifier(random_state=10,**rsearch.best_params_)"
   ]
  },
  {
   "cell_type": "code",
   "execution_count": 214,
   "metadata": {
    "colab": {
     "base_uri": "https://localhost:8080/"
    },
    "id": "ikA6JOqapWwe",
    "outputId": "57f2d3a5-d853-421c-eb3a-40b70b1d5c2f"
   },
   "outputs": [
    {
     "data": {
      "text/plain": [
       "RandomForestClassifier(bootstrap=True, ccp_alpha=0.0, class_weight=None,\n",
       "                       criterion='gini', max_depth=9, max_features='auto',\n",
       "                       max_leaf_nodes=None, max_samples=None,\n",
       "                       min_impurity_decrease=0.0, min_impurity_split=None,\n",
       "                       min_samples_leaf=2, min_samples_split=16,\n",
       "                       min_weight_fraction_leaf=0.0, n_estimators=185,\n",
       "                       n_jobs=None, oob_score=False, random_state=10, verbose=0,\n",
       "                       warm_start=False)"
      ]
     },
     "execution_count": 214,
     "metadata": {
      "tags": []
     },
     "output_type": "execute_result"
    }
   ],
   "source": [
    "rfc1.fit(X_train_selcols,y_train)"
   ]
  },
  {
   "cell_type": "code",
   "execution_count": 215,
   "metadata": {
    "id": "2RkuOazppWwe"
   },
   "outputs": [],
   "source": [
    "y_test_pred=rfc1.predict(X_test_selcols)\n",
    "y_test_predprob=rfc1.predict_proba(X_test_selcols)[:,1]"
   ]
  },
  {
   "cell_type": "code",
   "execution_count": 216,
   "metadata": {
    "id": "vzKxpdY4pWwe"
   },
   "outputs": [],
   "source": [
    "from sklearn import metrics"
   ]
  },
  {
   "cell_type": "code",
   "execution_count": 217,
   "metadata": {
    "colab": {
     "base_uri": "https://localhost:8080/"
    },
    "id": "iyOlAJfqpWwe",
    "outputId": "c628eba4-519c-4bfc-efc2-fbc6272061b1"
   },
   "outputs": [
    {
     "name": "stdout",
     "output_type": "stream",
     "text": [
      "accuracy score = 0.910482374768089\n"
     ]
    }
   ],
   "source": [
    "# printing accuracy score on train set after building random forest classifier\n",
    "\n",
    "print('accuracy score =',rfc1.score(X_train_selcols,y_train))\n"
   ]
  },
  {
   "cell_type": "code",
   "execution_count": 218,
   "metadata": {
    "colab": {
     "base_uri": "https://localhost:8080/"
    },
    "id": "TUXfmR7IpWwf",
    "outputId": "3df41d93-8575-44ae-b13a-128fc776b22d"
   },
   "outputs": [
    {
     "name": "stdout",
     "output_type": "stream",
     "text": [
      "accuracy score on test set= 0.9033189033189033\n",
      "roc_auc_score on test set= 0.966320889221101\n",
      "precision score on test set= 0.9266155531215772\n",
      "recall score on test set= 0.8080229226361032\n",
      "f1 score on test set= 0.8632653061224491\n"
     ]
    }
   ],
   "source": [
    "#printing all scores on test set\n",
    "\n",
    "model.append('Random Forest Classifier')\n",
    "accuracy_score.append(rfc1.score(X_test_selcols,y_test))\n",
    "roc_auc_score.append(metrics.roc_auc_score(y_test,y_test_predprob))\n",
    "recall_score.append(metrics.recall_score(y_test,y_test_pred))\n",
    "precision_score.append(metrics.precision_score(y_test,y_test_pred))\n",
    "f1_score.append(metrics.f1_score(y_test,y_test_pred))\n",
    "\n",
    "print('accuracy score on test set=',rfc1.score(X_test_selcols,y_test))\n",
    "print('roc_auc_score on test set=',metrics.roc_auc_score(y_test,y_test_predprob))\n",
    "print('precision score on test set=',metrics.precision_score(y_test,y_test_pred))\n",
    "print('recall score on test set=',metrics.recall_score(y_test,y_test_pred))\n",
    "print('f1 score on test set=',metrics.f1_score(y_test,y_test_pred))"
   ]
  },
  {
   "cell_type": "code",
   "execution_count": 219,
   "metadata": {
    "id": "jiNTkmHZpWwf"
   },
   "outputs": [],
   "source": [
    "y_train_pred=rfc1.predict(X_train_selcols)\n",
    "y_train_predprob=rfc1.predict_proba(X_train_selcols)[:,1]"
   ]
  },
  {
   "cell_type": "code",
   "execution_count": 220,
   "metadata": {
    "colab": {
     "base_uri": "https://localhost:8080/",
     "height": 281
    },
    "id": "PdJc8DELpWwf",
    "outputId": "d2a23332-062f-45b9-860a-0a10153b8885"
   },
   "outputs": [
    {
     "data": {
      "image/png": "[encoded data removed]",
      "text/plain": [
       "<Figure size 432x288 with 1 Axes>"
      ]
     },
     "metadata": {
      "needs_background": "light",
      "tags": []
     },
     "output_type": "display_data"
    }
   ],
   "source": [
    "fpr,tpr,thresholds=metrics.roc_curve(y_test,y_test_predprob)\n",
    "fpr1,tpr1,thresholds1=metrics.roc_curve(y_train,y_train_predprob)\n",
    "\n",
    "thresholds=thresholds[0]-1\n",
    "thresholds1=thresholds1[0]-1\n",
    "\n",
    "plt.plot(fpr1,tpr1,'y',label='train_set')\n",
    "\n",
    "\n",
    "plt.plot(fpr,tpr,'b',label='test_set')\n",
    "\n",
    "plt.plot(fpr1,fpr1,'r')\n",
    "plt.legend()\n",
    "plt.title('roc auc curve')\n",
    "\n",
    "plt.show()"
   ]
  },
  {
   "cell_type": "code",
   "execution_count": 220,
   "metadata": {
    "id": "gt4rH0DppWwf"
   },
   "outputs": [],
   "source": []
  },
  {
   "cell_type": "code",
   "execution_count": 220,
   "metadata": {
    "id": "MXZbhcKUpWwf"
   },
   "outputs": [],
   "source": []
  },
  {
   "cell_type": "code",
   "execution_count": 1,
   "metadata": {
    "id": "kccN3sSFpWwg"
   },
   "outputs": [],
   "source": [
    "from xgboost import XGBClassifier"
   ]
  },
  {
   "cell_type": "code",
   "execution_count": 2,
   "metadata": {
    "id": "lBeXAIMTpWwg"
   },
   "outputs": [],
   "source": [
    "xgb=XGBClassifier(random_state=10,eval_metric='logloss',use_label_encoder=False)"
   ]
  },
  {
   "cell_type": "code",
   "execution_count": 3,
   "metadata": {
    "id": "nliyRWQ4pWwg"
   },
   "outputs": [
    {
     "ename": "NameError",
     "evalue": "name 'sp_randint' is not defined",
     "output_type": "error",
     "traceback": [
      "\u001b[1;31m---------------------------------------------------------------------------\u001b[0m",
      "\u001b[1;31mNameError\u001b[0m                                 Traceback (most recent call last)",
      "\u001b[1;32m<ipython-input-3-17c45ed4ab9a>\u001b[0m in \u001b[0;36m<module>\u001b[1;34m\u001b[0m\n\u001b[1;32m----> 1\u001b[1;33m \u001b[0mparams\u001b[0m\u001b[1;33m=\u001b[0m\u001b[1;33m{\u001b[0m\u001b[1;34m'n_estimators'\u001b[0m\u001b[1;33m:\u001b[0m\u001b[0msp_randint\u001b[0m\u001b[1;33m(\u001b[0m\u001b[1;36m80\u001b[0m\u001b[1;33m,\u001b[0m\u001b[1;36m250\u001b[0m\u001b[1;33m)\u001b[0m\u001b[1;33m,\u001b[0m\u001b[1;34m'max_depth'\u001b[0m\u001b[1;33m:\u001b[0m\u001b[0msp_randint\u001b[0m\u001b[1;33m(\u001b[0m\u001b[1;36m2\u001b[0m\u001b[1;33m,\u001b[0m\u001b[1;36m10\u001b[0m\u001b[1;33m)\u001b[0m\u001b[1;33m,\u001b[0m\u001b[1;34m'learning_rate'\u001b[0m\u001b[1;33m:\u001b[0m\u001b[0mnp\u001b[0m\u001b[1;33m.\u001b[0m\u001b[0mlogspace\u001b[0m\u001b[1;33m(\u001b[0m\u001b[1;33m-\u001b[0m\u001b[1;36m3\u001b[0m\u001b[1;33m,\u001b[0m\u001b[1;33m-\u001b[0m\u001b[1;36m1\u001b[0m\u001b[1;33m,\u001b[0m\u001b[1;36m100\u001b[0m\u001b[1;33m)\u001b[0m\u001b[1;33m}\u001b[0m\u001b[1;33m\u001b[0m\u001b[1;33m\u001b[0m\u001b[0m\n\u001b[0m",
      "\u001b[1;31mNameError\u001b[0m: name 'sp_randint' is not defined"
     ]
    }
   ],
   "source": [
    "params={'n_estimators':sp_randint(80,250),'max_depth':sp_randint(2,10),'learning_rate':np.logspace(-3,-1,100)}"
   ]
  },
  {
   "cell_type": "code",
   "execution_count": 224,
   "metadata": {
    "id": "V4ZWgOiXpWwg"
   },
   "outputs": [],
   "source": [
    "from sklearn.model_selection import RandomizedSearchCV"
   ]
  },
  {
   "cell_type": "code",
   "execution_count": 225,
   "metadata": {
    "id": "8UxSLcK5pWwg"
   },
   "outputs": [],
   "source": [
    "rsearch=RandomizedSearchCV(xgb,param_distributions=params,cv=10,scoring='roc_auc',n_iter=100,n_jobs=-1)"
   ]
  },
  {
   "cell_type": "code",
   "execution_count": 226,
   "metadata": {
    "colab": {
     "base_uri": "https://localhost:8080/"
    },
    "id": "Jv7iZAxnpWwh",
    "outputId": "9331c888-e632-4c10-8481-eae10fab09c0"
   },
   "outputs": [
    {
     "data": {
      "text/plain": [
       "RandomizedSearchCV(cv=10, error_score=nan,\n",
       "                   estimator=XGBClassifier(base_score=0.5, booster='gbtree',\n",
       "                                           colsample_bylevel=1,\n",
       "                                           colsample_bynode=1,\n",
       "                                           colsample_bytree=1,\n",
       "                                           eval_metric='logloss', gamma=0,\n",
       "                                           learning_rate=0.1, max_delta_step=0,\n",
       "                                           max_depth=3, min_child_weight=1,\n",
       "                                           missing=None, n_estimators=100,\n",
       "                                           n_jobs=1, nthread=None,\n",
       "                                           objective='binary:logistic',\n",
       "                                           random_state=10, reg...\n",
       "       0.06579332, 0.06892612, 0.07220809, 0.07564633, 0.07924829,\n",
       "       0.08302176, 0.0869749 , 0.09111628, 0.09545485, 0.1       ]),\n",
       "                                        'max_depth': <scipy.stats._distn_infrastructure.rv_frozen object at 0x7f9a74380210>,\n",
       "                                        'n_estimators': <scipy.stats._distn_infrastructure.rv_frozen object at 0x7f9a74686950>},\n",
       "                   pre_dispatch='2*n_jobs', random_state=None, refit=True,\n",
       "                   return_train_score=False, scoring='roc_auc', verbose=0)"
      ]
     },
     "execution_count": 226,
     "metadata": {
      "tags": []
     },
     "output_type": "execute_result"
    }
   ],
   "source": [
    "rsearch.fit(X_train_selcols,y_train)"
   ]
  },
  {
   "cell_type": "code",
   "execution_count": 227,
   "metadata": {
    "colab": {
     "base_uri": "https://localhost:8080/"
    },
    "id": "yVlD24sapWwh",
    "outputId": "19f39913-a9af-4396-99b6-c48853e074c7"
   },
   "outputs": [
    {
     "data": {
      "text/plain": [
       "{'learning_rate': 0.07220809018385467, 'max_depth': 6, 'n_estimators': 147}"
      ]
     },
     "execution_count": 227,
     "metadata": {
      "tags": []
     },
     "output_type": "execute_result"
    }
   ],
   "source": [
    "rsearch.best_params_"
   ]
  },
  {
   "cell_type": "code",
   "execution_count": 228,
   "metadata": {
    "id": "ncVG-LUJpWwh"
   },
   "outputs": [],
   "source": [
    "xgb1=XGBClassifier(**rsearch.best_params_,random_state=10,eval_metric='logloss',use_label_encoder=False)"
   ]
  },
  {
   "cell_type": "code",
   "execution_count": 229,
   "metadata": {
    "colab": {
     "base_uri": "https://localhost:8080/"
    },
    "id": "ujUCalqPpWwh",
    "outputId": "99aab81e-287a-422d-b570-2c5e240aaf55"
   },
   "outputs": [
    {
     "data": {
      "text/plain": [
       "XGBClassifier(base_score=0.5, booster='gbtree', colsample_bylevel=1,\n",
       "              colsample_bynode=1, colsample_bytree=1, eval_metric='logloss',\n",
       "              gamma=0, learning_rate=0.07220809018385467, max_delta_step=0,\n",
       "              max_depth=6, min_child_weight=1, missing=None, n_estimators=147,\n",
       "              n_jobs=1, nthread=None, objective='binary:logistic',\n",
       "              random_state=10, reg_alpha=0, reg_lambda=1, scale_pos_weight=1,\n",
       "              seed=None, silent=None, subsample=1, use_label_encoder=False,\n",
       "              verbosity=1)"
      ]
     },
     "execution_count": 229,
     "metadata": {
      "tags": []
     },
     "output_type": "execute_result"
    }
   ],
   "source": [
    "xgb1.fit(X_train_selcols,y_train)"
   ]
  },
  {
   "cell_type": "code",
   "execution_count": 230,
   "metadata": {
    "id": "BnQZydrhpWwi"
   },
   "outputs": [],
   "source": [
    "y_test_pred=xgb1.predict(X_test_selcols)\n",
    "y_test_predprob=xgb1.predict_proba(X_test_selcols)[:,1]"
   ]
  },
  {
   "cell_type": "code",
   "execution_count": 231,
   "metadata": {
    "id": "_VxTi4fnpWwi"
   },
   "outputs": [],
   "source": [
    "from sklearn import metrics"
   ]
  },
  {
   "cell_type": "code",
   "execution_count": 232,
   "metadata": {
    "colab": {
     "base_uri": "https://localhost:8080/"
    },
    "id": "VPLi2mkTpWwi",
    "outputId": "8d6c261a-0738-4311-f716-da1c4322bd2e"
   },
   "outputs": [
    {
     "name": "stdout",
     "output_type": "stream",
     "text": [
      "accuracy score on train set= 0.9398577612863327\n"
     ]
    }
   ],
   "source": [
    "# printing accuracy score on train set \n",
    "\n",
    "print('accuracy score on train set=',xgb1.score(X_train_selcols,y_train))\n"
   ]
  },
  {
   "cell_type": "code",
   "execution_count": 233,
   "metadata": {
    "colab": {
     "base_uri": "https://localhost:8080/"
    },
    "id": "qspRxog_pWwi",
    "outputId": "90e8ccf0-ef11-4f5c-c546-a55c19eaefa3"
   },
   "outputs": [
    {
     "name": "stdout",
     "output_type": "stream",
     "text": [
      "accuracy score on test set= 0.9224386724386724\n",
      "roc_auc_score on test set= 0.9717066013316169\n",
      "precision score on test set = 0.9143426294820717\n",
      "recall score on test set= 0.8767908309455588\n",
      "f1 score on test set= 0.8951730862993661\n"
     ]
    }
   ],
   "source": [
    "# printing all scores on test set \n",
    "\n",
    "model.append('XGBoost Classifier')\n",
    "accuracy_score.append(xgb1.score(X_test_selcols,y_test))\n",
    "roc_auc_score.append(metrics.roc_auc_score(y_test,y_test_predprob))\n",
    "recall_score.append(metrics.recall_score(y_test,y_test_pred))\n",
    "precision_score.append(metrics.precision_score(y_test,y_test_pred))\n",
    "f1_score.append(metrics.f1_score(y_test,y_test_pred))\n",
    "\n",
    "print('accuracy score on test set=',xgb1.score(X_test_selcols,y_test))\n",
    "print('roc_auc_score on test set=',metrics.roc_auc_score(y_test,y_test_predprob))\n",
    "print('precision score on test set =',metrics.precision_score(y_test,y_test_pred))\n",
    "print('recall score on test set=',metrics.recall_score(y_test,y_test_pred))\n",
    "print('f1 score on test set=',metrics.f1_score(y_test,y_test_pred))"
   ]
  },
  {
   "cell_type": "code",
   "execution_count": 234,
   "metadata": {
    "id": "jqpTh6kDpWwj"
   },
   "outputs": [],
   "source": [
    "y_train_pred=xgb1.predict(X_train_selcols)\n",
    "y_train_predprob=xgb1.predict_proba(X_train_selcols)[:,1]"
   ]
  },
  {
   "cell_type": "code",
   "execution_count": 235,
   "metadata": {
    "colab": {
     "base_uri": "https://localhost:8080/",
     "height": 281
    },
    "id": "4RQ_as4PpWwj",
    "outputId": "54c0cd32-3306-402e-aeb0-fcb4d757d34d"
   },
   "outputs": [
    {
     "data": {
      "image/png": "[encoded data removed]",
      "text/plain": [
       "<Figure size 432x288 with 1 Axes>"
      ]
     },
     "metadata": {
      "needs_background": "light",
      "tags": []
     },
     "output_type": "display_data"
    }
   ],
   "source": [
    "fpr,tpr,thresholds=metrics.roc_curve(y_test,y_test_predprob)\n",
    "fpr1,tpr1,thresholds1=metrics.roc_curve(y_train,y_train_predprob)\n",
    "\n",
    "thresholds=thresholds[0]-1\n",
    "thresholds1=thresholds1[0]-1\n",
    "\n",
    "plt.plot(fpr1,tpr1,'y',label='train_set')\n",
    "\n",
    "\n",
    "plt.plot(fpr,tpr,'b',label='test_set')\n",
    "\n",
    "plt.plot(fpr,fpr,'r')\n",
    "plt.legend()\n",
    "plt.title('roc auc curve')\n",
    "\n",
    "plt.show()"
   ]
  },
  {
   "cell_type": "code",
   "execution_count": 235,
   "metadata": {
    "id": "IXPR6INhpWwj"
   },
   "outputs": [],
   "source": []
  },
  {
   "cell_type": "code",
   "execution_count": 235,
   "metadata": {
    "id": "VzX-iXZ_pWwj"
   },
   "outputs": [],
   "source": []
  },
  {
   "cell_type": "code",
   "execution_count": 236,
   "metadata": {
    "colab": {
     "base_uri": "https://localhost:8080/"
    },
    "id": "KmIObVympWwj",
    "outputId": "c1e0399c-79a4-4343-f3e7-af3a2432892d"
   },
   "outputs": [
    {
     "name": "stdout",
     "output_type": "stream",
     "text": [
      "Requirement already satisfied: lightgbm in /usr/local/lib/python3.7/dist-packages (2.2.3)\n",
      "Requirement already satisfied: scipy in /usr/local/lib/python3.7/dist-packages (from lightgbm) (1.4.1)\n",
      "Requirement already satisfied: numpy in /usr/local/lib/python3.7/dist-packages (from lightgbm) (1.19.5)\n",
      "Requirement already satisfied: scikit-learn in /usr/local/lib/python3.7/dist-packages (from lightgbm) (0.22.2.post1)\n",
      "Requirement already satisfied: joblib>=0.11 in /usr/local/lib/python3.7/dist-packages (from scikit-learn->lightgbm) (1.0.1)\n"
     ]
    }
   ],
   "source": [
    "!pip install lightgbm"
   ]
  },
  {
   "cell_type": "code",
   "execution_count": 237,
   "metadata": {
    "id": "3VC4sZoOpWwk"
   },
   "outputs": [],
   "source": [
    "from lightgbm import LGBMClassifier"
   ]
  },
  {
   "cell_type": "code",
   "execution_count": 238,
   "metadata": {
    "id": "sGddarJHpWwk"
   },
   "outputs": [],
   "source": [
    "lgb=LGBMClassifier(random_state=10)"
   ]
  },
  {
   "cell_type": "code",
   "execution_count": 239,
   "metadata": {
    "id": "ct2eNGunpWwk"
   },
   "outputs": [],
   "source": [
    "params={'n_estimators':sp_randint(80,250),'max_depth':sp_randint(2,10),'learning_rate':np.logspace(-3,-1,100)\n",
    "        }"
   ]
  },
  {
   "cell_type": "code",
   "execution_count": 242,
   "metadata": {
    "id": "5C65wCmdpWwk"
   },
   "outputs": [],
   "source": [
    "from sklearn.model_selection import RandomizedSearchCV"
   ]
  },
  {
   "cell_type": "code",
   "execution_count": 243,
   "metadata": {
    "id": "prspLxWdpWwk"
   },
   "outputs": [],
   "source": [
    "rsearch=RandomizedSearchCV(lgb,param_distributions=params,cv=10,scoring='roc_auc',n_iter=100,n_jobs=-1)"
   ]
  },
  {
   "cell_type": "code",
   "execution_count": 244,
   "metadata": {
    "colab": {
     "base_uri": "https://localhost:8080/"
    },
    "id": "9Gn9LkOvpWwk",
    "outputId": "381a20f5-f13b-494e-b5ac-820ed56c6d63"
   },
   "outputs": [
    {
     "data": {
      "text/plain": [
       "RandomizedSearchCV(cv=10, error_score=nan,\n",
       "                   estimator=LGBMClassifier(boosting_type='gbdt',\n",
       "                                            class_weight=None,\n",
       "                                            colsample_bytree=1.0,\n",
       "                                            importance_type='split',\n",
       "                                            learning_rate=0.1, max_depth=-1,\n",
       "                                            min_child_samples=20,\n",
       "                                            min_child_weight=0.001,\n",
       "                                            min_split_gain=0.0,\n",
       "                                            n_estimators=100, n_jobs=-1,\n",
       "                                            num_leaves=31, objective=None,\n",
       "                                            random_state=10, reg_alpha=0.0,\n",
       "                                            reg_lambda=0.0, silen...\n",
       "       0.06579332, 0.06892612, 0.07220809, 0.07564633, 0.07924829,\n",
       "       0.08302176, 0.0869749 , 0.09111628, 0.09545485, 0.1       ]),\n",
       "                                        'max_depth': <scipy.stats._distn_infrastructure.rv_frozen object at 0x7f9a74787950>,\n",
       "                                        'n_estimators': <scipy.stats._distn_infrastructure.rv_frozen object at 0x7f9a74629310>},\n",
       "                   pre_dispatch='2*n_jobs', random_state=None, refit=True,\n",
       "                   return_train_score=False, scoring='roc_auc', verbose=0)"
      ]
     },
     "execution_count": 244,
     "metadata": {
      "tags": []
     },
     "output_type": "execute_result"
    }
   ],
   "source": [
    "rsearch.fit(X_train_selcols,y_train)"
   ]
  },
  {
   "cell_type": "code",
   "execution_count": 245,
   "metadata": {
    "colab": {
     "base_uri": "https://localhost:8080/"
    },
    "id": "usokijX9pWwl",
    "outputId": "2a203c7d-a7de-4671-93eb-df7934f2d9f7"
   },
   "outputs": [
    {
     "data": {
      "text/plain": [
       "{'learning_rate': 0.04328761281083059, 'max_depth': 4, 'n_estimators': 249}"
      ]
     },
     "execution_count": 245,
     "metadata": {
      "tags": []
     },
     "output_type": "execute_result"
    }
   ],
   "source": [
    "rsearch.best_params_"
   ]
  },
  {
   "cell_type": "code",
   "execution_count": 246,
   "metadata": {
    "id": "DGoObK3PpWwl"
   },
   "outputs": [],
   "source": [
    "lgb1=LGBMClassifier(random_state=10,**rsearch.best_params_)"
   ]
  },
  {
   "cell_type": "code",
   "execution_count": 247,
   "metadata": {
    "colab": {
     "base_uri": "https://localhost:8080/"
    },
    "id": "yP6N5HHGpWwl",
    "outputId": "a0f9a017-cb85-42e2-d85d-769ee5ccbe83"
   },
   "outputs": [
    {
     "data": {
      "text/plain": [
       "LGBMClassifier(boosting_type='gbdt', class_weight=None, colsample_bytree=1.0,\n",
       "               importance_type='split', learning_rate=0.04328761281083059,\n",
       "               max_depth=4, min_child_samples=20, min_child_weight=0.001,\n",
       "               min_split_gain=0.0, n_estimators=249, n_jobs=-1, num_leaves=31,\n",
       "               objective=None, random_state=10, reg_alpha=0.0, reg_lambda=0.0,\n",
       "               silent=True, subsample=1.0, subsample_for_bin=200000,\n",
       "               subsample_freq=0)"
      ]
     },
     "execution_count": 247,
     "metadata": {
      "tags": []
     },
     "output_type": "execute_result"
    }
   ],
   "source": [
    "lgb1.fit(X_train_selcols,y_train)"
   ]
  },
  {
   "cell_type": "code",
   "execution_count": 248,
   "metadata": {
    "id": "7uysNXe-pWwl"
   },
   "outputs": [],
   "source": [
    "y_test_pred=lgb1.predict(X_test_selcols)\n",
    "y_test_predprob=lgb1.predict_proba(X_test_selcols)[:,1]"
   ]
  },
  {
   "cell_type": "code",
   "execution_count": 249,
   "metadata": {
    "id": "7F9WyspgpWwl"
   },
   "outputs": [],
   "source": [
    "from sklearn import metrics"
   ]
  },
  {
   "cell_type": "code",
   "execution_count": 250,
   "metadata": {
    "colab": {
     "base_uri": "https://localhost:8080/"
    },
    "id": "2FaNA3kjpWwm",
    "outputId": "0d671c6f-26d7-4431-a3b0-c580674e7361"
   },
   "outputs": [
    {
     "name": "stdout",
     "output_type": "stream",
     "text": [
      "accuracy score = 0.9256338899196042\n"
     ]
    }
   ],
   "source": [
    "# printing accuracy score on train set \n",
    "\n",
    "print('accuracy score =',lgb1.score(X_train_selcols,y_train))\n"
   ]
  },
  {
   "cell_type": "code",
   "execution_count": 251,
   "metadata": {
    "colab": {
     "base_uri": "https://localhost:8080/"
    },
    "id": "NawMcTAGpWwm",
    "outputId": "80493cb7-27bd-4943-f926-9563d10099f3"
   },
   "outputs": [
    {
     "name": "stdout",
     "output_type": "stream",
     "text": [
      "accuracy score on test set= 0.9181096681096681\n",
      "roc_auc_score on test set= 0.9708356518970697\n",
      "precision score on test set = 0.9108216432865731\n",
      "recall score pn test set= 0.8681948424068768\n",
      "f1 score on test set= 0.888997555012225\n"
     ]
    }
   ],
   "source": [
    "# printing all scores on test set \n",
    "\n",
    "model.append('Light GBM Clssifier')\n",
    "accuracy_score.append(lgb1.score(X_test_selcols,y_test))\n",
    "roc_auc_score.append(metrics.roc_auc_score(y_test,y_test_predprob))\n",
    "recall_score.append(metrics.recall_score(y_test,y_test_pred))\n",
    "precision_score.append(metrics.precision_score(y_test,y_test_pred))\n",
    "f1_score.append(metrics.f1_score(y_test,y_test_pred))\n",
    "\n",
    "print('accuracy score on test set=',lgb1.score(X_test_selcols,y_test))\n",
    "print('roc_auc_score on test set=',metrics.roc_auc_score(y_test,y_test_predprob))\n",
    "print('precision score on test set =',metrics.precision_score(y_test,y_test_pred))\n",
    "print('recall score pn test set=',metrics.recall_score(y_test,y_test_pred))\n",
    "print('f1 score on test set=',metrics.f1_score(y_test,y_test_pred))"
   ]
  },
  {
   "cell_type": "code",
   "execution_count": 252,
   "metadata": {
    "id": "21Un63G_pWwm"
   },
   "outputs": [],
   "source": [
    "y_train_pred=lgb1.predict(X_train_selcols)\n",
    "y_train_predprob=lgb1.predict_proba(X_train_selcols)[:,1]"
   ]
  },
  {
   "cell_type": "code",
   "execution_count": 253,
   "metadata": {
    "colab": {
     "base_uri": "https://localhost:8080/",
     "height": 281
    },
    "id": "rsdoLtOspWwm",
    "outputId": "e0d3885b-a13d-4c6f-ad44-ab8f7eb14b47"
   },
   "outputs": [
    {
     "data": {
      "image/png": "[encoded data removed]",
      "text/plain": [
       "<Figure size 432x288 with 1 Axes>"
      ]
     },
     "metadata": {
      "needs_background": "light",
      "tags": []
     },
     "output_type": "display_data"
    }
   ],
   "source": [
    "fpr,tpr,thresholds=metrics.roc_curve(y_test,y_test_predprob)\n",
    "fpr1,tpr1,thresholds1=metrics.roc_curve(y_train,y_train_predprob)\n",
    "\n",
    "thresholds=thresholds[0]-1\n",
    "thresholds1=thresholds1[0]-1\n",
    "\n",
    "plt.plot(fpr1,tpr1,'y',label='train_set')\n",
    "\n",
    "\n",
    "plt.plot(fpr,tpr,'b',label='test_set')\n",
    "\n",
    "plt.plot(fpr,fpr,'r')\n",
    "plt.legend()\n",
    "plt.title('roc auc curve')\n",
    "\n",
    "plt.show()"
   ]
  },
  {
   "cell_type": "code",
   "execution_count": 253,
   "metadata": {
    "id": "az8e4ibgpWwm"
   },
   "outputs": [],
   "source": []
  },
  {
   "cell_type": "code",
   "execution_count": 254,
   "metadata": {
    "colab": {
     "base_uri": "https://localhost:8080/",
     "height": 166
    },
    "id": "i0ZJXmO-pWwn",
    "outputId": "dbdbd210-49e5-41d9-ad70-a1e413d99198"
   },
   "outputs": [
    {
     "data": {
      "text/html": [
       "<div>\n",
       "<style scoped>\n",
       "    .dataframe tbody tr th:only-of-type {\n",
       "        vertical-align: middle;\n",
       "    }\n",
       "\n",
       "    .dataframe tbody tr th {\n",
       "        vertical-align: top;\n",
       "    }\n",
       "\n",
       "    .dataframe thead th {\n",
       "        text-align: right;\n",
       "    }\n",
       "</style>\n",
       "<table border=\"1\" class=\"dataframe\">\n",
       "  <thead>\n",
       "    <tr style=\"text-align: right;\">\n",
       "      <th></th>\n",
       "      <th>model</th>\n",
       "      <th>accuracy</th>\n",
       "      <th>roc_auc_score</th>\n",
       "      <th>precision</th>\n",
       "      <th>recall</th>\n",
       "      <th>f1_score</th>\n",
       "    </tr>\n",
       "  </thead>\n",
       "  <tbody>\n",
       "    <tr>\n",
       "      <th>0</th>\n",
       "      <td>Logistic Regression</td>\n",
       "      <td>0.909091</td>\n",
       "      <td>0.959541</td>\n",
       "      <td>0.897103</td>\n",
       "      <td>0.857689</td>\n",
       "      <td>0.876953</td>\n",
       "    </tr>\n",
       "    <tr>\n",
       "      <th>1</th>\n",
       "      <td>Random Forest Classifier</td>\n",
       "      <td>0.903319</td>\n",
       "      <td>0.966321</td>\n",
       "      <td>0.926616</td>\n",
       "      <td>0.808023</td>\n",
       "      <td>0.863265</td>\n",
       "    </tr>\n",
       "    <tr>\n",
       "      <th>2</th>\n",
       "      <td>XGBoost Classifier</td>\n",
       "      <td>0.922439</td>\n",
       "      <td>0.971707</td>\n",
       "      <td>0.914343</td>\n",
       "      <td>0.876791</td>\n",
       "      <td>0.895173</td>\n",
       "    </tr>\n",
       "    <tr>\n",
       "      <th>3</th>\n",
       "      <td>Light GBM Clssifier</td>\n",
       "      <td>0.918110</td>\n",
       "      <td>0.970836</td>\n",
       "      <td>0.910822</td>\n",
       "      <td>0.868195</td>\n",
       "      <td>0.888998</td>\n",
       "    </tr>\n",
       "  </tbody>\n",
       "</table>\n",
       "</div>"
      ],
      "text/plain": [
       "                      model  accuracy  roc_auc_score  precision    recall  \\\n",
       "0       Logistic Regression  0.909091       0.959541   0.897103  0.857689   \n",
       "1  Random Forest Classifier  0.903319       0.966321   0.926616  0.808023   \n",
       "2        XGBoost Classifier  0.922439       0.971707   0.914343  0.876791   \n",
       "3       Light GBM Clssifier  0.918110       0.970836   0.910822  0.868195   \n",
       "\n",
       "   f1_score  \n",
       "0  0.876953  \n",
       "1  0.863265  \n",
       "2  0.895173  \n",
       "3  0.888998  "
      ]
     },
     "execution_count": 254,
     "metadata": {
      "tags": []
     },
     "output_type": "execute_result"
    }
   ],
   "source": [
    "pd.DataFrame({'model':model,'accuracy':accuracy_score,'roc_auc_score':roc_auc_score,\n",
    "              'precision':precision_score,'recall':recall_score,'f1_score':f1_score})"
   ]
  },
  {
   "cell_type": "code",
   "execution_count": null,
   "metadata": {
    "id": "4XeORkzEpWwn"
   },
   "outputs": [],
   "source": []
  },
  {
   "cell_type": "code",
   "execution_count": 256,
   "metadata": {
    "id": "IASudZYppWwn"
   },
   "outputs": [],
   "source": [
    "#implementing Naive Bayes Classifier"
   ]
  },
  {
   "cell_type": "code",
   "execution_count": 257,
   "metadata": {
    "id": "NzkzFEn4pWwn"
   },
   "outputs": [],
   "source": [
    "from sklearn.naive_bayes import BernoulliNB"
   ]
  },
  {
   "cell_type": "code",
   "execution_count": 258,
   "metadata": {
    "id": "dBh5qND6pWwn"
   },
   "outputs": [],
   "source": [
    "bnb=BernoulliNB()"
   ]
  },
  {
   "cell_type": "code",
   "execution_count": 259,
   "metadata": {
    "colab": {
     "base_uri": "https://localhost:8080/"
    },
    "id": "rg6AjpsapWwn",
    "outputId": "a2bda082-c23e-49f6-9c82-f6bdceb2996e"
   },
   "outputs": [
    {
     "data": {
      "text/plain": [
       "BernoulliNB(alpha=1.0, binarize=0.0, class_prior=None, fit_prior=True)"
      ]
     },
     "execution_count": 259,
     "metadata": {
      "tags": []
     },
     "output_type": "execute_result"
    }
   ],
   "source": [
    "bnb.fit(X_train_selcols.drop(['Total Time Spent on Website','Asymmetrique Activity Index','Asymmetrique Profile Index'],axis=1),y_train)"
   ]
  },
  {
   "cell_type": "code",
   "execution_count": 260,
   "metadata": {
    "id": "OesgKYEMpWwo"
   },
   "outputs": [],
   "source": [
    "y_test_pred=bnb.predict(X_test_selcols.drop(['Total Time Spent on Website','Asymmetrique Activity Index','Asymmetrique Profile Index'],axis=1))\n",
    "y_test_predprob=bnb.predict_proba(X_test_selcols.drop(['Total Time Spent on Website','Asymmetrique Activity Index','Asymmetrique Profile Index'],axis=1))[:,1]\n",
    "\n"
   ]
  },
  {
   "cell_type": "code",
   "execution_count": 261,
   "metadata": {
    "id": "4GKOnbWXpWwo"
   },
   "outputs": [],
   "source": [
    "y_train_pred=bnb.predict(X_train_selcols.drop(['Total Time Spent on Website','Asymmetrique Activity Index','Asymmetrique Profile Index'],axis=1))\n",
    "y_train_predprob=bnb.predict_proba(X_train_selcols.drop(['Total Time Spent on Website','Asymmetrique Activity Index','Asymmetrique Profile Index'],axis=1))[:,1]\n",
    "\n"
   ]
  },
  {
   "cell_type": "code",
   "execution_count": 262,
   "metadata": {
    "colab": {
     "base_uri": "https://localhost:8080/"
    },
    "id": "PWewXytopWwo",
    "outputId": "e03bc08d-6f96-41e6-e98d-f677cefd98de"
   },
   "outputs": [
    {
     "name": "stdout",
     "output_type": "stream",
     "text": [
      "accuracy score on train set= 0.8225108225108225\n"
     ]
    }
   ],
   "source": [
    "# printing accuracy score on train set \n",
    "\n",
    "print('accuracy score on train set=',bnb.score(X_train_selcols.drop(['Total Time Spent on Website','Asymmetrique Activity Index','Asymmetrique Profile Index'],axis=1),y_train))\n"
   ]
  },
  {
   "cell_type": "code",
   "execution_count": 263,
   "metadata": {
    "colab": {
     "base_uri": "https://localhost:8080/"
    },
    "id": "f7HdUc1ppWwp",
    "outputId": "168dba19-8fcd-4aef-e3ce-446144c108c6"
   },
   "outputs": [
    {
     "name": "stdout",
     "output_type": "stream",
     "text": [
      "accuracy score on test set= 0.8246753246753247\n",
      "roc_auc_score on test set= 0.9006511357501765\n",
      "precision score on test set = 0.8375451263537906\n",
      "recall score on test set= 0.664756446991404\n",
      "f1 score on test set= 0.7412140575079873\n"
     ]
    }
   ],
   "source": [
    "# printing all scores on test set \n",
    "\n",
    "model.append('Naive bayes Classifier')\n",
    "accuracy_score.append(bnb.score(X_test_selcols.drop(['Total Time Spent on Website','Asymmetrique Activity Index','Asymmetrique Profile Index'],axis=1),y_test))\n",
    "roc_auc_score.append(metrics.roc_auc_score(y_test,y_test_predprob))\n",
    "recall_score.append(metrics.recall_score(y_test,y_test_pred))\n",
    "precision_score.append(metrics.precision_score(y_test,y_test_pred))\n",
    "f1_score.append(metrics.f1_score(y_test,y_test_pred))\n",
    "\n",
    "print('accuracy score on test set=',bnb.score(X_test_selcols.drop(['Total Time Spent on Website','Asymmetrique Activity Index','Asymmetrique Profile Index'],axis=1),y_test))\n",
    "print('roc_auc_score on test set=',metrics.roc_auc_score(y_test,y_test_predprob))\n",
    "print('precision score on test set =',metrics.precision_score(y_test,y_test_pred))\n",
    "print('recall score on test set=',metrics.recall_score(y_test,y_test_pred))\n",
    "print('f1 score on test set=',metrics.f1_score(y_test,y_test_pred))"
   ]
  },
  {
   "cell_type": "code",
   "execution_count": 263,
   "metadata": {
    "id": "XSDPWI9ZpWwp"
   },
   "outputs": [],
   "source": []
  },
  {
   "cell_type": "code",
   "execution_count": 264,
   "metadata": {
    "colab": {
     "base_uri": "https://localhost:8080/",
     "height": 195
    },
    "id": "35EM0j06pWwp",
    "outputId": "2c846e65-08f9-445b-c0f5-0f24059e6f37"
   },
   "outputs": [
    {
     "data": {
      "text/html": [
       "<div>\n",
       "<style scoped>\n",
       "    .dataframe tbody tr th:only-of-type {\n",
       "        vertical-align: middle;\n",
       "    }\n",
       "\n",
       "    .dataframe tbody tr th {\n",
       "        vertical-align: top;\n",
       "    }\n",
       "\n",
       "    .dataframe thead th {\n",
       "        text-align: right;\n",
       "    }\n",
       "</style>\n",
       "<table border=\"1\" class=\"dataframe\">\n",
       "  <thead>\n",
       "    <tr style=\"text-align: right;\">\n",
       "      <th></th>\n",
       "      <th>model</th>\n",
       "      <th>accuracy</th>\n",
       "      <th>roc_auc_score</th>\n",
       "      <th>precision</th>\n",
       "      <th>recall</th>\n",
       "      <th>f1_score</th>\n",
       "    </tr>\n",
       "  </thead>\n",
       "  <tbody>\n",
       "    <tr>\n",
       "      <th>0</th>\n",
       "      <td>Logistic Regression</td>\n",
       "      <td>0.909091</td>\n",
       "      <td>0.959541</td>\n",
       "      <td>0.897103</td>\n",
       "      <td>0.857689</td>\n",
       "      <td>0.876953</td>\n",
       "    </tr>\n",
       "    <tr>\n",
       "      <th>1</th>\n",
       "      <td>Random Forest Classifier</td>\n",
       "      <td>0.903319</td>\n",
       "      <td>0.966321</td>\n",
       "      <td>0.926616</td>\n",
       "      <td>0.808023</td>\n",
       "      <td>0.863265</td>\n",
       "    </tr>\n",
       "    <tr>\n",
       "      <th>2</th>\n",
       "      <td>XGBoost Classifier</td>\n",
       "      <td>0.922439</td>\n",
       "      <td>0.971707</td>\n",
       "      <td>0.914343</td>\n",
       "      <td>0.876791</td>\n",
       "      <td>0.895173</td>\n",
       "    </tr>\n",
       "    <tr>\n",
       "      <th>3</th>\n",
       "      <td>Light GBM Clssifier</td>\n",
       "      <td>0.918110</td>\n",
       "      <td>0.970836</td>\n",
       "      <td>0.910822</td>\n",
       "      <td>0.868195</td>\n",
       "      <td>0.888998</td>\n",
       "    </tr>\n",
       "    <tr>\n",
       "      <th>4</th>\n",
       "      <td>Naive bayes Classifier</td>\n",
       "      <td>0.824675</td>\n",
       "      <td>0.900651</td>\n",
       "      <td>0.837545</td>\n",
       "      <td>0.664756</td>\n",
       "      <td>0.741214</td>\n",
       "    </tr>\n",
       "  </tbody>\n",
       "</table>\n",
       "</div>"
      ],
      "text/plain": [
       "                      model  accuracy  roc_auc_score  precision    recall  \\\n",
       "0       Logistic Regression  0.909091       0.959541   0.897103  0.857689   \n",
       "1  Random Forest Classifier  0.903319       0.966321   0.926616  0.808023   \n",
       "2        XGBoost Classifier  0.922439       0.971707   0.914343  0.876791   \n",
       "3       Light GBM Clssifier  0.918110       0.970836   0.910822  0.868195   \n",
       "4    Naive bayes Classifier  0.824675       0.900651   0.837545  0.664756   \n",
       "\n",
       "   f1_score  \n",
       "0  0.876953  \n",
       "1  0.863265  \n",
       "2  0.895173  \n",
       "3  0.888998  \n",
       "4  0.741214  "
      ]
     },
     "execution_count": 264,
     "metadata": {
      "tags": []
     },
     "output_type": "execute_result"
    }
   ],
   "source": [
    "pd.DataFrame({'model':model,'accuracy':accuracy_score,'roc_auc_score':roc_auc_score,\n",
    "              'precision':precision_score,'recall':recall_score,'f1_score':f1_score})"
   ]
  },
  {
   "cell_type": "code",
   "execution_count": 255,
   "metadata": {
    "id": "fqIo7TmqpWwq"
   },
   "outputs": [],
   "source": [
    "#implementing KNN Classifier"
   ]
  },
  {
   "cell_type": "code",
   "execution_count": 255,
   "metadata": {
    "id": "gjO62U1tpWwq"
   },
   "outputs": [],
   "source": []
  },
  {
   "cell_type": "code",
   "execution_count": 255,
   "metadata": {
    "id": "dtQWRJInpWwq"
   },
   "outputs": [],
   "source": []
  },
  {
   "cell_type": "code",
   "execution_count": 255,
   "metadata": {
    "id": "Sz0yau9ApWwq"
   },
   "outputs": [],
   "source": []
  },
  {
   "cell_type": "code",
   "execution_count": 255,
   "metadata": {
    "id": "NL9i1HqppWwq"
   },
   "outputs": [],
   "source": []
  },
  {
   "cell_type": "code",
   "execution_count": null,
   "metadata": {
    "id": "96GBrK6CpWwq"
   },
   "outputs": [],
   "source": []
  },
  {
   "cell_type": "code",
   "execution_count": null,
   "metadata": {
    "id": "yyLoH20qpWwr"
   },
   "outputs": [],
   "source": []
  },
  {
   "cell_type": "code",
   "execution_count": null,
   "metadata": {
    "id": "ewU0cOB7pWwr"
   },
   "outputs": [],
   "source": []
  }
 ],
 "metadata": {
  "colab": {
   "collapsed_sections": [],
   "name": "Model implementation 8th march.ipynb",
   "provenance": []
  },
  "kernelspec": {
   "display_name": "Python 3",
   "language": "python",
   "name": "python3"
  },
  "language_info": {
   "codemirror_mode": {
    "name": "ipython",
    "version": 3
   },
   "file_extension": ".py",
   "mimetype": "text/x-python",
   "name": "python",
   "nbconvert_exporter": "python",
   "pygments_lexer": "ipython3",
   "version": "3.7.4"
  }
 },
 "nbformat": 4,
 "nbformat_minor": 1
}
