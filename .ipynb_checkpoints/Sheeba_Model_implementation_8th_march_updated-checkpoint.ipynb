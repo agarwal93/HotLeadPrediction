{
 "cells": [
  {
   "cell_type": "code",
   "execution_count": 1,
   "metadata": {
    "id": "3MyL_ydzpWvx"
   },
   "outputs": [],
   "source": [
    "import numpy as np\n",
    "import pandas as pd\n",
    "import seaborn as sns \n",
    "import matplotlib.pyplot as plt\n",
    "%matplotlib inline"
   ]
  },
  {
   "cell_type": "code",
   "execution_count": 2,
   "metadata": {
    "id": "942gFlgUpWv7"
   },
   "outputs": [],
   "source": [
    "import warnings\n",
    "warnings.filterwarnings('ignore')"
   ]
  },
  {
   "cell_type": "code",
   "execution_count": 3,
   "metadata": {
    "id": "roaMLBaupWv8"
   },
   "outputs": [],
   "source": [
    "from sklearn.linear_model import LogisticRegression"
   ]
  },
  {
   "cell_type": "code",
   "execution_count": 4,
   "metadata": {
    "id": "sY0S9lcUpWv8"
   },
   "outputs": [],
   "source": [
    "lr=LogisticRegression()"
   ]
  },
  {
   "cell_type": "code",
   "execution_count": 5,
   "metadata": {
    "id": "OrgVdCQ1pWv9"
   },
   "outputs": [],
   "source": [
    "train_data=pd.read_excel('train_set.xlsx')"
   ]
  },
  {
   "cell_type": "code",
   "execution_count": 6,
   "metadata": {
    "colab": {
     "base_uri": "https://localhost:8080/",
     "height": 467
    },
    "id": "05LubpGQpWv9",
    "outputId": "d666920b-915f-4baf-ea98-fa39a3c0d1cf"
   },
   "outputs": [
    {
     "data": {
      "text/html": [
       "<div>\n",
       "<style scoped>\n",
       "    .dataframe tbody tr th:only-of-type {\n",
       "        vertical-align: middle;\n",
       "    }\n",
       "\n",
       "    .dataframe tbody tr th {\n",
       "        vertical-align: top;\n",
       "    }\n",
       "\n",
       "    .dataframe thead th {\n",
       "        text-align: right;\n",
       "    }\n",
       "</style>\n",
       "<table border=\"1\" class=\"dataframe\">\n",
       "  <thead>\n",
       "    <tr style=\"text-align: right;\">\n",
       "      <th></th>\n",
       "      <th>Unnamed: 0</th>\n",
       "      <th>Lead Source</th>\n",
       "      <th>Do Not Email</th>\n",
       "      <th>TotalVisits</th>\n",
       "      <th>Total Time Spent on Website</th>\n",
       "      <th>Page Views Per Visit</th>\n",
       "      <th>Last Activity</th>\n",
       "      <th>Country</th>\n",
       "      <th>Specialization</th>\n",
       "      <th>How did you hear about X Education</th>\n",
       "      <th>What is your current occupation</th>\n",
       "      <th>What matters most to you in choosing a course</th>\n",
       "      <th>Tags</th>\n",
       "      <th>Lead Quality</th>\n",
       "      <th>Lead Profile</th>\n",
       "      <th>City</th>\n",
       "      <th>Asymmetrique Activity Index</th>\n",
       "      <th>Asymmetrique Profile Index</th>\n",
       "      <th>Asymmetrique Activity Score</th>\n",
       "      <th>Asymmetrique Profile Score</th>\n",
       "      <th>A free copy of Mastering The Interview</th>\n",
       "      <th>Last Notable Activity</th>\n",
       "      <th>Converted</th>\n",
       "    </tr>\n",
       "  </thead>\n",
       "  <tbody>\n",
       "    <tr>\n",
       "      <th>0</th>\n",
       "      <td>3112</td>\n",
       "      <td>Direct Traffic</td>\n",
       "      <td>No</td>\n",
       "      <td>1.098612</td>\n",
       "      <td>20.297783</td>\n",
       "      <td>1.098612</td>\n",
       "      <td>Email Responded</td>\n",
       "      <td>India</td>\n",
       "      <td>E-Business</td>\n",
       "      <td>unknown</td>\n",
       "      <td>Unemployed</td>\n",
       "      <td>Better Career Prospects</td>\n",
       "      <td>Status Unknown</td>\n",
       "      <td>Not Sure</td>\n",
       "      <td>Unknown</td>\n",
       "      <td>Tier1</td>\n",
       "      <td>Medium</td>\n",
       "      <td>Medium</td>\n",
       "      <td>14</td>\n",
       "      <td>0.058824</td>\n",
       "      <td>Yes</td>\n",
       "      <td>Email Opened</td>\n",
       "      <td>0</td>\n",
       "    </tr>\n",
       "    <tr>\n",
       "      <th>1</th>\n",
       "      <td>8413</td>\n",
       "      <td>Organic Search</td>\n",
       "      <td>No</td>\n",
       "      <td>1.791759</td>\n",
       "      <td>39.127995</td>\n",
       "      <td>1.791759</td>\n",
       "      <td>SMS Reverted</td>\n",
       "      <td>India</td>\n",
       "      <td>Marketing</td>\n",
       "      <td>unknown</td>\n",
       "      <td>Unemployed</td>\n",
       "      <td>Better Career Prospects</td>\n",
       "      <td>Not Reachable</td>\n",
       "      <td>Not Sure</td>\n",
       "      <td>Unknown</td>\n",
       "      <td>Tier1</td>\n",
       "      <td>Medium</td>\n",
       "      <td>High</td>\n",
       "      <td>15</td>\n",
       "      <td>0.052632</td>\n",
       "      <td>Yes</td>\n",
       "      <td>SMS Sent</td>\n",
       "      <td>1</td>\n",
       "    </tr>\n",
       "    <tr>\n",
       "      <th>2</th>\n",
       "      <td>2961</td>\n",
       "      <td>Reference</td>\n",
       "      <td>No</td>\n",
       "      <td>1.386294</td>\n",
       "      <td>35.327043</td>\n",
       "      <td>0.693147</td>\n",
       "      <td>Email Responded</td>\n",
       "      <td>India</td>\n",
       "      <td>HR</td>\n",
       "      <td>unknown</td>\n",
       "      <td>Student</td>\n",
       "      <td>Better Career Prospects</td>\n",
       "      <td>Closed by Horizzon</td>\n",
       "      <td>Low in Relevance</td>\n",
       "      <td>Potential Lead</td>\n",
       "      <td>Tier1</td>\n",
       "      <td>Medium</td>\n",
       "      <td>High</td>\n",
       "      <td>14</td>\n",
       "      <td>0.047619</td>\n",
       "      <td>Yes</td>\n",
       "      <td>Email Opened</td>\n",
       "      <td>1</td>\n",
       "    </tr>\n",
       "    <tr>\n",
       "      <th>3</th>\n",
       "      <td>24</td>\n",
       "      <td>Google</td>\n",
       "      <td>No</td>\n",
       "      <td>1.945910</td>\n",
       "      <td>33.719431</td>\n",
       "      <td>0.916291</td>\n",
       "      <td>Email Responded</td>\n",
       "      <td>India</td>\n",
       "      <td>Marketing</td>\n",
       "      <td>unknown</td>\n",
       "      <td>Unemployed</td>\n",
       "      <td>Better Career Prospects</td>\n",
       "      <td>Response Received</td>\n",
       "      <td>High in Relevance</td>\n",
       "      <td>Potential Lead</td>\n",
       "      <td>Tier1</td>\n",
       "      <td>Medium</td>\n",
       "      <td>High</td>\n",
       "      <td>14</td>\n",
       "      <td>0.052632</td>\n",
       "      <td>Yes</td>\n",
       "      <td>Email Opened</td>\n",
       "      <td>1</td>\n",
       "    </tr>\n",
       "    <tr>\n",
       "      <th>4</th>\n",
       "      <td>2740</td>\n",
       "      <td>Organic Search</td>\n",
       "      <td>No</td>\n",
       "      <td>1.386294</td>\n",
       "      <td>31.670175</td>\n",
       "      <td>1.386294</td>\n",
       "      <td>Email Responded</td>\n",
       "      <td>India</td>\n",
       "      <td>Logistics</td>\n",
       "      <td>Social Media</td>\n",
       "      <td>Unemployed</td>\n",
       "      <td>Better Career Prospects</td>\n",
       "      <td>Not Reachable</td>\n",
       "      <td>Not Sure</td>\n",
       "      <td>Unknown</td>\n",
       "      <td>Tier1</td>\n",
       "      <td>Medium</td>\n",
       "      <td>Medium</td>\n",
       "      <td>14</td>\n",
       "      <td>0.058824</td>\n",
       "      <td>No</td>\n",
       "      <td>Email Opened</td>\n",
       "      <td>0</td>\n",
       "    </tr>\n",
       "  </tbody>\n",
       "</table>\n",
       "</div>"
      ],
      "text/plain": [
       "   Unnamed: 0     Lead Source Do Not Email  TotalVisits  \\\n",
       "0        3112  Direct Traffic           No     1.098612   \n",
       "1        8413  Organic Search           No     1.791759   \n",
       "2        2961       Reference           No     1.386294   \n",
       "3          24          Google           No     1.945910   \n",
       "4        2740  Organic Search           No     1.386294   \n",
       "\n",
       "   Total Time Spent on Website  Page Views Per Visit    Last Activity Country  \\\n",
       "0                    20.297783              1.098612  Email Responded   India   \n",
       "1                    39.127995              1.791759     SMS Reverted   India   \n",
       "2                    35.327043              0.693147  Email Responded   India   \n",
       "3                    33.719431              0.916291  Email Responded   India   \n",
       "4                    31.670175              1.386294  Email Responded   India   \n",
       "\n",
       "  Specialization How did you hear about X Education  \\\n",
       "0     E-Business                            unknown   \n",
       "1      Marketing                            unknown   \n",
       "2             HR                            unknown   \n",
       "3      Marketing                            unknown   \n",
       "4      Logistics                       Social Media   \n",
       "\n",
       "  What is your current occupation  \\\n",
       "0                      Unemployed   \n",
       "1                      Unemployed   \n",
       "2                         Student   \n",
       "3                      Unemployed   \n",
       "4                      Unemployed   \n",
       "\n",
       "  What matters most to you in choosing a course                Tags  \\\n",
       "0                       Better Career Prospects      Status Unknown   \n",
       "1                       Better Career Prospects       Not Reachable   \n",
       "2                       Better Career Prospects  Closed by Horizzon   \n",
       "3                       Better Career Prospects   Response Received   \n",
       "4                       Better Career Prospects       Not Reachable   \n",
       "\n",
       "        Lead Quality    Lead Profile   City Asymmetrique Activity Index  \\\n",
       "0           Not Sure         Unknown  Tier1                      Medium   \n",
       "1           Not Sure         Unknown  Tier1                      Medium   \n",
       "2   Low in Relevance  Potential Lead  Tier1                      Medium   \n",
       "3  High in Relevance  Potential Lead  Tier1                      Medium   \n",
       "4           Not Sure         Unknown  Tier1                      Medium   \n",
       "\n",
       "  Asymmetrique Profile Index  Asymmetrique Activity Score  \\\n",
       "0                     Medium                           14   \n",
       "1                       High                           15   \n",
       "2                       High                           14   \n",
       "3                       High                           14   \n",
       "4                     Medium                           14   \n",
       "\n",
       "   Asymmetrique Profile Score A free copy of Mastering The Interview  \\\n",
       "0                    0.058824                                    Yes   \n",
       "1                    0.052632                                    Yes   \n",
       "2                    0.047619                                    Yes   \n",
       "3                    0.052632                                    Yes   \n",
       "4                    0.058824                                     No   \n",
       "\n",
       "  Last Notable Activity  Converted  \n",
       "0          Email Opened          0  \n",
       "1              SMS Sent          1  \n",
       "2          Email Opened          1  \n",
       "3          Email Opened          1  \n",
       "4          Email Opened          0  "
      ]
     },
     "execution_count": 6,
     "metadata": {},
     "output_type": "execute_result"
    }
   ],
   "source": [
    "\n",
    "pd.set_option('display.max_columns',None)\n",
    "train_data.head()"
   ]
  },
  {
   "cell_type": "code",
   "execution_count": 7,
   "metadata": {
    "id": "N435kjg0pWv_"
   },
   "outputs": [],
   "source": [
    "test_data=pd.read_excel('test_set.xlsx')"
   ]
  },
  {
   "cell_type": "code",
   "execution_count": 8,
   "metadata": {
    "colab": {
     "base_uri": "https://localhost:8080/",
     "height": 467
    },
    "id": "JeH4Xo5ApWv_",
    "outputId": "ac25726e-09f0-4830-dd22-b355f71393af"
   },
   "outputs": [
    {
     "data": {
      "text/html": [
       "<div>\n",
       "<style scoped>\n",
       "    .dataframe tbody tr th:only-of-type {\n",
       "        vertical-align: middle;\n",
       "    }\n",
       "\n",
       "    .dataframe tbody tr th {\n",
       "        vertical-align: top;\n",
       "    }\n",
       "\n",
       "    .dataframe thead th {\n",
       "        text-align: right;\n",
       "    }\n",
       "</style>\n",
       "<table border=\"1\" class=\"dataframe\">\n",
       "  <thead>\n",
       "    <tr style=\"text-align: right;\">\n",
       "      <th></th>\n",
       "      <th>Unnamed: 0</th>\n",
       "      <th>Lead Source</th>\n",
       "      <th>Do Not Email</th>\n",
       "      <th>TotalVisits</th>\n",
       "      <th>Total Time Spent on Website</th>\n",
       "      <th>Page Views Per Visit</th>\n",
       "      <th>Last Activity</th>\n",
       "      <th>Country</th>\n",
       "      <th>Specialization</th>\n",
       "      <th>How did you hear about X Education</th>\n",
       "      <th>What is your current occupation</th>\n",
       "      <th>What matters most to you in choosing a course</th>\n",
       "      <th>Tags</th>\n",
       "      <th>Lead Quality</th>\n",
       "      <th>Lead Profile</th>\n",
       "      <th>City</th>\n",
       "      <th>Asymmetrique Activity Index</th>\n",
       "      <th>Asymmetrique Profile Index</th>\n",
       "      <th>Asymmetrique Activity Score</th>\n",
       "      <th>Asymmetrique Profile Score</th>\n",
       "      <th>A free copy of Mastering The Interview</th>\n",
       "      <th>Last Notable Activity</th>\n",
       "      <th>Converted</th>\n",
       "    </tr>\n",
       "  </thead>\n",
       "  <tbody>\n",
       "    <tr>\n",
       "      <th>0</th>\n",
       "      <td>567</td>\n",
       "      <td>Google</td>\n",
       "      <td>No</td>\n",
       "      <td>1.609438</td>\n",
       "      <td>18.220867</td>\n",
       "      <td>1.609438</td>\n",
       "      <td>Email Responded</td>\n",
       "      <td>India</td>\n",
       "      <td>IT Projects</td>\n",
       "      <td>Multiple Sources</td>\n",
       "      <td>Unemployed</td>\n",
       "      <td>Better Career Prospects</td>\n",
       "      <td>Not Reachable</td>\n",
       "      <td>Not Sure</td>\n",
       "      <td>Unknown</td>\n",
       "      <td>Tier1</td>\n",
       "      <td>Medium</td>\n",
       "      <td>Medium</td>\n",
       "      <td>14</td>\n",
       "      <td>0.062500</td>\n",
       "      <td>No</td>\n",
       "      <td>Email Opened</td>\n",
       "      <td>0</td>\n",
       "    </tr>\n",
       "    <tr>\n",
       "      <th>1</th>\n",
       "      <td>2303</td>\n",
       "      <td>Google</td>\n",
       "      <td>No</td>\n",
       "      <td>1.098612</td>\n",
       "      <td>39.395431</td>\n",
       "      <td>1.098612</td>\n",
       "      <td>Converted to Lead</td>\n",
       "      <td>India</td>\n",
       "      <td>Marketing</td>\n",
       "      <td>Other</td>\n",
       "      <td>Unemployed</td>\n",
       "      <td>Better Career Prospects</td>\n",
       "      <td>Lost to Others</td>\n",
       "      <td>Not Sure</td>\n",
       "      <td>Other Leads</td>\n",
       "      <td>Tier1</td>\n",
       "      <td>Medium</td>\n",
       "      <td>High</td>\n",
       "      <td>14</td>\n",
       "      <td>0.052632</td>\n",
       "      <td>No</td>\n",
       "      <td>Modified</td>\n",
       "      <td>0</td>\n",
       "    </tr>\n",
       "    <tr>\n",
       "      <th>2</th>\n",
       "      <td>1523</td>\n",
       "      <td>Google</td>\n",
       "      <td>No</td>\n",
       "      <td>1.386294</td>\n",
       "      <td>36.660606</td>\n",
       "      <td>1.386294</td>\n",
       "      <td>Email Responded</td>\n",
       "      <td>India</td>\n",
       "      <td>Tourism</td>\n",
       "      <td>unknown</td>\n",
       "      <td>Unemployed</td>\n",
       "      <td>Better Career Prospects</td>\n",
       "      <td>Response Received</td>\n",
       "      <td>Not Sure</td>\n",
       "      <td>Unknown</td>\n",
       "      <td>Unknown</td>\n",
       "      <td>Medium</td>\n",
       "      <td>Low</td>\n",
       "      <td>13</td>\n",
       "      <td>0.076923</td>\n",
       "      <td>No</td>\n",
       "      <td>Email Opened</td>\n",
       "      <td>0</td>\n",
       "    </tr>\n",
       "    <tr>\n",
       "      <th>3</th>\n",
       "      <td>6923</td>\n",
       "      <td>Google</td>\n",
       "      <td>No</td>\n",
       "      <td>1.791759</td>\n",
       "      <td>13.674794</td>\n",
       "      <td>1.791759</td>\n",
       "      <td>Email Responded</td>\n",
       "      <td>India</td>\n",
       "      <td>Finance</td>\n",
       "      <td>Online Search</td>\n",
       "      <td>Unemployed</td>\n",
       "      <td>Better Career Prospects</td>\n",
       "      <td>Status Unknown</td>\n",
       "      <td>Not Sure</td>\n",
       "      <td>Unknown</td>\n",
       "      <td>Tier2</td>\n",
       "      <td>Medium</td>\n",
       "      <td>Medium</td>\n",
       "      <td>14</td>\n",
       "      <td>0.058824</td>\n",
       "      <td>No</td>\n",
       "      <td>Email Opened</td>\n",
       "      <td>0</td>\n",
       "    </tr>\n",
       "    <tr>\n",
       "      <th>4</th>\n",
       "      <td>7841</td>\n",
       "      <td>Google</td>\n",
       "      <td>No</td>\n",
       "      <td>1.098612</td>\n",
       "      <td>26.495283</td>\n",
       "      <td>1.098612</td>\n",
       "      <td>Email Responded</td>\n",
       "      <td>India</td>\n",
       "      <td>Marketing</td>\n",
       "      <td>Social Media</td>\n",
       "      <td>Unemployed</td>\n",
       "      <td>Better Career Prospects</td>\n",
       "      <td>Response Received</td>\n",
       "      <td>Not Sure</td>\n",
       "      <td>Unknown</td>\n",
       "      <td>Tier3</td>\n",
       "      <td>Medium</td>\n",
       "      <td>High</td>\n",
       "      <td>13</td>\n",
       "      <td>0.055556</td>\n",
       "      <td>No</td>\n",
       "      <td>Email Opened</td>\n",
       "      <td>0</td>\n",
       "    </tr>\n",
       "  </tbody>\n",
       "</table>\n",
       "</div>"
      ],
      "text/plain": [
       "   Unnamed: 0 Lead Source Do Not Email  TotalVisits  \\\n",
       "0         567      Google           No     1.609438   \n",
       "1        2303      Google           No     1.098612   \n",
       "2        1523      Google           No     1.386294   \n",
       "3        6923      Google           No     1.791759   \n",
       "4        7841      Google           No     1.098612   \n",
       "\n",
       "   Total Time Spent on Website  Page Views Per Visit      Last Activity  \\\n",
       "0                    18.220867              1.609438    Email Responded   \n",
       "1                    39.395431              1.098612  Converted to Lead   \n",
       "2                    36.660606              1.386294    Email Responded   \n",
       "3                    13.674794              1.791759    Email Responded   \n",
       "4                    26.495283              1.098612    Email Responded   \n",
       "\n",
       "  Country Specialization How did you hear about X Education  \\\n",
       "0   India    IT Projects                   Multiple Sources   \n",
       "1   India      Marketing                              Other   \n",
       "2   India        Tourism                            unknown   \n",
       "3   India        Finance                      Online Search   \n",
       "4   India      Marketing                       Social Media   \n",
       "\n",
       "  What is your current occupation  \\\n",
       "0                      Unemployed   \n",
       "1                      Unemployed   \n",
       "2                      Unemployed   \n",
       "3                      Unemployed   \n",
       "4                      Unemployed   \n",
       "\n",
       "  What matters most to you in choosing a course               Tags  \\\n",
       "0                       Better Career Prospects      Not Reachable   \n",
       "1                       Better Career Prospects     Lost to Others   \n",
       "2                       Better Career Prospects  Response Received   \n",
       "3                       Better Career Prospects     Status Unknown   \n",
       "4                       Better Career Prospects  Response Received   \n",
       "\n",
       "  Lead Quality Lead Profile     City Asymmetrique Activity Index  \\\n",
       "0     Not Sure      Unknown    Tier1                      Medium   \n",
       "1     Not Sure  Other Leads    Tier1                      Medium   \n",
       "2     Not Sure      Unknown  Unknown                      Medium   \n",
       "3     Not Sure      Unknown    Tier2                      Medium   \n",
       "4     Not Sure      Unknown    Tier3                      Medium   \n",
       "\n",
       "  Asymmetrique Profile Index  Asymmetrique Activity Score  \\\n",
       "0                     Medium                           14   \n",
       "1                       High                           14   \n",
       "2                        Low                           13   \n",
       "3                     Medium                           14   \n",
       "4                       High                           13   \n",
       "\n",
       "   Asymmetrique Profile Score A free copy of Mastering The Interview  \\\n",
       "0                    0.062500                                     No   \n",
       "1                    0.052632                                     No   \n",
       "2                    0.076923                                     No   \n",
       "3                    0.058824                                     No   \n",
       "4                    0.055556                                     No   \n",
       "\n",
       "  Last Notable Activity  Converted  \n",
       "0          Email Opened          0  \n",
       "1              Modified          0  \n",
       "2          Email Opened          0  \n",
       "3          Email Opened          0  \n",
       "4          Email Opened          0  "
      ]
     },
     "execution_count": 8,
     "metadata": {},
     "output_type": "execute_result"
    }
   ],
   "source": [
    "\n",
    "pd.set_option('display.max_columns',None)\n",
    "test_data.head()"
   ]
  },
  {
   "cell_type": "code",
   "execution_count": 9,
   "metadata": {
    "colab": {
     "base_uri": "https://localhost:8080/"
    },
    "id": "rnOrV26VpWwA",
    "outputId": "f2822f4b-8ff9-434e-c17d-5e5016d113cb"
   },
   "outputs": [
    {
     "data": {
      "text/plain": [
       "(6468, 23)"
      ]
     },
     "execution_count": 9,
     "metadata": {},
     "output_type": "execute_result"
    }
   ],
   "source": [
    "train_data.shape"
   ]
  },
  {
   "cell_type": "code",
   "execution_count": 10,
   "metadata": {
    "colab": {
     "base_uri": "https://localhost:8080/"
    },
    "id": "Zh9Z9vPLpWwA",
    "outputId": "638b096e-f67e-4f67-b110-b1a118530734"
   },
   "outputs": [
    {
     "data": {
      "text/plain": [
       "(2772, 23)"
      ]
     },
     "execution_count": 10,
     "metadata": {},
     "output_type": "execute_result"
    }
   ],
   "source": [
    "test_data.shape"
   ]
  },
  {
   "cell_type": "code",
   "execution_count": 11,
   "metadata": {
    "colab": {
     "base_uri": "https://localhost:8080/"
    },
    "id": "sSWbu59gpWwB",
    "outputId": "2c90c59c-b39d-4d56-c316-135c9c030277"
   },
   "outputs": [
    {
     "data": {
      "text/plain": [
       "Unnamed: 0                                       0\n",
       "Lead Source                                      0\n",
       "Do Not Email                                     0\n",
       "TotalVisits                                      0\n",
       "Total Time Spent on Website                      0\n",
       "Page Views Per Visit                             0\n",
       "Last Activity                                    0\n",
       "Country                                          0\n",
       "Specialization                                   0\n",
       "How did you hear about X Education               0\n",
       "What is your current occupation                  0\n",
       "What matters most to you in choosing a course    0\n",
       "Tags                                             0\n",
       "Lead Quality                                     0\n",
       "Lead Profile                                     0\n",
       "City                                             0\n",
       "Asymmetrique Activity Index                      0\n",
       "Asymmetrique Profile Index                       0\n",
       "Asymmetrique Activity Score                      0\n",
       "Asymmetrique Profile Score                       0\n",
       "A free copy of Mastering The Interview           0\n",
       "Last Notable Activity                            0\n",
       "Converted                                        0\n",
       "dtype: int64"
      ]
     },
     "execution_count": 11,
     "metadata": {},
     "output_type": "execute_result"
    }
   ],
   "source": [
    "train_data.isnull().sum()"
   ]
  },
  {
   "cell_type": "code",
   "execution_count": 12,
   "metadata": {
    "colab": {
     "base_uri": "https://localhost:8080/"
    },
    "id": "OQLvU3pbpWwB",
    "outputId": "3ba391a7-f752-4d68-92e7-fe3b4ba0840b"
   },
   "outputs": [
    {
     "data": {
      "text/plain": [
       "Unnamed: 0                                       0\n",
       "Lead Source                                      0\n",
       "Do Not Email                                     0\n",
       "TotalVisits                                      0\n",
       "Total Time Spent on Website                      0\n",
       "Page Views Per Visit                             0\n",
       "Last Activity                                    0\n",
       "Country                                          0\n",
       "Specialization                                   0\n",
       "How did you hear about X Education               0\n",
       "What is your current occupation                  0\n",
       "What matters most to you in choosing a course    0\n",
       "Tags                                             0\n",
       "Lead Quality                                     0\n",
       "Lead Profile                                     0\n",
       "City                                             0\n",
       "Asymmetrique Activity Index                      0\n",
       "Asymmetrique Profile Index                       0\n",
       "Asymmetrique Activity Score                      0\n",
       "Asymmetrique Profile Score                       0\n",
       "A free copy of Mastering The Interview           0\n",
       "Last Notable Activity                            0\n",
       "Converted                                        0\n",
       "dtype: int64"
      ]
     },
     "execution_count": 12,
     "metadata": {},
     "output_type": "execute_result"
    }
   ],
   "source": [
    "test_data.isnull().sum()"
   ]
  },
  {
   "cell_type": "code",
   "execution_count": 13,
   "metadata": {
    "id": "xIhTHri-pWwC"
   },
   "outputs": [],
   "source": [
    "# taking only one numerical feature which came relevant"
   ]
  },
  {
   "cell_type": "code",
   "execution_count": 14,
   "metadata": {
    "id": "nVeqBABjpWwC"
   },
   "outputs": [],
   "source": [
    "train_data1=train_data.drop(['Unnamed: 0','TotalVisits','Page Views Per Visit','Asymmetrique Activity Score','Asymmetrique Profile Score'],axis=1)"
   ]
  },
  {
   "cell_type": "code",
   "execution_count": 15,
   "metadata": {
    "colab": {
     "base_uri": "https://localhost:8080/",
     "height": 467
    },
    "id": "NYDKvhSjpWwD",
    "outputId": "bd944c40-7744-4900-b4ad-8ab4ec7e217a"
   },
   "outputs": [
    {
     "data": {
      "text/html": [
       "<div>\n",
       "<style scoped>\n",
       "    .dataframe tbody tr th:only-of-type {\n",
       "        vertical-align: middle;\n",
       "    }\n",
       "\n",
       "    .dataframe tbody tr th {\n",
       "        vertical-align: top;\n",
       "    }\n",
       "\n",
       "    .dataframe thead th {\n",
       "        text-align: right;\n",
       "    }\n",
       "</style>\n",
       "<table border=\"1\" class=\"dataframe\">\n",
       "  <thead>\n",
       "    <tr style=\"text-align: right;\">\n",
       "      <th></th>\n",
       "      <th>Lead Source</th>\n",
       "      <th>Do Not Email</th>\n",
       "      <th>Total Time Spent on Website</th>\n",
       "      <th>Last Activity</th>\n",
       "      <th>Country</th>\n",
       "      <th>Specialization</th>\n",
       "      <th>How did you hear about X Education</th>\n",
       "      <th>What is your current occupation</th>\n",
       "      <th>What matters most to you in choosing a course</th>\n",
       "      <th>Tags</th>\n",
       "      <th>Lead Quality</th>\n",
       "      <th>Lead Profile</th>\n",
       "      <th>City</th>\n",
       "      <th>Asymmetrique Activity Index</th>\n",
       "      <th>Asymmetrique Profile Index</th>\n",
       "      <th>A free copy of Mastering The Interview</th>\n",
       "      <th>Last Notable Activity</th>\n",
       "      <th>Converted</th>\n",
       "    </tr>\n",
       "  </thead>\n",
       "  <tbody>\n",
       "    <tr>\n",
       "      <th>0</th>\n",
       "      <td>Direct Traffic</td>\n",
       "      <td>No</td>\n",
       "      <td>20.297783</td>\n",
       "      <td>Email Responded</td>\n",
       "      <td>India</td>\n",
       "      <td>E-Business</td>\n",
       "      <td>unknown</td>\n",
       "      <td>Unemployed</td>\n",
       "      <td>Better Career Prospects</td>\n",
       "      <td>Status Unknown</td>\n",
       "      <td>Not Sure</td>\n",
       "      <td>Unknown</td>\n",
       "      <td>Tier1</td>\n",
       "      <td>Medium</td>\n",
       "      <td>Medium</td>\n",
       "      <td>Yes</td>\n",
       "      <td>Email Opened</td>\n",
       "      <td>0</td>\n",
       "    </tr>\n",
       "    <tr>\n",
       "      <th>1</th>\n",
       "      <td>Organic Search</td>\n",
       "      <td>No</td>\n",
       "      <td>39.127995</td>\n",
       "      <td>SMS Reverted</td>\n",
       "      <td>India</td>\n",
       "      <td>Marketing</td>\n",
       "      <td>unknown</td>\n",
       "      <td>Unemployed</td>\n",
       "      <td>Better Career Prospects</td>\n",
       "      <td>Not Reachable</td>\n",
       "      <td>Not Sure</td>\n",
       "      <td>Unknown</td>\n",
       "      <td>Tier1</td>\n",
       "      <td>Medium</td>\n",
       "      <td>High</td>\n",
       "      <td>Yes</td>\n",
       "      <td>SMS Sent</td>\n",
       "      <td>1</td>\n",
       "    </tr>\n",
       "    <tr>\n",
       "      <th>2</th>\n",
       "      <td>Reference</td>\n",
       "      <td>No</td>\n",
       "      <td>35.327043</td>\n",
       "      <td>Email Responded</td>\n",
       "      <td>India</td>\n",
       "      <td>HR</td>\n",
       "      <td>unknown</td>\n",
       "      <td>Student</td>\n",
       "      <td>Better Career Prospects</td>\n",
       "      <td>Closed by Horizzon</td>\n",
       "      <td>Low in Relevance</td>\n",
       "      <td>Potential Lead</td>\n",
       "      <td>Tier1</td>\n",
       "      <td>Medium</td>\n",
       "      <td>High</td>\n",
       "      <td>Yes</td>\n",
       "      <td>Email Opened</td>\n",
       "      <td>1</td>\n",
       "    </tr>\n",
       "    <tr>\n",
       "      <th>3</th>\n",
       "      <td>Google</td>\n",
       "      <td>No</td>\n",
       "      <td>33.719431</td>\n",
       "      <td>Email Responded</td>\n",
       "      <td>India</td>\n",
       "      <td>Marketing</td>\n",
       "      <td>unknown</td>\n",
       "      <td>Unemployed</td>\n",
       "      <td>Better Career Prospects</td>\n",
       "      <td>Response Received</td>\n",
       "      <td>High in Relevance</td>\n",
       "      <td>Potential Lead</td>\n",
       "      <td>Tier1</td>\n",
       "      <td>Medium</td>\n",
       "      <td>High</td>\n",
       "      <td>Yes</td>\n",
       "      <td>Email Opened</td>\n",
       "      <td>1</td>\n",
       "    </tr>\n",
       "    <tr>\n",
       "      <th>4</th>\n",
       "      <td>Organic Search</td>\n",
       "      <td>No</td>\n",
       "      <td>31.670175</td>\n",
       "      <td>Email Responded</td>\n",
       "      <td>India</td>\n",
       "      <td>Logistics</td>\n",
       "      <td>Social Media</td>\n",
       "      <td>Unemployed</td>\n",
       "      <td>Better Career Prospects</td>\n",
       "      <td>Not Reachable</td>\n",
       "      <td>Not Sure</td>\n",
       "      <td>Unknown</td>\n",
       "      <td>Tier1</td>\n",
       "      <td>Medium</td>\n",
       "      <td>Medium</td>\n",
       "      <td>No</td>\n",
       "      <td>Email Opened</td>\n",
       "      <td>0</td>\n",
       "    </tr>\n",
       "  </tbody>\n",
       "</table>\n",
       "</div>"
      ],
      "text/plain": [
       "      Lead Source Do Not Email  Total Time Spent on Website    Last Activity  \\\n",
       "0  Direct Traffic           No                    20.297783  Email Responded   \n",
       "1  Organic Search           No                    39.127995     SMS Reverted   \n",
       "2       Reference           No                    35.327043  Email Responded   \n",
       "3          Google           No                    33.719431  Email Responded   \n",
       "4  Organic Search           No                    31.670175  Email Responded   \n",
       "\n",
       "  Country Specialization How did you hear about X Education  \\\n",
       "0   India     E-Business                            unknown   \n",
       "1   India      Marketing                            unknown   \n",
       "2   India             HR                            unknown   \n",
       "3   India      Marketing                            unknown   \n",
       "4   India      Logistics                       Social Media   \n",
       "\n",
       "  What is your current occupation  \\\n",
       "0                      Unemployed   \n",
       "1                      Unemployed   \n",
       "2                         Student   \n",
       "3                      Unemployed   \n",
       "4                      Unemployed   \n",
       "\n",
       "  What matters most to you in choosing a course                Tags  \\\n",
       "0                       Better Career Prospects      Status Unknown   \n",
       "1                       Better Career Prospects       Not Reachable   \n",
       "2                       Better Career Prospects  Closed by Horizzon   \n",
       "3                       Better Career Prospects   Response Received   \n",
       "4                       Better Career Prospects       Not Reachable   \n",
       "\n",
       "        Lead Quality    Lead Profile   City Asymmetrique Activity Index  \\\n",
       "0           Not Sure         Unknown  Tier1                      Medium   \n",
       "1           Not Sure         Unknown  Tier1                      Medium   \n",
       "2   Low in Relevance  Potential Lead  Tier1                      Medium   \n",
       "3  High in Relevance  Potential Lead  Tier1                      Medium   \n",
       "4           Not Sure         Unknown  Tier1                      Medium   \n",
       "\n",
       "  Asymmetrique Profile Index A free copy of Mastering The Interview  \\\n",
       "0                     Medium                                    Yes   \n",
       "1                       High                                    Yes   \n",
       "2                       High                                    Yes   \n",
       "3                       High                                    Yes   \n",
       "4                     Medium                                     No   \n",
       "\n",
       "  Last Notable Activity  Converted  \n",
       "0          Email Opened          0  \n",
       "1              SMS Sent          1  \n",
       "2          Email Opened          1  \n",
       "3          Email Opened          1  \n",
       "4          Email Opened          0  "
      ]
     },
     "execution_count": 15,
     "metadata": {},
     "output_type": "execute_result"
    }
   ],
   "source": [
    "train_data1.head()"
   ]
  },
  {
   "cell_type": "code",
   "execution_count": 16,
   "metadata": {
    "id": "Gv9JeA41pWwD"
   },
   "outputs": [],
   "source": [
    "#dropping same numerical features from the test set as well"
   ]
  },
  {
   "cell_type": "code",
   "execution_count": 17,
   "metadata": {
    "id": "8nVdPJWgpWwE"
   },
   "outputs": [],
   "source": [
    "test_data1=test_data.drop(['Unnamed: 0','TotalVisits','Page Views Per Visit','Asymmetrique Activity Score','Asymmetrique Profile Score'],axis=1)"
   ]
  },
  {
   "cell_type": "code",
   "execution_count": 18,
   "metadata": {
    "colab": {
     "base_uri": "https://localhost:8080/",
     "height": 467
    },
    "id": "6lZ43VXppWwE",
    "outputId": "630ad703-5d86-4a5a-8724-1665f1eaa1cd"
   },
   "outputs": [
    {
     "data": {
      "text/html": [
       "<div>\n",
       "<style scoped>\n",
       "    .dataframe tbody tr th:only-of-type {\n",
       "        vertical-align: middle;\n",
       "    }\n",
       "\n",
       "    .dataframe tbody tr th {\n",
       "        vertical-align: top;\n",
       "    }\n",
       "\n",
       "    .dataframe thead th {\n",
       "        text-align: right;\n",
       "    }\n",
       "</style>\n",
       "<table border=\"1\" class=\"dataframe\">\n",
       "  <thead>\n",
       "    <tr style=\"text-align: right;\">\n",
       "      <th></th>\n",
       "      <th>Lead Source</th>\n",
       "      <th>Do Not Email</th>\n",
       "      <th>Total Time Spent on Website</th>\n",
       "      <th>Last Activity</th>\n",
       "      <th>Country</th>\n",
       "      <th>Specialization</th>\n",
       "      <th>How did you hear about X Education</th>\n",
       "      <th>What is your current occupation</th>\n",
       "      <th>What matters most to you in choosing a course</th>\n",
       "      <th>Tags</th>\n",
       "      <th>Lead Quality</th>\n",
       "      <th>Lead Profile</th>\n",
       "      <th>City</th>\n",
       "      <th>Asymmetrique Activity Index</th>\n",
       "      <th>Asymmetrique Profile Index</th>\n",
       "      <th>A free copy of Mastering The Interview</th>\n",
       "      <th>Last Notable Activity</th>\n",
       "      <th>Converted</th>\n",
       "    </tr>\n",
       "  </thead>\n",
       "  <tbody>\n",
       "    <tr>\n",
       "      <th>0</th>\n",
       "      <td>Google</td>\n",
       "      <td>No</td>\n",
       "      <td>18.220867</td>\n",
       "      <td>Email Responded</td>\n",
       "      <td>India</td>\n",
       "      <td>IT Projects</td>\n",
       "      <td>Multiple Sources</td>\n",
       "      <td>Unemployed</td>\n",
       "      <td>Better Career Prospects</td>\n",
       "      <td>Not Reachable</td>\n",
       "      <td>Not Sure</td>\n",
       "      <td>Unknown</td>\n",
       "      <td>Tier1</td>\n",
       "      <td>Medium</td>\n",
       "      <td>Medium</td>\n",
       "      <td>No</td>\n",
       "      <td>Email Opened</td>\n",
       "      <td>0</td>\n",
       "    </tr>\n",
       "    <tr>\n",
       "      <th>1</th>\n",
       "      <td>Google</td>\n",
       "      <td>No</td>\n",
       "      <td>39.395431</td>\n",
       "      <td>Converted to Lead</td>\n",
       "      <td>India</td>\n",
       "      <td>Marketing</td>\n",
       "      <td>Other</td>\n",
       "      <td>Unemployed</td>\n",
       "      <td>Better Career Prospects</td>\n",
       "      <td>Lost to Others</td>\n",
       "      <td>Not Sure</td>\n",
       "      <td>Other Leads</td>\n",
       "      <td>Tier1</td>\n",
       "      <td>Medium</td>\n",
       "      <td>High</td>\n",
       "      <td>No</td>\n",
       "      <td>Modified</td>\n",
       "      <td>0</td>\n",
       "    </tr>\n",
       "    <tr>\n",
       "      <th>2</th>\n",
       "      <td>Google</td>\n",
       "      <td>No</td>\n",
       "      <td>36.660606</td>\n",
       "      <td>Email Responded</td>\n",
       "      <td>India</td>\n",
       "      <td>Tourism</td>\n",
       "      <td>unknown</td>\n",
       "      <td>Unemployed</td>\n",
       "      <td>Better Career Prospects</td>\n",
       "      <td>Response Received</td>\n",
       "      <td>Not Sure</td>\n",
       "      <td>Unknown</td>\n",
       "      <td>Unknown</td>\n",
       "      <td>Medium</td>\n",
       "      <td>Low</td>\n",
       "      <td>No</td>\n",
       "      <td>Email Opened</td>\n",
       "      <td>0</td>\n",
       "    </tr>\n",
       "    <tr>\n",
       "      <th>3</th>\n",
       "      <td>Google</td>\n",
       "      <td>No</td>\n",
       "      <td>13.674794</td>\n",
       "      <td>Email Responded</td>\n",
       "      <td>India</td>\n",
       "      <td>Finance</td>\n",
       "      <td>Online Search</td>\n",
       "      <td>Unemployed</td>\n",
       "      <td>Better Career Prospects</td>\n",
       "      <td>Status Unknown</td>\n",
       "      <td>Not Sure</td>\n",
       "      <td>Unknown</td>\n",
       "      <td>Tier2</td>\n",
       "      <td>Medium</td>\n",
       "      <td>Medium</td>\n",
       "      <td>No</td>\n",
       "      <td>Email Opened</td>\n",
       "      <td>0</td>\n",
       "    </tr>\n",
       "    <tr>\n",
       "      <th>4</th>\n",
       "      <td>Google</td>\n",
       "      <td>No</td>\n",
       "      <td>26.495283</td>\n",
       "      <td>Email Responded</td>\n",
       "      <td>India</td>\n",
       "      <td>Marketing</td>\n",
       "      <td>Social Media</td>\n",
       "      <td>Unemployed</td>\n",
       "      <td>Better Career Prospects</td>\n",
       "      <td>Response Received</td>\n",
       "      <td>Not Sure</td>\n",
       "      <td>Unknown</td>\n",
       "      <td>Tier3</td>\n",
       "      <td>Medium</td>\n",
       "      <td>High</td>\n",
       "      <td>No</td>\n",
       "      <td>Email Opened</td>\n",
       "      <td>0</td>\n",
       "    </tr>\n",
       "  </tbody>\n",
       "</table>\n",
       "</div>"
      ],
      "text/plain": [
       "  Lead Source Do Not Email  Total Time Spent on Website      Last Activity  \\\n",
       "0      Google           No                    18.220867    Email Responded   \n",
       "1      Google           No                    39.395431  Converted to Lead   \n",
       "2      Google           No                    36.660606    Email Responded   \n",
       "3      Google           No                    13.674794    Email Responded   \n",
       "4      Google           No                    26.495283    Email Responded   \n",
       "\n",
       "  Country Specialization How did you hear about X Education  \\\n",
       "0   India    IT Projects                   Multiple Sources   \n",
       "1   India      Marketing                              Other   \n",
       "2   India        Tourism                            unknown   \n",
       "3   India        Finance                      Online Search   \n",
       "4   India      Marketing                       Social Media   \n",
       "\n",
       "  What is your current occupation  \\\n",
       "0                      Unemployed   \n",
       "1                      Unemployed   \n",
       "2                      Unemployed   \n",
       "3                      Unemployed   \n",
       "4                      Unemployed   \n",
       "\n",
       "  What matters most to you in choosing a course               Tags  \\\n",
       "0                       Better Career Prospects      Not Reachable   \n",
       "1                       Better Career Prospects     Lost to Others   \n",
       "2                       Better Career Prospects  Response Received   \n",
       "3                       Better Career Prospects     Status Unknown   \n",
       "4                       Better Career Prospects  Response Received   \n",
       "\n",
       "  Lead Quality Lead Profile     City Asymmetrique Activity Index  \\\n",
       "0     Not Sure      Unknown    Tier1                      Medium   \n",
       "1     Not Sure  Other Leads    Tier1                      Medium   \n",
       "2     Not Sure      Unknown  Unknown                      Medium   \n",
       "3     Not Sure      Unknown    Tier2                      Medium   \n",
       "4     Not Sure      Unknown    Tier3                      Medium   \n",
       "\n",
       "  Asymmetrique Profile Index A free copy of Mastering The Interview  \\\n",
       "0                     Medium                                     No   \n",
       "1                       High                                     No   \n",
       "2                        Low                                     No   \n",
       "3                     Medium                                     No   \n",
       "4                       High                                     No   \n",
       "\n",
       "  Last Notable Activity  Converted  \n",
       "0          Email Opened          0  \n",
       "1              Modified          0  \n",
       "2          Email Opened          0  \n",
       "3          Email Opened          0  \n",
       "4          Email Opened          0  "
      ]
     },
     "execution_count": 18,
     "metadata": {},
     "output_type": "execute_result"
    }
   ],
   "source": [
    "test_data1.head()"
   ]
  },
  {
   "cell_type": "code",
   "execution_count": 19,
   "metadata": {
    "colab": {
     "base_uri": "https://localhost:8080/"
    },
    "id": "qc3GEWu8pWwE",
    "outputId": "214598de-0706-41a9-d62a-69f5e2c49536"
   },
   "outputs": [
    {
     "data": {
      "text/plain": [
       "(6468, 23)"
      ]
     },
     "execution_count": 19,
     "metadata": {},
     "output_type": "execute_result"
    }
   ],
   "source": [
    "train_data.shape"
   ]
  },
  {
   "cell_type": "code",
   "execution_count": 20,
   "metadata": {
    "colab": {
     "base_uri": "https://localhost:8080/"
    },
    "id": "5IRpFgRYpWwF",
    "outputId": "23cea438-7e0c-45d2-9a8f-f53cc00fcb81"
   },
   "outputs": [
    {
     "data": {
      "text/plain": [
       "(6468, 18)"
      ]
     },
     "execution_count": 20,
     "metadata": {},
     "output_type": "execute_result"
    }
   ],
   "source": [
    "train_data1.shape"
   ]
  },
  {
   "cell_type": "code",
   "execution_count": 21,
   "metadata": {
    "colab": {
     "base_uri": "https://localhost:8080/"
    },
    "id": "_irTeM3KpWwF",
    "outputId": "5743687d-84b9-42c9-a3ea-864f0dc53b59"
   },
   "outputs": [
    {
     "data": {
      "text/plain": [
       "(2772, 23)"
      ]
     },
     "execution_count": 21,
     "metadata": {},
     "output_type": "execute_result"
    }
   ],
   "source": [
    "test_data.shape"
   ]
  },
  {
   "cell_type": "code",
   "execution_count": 22,
   "metadata": {
    "colab": {
     "base_uri": "https://localhost:8080/"
    },
    "id": "AKDEQWqppWwG",
    "outputId": "5bf5f0f6-37f4-4ee8-9669-851529a1ebda"
   },
   "outputs": [
    {
     "data": {
      "text/plain": [
       "(2772, 18)"
      ]
     },
     "execution_count": 22,
     "metadata": {},
     "output_type": "execute_result"
    }
   ],
   "source": [
    "test_data1.shape"
   ]
  },
  {
   "cell_type": "code",
   "execution_count": 23,
   "metadata": {
    "id": "hkAuW7XcpWwG"
   },
   "outputs": [],
   "source": [
    "X_train=train_data1.drop('Converted',axis=1)\n",
    "y_train=train_data1['Converted']"
   ]
  },
  {
   "cell_type": "code",
   "execution_count": 24,
   "metadata": {
    "id": "QYsgLBIppWwG"
   },
   "outputs": [],
   "source": [
    "X_test=test_data1.drop('Converted',axis=1)\n",
    "y_test=test_data1['Converted']"
   ]
  },
  {
   "cell_type": "code",
   "execution_count": 25,
   "metadata": {
    "colab": {
     "base_uri": "https://localhost:8080/",
     "height": 467
    },
    "id": "NBnbXvN9pWwH",
    "outputId": "90ac8669-296d-444c-e44b-7018629fa2bb"
   },
   "outputs": [
    {
     "data": {
      "text/html": [
       "<div>\n",
       "<style scoped>\n",
       "    .dataframe tbody tr th:only-of-type {\n",
       "        vertical-align: middle;\n",
       "    }\n",
       "\n",
       "    .dataframe tbody tr th {\n",
       "        vertical-align: top;\n",
       "    }\n",
       "\n",
       "    .dataframe thead th {\n",
       "        text-align: right;\n",
       "    }\n",
       "</style>\n",
       "<table border=\"1\" class=\"dataframe\">\n",
       "  <thead>\n",
       "    <tr style=\"text-align: right;\">\n",
       "      <th></th>\n",
       "      <th>Lead Source</th>\n",
       "      <th>Do Not Email</th>\n",
       "      <th>Total Time Spent on Website</th>\n",
       "      <th>Last Activity</th>\n",
       "      <th>Country</th>\n",
       "      <th>Specialization</th>\n",
       "      <th>How did you hear about X Education</th>\n",
       "      <th>What is your current occupation</th>\n",
       "      <th>What matters most to you in choosing a course</th>\n",
       "      <th>Tags</th>\n",
       "      <th>Lead Quality</th>\n",
       "      <th>Lead Profile</th>\n",
       "      <th>City</th>\n",
       "      <th>Asymmetrique Activity Index</th>\n",
       "      <th>Asymmetrique Profile Index</th>\n",
       "      <th>A free copy of Mastering The Interview</th>\n",
       "      <th>Last Notable Activity</th>\n",
       "    </tr>\n",
       "  </thead>\n",
       "  <tbody>\n",
       "    <tr>\n",
       "      <th>0</th>\n",
       "      <td>Direct Traffic</td>\n",
       "      <td>No</td>\n",
       "      <td>20.297783</td>\n",
       "      <td>Email Responded</td>\n",
       "      <td>India</td>\n",
       "      <td>E-Business</td>\n",
       "      <td>unknown</td>\n",
       "      <td>Unemployed</td>\n",
       "      <td>Better Career Prospects</td>\n",
       "      <td>Status Unknown</td>\n",
       "      <td>Not Sure</td>\n",
       "      <td>Unknown</td>\n",
       "      <td>Tier1</td>\n",
       "      <td>Medium</td>\n",
       "      <td>Medium</td>\n",
       "      <td>Yes</td>\n",
       "      <td>Email Opened</td>\n",
       "    </tr>\n",
       "    <tr>\n",
       "      <th>1</th>\n",
       "      <td>Organic Search</td>\n",
       "      <td>No</td>\n",
       "      <td>39.127995</td>\n",
       "      <td>SMS Reverted</td>\n",
       "      <td>India</td>\n",
       "      <td>Marketing</td>\n",
       "      <td>unknown</td>\n",
       "      <td>Unemployed</td>\n",
       "      <td>Better Career Prospects</td>\n",
       "      <td>Not Reachable</td>\n",
       "      <td>Not Sure</td>\n",
       "      <td>Unknown</td>\n",
       "      <td>Tier1</td>\n",
       "      <td>Medium</td>\n",
       "      <td>High</td>\n",
       "      <td>Yes</td>\n",
       "      <td>SMS Sent</td>\n",
       "    </tr>\n",
       "    <tr>\n",
       "      <th>2</th>\n",
       "      <td>Reference</td>\n",
       "      <td>No</td>\n",
       "      <td>35.327043</td>\n",
       "      <td>Email Responded</td>\n",
       "      <td>India</td>\n",
       "      <td>HR</td>\n",
       "      <td>unknown</td>\n",
       "      <td>Student</td>\n",
       "      <td>Better Career Prospects</td>\n",
       "      <td>Closed by Horizzon</td>\n",
       "      <td>Low in Relevance</td>\n",
       "      <td>Potential Lead</td>\n",
       "      <td>Tier1</td>\n",
       "      <td>Medium</td>\n",
       "      <td>High</td>\n",
       "      <td>Yes</td>\n",
       "      <td>Email Opened</td>\n",
       "    </tr>\n",
       "    <tr>\n",
       "      <th>3</th>\n",
       "      <td>Google</td>\n",
       "      <td>No</td>\n",
       "      <td>33.719431</td>\n",
       "      <td>Email Responded</td>\n",
       "      <td>India</td>\n",
       "      <td>Marketing</td>\n",
       "      <td>unknown</td>\n",
       "      <td>Unemployed</td>\n",
       "      <td>Better Career Prospects</td>\n",
       "      <td>Response Received</td>\n",
       "      <td>High in Relevance</td>\n",
       "      <td>Potential Lead</td>\n",
       "      <td>Tier1</td>\n",
       "      <td>Medium</td>\n",
       "      <td>High</td>\n",
       "      <td>Yes</td>\n",
       "      <td>Email Opened</td>\n",
       "    </tr>\n",
       "    <tr>\n",
       "      <th>4</th>\n",
       "      <td>Organic Search</td>\n",
       "      <td>No</td>\n",
       "      <td>31.670175</td>\n",
       "      <td>Email Responded</td>\n",
       "      <td>India</td>\n",
       "      <td>Logistics</td>\n",
       "      <td>Social Media</td>\n",
       "      <td>Unemployed</td>\n",
       "      <td>Better Career Prospects</td>\n",
       "      <td>Not Reachable</td>\n",
       "      <td>Not Sure</td>\n",
       "      <td>Unknown</td>\n",
       "      <td>Tier1</td>\n",
       "      <td>Medium</td>\n",
       "      <td>Medium</td>\n",
       "      <td>No</td>\n",
       "      <td>Email Opened</td>\n",
       "    </tr>\n",
       "  </tbody>\n",
       "</table>\n",
       "</div>"
      ],
      "text/plain": [
       "      Lead Source Do Not Email  Total Time Spent on Website    Last Activity  \\\n",
       "0  Direct Traffic           No                    20.297783  Email Responded   \n",
       "1  Organic Search           No                    39.127995     SMS Reverted   \n",
       "2       Reference           No                    35.327043  Email Responded   \n",
       "3          Google           No                    33.719431  Email Responded   \n",
       "4  Organic Search           No                    31.670175  Email Responded   \n",
       "\n",
       "  Country Specialization How did you hear about X Education  \\\n",
       "0   India     E-Business                            unknown   \n",
       "1   India      Marketing                            unknown   \n",
       "2   India             HR                            unknown   \n",
       "3   India      Marketing                            unknown   \n",
       "4   India      Logistics                       Social Media   \n",
       "\n",
       "  What is your current occupation  \\\n",
       "0                      Unemployed   \n",
       "1                      Unemployed   \n",
       "2                         Student   \n",
       "3                      Unemployed   \n",
       "4                      Unemployed   \n",
       "\n",
       "  What matters most to you in choosing a course                Tags  \\\n",
       "0                       Better Career Prospects      Status Unknown   \n",
       "1                       Better Career Prospects       Not Reachable   \n",
       "2                       Better Career Prospects  Closed by Horizzon   \n",
       "3                       Better Career Prospects   Response Received   \n",
       "4                       Better Career Prospects       Not Reachable   \n",
       "\n",
       "        Lead Quality    Lead Profile   City Asymmetrique Activity Index  \\\n",
       "0           Not Sure         Unknown  Tier1                      Medium   \n",
       "1           Not Sure         Unknown  Tier1                      Medium   \n",
       "2   Low in Relevance  Potential Lead  Tier1                      Medium   \n",
       "3  High in Relevance  Potential Lead  Tier1                      Medium   \n",
       "4           Not Sure         Unknown  Tier1                      Medium   \n",
       "\n",
       "  Asymmetrique Profile Index A free copy of Mastering The Interview  \\\n",
       "0                     Medium                                    Yes   \n",
       "1                       High                                    Yes   \n",
       "2                       High                                    Yes   \n",
       "3                       High                                    Yes   \n",
       "4                     Medium                                     No   \n",
       "\n",
       "  Last Notable Activity  \n",
       "0          Email Opened  \n",
       "1              SMS Sent  \n",
       "2          Email Opened  \n",
       "3          Email Opened  \n",
       "4          Email Opened  "
      ]
     },
     "execution_count": 25,
     "metadata": {},
     "output_type": "execute_result"
    }
   ],
   "source": [
    "X_train.head()"
   ]
  },
  {
   "cell_type": "code",
   "execution_count": 26,
   "metadata": {
    "colab": {
     "base_uri": "https://localhost:8080/",
     "height": 467
    },
    "id": "G1oHdWAIpWwH",
    "outputId": "4362f5cc-70bd-4b6e-c6dd-80af74ab44e8"
   },
   "outputs": [
    {
     "data": {
      "text/html": [
       "<div>\n",
       "<style scoped>\n",
       "    .dataframe tbody tr th:only-of-type {\n",
       "        vertical-align: middle;\n",
       "    }\n",
       "\n",
       "    .dataframe tbody tr th {\n",
       "        vertical-align: top;\n",
       "    }\n",
       "\n",
       "    .dataframe thead th {\n",
       "        text-align: right;\n",
       "    }\n",
       "</style>\n",
       "<table border=\"1\" class=\"dataframe\">\n",
       "  <thead>\n",
       "    <tr style=\"text-align: right;\">\n",
       "      <th></th>\n",
       "      <th>Lead Source</th>\n",
       "      <th>Do Not Email</th>\n",
       "      <th>Total Time Spent on Website</th>\n",
       "      <th>Last Activity</th>\n",
       "      <th>Country</th>\n",
       "      <th>Specialization</th>\n",
       "      <th>How did you hear about X Education</th>\n",
       "      <th>What is your current occupation</th>\n",
       "      <th>What matters most to you in choosing a course</th>\n",
       "      <th>Tags</th>\n",
       "      <th>Lead Quality</th>\n",
       "      <th>Lead Profile</th>\n",
       "      <th>City</th>\n",
       "      <th>Asymmetrique Activity Index</th>\n",
       "      <th>Asymmetrique Profile Index</th>\n",
       "      <th>A free copy of Mastering The Interview</th>\n",
       "      <th>Last Notable Activity</th>\n",
       "    </tr>\n",
       "  </thead>\n",
       "  <tbody>\n",
       "    <tr>\n",
       "      <th>0</th>\n",
       "      <td>Google</td>\n",
       "      <td>No</td>\n",
       "      <td>18.220867</td>\n",
       "      <td>Email Responded</td>\n",
       "      <td>India</td>\n",
       "      <td>IT Projects</td>\n",
       "      <td>Multiple Sources</td>\n",
       "      <td>Unemployed</td>\n",
       "      <td>Better Career Prospects</td>\n",
       "      <td>Not Reachable</td>\n",
       "      <td>Not Sure</td>\n",
       "      <td>Unknown</td>\n",
       "      <td>Tier1</td>\n",
       "      <td>Medium</td>\n",
       "      <td>Medium</td>\n",
       "      <td>No</td>\n",
       "      <td>Email Opened</td>\n",
       "    </tr>\n",
       "    <tr>\n",
       "      <th>1</th>\n",
       "      <td>Google</td>\n",
       "      <td>No</td>\n",
       "      <td>39.395431</td>\n",
       "      <td>Converted to Lead</td>\n",
       "      <td>India</td>\n",
       "      <td>Marketing</td>\n",
       "      <td>Other</td>\n",
       "      <td>Unemployed</td>\n",
       "      <td>Better Career Prospects</td>\n",
       "      <td>Lost to Others</td>\n",
       "      <td>Not Sure</td>\n",
       "      <td>Other Leads</td>\n",
       "      <td>Tier1</td>\n",
       "      <td>Medium</td>\n",
       "      <td>High</td>\n",
       "      <td>No</td>\n",
       "      <td>Modified</td>\n",
       "    </tr>\n",
       "    <tr>\n",
       "      <th>2</th>\n",
       "      <td>Google</td>\n",
       "      <td>No</td>\n",
       "      <td>36.660606</td>\n",
       "      <td>Email Responded</td>\n",
       "      <td>India</td>\n",
       "      <td>Tourism</td>\n",
       "      <td>unknown</td>\n",
       "      <td>Unemployed</td>\n",
       "      <td>Better Career Prospects</td>\n",
       "      <td>Response Received</td>\n",
       "      <td>Not Sure</td>\n",
       "      <td>Unknown</td>\n",
       "      <td>Unknown</td>\n",
       "      <td>Medium</td>\n",
       "      <td>Low</td>\n",
       "      <td>No</td>\n",
       "      <td>Email Opened</td>\n",
       "    </tr>\n",
       "    <tr>\n",
       "      <th>3</th>\n",
       "      <td>Google</td>\n",
       "      <td>No</td>\n",
       "      <td>13.674794</td>\n",
       "      <td>Email Responded</td>\n",
       "      <td>India</td>\n",
       "      <td>Finance</td>\n",
       "      <td>Online Search</td>\n",
       "      <td>Unemployed</td>\n",
       "      <td>Better Career Prospects</td>\n",
       "      <td>Status Unknown</td>\n",
       "      <td>Not Sure</td>\n",
       "      <td>Unknown</td>\n",
       "      <td>Tier2</td>\n",
       "      <td>Medium</td>\n",
       "      <td>Medium</td>\n",
       "      <td>No</td>\n",
       "      <td>Email Opened</td>\n",
       "    </tr>\n",
       "    <tr>\n",
       "      <th>4</th>\n",
       "      <td>Google</td>\n",
       "      <td>No</td>\n",
       "      <td>26.495283</td>\n",
       "      <td>Email Responded</td>\n",
       "      <td>India</td>\n",
       "      <td>Marketing</td>\n",
       "      <td>Social Media</td>\n",
       "      <td>Unemployed</td>\n",
       "      <td>Better Career Prospects</td>\n",
       "      <td>Response Received</td>\n",
       "      <td>Not Sure</td>\n",
       "      <td>Unknown</td>\n",
       "      <td>Tier3</td>\n",
       "      <td>Medium</td>\n",
       "      <td>High</td>\n",
       "      <td>No</td>\n",
       "      <td>Email Opened</td>\n",
       "    </tr>\n",
       "  </tbody>\n",
       "</table>\n",
       "</div>"
      ],
      "text/plain": [
       "  Lead Source Do Not Email  Total Time Spent on Website      Last Activity  \\\n",
       "0      Google           No                    18.220867    Email Responded   \n",
       "1      Google           No                    39.395431  Converted to Lead   \n",
       "2      Google           No                    36.660606    Email Responded   \n",
       "3      Google           No                    13.674794    Email Responded   \n",
       "4      Google           No                    26.495283    Email Responded   \n",
       "\n",
       "  Country Specialization How did you hear about X Education  \\\n",
       "0   India    IT Projects                   Multiple Sources   \n",
       "1   India      Marketing                              Other   \n",
       "2   India        Tourism                            unknown   \n",
       "3   India        Finance                      Online Search   \n",
       "4   India      Marketing                       Social Media   \n",
       "\n",
       "  What is your current occupation  \\\n",
       "0                      Unemployed   \n",
       "1                      Unemployed   \n",
       "2                      Unemployed   \n",
       "3                      Unemployed   \n",
       "4                      Unemployed   \n",
       "\n",
       "  What matters most to you in choosing a course               Tags  \\\n",
       "0                       Better Career Prospects      Not Reachable   \n",
       "1                       Better Career Prospects     Lost to Others   \n",
       "2                       Better Career Prospects  Response Received   \n",
       "3                       Better Career Prospects     Status Unknown   \n",
       "4                       Better Career Prospects  Response Received   \n",
       "\n",
       "  Lead Quality Lead Profile     City Asymmetrique Activity Index  \\\n",
       "0     Not Sure      Unknown    Tier1                      Medium   \n",
       "1     Not Sure  Other Leads    Tier1                      Medium   \n",
       "2     Not Sure      Unknown  Unknown                      Medium   \n",
       "3     Not Sure      Unknown    Tier2                      Medium   \n",
       "4     Not Sure      Unknown    Tier3                      Medium   \n",
       "\n",
       "  Asymmetrique Profile Index A free copy of Mastering The Interview  \\\n",
       "0                     Medium                                     No   \n",
       "1                       High                                     No   \n",
       "2                        Low                                     No   \n",
       "3                     Medium                                     No   \n",
       "4                       High                                     No   \n",
       "\n",
       "  Last Notable Activity  \n",
       "0          Email Opened  \n",
       "1              Modified  \n",
       "2          Email Opened  \n",
       "3          Email Opened  \n",
       "4          Email Opened  "
      ]
     },
     "execution_count": 26,
     "metadata": {},
     "output_type": "execute_result"
    }
   ],
   "source": [
    "X_test.head()"
   ]
  },
  {
   "cell_type": "code",
   "execution_count": null,
   "metadata": {
    "id": "yPOb0c7-pWwI"
   },
   "outputs": [],
   "source": []
  },
  {
   "cell_type": "code",
   "execution_count": 27,
   "metadata": {
    "id": "SRdbkR8lpWwI"
   },
   "outputs": [],
   "source": [
    "# now applying feature encoding"
   ]
  },
  {
   "cell_type": "markdown",
   "metadata": {
    "id": "pWISgabFpWwJ"
   },
   "source": [
    "X_train['Country'] => unique values india, pakistan\n",
    "X_test['Country'] => unqiue values india # unequal no of columns"
   ]
  },
  {
   "cell_type": "code",
   "execution_count": 28,
   "metadata": {
    "id": "zchxKrX8pWwJ"
   },
   "outputs": [],
   "source": [
    "X_train['train']=1"
   ]
  },
  {
   "cell_type": "code",
   "execution_count": 29,
   "metadata": {
    "id": "E8VCNmZzpWwJ"
   },
   "outputs": [],
   "source": [
    "X_test['train']=0"
   ]
  },
  {
   "cell_type": "code",
   "execution_count": 30,
   "metadata": {
    "colab": {
     "base_uri": "https://localhost:8080/",
     "height": 467
    },
    "id": "lPzAn8fRpWwK",
    "outputId": "a3d2c59e-f1b4-435d-e2c9-5786a9c57e0a"
   },
   "outputs": [
    {
     "data": {
      "text/html": [
       "<div>\n",
       "<style scoped>\n",
       "    .dataframe tbody tr th:only-of-type {\n",
       "        vertical-align: middle;\n",
       "    }\n",
       "\n",
       "    .dataframe tbody tr th {\n",
       "        vertical-align: top;\n",
       "    }\n",
       "\n",
       "    .dataframe thead th {\n",
       "        text-align: right;\n",
       "    }\n",
       "</style>\n",
       "<table border=\"1\" class=\"dataframe\">\n",
       "  <thead>\n",
       "    <tr style=\"text-align: right;\">\n",
       "      <th></th>\n",
       "      <th>Lead Source</th>\n",
       "      <th>Do Not Email</th>\n",
       "      <th>Total Time Spent on Website</th>\n",
       "      <th>Last Activity</th>\n",
       "      <th>Country</th>\n",
       "      <th>Specialization</th>\n",
       "      <th>How did you hear about X Education</th>\n",
       "      <th>What is your current occupation</th>\n",
       "      <th>What matters most to you in choosing a course</th>\n",
       "      <th>Tags</th>\n",
       "      <th>Lead Quality</th>\n",
       "      <th>Lead Profile</th>\n",
       "      <th>City</th>\n",
       "      <th>Asymmetrique Activity Index</th>\n",
       "      <th>Asymmetrique Profile Index</th>\n",
       "      <th>A free copy of Mastering The Interview</th>\n",
       "      <th>Last Notable Activity</th>\n",
       "      <th>train</th>\n",
       "    </tr>\n",
       "  </thead>\n",
       "  <tbody>\n",
       "    <tr>\n",
       "      <th>0</th>\n",
       "      <td>Direct Traffic</td>\n",
       "      <td>No</td>\n",
       "      <td>20.297783</td>\n",
       "      <td>Email Responded</td>\n",
       "      <td>India</td>\n",
       "      <td>E-Business</td>\n",
       "      <td>unknown</td>\n",
       "      <td>Unemployed</td>\n",
       "      <td>Better Career Prospects</td>\n",
       "      <td>Status Unknown</td>\n",
       "      <td>Not Sure</td>\n",
       "      <td>Unknown</td>\n",
       "      <td>Tier1</td>\n",
       "      <td>Medium</td>\n",
       "      <td>Medium</td>\n",
       "      <td>Yes</td>\n",
       "      <td>Email Opened</td>\n",
       "      <td>1</td>\n",
       "    </tr>\n",
       "    <tr>\n",
       "      <th>1</th>\n",
       "      <td>Organic Search</td>\n",
       "      <td>No</td>\n",
       "      <td>39.127995</td>\n",
       "      <td>SMS Reverted</td>\n",
       "      <td>India</td>\n",
       "      <td>Marketing</td>\n",
       "      <td>unknown</td>\n",
       "      <td>Unemployed</td>\n",
       "      <td>Better Career Prospects</td>\n",
       "      <td>Not Reachable</td>\n",
       "      <td>Not Sure</td>\n",
       "      <td>Unknown</td>\n",
       "      <td>Tier1</td>\n",
       "      <td>Medium</td>\n",
       "      <td>High</td>\n",
       "      <td>Yes</td>\n",
       "      <td>SMS Sent</td>\n",
       "      <td>1</td>\n",
       "    </tr>\n",
       "    <tr>\n",
       "      <th>2</th>\n",
       "      <td>Reference</td>\n",
       "      <td>No</td>\n",
       "      <td>35.327043</td>\n",
       "      <td>Email Responded</td>\n",
       "      <td>India</td>\n",
       "      <td>HR</td>\n",
       "      <td>unknown</td>\n",
       "      <td>Student</td>\n",
       "      <td>Better Career Prospects</td>\n",
       "      <td>Closed by Horizzon</td>\n",
       "      <td>Low in Relevance</td>\n",
       "      <td>Potential Lead</td>\n",
       "      <td>Tier1</td>\n",
       "      <td>Medium</td>\n",
       "      <td>High</td>\n",
       "      <td>Yes</td>\n",
       "      <td>Email Opened</td>\n",
       "      <td>1</td>\n",
       "    </tr>\n",
       "    <tr>\n",
       "      <th>3</th>\n",
       "      <td>Google</td>\n",
       "      <td>No</td>\n",
       "      <td>33.719431</td>\n",
       "      <td>Email Responded</td>\n",
       "      <td>India</td>\n",
       "      <td>Marketing</td>\n",
       "      <td>unknown</td>\n",
       "      <td>Unemployed</td>\n",
       "      <td>Better Career Prospects</td>\n",
       "      <td>Response Received</td>\n",
       "      <td>High in Relevance</td>\n",
       "      <td>Potential Lead</td>\n",
       "      <td>Tier1</td>\n",
       "      <td>Medium</td>\n",
       "      <td>High</td>\n",
       "      <td>Yes</td>\n",
       "      <td>Email Opened</td>\n",
       "      <td>1</td>\n",
       "    </tr>\n",
       "    <tr>\n",
       "      <th>4</th>\n",
       "      <td>Organic Search</td>\n",
       "      <td>No</td>\n",
       "      <td>31.670175</td>\n",
       "      <td>Email Responded</td>\n",
       "      <td>India</td>\n",
       "      <td>Logistics</td>\n",
       "      <td>Social Media</td>\n",
       "      <td>Unemployed</td>\n",
       "      <td>Better Career Prospects</td>\n",
       "      <td>Not Reachable</td>\n",
       "      <td>Not Sure</td>\n",
       "      <td>Unknown</td>\n",
       "      <td>Tier1</td>\n",
       "      <td>Medium</td>\n",
       "      <td>Medium</td>\n",
       "      <td>No</td>\n",
       "      <td>Email Opened</td>\n",
       "      <td>1</td>\n",
       "    </tr>\n",
       "  </tbody>\n",
       "</table>\n",
       "</div>"
      ],
      "text/plain": [
       "      Lead Source Do Not Email  Total Time Spent on Website    Last Activity  \\\n",
       "0  Direct Traffic           No                    20.297783  Email Responded   \n",
       "1  Organic Search           No                    39.127995     SMS Reverted   \n",
       "2       Reference           No                    35.327043  Email Responded   \n",
       "3          Google           No                    33.719431  Email Responded   \n",
       "4  Organic Search           No                    31.670175  Email Responded   \n",
       "\n",
       "  Country Specialization How did you hear about X Education  \\\n",
       "0   India     E-Business                            unknown   \n",
       "1   India      Marketing                            unknown   \n",
       "2   India             HR                            unknown   \n",
       "3   India      Marketing                            unknown   \n",
       "4   India      Logistics                       Social Media   \n",
       "\n",
       "  What is your current occupation  \\\n",
       "0                      Unemployed   \n",
       "1                      Unemployed   \n",
       "2                         Student   \n",
       "3                      Unemployed   \n",
       "4                      Unemployed   \n",
       "\n",
       "  What matters most to you in choosing a course                Tags  \\\n",
       "0                       Better Career Prospects      Status Unknown   \n",
       "1                       Better Career Prospects       Not Reachable   \n",
       "2                       Better Career Prospects  Closed by Horizzon   \n",
       "3                       Better Career Prospects   Response Received   \n",
       "4                       Better Career Prospects       Not Reachable   \n",
       "\n",
       "        Lead Quality    Lead Profile   City Asymmetrique Activity Index  \\\n",
       "0           Not Sure         Unknown  Tier1                      Medium   \n",
       "1           Not Sure         Unknown  Tier1                      Medium   \n",
       "2   Low in Relevance  Potential Lead  Tier1                      Medium   \n",
       "3  High in Relevance  Potential Lead  Tier1                      Medium   \n",
       "4           Not Sure         Unknown  Tier1                      Medium   \n",
       "\n",
       "  Asymmetrique Profile Index A free copy of Mastering The Interview  \\\n",
       "0                     Medium                                    Yes   \n",
       "1                       High                                    Yes   \n",
       "2                       High                                    Yes   \n",
       "3                       High                                    Yes   \n",
       "4                     Medium                                     No   \n",
       "\n",
       "  Last Notable Activity  train  \n",
       "0          Email Opened      1  \n",
       "1              SMS Sent      1  \n",
       "2          Email Opened      1  \n",
       "3          Email Opened      1  \n",
       "4          Email Opened      1  "
      ]
     },
     "execution_count": 30,
     "metadata": {},
     "output_type": "execute_result"
    }
   ],
   "source": [
    "X_train.head()"
   ]
  },
  {
   "cell_type": "code",
   "execution_count": 31,
   "metadata": {
    "colab": {
     "base_uri": "https://localhost:8080/",
     "height": 467
    },
    "id": "pOIPXTISpWwK",
    "outputId": "411b4023-297f-4dd7-abc1-95700aa9cd7f"
   },
   "outputs": [
    {
     "data": {
      "text/html": [
       "<div>\n",
       "<style scoped>\n",
       "    .dataframe tbody tr th:only-of-type {\n",
       "        vertical-align: middle;\n",
       "    }\n",
       "\n",
       "    .dataframe tbody tr th {\n",
       "        vertical-align: top;\n",
       "    }\n",
       "\n",
       "    .dataframe thead th {\n",
       "        text-align: right;\n",
       "    }\n",
       "</style>\n",
       "<table border=\"1\" class=\"dataframe\">\n",
       "  <thead>\n",
       "    <tr style=\"text-align: right;\">\n",
       "      <th></th>\n",
       "      <th>Lead Source</th>\n",
       "      <th>Do Not Email</th>\n",
       "      <th>Total Time Spent on Website</th>\n",
       "      <th>Last Activity</th>\n",
       "      <th>Country</th>\n",
       "      <th>Specialization</th>\n",
       "      <th>How did you hear about X Education</th>\n",
       "      <th>What is your current occupation</th>\n",
       "      <th>What matters most to you in choosing a course</th>\n",
       "      <th>Tags</th>\n",
       "      <th>Lead Quality</th>\n",
       "      <th>Lead Profile</th>\n",
       "      <th>City</th>\n",
       "      <th>Asymmetrique Activity Index</th>\n",
       "      <th>Asymmetrique Profile Index</th>\n",
       "      <th>A free copy of Mastering The Interview</th>\n",
       "      <th>Last Notable Activity</th>\n",
       "      <th>train</th>\n",
       "    </tr>\n",
       "  </thead>\n",
       "  <tbody>\n",
       "    <tr>\n",
       "      <th>0</th>\n",
       "      <td>Google</td>\n",
       "      <td>No</td>\n",
       "      <td>18.220867</td>\n",
       "      <td>Email Responded</td>\n",
       "      <td>India</td>\n",
       "      <td>IT Projects</td>\n",
       "      <td>Multiple Sources</td>\n",
       "      <td>Unemployed</td>\n",
       "      <td>Better Career Prospects</td>\n",
       "      <td>Not Reachable</td>\n",
       "      <td>Not Sure</td>\n",
       "      <td>Unknown</td>\n",
       "      <td>Tier1</td>\n",
       "      <td>Medium</td>\n",
       "      <td>Medium</td>\n",
       "      <td>No</td>\n",
       "      <td>Email Opened</td>\n",
       "      <td>0</td>\n",
       "    </tr>\n",
       "    <tr>\n",
       "      <th>1</th>\n",
       "      <td>Google</td>\n",
       "      <td>No</td>\n",
       "      <td>39.395431</td>\n",
       "      <td>Converted to Lead</td>\n",
       "      <td>India</td>\n",
       "      <td>Marketing</td>\n",
       "      <td>Other</td>\n",
       "      <td>Unemployed</td>\n",
       "      <td>Better Career Prospects</td>\n",
       "      <td>Lost to Others</td>\n",
       "      <td>Not Sure</td>\n",
       "      <td>Other Leads</td>\n",
       "      <td>Tier1</td>\n",
       "      <td>Medium</td>\n",
       "      <td>High</td>\n",
       "      <td>No</td>\n",
       "      <td>Modified</td>\n",
       "      <td>0</td>\n",
       "    </tr>\n",
       "    <tr>\n",
       "      <th>2</th>\n",
       "      <td>Google</td>\n",
       "      <td>No</td>\n",
       "      <td>36.660606</td>\n",
       "      <td>Email Responded</td>\n",
       "      <td>India</td>\n",
       "      <td>Tourism</td>\n",
       "      <td>unknown</td>\n",
       "      <td>Unemployed</td>\n",
       "      <td>Better Career Prospects</td>\n",
       "      <td>Response Received</td>\n",
       "      <td>Not Sure</td>\n",
       "      <td>Unknown</td>\n",
       "      <td>Unknown</td>\n",
       "      <td>Medium</td>\n",
       "      <td>Low</td>\n",
       "      <td>No</td>\n",
       "      <td>Email Opened</td>\n",
       "      <td>0</td>\n",
       "    </tr>\n",
       "    <tr>\n",
       "      <th>3</th>\n",
       "      <td>Google</td>\n",
       "      <td>No</td>\n",
       "      <td>13.674794</td>\n",
       "      <td>Email Responded</td>\n",
       "      <td>India</td>\n",
       "      <td>Finance</td>\n",
       "      <td>Online Search</td>\n",
       "      <td>Unemployed</td>\n",
       "      <td>Better Career Prospects</td>\n",
       "      <td>Status Unknown</td>\n",
       "      <td>Not Sure</td>\n",
       "      <td>Unknown</td>\n",
       "      <td>Tier2</td>\n",
       "      <td>Medium</td>\n",
       "      <td>Medium</td>\n",
       "      <td>No</td>\n",
       "      <td>Email Opened</td>\n",
       "      <td>0</td>\n",
       "    </tr>\n",
       "    <tr>\n",
       "      <th>4</th>\n",
       "      <td>Google</td>\n",
       "      <td>No</td>\n",
       "      <td>26.495283</td>\n",
       "      <td>Email Responded</td>\n",
       "      <td>India</td>\n",
       "      <td>Marketing</td>\n",
       "      <td>Social Media</td>\n",
       "      <td>Unemployed</td>\n",
       "      <td>Better Career Prospects</td>\n",
       "      <td>Response Received</td>\n",
       "      <td>Not Sure</td>\n",
       "      <td>Unknown</td>\n",
       "      <td>Tier3</td>\n",
       "      <td>Medium</td>\n",
       "      <td>High</td>\n",
       "      <td>No</td>\n",
       "      <td>Email Opened</td>\n",
       "      <td>0</td>\n",
       "    </tr>\n",
       "  </tbody>\n",
       "</table>\n",
       "</div>"
      ],
      "text/plain": [
       "  Lead Source Do Not Email  Total Time Spent on Website      Last Activity  \\\n",
       "0      Google           No                    18.220867    Email Responded   \n",
       "1      Google           No                    39.395431  Converted to Lead   \n",
       "2      Google           No                    36.660606    Email Responded   \n",
       "3      Google           No                    13.674794    Email Responded   \n",
       "4      Google           No                    26.495283    Email Responded   \n",
       "\n",
       "  Country Specialization How did you hear about X Education  \\\n",
       "0   India    IT Projects                   Multiple Sources   \n",
       "1   India      Marketing                              Other   \n",
       "2   India        Tourism                            unknown   \n",
       "3   India        Finance                      Online Search   \n",
       "4   India      Marketing                       Social Media   \n",
       "\n",
       "  What is your current occupation  \\\n",
       "0                      Unemployed   \n",
       "1                      Unemployed   \n",
       "2                      Unemployed   \n",
       "3                      Unemployed   \n",
       "4                      Unemployed   \n",
       "\n",
       "  What matters most to you in choosing a course               Tags  \\\n",
       "0                       Better Career Prospects      Not Reachable   \n",
       "1                       Better Career Prospects     Lost to Others   \n",
       "2                       Better Career Prospects  Response Received   \n",
       "3                       Better Career Prospects     Status Unknown   \n",
       "4                       Better Career Prospects  Response Received   \n",
       "\n",
       "  Lead Quality Lead Profile     City Asymmetrique Activity Index  \\\n",
       "0     Not Sure      Unknown    Tier1                      Medium   \n",
       "1     Not Sure  Other Leads    Tier1                      Medium   \n",
       "2     Not Sure      Unknown  Unknown                      Medium   \n",
       "3     Not Sure      Unknown    Tier2                      Medium   \n",
       "4     Not Sure      Unknown    Tier3                      Medium   \n",
       "\n",
       "  Asymmetrique Profile Index A free copy of Mastering The Interview  \\\n",
       "0                     Medium                                     No   \n",
       "1                       High                                     No   \n",
       "2                        Low                                     No   \n",
       "3                     Medium                                     No   \n",
       "4                       High                                     No   \n",
       "\n",
       "  Last Notable Activity  train  \n",
       "0          Email Opened      0  \n",
       "1              Modified      0  \n",
       "2          Email Opened      0  \n",
       "3          Email Opened      0  \n",
       "4          Email Opened      0  "
      ]
     },
     "execution_count": 31,
     "metadata": {},
     "output_type": "execute_result"
    }
   ],
   "source": [
    "X_test.head()"
   ]
  },
  {
   "cell_type": "code",
   "execution_count": 32,
   "metadata": {
    "id": "qeSQkG1kpWwK"
   },
   "outputs": [],
   "source": [
    "X=pd.concat([X_train,X_test],axis=0)"
   ]
  },
  {
   "cell_type": "code",
   "execution_count": 33,
   "metadata": {
    "colab": {
     "base_uri": "https://localhost:8080/"
    },
    "id": "pZKZth6HpWwL",
    "outputId": "e5772694-6c17-4d01-fd55-c15456fdfd9a"
   },
   "outputs": [
    {
     "data": {
      "text/plain": [
       "(9240, 18)"
      ]
     },
     "execution_count": 33,
     "metadata": {},
     "output_type": "execute_result"
    }
   ],
   "source": [
    "X.shape"
   ]
  },
  {
   "cell_type": "code",
   "execution_count": 34,
   "metadata": {
    "id": "tTDxYJONpWwL"
   },
   "outputs": [],
   "source": [
    "#encoding ['Asymmetrique Activity Index','Asymmetrique Profile Index']"
   ]
  },
  {
   "cell_type": "code",
   "execution_count": 35,
   "metadata": {
    "colab": {
     "base_uri": "https://localhost:8080/"
    },
    "id": "OjmCI9vnpWwL",
    "outputId": "8860180c-8e07-42d3-9ab5-f7cf3230a4d7"
   },
   "outputs": [
    {
     "data": {
      "text/plain": [
       "array(['Medium', 'High', 'Low'], dtype=object)"
      ]
     },
     "execution_count": 35,
     "metadata": {},
     "output_type": "execute_result"
    }
   ],
   "source": [
    "X['Asymmetrique Activity Index'].unique()"
   ]
  },
  {
   "cell_type": "code",
   "execution_count": 36,
   "metadata": {
    "id": "QwmoPCqJpWwL"
   },
   "outputs": [],
   "source": [
    "X['Asymmetrique Activity Index']=X['Asymmetrique Activity Index'].map({'Low':1,'Medium':2,'High':3})"
   ]
  },
  {
   "cell_type": "code",
   "execution_count": null,
   "metadata": {
    "id": "--tnXdrYpWwM"
   },
   "outputs": [],
   "source": []
  },
  {
   "cell_type": "code",
   "execution_count": 37,
   "metadata": {
    "colab": {
     "base_uri": "https://localhost:8080/"
    },
    "id": "6smfAY8xpWwM",
    "outputId": "c7816fe6-0848-46c7-81ee-7ee1ca566285"
   },
   "outputs": [
    {
     "data": {
      "text/plain": [
       "array(['Medium', 'High', 'Low'], dtype=object)"
      ]
     },
     "execution_count": 37,
     "metadata": {},
     "output_type": "execute_result"
    }
   ],
   "source": [
    "X['Asymmetrique Profile Index'].unique()"
   ]
  },
  {
   "cell_type": "code",
   "execution_count": 38,
   "metadata": {
    "id": "9BTEzMCepWwM"
   },
   "outputs": [],
   "source": [
    "X['Asymmetrique Profile Index']=X['Asymmetrique Profile Index'].map({'Low':1,'Medium':2,'High':3})"
   ]
  },
  {
   "cell_type": "code",
   "execution_count": 39,
   "metadata": {
    "colab": {
     "base_uri": "https://localhost:8080/",
     "height": 467
    },
    "id": "jjPdWsnepWwM",
    "outputId": "d4cfb761-dc76-42df-cc22-bf2bb8aec577"
   },
   "outputs": [
    {
     "data": {
      "text/html": [
       "<div>\n",
       "<style scoped>\n",
       "    .dataframe tbody tr th:only-of-type {\n",
       "        vertical-align: middle;\n",
       "    }\n",
       "\n",
       "    .dataframe tbody tr th {\n",
       "        vertical-align: top;\n",
       "    }\n",
       "\n",
       "    .dataframe thead th {\n",
       "        text-align: right;\n",
       "    }\n",
       "</style>\n",
       "<table border=\"1\" class=\"dataframe\">\n",
       "  <thead>\n",
       "    <tr style=\"text-align: right;\">\n",
       "      <th></th>\n",
       "      <th>Lead Source</th>\n",
       "      <th>Do Not Email</th>\n",
       "      <th>Total Time Spent on Website</th>\n",
       "      <th>Last Activity</th>\n",
       "      <th>Country</th>\n",
       "      <th>Specialization</th>\n",
       "      <th>How did you hear about X Education</th>\n",
       "      <th>What is your current occupation</th>\n",
       "      <th>What matters most to you in choosing a course</th>\n",
       "      <th>Tags</th>\n",
       "      <th>Lead Quality</th>\n",
       "      <th>Lead Profile</th>\n",
       "      <th>City</th>\n",
       "      <th>Asymmetrique Activity Index</th>\n",
       "      <th>Asymmetrique Profile Index</th>\n",
       "      <th>A free copy of Mastering The Interview</th>\n",
       "      <th>Last Notable Activity</th>\n",
       "      <th>train</th>\n",
       "    </tr>\n",
       "  </thead>\n",
       "  <tbody>\n",
       "    <tr>\n",
       "      <th>0</th>\n",
       "      <td>Direct Traffic</td>\n",
       "      <td>No</td>\n",
       "      <td>20.297783</td>\n",
       "      <td>Email Responded</td>\n",
       "      <td>India</td>\n",
       "      <td>E-Business</td>\n",
       "      <td>unknown</td>\n",
       "      <td>Unemployed</td>\n",
       "      <td>Better Career Prospects</td>\n",
       "      <td>Status Unknown</td>\n",
       "      <td>Not Sure</td>\n",
       "      <td>Unknown</td>\n",
       "      <td>Tier1</td>\n",
       "      <td>2</td>\n",
       "      <td>2</td>\n",
       "      <td>Yes</td>\n",
       "      <td>Email Opened</td>\n",
       "      <td>1</td>\n",
       "    </tr>\n",
       "    <tr>\n",
       "      <th>1</th>\n",
       "      <td>Organic Search</td>\n",
       "      <td>No</td>\n",
       "      <td>39.127995</td>\n",
       "      <td>SMS Reverted</td>\n",
       "      <td>India</td>\n",
       "      <td>Marketing</td>\n",
       "      <td>unknown</td>\n",
       "      <td>Unemployed</td>\n",
       "      <td>Better Career Prospects</td>\n",
       "      <td>Not Reachable</td>\n",
       "      <td>Not Sure</td>\n",
       "      <td>Unknown</td>\n",
       "      <td>Tier1</td>\n",
       "      <td>2</td>\n",
       "      <td>3</td>\n",
       "      <td>Yes</td>\n",
       "      <td>SMS Sent</td>\n",
       "      <td>1</td>\n",
       "    </tr>\n",
       "    <tr>\n",
       "      <th>2</th>\n",
       "      <td>Reference</td>\n",
       "      <td>No</td>\n",
       "      <td>35.327043</td>\n",
       "      <td>Email Responded</td>\n",
       "      <td>India</td>\n",
       "      <td>HR</td>\n",
       "      <td>unknown</td>\n",
       "      <td>Student</td>\n",
       "      <td>Better Career Prospects</td>\n",
       "      <td>Closed by Horizzon</td>\n",
       "      <td>Low in Relevance</td>\n",
       "      <td>Potential Lead</td>\n",
       "      <td>Tier1</td>\n",
       "      <td>2</td>\n",
       "      <td>3</td>\n",
       "      <td>Yes</td>\n",
       "      <td>Email Opened</td>\n",
       "      <td>1</td>\n",
       "    </tr>\n",
       "    <tr>\n",
       "      <th>3</th>\n",
       "      <td>Google</td>\n",
       "      <td>No</td>\n",
       "      <td>33.719431</td>\n",
       "      <td>Email Responded</td>\n",
       "      <td>India</td>\n",
       "      <td>Marketing</td>\n",
       "      <td>unknown</td>\n",
       "      <td>Unemployed</td>\n",
       "      <td>Better Career Prospects</td>\n",
       "      <td>Response Received</td>\n",
       "      <td>High in Relevance</td>\n",
       "      <td>Potential Lead</td>\n",
       "      <td>Tier1</td>\n",
       "      <td>2</td>\n",
       "      <td>3</td>\n",
       "      <td>Yes</td>\n",
       "      <td>Email Opened</td>\n",
       "      <td>1</td>\n",
       "    </tr>\n",
       "    <tr>\n",
       "      <th>4</th>\n",
       "      <td>Organic Search</td>\n",
       "      <td>No</td>\n",
       "      <td>31.670175</td>\n",
       "      <td>Email Responded</td>\n",
       "      <td>India</td>\n",
       "      <td>Logistics</td>\n",
       "      <td>Social Media</td>\n",
       "      <td>Unemployed</td>\n",
       "      <td>Better Career Prospects</td>\n",
       "      <td>Not Reachable</td>\n",
       "      <td>Not Sure</td>\n",
       "      <td>Unknown</td>\n",
       "      <td>Tier1</td>\n",
       "      <td>2</td>\n",
       "      <td>2</td>\n",
       "      <td>No</td>\n",
       "      <td>Email Opened</td>\n",
       "      <td>1</td>\n",
       "    </tr>\n",
       "  </tbody>\n",
       "</table>\n",
       "</div>"
      ],
      "text/plain": [
       "      Lead Source Do Not Email  Total Time Spent on Website    Last Activity  \\\n",
       "0  Direct Traffic           No                    20.297783  Email Responded   \n",
       "1  Organic Search           No                    39.127995     SMS Reverted   \n",
       "2       Reference           No                    35.327043  Email Responded   \n",
       "3          Google           No                    33.719431  Email Responded   \n",
       "4  Organic Search           No                    31.670175  Email Responded   \n",
       "\n",
       "  Country Specialization How did you hear about X Education  \\\n",
       "0   India     E-Business                            unknown   \n",
       "1   India      Marketing                            unknown   \n",
       "2   India             HR                            unknown   \n",
       "3   India      Marketing                            unknown   \n",
       "4   India      Logistics                       Social Media   \n",
       "\n",
       "  What is your current occupation  \\\n",
       "0                      Unemployed   \n",
       "1                      Unemployed   \n",
       "2                         Student   \n",
       "3                      Unemployed   \n",
       "4                      Unemployed   \n",
       "\n",
       "  What matters most to you in choosing a course                Tags  \\\n",
       "0                       Better Career Prospects      Status Unknown   \n",
       "1                       Better Career Prospects       Not Reachable   \n",
       "2                       Better Career Prospects  Closed by Horizzon   \n",
       "3                       Better Career Prospects   Response Received   \n",
       "4                       Better Career Prospects       Not Reachable   \n",
       "\n",
       "        Lead Quality    Lead Profile   City  Asymmetrique Activity Index  \\\n",
       "0           Not Sure         Unknown  Tier1                            2   \n",
       "1           Not Sure         Unknown  Tier1                            2   \n",
       "2   Low in Relevance  Potential Lead  Tier1                            2   \n",
       "3  High in Relevance  Potential Lead  Tier1                            2   \n",
       "4           Not Sure         Unknown  Tier1                            2   \n",
       "\n",
       "   Asymmetrique Profile Index A free copy of Mastering The Interview  \\\n",
       "0                           2                                    Yes   \n",
       "1                           3                                    Yes   \n",
       "2                           3                                    Yes   \n",
       "3                           3                                    Yes   \n",
       "4                           2                                     No   \n",
       "\n",
       "  Last Notable Activity  train  \n",
       "0          Email Opened      1  \n",
       "1              SMS Sent      1  \n",
       "2          Email Opened      1  \n",
       "3          Email Opened      1  \n",
       "4          Email Opened      1  "
      ]
     },
     "execution_count": 39,
     "metadata": {},
     "output_type": "execute_result"
    }
   ],
   "source": [
    "X.head()"
   ]
  },
  {
   "cell_type": "code",
   "execution_count": 40,
   "metadata": {
    "id": "u6YeR0CypWwN"
   },
   "outputs": [],
   "source": [
    "#now encoding left nominal features."
   ]
  },
  {
   "cell_type": "code",
   "execution_count": 41,
   "metadata": {
    "id": "7J283IRBpWwN"
   },
   "outputs": [],
   "source": [
    "cat_cols=list(X.select_dtypes(include=['object']).columns)"
   ]
  },
  {
   "cell_type": "code",
   "execution_count": 42,
   "metadata": {
    "colab": {
     "base_uri": "https://localhost:8080/"
    },
    "id": "owM3EeNLpWwN",
    "outputId": "7f71008c-ff4c-4b7b-eacc-68261af30ef3"
   },
   "outputs": [
    {
     "data": {
      "text/plain": [
       "['Lead Source',\n",
       " 'Do Not Email',\n",
       " 'Last Activity',\n",
       " 'Country',\n",
       " 'Specialization',\n",
       " 'How did you hear about X Education',\n",
       " 'What is your current occupation',\n",
       " 'What matters most to you in choosing a course',\n",
       " 'Tags',\n",
       " 'Lead Quality',\n",
       " 'Lead Profile',\n",
       " 'City',\n",
       " 'A free copy of Mastering The Interview',\n",
       " 'Last Notable Activity']"
      ]
     },
     "execution_count": 42,
     "metadata": {},
     "output_type": "execute_result"
    }
   ],
   "source": [
    "cat_cols"
   ]
  },
  {
   "cell_type": "code",
   "execution_count": null,
   "metadata": {
    "id": "kH7SBGCDpWwN"
   },
   "outputs": [],
   "source": []
  },
  {
   "cell_type": "code",
   "execution_count": 43,
   "metadata": {
    "id": "eWSaZytzpWwN"
   },
   "outputs": [],
   "source": [
    "X=pd.get_dummies(X,columns=list(cat_cols),drop_first=True)"
   ]
  },
  {
   "cell_type": "code",
   "execution_count": 44,
   "metadata": {
    "colab": {
     "base_uri": "https://localhost:8080/",
     "height": 472
    },
    "id": "7CSodayPpWwO",
    "outputId": "dd72b237-e889-49a8-911c-5e9ce111a2d2"
   },
   "outputs": [
    {
     "data": {
      "text/html": [
       "<div>\n",
       "<style scoped>\n",
       "    .dataframe tbody tr th:only-of-type {\n",
       "        vertical-align: middle;\n",
       "    }\n",
       "\n",
       "    .dataframe tbody tr th {\n",
       "        vertical-align: top;\n",
       "    }\n",
       "\n",
       "    .dataframe thead th {\n",
       "        text-align: right;\n",
       "    }\n",
       "</style>\n",
       "<table border=\"1\" class=\"dataframe\">\n",
       "  <thead>\n",
       "    <tr style=\"text-align: right;\">\n",
       "      <th></th>\n",
       "      <th>Total Time Spent on Website</th>\n",
       "      <th>Asymmetrique Activity Index</th>\n",
       "      <th>Asymmetrique Profile Index</th>\n",
       "      <th>train</th>\n",
       "      <th>Lead Source_Google</th>\n",
       "      <th>Lead Source_Olark Chat</th>\n",
       "      <th>Lead Source_Organic Search</th>\n",
       "      <th>Lead Source_Other Sources</th>\n",
       "      <th>Lead Source_Reference</th>\n",
       "      <th>Do Not Email_Yes</th>\n",
       "      <th>Last Activity_Email Responded</th>\n",
       "      <th>Last Activity_Email Unsubscribed</th>\n",
       "      <th>Last Activity_Olark Chat Conversation</th>\n",
       "      <th>Last Activity_Page Visited on Website</th>\n",
       "      <th>Last Activity_SMS Reverted</th>\n",
       "      <th>Country_other_country</th>\n",
       "      <th>Country_unknown</th>\n",
       "      <th>Specialization_Finance</th>\n",
       "      <th>Specialization_HR</th>\n",
       "      <th>Specialization_Healthcare</th>\n",
       "      <th>Specialization_IT Projects</th>\n",
       "      <th>Specialization_International Business</th>\n",
       "      <th>Specialization_Logistics</th>\n",
       "      <th>Specialization_Marketing</th>\n",
       "      <th>Specialization_Rural and Agribusiness</th>\n",
       "      <th>Specialization_Tourism</th>\n",
       "      <th>Specialization_unknown</th>\n",
       "      <th>How did you hear about X Education_Email</th>\n",
       "      <th>How did you hear about X Education_Multiple Sources</th>\n",
       "      <th>How did you hear about X Education_Online Search</th>\n",
       "      <th>How did you hear about X Education_Other</th>\n",
       "      <th>How did you hear about X Education_SMS</th>\n",
       "      <th>How did you hear about X Education_Social Media</th>\n",
       "      <th>How did you hear about X Education_Student of SomeSchool</th>\n",
       "      <th>How did you hear about X Education_Word Of Mouth</th>\n",
       "      <th>How did you hear about X Education_unknown</th>\n",
       "      <th>What is your current occupation_Others</th>\n",
       "      <th>What is your current occupation_Student</th>\n",
       "      <th>What is your current occupation_Unemployed</th>\n",
       "      <th>What is your current occupation_Working Professional</th>\n",
       "      <th>What matters most to you in choosing a course_Others</th>\n",
       "      <th>Tags_Graduation in progress</th>\n",
       "      <th>Tags_Lost to Others</th>\n",
       "      <th>Tags_Not Eligible</th>\n",
       "      <th>Tags_Not Reachable</th>\n",
       "      <th>Tags_Response Received</th>\n",
       "      <th>Tags_Status Unknown</th>\n",
       "      <th>Lead Quality_Low in Relevance</th>\n",
       "      <th>Lead Quality_Might be</th>\n",
       "      <th>Lead Quality_Not Sure</th>\n",
       "      <th>Lead Quality_Worst</th>\n",
       "      <th>Lead Profile_Lateral Student</th>\n",
       "      <th>Lead Profile_Other Leads</th>\n",
       "      <th>Lead Profile_Potential Lead</th>\n",
       "      <th>Lead Profile_Student of SomeSchool</th>\n",
       "      <th>Lead Profile_Unknown</th>\n",
       "      <th>City_Tier2</th>\n",
       "      <th>City_Tier3</th>\n",
       "      <th>City_Unknown</th>\n",
       "      <th>A free copy of Mastering The Interview_Yes</th>\n",
       "      <th>Last Notable Activity_Email Bounced</th>\n",
       "      <th>Last Notable Activity_Email Link Clicked</th>\n",
       "      <th>Last Notable Activity_Email Marked Spam</th>\n",
       "      <th>Last Notable Activity_Email Opened</th>\n",
       "      <th>Last Notable Activity_Email Received</th>\n",
       "      <th>Last Notable Activity_Form Submitted on Website</th>\n",
       "      <th>Last Notable Activity_Had a Phone Conversation</th>\n",
       "      <th>Last Notable Activity_Modified</th>\n",
       "      <th>Last Notable Activity_Olark Chat Conversation</th>\n",
       "      <th>Last Notable Activity_Page Visited on Website</th>\n",
       "      <th>Last Notable Activity_Resubscribed to emails</th>\n",
       "      <th>Last Notable Activity_SMS Sent</th>\n",
       "      <th>Last Notable Activity_Unreachable</th>\n",
       "      <th>Last Notable Activity_Unsubscribed</th>\n",
       "      <th>Last Notable Activity_View in browser link Clicked</th>\n",
       "    </tr>\n",
       "  </thead>\n",
       "  <tbody>\n",
       "    <tr>\n",
       "      <th>0</th>\n",
       "      <td>20.297783</td>\n",
       "      <td>2</td>\n",
       "      <td>2</td>\n",
       "      <td>1</td>\n",
       "      <td>0</td>\n",
       "      <td>0</td>\n",
       "      <td>0</td>\n",
       "      <td>0</td>\n",
       "      <td>0</td>\n",
       "      <td>0</td>\n",
       "      <td>1</td>\n",
       "      <td>0</td>\n",
       "      <td>0</td>\n",
       "      <td>0</td>\n",
       "      <td>0</td>\n",
       "      <td>0</td>\n",
       "      <td>0</td>\n",
       "      <td>0</td>\n",
       "      <td>0</td>\n",
       "      <td>0</td>\n",
       "      <td>0</td>\n",
       "      <td>0</td>\n",
       "      <td>0</td>\n",
       "      <td>0</td>\n",
       "      <td>0</td>\n",
       "      <td>0</td>\n",
       "      <td>0</td>\n",
       "      <td>0</td>\n",
       "      <td>0</td>\n",
       "      <td>0</td>\n",
       "      <td>0</td>\n",
       "      <td>0</td>\n",
       "      <td>0</td>\n",
       "      <td>0</td>\n",
       "      <td>0</td>\n",
       "      <td>1</td>\n",
       "      <td>0</td>\n",
       "      <td>0</td>\n",
       "      <td>1</td>\n",
       "      <td>0</td>\n",
       "      <td>0</td>\n",
       "      <td>0</td>\n",
       "      <td>0</td>\n",
       "      <td>0</td>\n",
       "      <td>0</td>\n",
       "      <td>0</td>\n",
       "      <td>1</td>\n",
       "      <td>0</td>\n",
       "      <td>0</td>\n",
       "      <td>1</td>\n",
       "      <td>0</td>\n",
       "      <td>0</td>\n",
       "      <td>0</td>\n",
       "      <td>0</td>\n",
       "      <td>0</td>\n",
       "      <td>1</td>\n",
       "      <td>0</td>\n",
       "      <td>0</td>\n",
       "      <td>0</td>\n",
       "      <td>1</td>\n",
       "      <td>0</td>\n",
       "      <td>0</td>\n",
       "      <td>0</td>\n",
       "      <td>1</td>\n",
       "      <td>0</td>\n",
       "      <td>0</td>\n",
       "      <td>0</td>\n",
       "      <td>0</td>\n",
       "      <td>0</td>\n",
       "      <td>0</td>\n",
       "      <td>0</td>\n",
       "      <td>0</td>\n",
       "      <td>0</td>\n",
       "      <td>0</td>\n",
       "      <td>0</td>\n",
       "    </tr>\n",
       "    <tr>\n",
       "      <th>1</th>\n",
       "      <td>39.127995</td>\n",
       "      <td>2</td>\n",
       "      <td>3</td>\n",
       "      <td>1</td>\n",
       "      <td>0</td>\n",
       "      <td>0</td>\n",
       "      <td>1</td>\n",
       "      <td>0</td>\n",
       "      <td>0</td>\n",
       "      <td>0</td>\n",
       "      <td>0</td>\n",
       "      <td>0</td>\n",
       "      <td>0</td>\n",
       "      <td>0</td>\n",
       "      <td>1</td>\n",
       "      <td>0</td>\n",
       "      <td>0</td>\n",
       "      <td>0</td>\n",
       "      <td>0</td>\n",
       "      <td>0</td>\n",
       "      <td>0</td>\n",
       "      <td>0</td>\n",
       "      <td>0</td>\n",
       "      <td>1</td>\n",
       "      <td>0</td>\n",
       "      <td>0</td>\n",
       "      <td>0</td>\n",
       "      <td>0</td>\n",
       "      <td>0</td>\n",
       "      <td>0</td>\n",
       "      <td>0</td>\n",
       "      <td>0</td>\n",
       "      <td>0</td>\n",
       "      <td>0</td>\n",
       "      <td>0</td>\n",
       "      <td>1</td>\n",
       "      <td>0</td>\n",
       "      <td>0</td>\n",
       "      <td>1</td>\n",
       "      <td>0</td>\n",
       "      <td>0</td>\n",
       "      <td>0</td>\n",
       "      <td>0</td>\n",
       "      <td>0</td>\n",
       "      <td>1</td>\n",
       "      <td>0</td>\n",
       "      <td>0</td>\n",
       "      <td>0</td>\n",
       "      <td>0</td>\n",
       "      <td>1</td>\n",
       "      <td>0</td>\n",
       "      <td>0</td>\n",
       "      <td>0</td>\n",
       "      <td>0</td>\n",
       "      <td>0</td>\n",
       "      <td>1</td>\n",
       "      <td>0</td>\n",
       "      <td>0</td>\n",
       "      <td>0</td>\n",
       "      <td>1</td>\n",
       "      <td>0</td>\n",
       "      <td>0</td>\n",
       "      <td>0</td>\n",
       "      <td>0</td>\n",
       "      <td>0</td>\n",
       "      <td>0</td>\n",
       "      <td>0</td>\n",
       "      <td>0</td>\n",
       "      <td>0</td>\n",
       "      <td>0</td>\n",
       "      <td>0</td>\n",
       "      <td>1</td>\n",
       "      <td>0</td>\n",
       "      <td>0</td>\n",
       "      <td>0</td>\n",
       "    </tr>\n",
       "    <tr>\n",
       "      <th>2</th>\n",
       "      <td>35.327043</td>\n",
       "      <td>2</td>\n",
       "      <td>3</td>\n",
       "      <td>1</td>\n",
       "      <td>0</td>\n",
       "      <td>0</td>\n",
       "      <td>0</td>\n",
       "      <td>0</td>\n",
       "      <td>1</td>\n",
       "      <td>0</td>\n",
       "      <td>1</td>\n",
       "      <td>0</td>\n",
       "      <td>0</td>\n",
       "      <td>0</td>\n",
       "      <td>0</td>\n",
       "      <td>0</td>\n",
       "      <td>0</td>\n",
       "      <td>0</td>\n",
       "      <td>1</td>\n",
       "      <td>0</td>\n",
       "      <td>0</td>\n",
       "      <td>0</td>\n",
       "      <td>0</td>\n",
       "      <td>0</td>\n",
       "      <td>0</td>\n",
       "      <td>0</td>\n",
       "      <td>0</td>\n",
       "      <td>0</td>\n",
       "      <td>0</td>\n",
       "      <td>0</td>\n",
       "      <td>0</td>\n",
       "      <td>0</td>\n",
       "      <td>0</td>\n",
       "      <td>0</td>\n",
       "      <td>0</td>\n",
       "      <td>1</td>\n",
       "      <td>0</td>\n",
       "      <td>1</td>\n",
       "      <td>0</td>\n",
       "      <td>0</td>\n",
       "      <td>0</td>\n",
       "      <td>0</td>\n",
       "      <td>0</td>\n",
       "      <td>0</td>\n",
       "      <td>0</td>\n",
       "      <td>0</td>\n",
       "      <td>0</td>\n",
       "      <td>1</td>\n",
       "      <td>0</td>\n",
       "      <td>0</td>\n",
       "      <td>0</td>\n",
       "      <td>0</td>\n",
       "      <td>0</td>\n",
       "      <td>1</td>\n",
       "      <td>0</td>\n",
       "      <td>0</td>\n",
       "      <td>0</td>\n",
       "      <td>0</td>\n",
       "      <td>0</td>\n",
       "      <td>1</td>\n",
       "      <td>0</td>\n",
       "      <td>0</td>\n",
       "      <td>0</td>\n",
       "      <td>1</td>\n",
       "      <td>0</td>\n",
       "      <td>0</td>\n",
       "      <td>0</td>\n",
       "      <td>0</td>\n",
       "      <td>0</td>\n",
       "      <td>0</td>\n",
       "      <td>0</td>\n",
       "      <td>0</td>\n",
       "      <td>0</td>\n",
       "      <td>0</td>\n",
       "      <td>0</td>\n",
       "    </tr>\n",
       "    <tr>\n",
       "      <th>3</th>\n",
       "      <td>33.719431</td>\n",
       "      <td>2</td>\n",
       "      <td>3</td>\n",
       "      <td>1</td>\n",
       "      <td>1</td>\n",
       "      <td>0</td>\n",
       "      <td>0</td>\n",
       "      <td>0</td>\n",
       "      <td>0</td>\n",
       "      <td>0</td>\n",
       "      <td>1</td>\n",
       "      <td>0</td>\n",
       "      <td>0</td>\n",
       "      <td>0</td>\n",
       "      <td>0</td>\n",
       "      <td>0</td>\n",
       "      <td>0</td>\n",
       "      <td>0</td>\n",
       "      <td>0</td>\n",
       "      <td>0</td>\n",
       "      <td>0</td>\n",
       "      <td>0</td>\n",
       "      <td>0</td>\n",
       "      <td>1</td>\n",
       "      <td>0</td>\n",
       "      <td>0</td>\n",
       "      <td>0</td>\n",
       "      <td>0</td>\n",
       "      <td>0</td>\n",
       "      <td>0</td>\n",
       "      <td>0</td>\n",
       "      <td>0</td>\n",
       "      <td>0</td>\n",
       "      <td>0</td>\n",
       "      <td>0</td>\n",
       "      <td>1</td>\n",
       "      <td>0</td>\n",
       "      <td>0</td>\n",
       "      <td>1</td>\n",
       "      <td>0</td>\n",
       "      <td>0</td>\n",
       "      <td>0</td>\n",
       "      <td>0</td>\n",
       "      <td>0</td>\n",
       "      <td>0</td>\n",
       "      <td>1</td>\n",
       "      <td>0</td>\n",
       "      <td>0</td>\n",
       "      <td>0</td>\n",
       "      <td>0</td>\n",
       "      <td>0</td>\n",
       "      <td>0</td>\n",
       "      <td>0</td>\n",
       "      <td>1</td>\n",
       "      <td>0</td>\n",
       "      <td>0</td>\n",
       "      <td>0</td>\n",
       "      <td>0</td>\n",
       "      <td>0</td>\n",
       "      <td>1</td>\n",
       "      <td>0</td>\n",
       "      <td>0</td>\n",
       "      <td>0</td>\n",
       "      <td>1</td>\n",
       "      <td>0</td>\n",
       "      <td>0</td>\n",
       "      <td>0</td>\n",
       "      <td>0</td>\n",
       "      <td>0</td>\n",
       "      <td>0</td>\n",
       "      <td>0</td>\n",
       "      <td>0</td>\n",
       "      <td>0</td>\n",
       "      <td>0</td>\n",
       "      <td>0</td>\n",
       "    </tr>\n",
       "    <tr>\n",
       "      <th>4</th>\n",
       "      <td>31.670175</td>\n",
       "      <td>2</td>\n",
       "      <td>2</td>\n",
       "      <td>1</td>\n",
       "      <td>0</td>\n",
       "      <td>0</td>\n",
       "      <td>1</td>\n",
       "      <td>0</td>\n",
       "      <td>0</td>\n",
       "      <td>0</td>\n",
       "      <td>1</td>\n",
       "      <td>0</td>\n",
       "      <td>0</td>\n",
       "      <td>0</td>\n",
       "      <td>0</td>\n",
       "      <td>0</td>\n",
       "      <td>0</td>\n",
       "      <td>0</td>\n",
       "      <td>0</td>\n",
       "      <td>0</td>\n",
       "      <td>0</td>\n",
       "      <td>0</td>\n",
       "      <td>1</td>\n",
       "      <td>0</td>\n",
       "      <td>0</td>\n",
       "      <td>0</td>\n",
       "      <td>0</td>\n",
       "      <td>0</td>\n",
       "      <td>0</td>\n",
       "      <td>0</td>\n",
       "      <td>0</td>\n",
       "      <td>0</td>\n",
       "      <td>1</td>\n",
       "      <td>0</td>\n",
       "      <td>0</td>\n",
       "      <td>0</td>\n",
       "      <td>0</td>\n",
       "      <td>0</td>\n",
       "      <td>1</td>\n",
       "      <td>0</td>\n",
       "      <td>0</td>\n",
       "      <td>0</td>\n",
       "      <td>0</td>\n",
       "      <td>0</td>\n",
       "      <td>1</td>\n",
       "      <td>0</td>\n",
       "      <td>0</td>\n",
       "      <td>0</td>\n",
       "      <td>0</td>\n",
       "      <td>1</td>\n",
       "      <td>0</td>\n",
       "      <td>0</td>\n",
       "      <td>0</td>\n",
       "      <td>0</td>\n",
       "      <td>0</td>\n",
       "      <td>1</td>\n",
       "      <td>0</td>\n",
       "      <td>0</td>\n",
       "      <td>0</td>\n",
       "      <td>0</td>\n",
       "      <td>0</td>\n",
       "      <td>0</td>\n",
       "      <td>0</td>\n",
       "      <td>1</td>\n",
       "      <td>0</td>\n",
       "      <td>0</td>\n",
       "      <td>0</td>\n",
       "      <td>0</td>\n",
       "      <td>0</td>\n",
       "      <td>0</td>\n",
       "      <td>0</td>\n",
       "      <td>0</td>\n",
       "      <td>0</td>\n",
       "      <td>0</td>\n",
       "      <td>0</td>\n",
       "    </tr>\n",
       "    <tr>\n",
       "      <th>...</th>\n",
       "      <td>...</td>\n",
       "      <td>...</td>\n",
       "      <td>...</td>\n",
       "      <td>...</td>\n",
       "      <td>...</td>\n",
       "      <td>...</td>\n",
       "      <td>...</td>\n",
       "      <td>...</td>\n",
       "      <td>...</td>\n",
       "      <td>...</td>\n",
       "      <td>...</td>\n",
       "      <td>...</td>\n",
       "      <td>...</td>\n",
       "      <td>...</td>\n",
       "      <td>...</td>\n",
       "      <td>...</td>\n",
       "      <td>...</td>\n",
       "      <td>...</td>\n",
       "      <td>...</td>\n",
       "      <td>...</td>\n",
       "      <td>...</td>\n",
       "      <td>...</td>\n",
       "      <td>...</td>\n",
       "      <td>...</td>\n",
       "      <td>...</td>\n",
       "      <td>...</td>\n",
       "      <td>...</td>\n",
       "      <td>...</td>\n",
       "      <td>...</td>\n",
       "      <td>...</td>\n",
       "      <td>...</td>\n",
       "      <td>...</td>\n",
       "      <td>...</td>\n",
       "      <td>...</td>\n",
       "      <td>...</td>\n",
       "      <td>...</td>\n",
       "      <td>...</td>\n",
       "      <td>...</td>\n",
       "      <td>...</td>\n",
       "      <td>...</td>\n",
       "      <td>...</td>\n",
       "      <td>...</td>\n",
       "      <td>...</td>\n",
       "      <td>...</td>\n",
       "      <td>...</td>\n",
       "      <td>...</td>\n",
       "      <td>...</td>\n",
       "      <td>...</td>\n",
       "      <td>...</td>\n",
       "      <td>...</td>\n",
       "      <td>...</td>\n",
       "      <td>...</td>\n",
       "      <td>...</td>\n",
       "      <td>...</td>\n",
       "      <td>...</td>\n",
       "      <td>...</td>\n",
       "      <td>...</td>\n",
       "      <td>...</td>\n",
       "      <td>...</td>\n",
       "      <td>...</td>\n",
       "      <td>...</td>\n",
       "      <td>...</td>\n",
       "      <td>...</td>\n",
       "      <td>...</td>\n",
       "      <td>...</td>\n",
       "      <td>...</td>\n",
       "      <td>...</td>\n",
       "      <td>...</td>\n",
       "      <td>...</td>\n",
       "      <td>...</td>\n",
       "      <td>...</td>\n",
       "      <td>...</td>\n",
       "      <td>...</td>\n",
       "      <td>...</td>\n",
       "      <td>...</td>\n",
       "    </tr>\n",
       "    <tr>\n",
       "      <th>2767</th>\n",
       "      <td>16.309506</td>\n",
       "      <td>2</td>\n",
       "      <td>2</td>\n",
       "      <td>0</td>\n",
       "      <td>1</td>\n",
       "      <td>0</td>\n",
       "      <td>0</td>\n",
       "      <td>0</td>\n",
       "      <td>0</td>\n",
       "      <td>0</td>\n",
       "      <td>0</td>\n",
       "      <td>0</td>\n",
       "      <td>0</td>\n",
       "      <td>0</td>\n",
       "      <td>1</td>\n",
       "      <td>0</td>\n",
       "      <td>0</td>\n",
       "      <td>0</td>\n",
       "      <td>0</td>\n",
       "      <td>0</td>\n",
       "      <td>0</td>\n",
       "      <td>0</td>\n",
       "      <td>0</td>\n",
       "      <td>0</td>\n",
       "      <td>0</td>\n",
       "      <td>0</td>\n",
       "      <td>1</td>\n",
       "      <td>0</td>\n",
       "      <td>0</td>\n",
       "      <td>0</td>\n",
       "      <td>0</td>\n",
       "      <td>0</td>\n",
       "      <td>0</td>\n",
       "      <td>0</td>\n",
       "      <td>0</td>\n",
       "      <td>1</td>\n",
       "      <td>0</td>\n",
       "      <td>0</td>\n",
       "      <td>0</td>\n",
       "      <td>0</td>\n",
       "      <td>1</td>\n",
       "      <td>0</td>\n",
       "      <td>0</td>\n",
       "      <td>0</td>\n",
       "      <td>0</td>\n",
       "      <td>0</td>\n",
       "      <td>1</td>\n",
       "      <td>0</td>\n",
       "      <td>0</td>\n",
       "      <td>1</td>\n",
       "      <td>0</td>\n",
       "      <td>0</td>\n",
       "      <td>0</td>\n",
       "      <td>0</td>\n",
       "      <td>0</td>\n",
       "      <td>1</td>\n",
       "      <td>0</td>\n",
       "      <td>0</td>\n",
       "      <td>1</td>\n",
       "      <td>0</td>\n",
       "      <td>0</td>\n",
       "      <td>0</td>\n",
       "      <td>0</td>\n",
       "      <td>0</td>\n",
       "      <td>0</td>\n",
       "      <td>0</td>\n",
       "      <td>0</td>\n",
       "      <td>1</td>\n",
       "      <td>0</td>\n",
       "      <td>0</td>\n",
       "      <td>0</td>\n",
       "      <td>0</td>\n",
       "      <td>0</td>\n",
       "      <td>0</td>\n",
       "      <td>0</td>\n",
       "    </tr>\n",
       "    <tr>\n",
       "      <th>2768</th>\n",
       "      <td>39.812058</td>\n",
       "      <td>2</td>\n",
       "      <td>2</td>\n",
       "      <td>0</td>\n",
       "      <td>1</td>\n",
       "      <td>0</td>\n",
       "      <td>0</td>\n",
       "      <td>0</td>\n",
       "      <td>0</td>\n",
       "      <td>0</td>\n",
       "      <td>1</td>\n",
       "      <td>0</td>\n",
       "      <td>0</td>\n",
       "      <td>0</td>\n",
       "      <td>0</td>\n",
       "      <td>0</td>\n",
       "      <td>0</td>\n",
       "      <td>0</td>\n",
       "      <td>0</td>\n",
       "      <td>0</td>\n",
       "      <td>0</td>\n",
       "      <td>0</td>\n",
       "      <td>0</td>\n",
       "      <td>0</td>\n",
       "      <td>0</td>\n",
       "      <td>0</td>\n",
       "      <td>1</td>\n",
       "      <td>0</td>\n",
       "      <td>0</td>\n",
       "      <td>0</td>\n",
       "      <td>0</td>\n",
       "      <td>0</td>\n",
       "      <td>0</td>\n",
       "      <td>0</td>\n",
       "      <td>0</td>\n",
       "      <td>1</td>\n",
       "      <td>0</td>\n",
       "      <td>0</td>\n",
       "      <td>1</td>\n",
       "      <td>0</td>\n",
       "      <td>0</td>\n",
       "      <td>0</td>\n",
       "      <td>0</td>\n",
       "      <td>0</td>\n",
       "      <td>1</td>\n",
       "      <td>0</td>\n",
       "      <td>0</td>\n",
       "      <td>0</td>\n",
       "      <td>0</td>\n",
       "      <td>1</td>\n",
       "      <td>0</td>\n",
       "      <td>0</td>\n",
       "      <td>0</td>\n",
       "      <td>0</td>\n",
       "      <td>0</td>\n",
       "      <td>1</td>\n",
       "      <td>0</td>\n",
       "      <td>0</td>\n",
       "      <td>1</td>\n",
       "      <td>0</td>\n",
       "      <td>0</td>\n",
       "      <td>0</td>\n",
       "      <td>0</td>\n",
       "      <td>0</td>\n",
       "      <td>0</td>\n",
       "      <td>0</td>\n",
       "      <td>0</td>\n",
       "      <td>1</td>\n",
       "      <td>0</td>\n",
       "      <td>0</td>\n",
       "      <td>0</td>\n",
       "      <td>0</td>\n",
       "      <td>0</td>\n",
       "      <td>0</td>\n",
       "      <td>0</td>\n",
       "    </tr>\n",
       "    <tr>\n",
       "      <th>2769</th>\n",
       "      <td>17.464249</td>\n",
       "      <td>2</td>\n",
       "      <td>3</td>\n",
       "      <td>0</td>\n",
       "      <td>1</td>\n",
       "      <td>0</td>\n",
       "      <td>0</td>\n",
       "      <td>0</td>\n",
       "      <td>0</td>\n",
       "      <td>0</td>\n",
       "      <td>0</td>\n",
       "      <td>0</td>\n",
       "      <td>0</td>\n",
       "      <td>0</td>\n",
       "      <td>0</td>\n",
       "      <td>0</td>\n",
       "      <td>0</td>\n",
       "      <td>0</td>\n",
       "      <td>0</td>\n",
       "      <td>0</td>\n",
       "      <td>0</td>\n",
       "      <td>0</td>\n",
       "      <td>0</td>\n",
       "      <td>1</td>\n",
       "      <td>0</td>\n",
       "      <td>0</td>\n",
       "      <td>0</td>\n",
       "      <td>0</td>\n",
       "      <td>0</td>\n",
       "      <td>0</td>\n",
       "      <td>0</td>\n",
       "      <td>0</td>\n",
       "      <td>0</td>\n",
       "      <td>1</td>\n",
       "      <td>0</td>\n",
       "      <td>0</td>\n",
       "      <td>0</td>\n",
       "      <td>0</td>\n",
       "      <td>1</td>\n",
       "      <td>0</td>\n",
       "      <td>0</td>\n",
       "      <td>0</td>\n",
       "      <td>1</td>\n",
       "      <td>0</td>\n",
       "      <td>0</td>\n",
       "      <td>0</td>\n",
       "      <td>0</td>\n",
       "      <td>0</td>\n",
       "      <td>0</td>\n",
       "      <td>0</td>\n",
       "      <td>1</td>\n",
       "      <td>0</td>\n",
       "      <td>1</td>\n",
       "      <td>0</td>\n",
       "      <td>0</td>\n",
       "      <td>0</td>\n",
       "      <td>0</td>\n",
       "      <td>0</td>\n",
       "      <td>0</td>\n",
       "      <td>0</td>\n",
       "      <td>0</td>\n",
       "      <td>0</td>\n",
       "      <td>0</td>\n",
       "      <td>0</td>\n",
       "      <td>0</td>\n",
       "      <td>0</td>\n",
       "      <td>0</td>\n",
       "      <td>1</td>\n",
       "      <td>0</td>\n",
       "      <td>0</td>\n",
       "      <td>0</td>\n",
       "      <td>0</td>\n",
       "      <td>0</td>\n",
       "      <td>0</td>\n",
       "      <td>0</td>\n",
       "    </tr>\n",
       "    <tr>\n",
       "      <th>2770</th>\n",
       "      <td>0.000000</td>\n",
       "      <td>2</td>\n",
       "      <td>2</td>\n",
       "      <td>0</td>\n",
       "      <td>0</td>\n",
       "      <td>1</td>\n",
       "      <td>0</td>\n",
       "      <td>0</td>\n",
       "      <td>0</td>\n",
       "      <td>0</td>\n",
       "      <td>0</td>\n",
       "      <td>0</td>\n",
       "      <td>0</td>\n",
       "      <td>0</td>\n",
       "      <td>1</td>\n",
       "      <td>0</td>\n",
       "      <td>1</td>\n",
       "      <td>0</td>\n",
       "      <td>0</td>\n",
       "      <td>0</td>\n",
       "      <td>0</td>\n",
       "      <td>0</td>\n",
       "      <td>0</td>\n",
       "      <td>0</td>\n",
       "      <td>0</td>\n",
       "      <td>0</td>\n",
       "      <td>1</td>\n",
       "      <td>0</td>\n",
       "      <td>0</td>\n",
       "      <td>0</td>\n",
       "      <td>0</td>\n",
       "      <td>0</td>\n",
       "      <td>0</td>\n",
       "      <td>0</td>\n",
       "      <td>0</td>\n",
       "      <td>1</td>\n",
       "      <td>0</td>\n",
       "      <td>0</td>\n",
       "      <td>1</td>\n",
       "      <td>0</td>\n",
       "      <td>0</td>\n",
       "      <td>0</td>\n",
       "      <td>0</td>\n",
       "      <td>0</td>\n",
       "      <td>1</td>\n",
       "      <td>0</td>\n",
       "      <td>0</td>\n",
       "      <td>0</td>\n",
       "      <td>1</td>\n",
       "      <td>0</td>\n",
       "      <td>0</td>\n",
       "      <td>0</td>\n",
       "      <td>0</td>\n",
       "      <td>0</td>\n",
       "      <td>0</td>\n",
       "      <td>1</td>\n",
       "      <td>0</td>\n",
       "      <td>0</td>\n",
       "      <td>1</td>\n",
       "      <td>0</td>\n",
       "      <td>0</td>\n",
       "      <td>0</td>\n",
       "      <td>0</td>\n",
       "      <td>0</td>\n",
       "      <td>0</td>\n",
       "      <td>0</td>\n",
       "      <td>0</td>\n",
       "      <td>0</td>\n",
       "      <td>0</td>\n",
       "      <td>0</td>\n",
       "      <td>0</td>\n",
       "      <td>1</td>\n",
       "      <td>0</td>\n",
       "      <td>0</td>\n",
       "      <td>0</td>\n",
       "    </tr>\n",
       "    <tr>\n",
       "      <th>2771</th>\n",
       "      <td>16.309506</td>\n",
       "      <td>2</td>\n",
       "      <td>2</td>\n",
       "      <td>0</td>\n",
       "      <td>0</td>\n",
       "      <td>0</td>\n",
       "      <td>1</td>\n",
       "      <td>0</td>\n",
       "      <td>0</td>\n",
       "      <td>0</td>\n",
       "      <td>1</td>\n",
       "      <td>0</td>\n",
       "      <td>0</td>\n",
       "      <td>0</td>\n",
       "      <td>0</td>\n",
       "      <td>0</td>\n",
       "      <td>0</td>\n",
       "      <td>0</td>\n",
       "      <td>0</td>\n",
       "      <td>1</td>\n",
       "      <td>0</td>\n",
       "      <td>0</td>\n",
       "      <td>0</td>\n",
       "      <td>0</td>\n",
       "      <td>0</td>\n",
       "      <td>0</td>\n",
       "      <td>0</td>\n",
       "      <td>0</td>\n",
       "      <td>1</td>\n",
       "      <td>0</td>\n",
       "      <td>0</td>\n",
       "      <td>0</td>\n",
       "      <td>0</td>\n",
       "      <td>0</td>\n",
       "      <td>0</td>\n",
       "      <td>0</td>\n",
       "      <td>0</td>\n",
       "      <td>0</td>\n",
       "      <td>1</td>\n",
       "      <td>0</td>\n",
       "      <td>0</td>\n",
       "      <td>0</td>\n",
       "      <td>0</td>\n",
       "      <td>0</td>\n",
       "      <td>1</td>\n",
       "      <td>0</td>\n",
       "      <td>0</td>\n",
       "      <td>0</td>\n",
       "      <td>0</td>\n",
       "      <td>1</td>\n",
       "      <td>0</td>\n",
       "      <td>0</td>\n",
       "      <td>0</td>\n",
       "      <td>0</td>\n",
       "      <td>0</td>\n",
       "      <td>1</td>\n",
       "      <td>0</td>\n",
       "      <td>0</td>\n",
       "      <td>0</td>\n",
       "      <td>0</td>\n",
       "      <td>0</td>\n",
       "      <td>0</td>\n",
       "      <td>0</td>\n",
       "      <td>1</td>\n",
       "      <td>0</td>\n",
       "      <td>0</td>\n",
       "      <td>0</td>\n",
       "      <td>0</td>\n",
       "      <td>0</td>\n",
       "      <td>0</td>\n",
       "      <td>0</td>\n",
       "      <td>0</td>\n",
       "      <td>0</td>\n",
       "      <td>0</td>\n",
       "      <td>0</td>\n",
       "    </tr>\n",
       "  </tbody>\n",
       "</table>\n",
       "<p>9240 rows × 75 columns</p>\n",
       "</div>"
      ],
      "text/plain": [
       "      Total Time Spent on Website  Asymmetrique Activity Index  \\\n",
       "0                       20.297783                            2   \n",
       "1                       39.127995                            2   \n",
       "2                       35.327043                            2   \n",
       "3                       33.719431                            2   \n",
       "4                       31.670175                            2   \n",
       "...                           ...                          ...   \n",
       "2767                    16.309506                            2   \n",
       "2768                    39.812058                            2   \n",
       "2769                    17.464249                            2   \n",
       "2770                     0.000000                            2   \n",
       "2771                    16.309506                            2   \n",
       "\n",
       "      Asymmetrique Profile Index  train  Lead Source_Google  \\\n",
       "0                              2      1                   0   \n",
       "1                              3      1                   0   \n",
       "2                              3      1                   0   \n",
       "3                              3      1                   1   \n",
       "4                              2      1                   0   \n",
       "...                          ...    ...                 ...   \n",
       "2767                           2      0                   1   \n",
       "2768                           2      0                   1   \n",
       "2769                           3      0                   1   \n",
       "2770                           2      0                   0   \n",
       "2771                           2      0                   0   \n",
       "\n",
       "      Lead Source_Olark Chat  Lead Source_Organic Search  \\\n",
       "0                          0                           0   \n",
       "1                          0                           1   \n",
       "2                          0                           0   \n",
       "3                          0                           0   \n",
       "4                          0                           1   \n",
       "...                      ...                         ...   \n",
       "2767                       0                           0   \n",
       "2768                       0                           0   \n",
       "2769                       0                           0   \n",
       "2770                       1                           0   \n",
       "2771                       0                           1   \n",
       "\n",
       "      Lead Source_Other Sources  Lead Source_Reference  Do Not Email_Yes  \\\n",
       "0                             0                      0                 0   \n",
       "1                             0                      0                 0   \n",
       "2                             0                      1                 0   \n",
       "3                             0                      0                 0   \n",
       "4                             0                      0                 0   \n",
       "...                         ...                    ...               ...   \n",
       "2767                          0                      0                 0   \n",
       "2768                          0                      0                 0   \n",
       "2769                          0                      0                 0   \n",
       "2770                          0                      0                 0   \n",
       "2771                          0                      0                 0   \n",
       "\n",
       "      Last Activity_Email Responded  Last Activity_Email Unsubscribed  \\\n",
       "0                                 1                                 0   \n",
       "1                                 0                                 0   \n",
       "2                                 1                                 0   \n",
       "3                                 1                                 0   \n",
       "4                                 1                                 0   \n",
       "...                             ...                               ...   \n",
       "2767                              0                                 0   \n",
       "2768                              1                                 0   \n",
       "2769                              0                                 0   \n",
       "2770                              0                                 0   \n",
       "2771                              1                                 0   \n",
       "\n",
       "      Last Activity_Olark Chat Conversation  \\\n",
       "0                                         0   \n",
       "1                                         0   \n",
       "2                                         0   \n",
       "3                                         0   \n",
       "4                                         0   \n",
       "...                                     ...   \n",
       "2767                                      0   \n",
       "2768                                      0   \n",
       "2769                                      0   \n",
       "2770                                      0   \n",
       "2771                                      0   \n",
       "\n",
       "      Last Activity_Page Visited on Website  Last Activity_SMS Reverted  \\\n",
       "0                                         0                           0   \n",
       "1                                         0                           1   \n",
       "2                                         0                           0   \n",
       "3                                         0                           0   \n",
       "4                                         0                           0   \n",
       "...                                     ...                         ...   \n",
       "2767                                      0                           1   \n",
       "2768                                      0                           0   \n",
       "2769                                      0                           0   \n",
       "2770                                      0                           1   \n",
       "2771                                      0                           0   \n",
       "\n",
       "      Country_other_country  Country_unknown  Specialization_Finance  \\\n",
       "0                         0                0                       0   \n",
       "1                         0                0                       0   \n",
       "2                         0                0                       0   \n",
       "3                         0                0                       0   \n",
       "4                         0                0                       0   \n",
       "...                     ...              ...                     ...   \n",
       "2767                      0                0                       0   \n",
       "2768                      0                0                       0   \n",
       "2769                      0                0                       0   \n",
       "2770                      0                1                       0   \n",
       "2771                      0                0                       0   \n",
       "\n",
       "      Specialization_HR  Specialization_Healthcare  \\\n",
       "0                     0                          0   \n",
       "1                     0                          0   \n",
       "2                     1                          0   \n",
       "3                     0                          0   \n",
       "4                     0                          0   \n",
       "...                 ...                        ...   \n",
       "2767                  0                          0   \n",
       "2768                  0                          0   \n",
       "2769                  0                          0   \n",
       "2770                  0                          0   \n",
       "2771                  0                          1   \n",
       "\n",
       "      Specialization_IT Projects  Specialization_International Business  \\\n",
       "0                              0                                      0   \n",
       "1                              0                                      0   \n",
       "2                              0                                      0   \n",
       "3                              0                                      0   \n",
       "4                              0                                      0   \n",
       "...                          ...                                    ...   \n",
       "2767                           0                                      0   \n",
       "2768                           0                                      0   \n",
       "2769                           0                                      0   \n",
       "2770                           0                                      0   \n",
       "2771                           0                                      0   \n",
       "\n",
       "      Specialization_Logistics  Specialization_Marketing  \\\n",
       "0                            0                         0   \n",
       "1                            0                         1   \n",
       "2                            0                         0   \n",
       "3                            0                         1   \n",
       "4                            1                         0   \n",
       "...                        ...                       ...   \n",
       "2767                         0                         0   \n",
       "2768                         0                         0   \n",
       "2769                         0                         1   \n",
       "2770                         0                         0   \n",
       "2771                         0                         0   \n",
       "\n",
       "      Specialization_Rural and Agribusiness  Specialization_Tourism  \\\n",
       "0                                         0                       0   \n",
       "1                                         0                       0   \n",
       "2                                         0                       0   \n",
       "3                                         0                       0   \n",
       "4                                         0                       0   \n",
       "...                                     ...                     ...   \n",
       "2767                                      0                       0   \n",
       "2768                                      0                       0   \n",
       "2769                                      0                       0   \n",
       "2770                                      0                       0   \n",
       "2771                                      0                       0   \n",
       "\n",
       "      Specialization_unknown  How did you hear about X Education_Email  \\\n",
       "0                          0                                         0   \n",
       "1                          0                                         0   \n",
       "2                          0                                         0   \n",
       "3                          0                                         0   \n",
       "4                          0                                         0   \n",
       "...                      ...                                       ...   \n",
       "2767                       1                                         0   \n",
       "2768                       1                                         0   \n",
       "2769                       0                                         0   \n",
       "2770                       1                                         0   \n",
       "2771                       0                                         0   \n",
       "\n",
       "      How did you hear about X Education_Multiple Sources  \\\n",
       "0                                                     0     \n",
       "1                                                     0     \n",
       "2                                                     0     \n",
       "3                                                     0     \n",
       "4                                                     0     \n",
       "...                                                 ...     \n",
       "2767                                                  0     \n",
       "2768                                                  0     \n",
       "2769                                                  0     \n",
       "2770                                                  0     \n",
       "2771                                                  1     \n",
       "\n",
       "      How did you hear about X Education_Online Search  \\\n",
       "0                                                    0   \n",
       "1                                                    0   \n",
       "2                                                    0   \n",
       "3                                                    0   \n",
       "4                                                    0   \n",
       "...                                                ...   \n",
       "2767                                                 0   \n",
       "2768                                                 0   \n",
       "2769                                                 0   \n",
       "2770                                                 0   \n",
       "2771                                                 0   \n",
       "\n",
       "      How did you hear about X Education_Other  \\\n",
       "0                                            0   \n",
       "1                                            0   \n",
       "2                                            0   \n",
       "3                                            0   \n",
       "4                                            0   \n",
       "...                                        ...   \n",
       "2767                                         0   \n",
       "2768                                         0   \n",
       "2769                                         0   \n",
       "2770                                         0   \n",
       "2771                                         0   \n",
       "\n",
       "      How did you hear about X Education_SMS  \\\n",
       "0                                          0   \n",
       "1                                          0   \n",
       "2                                          0   \n",
       "3                                          0   \n",
       "4                                          0   \n",
       "...                                      ...   \n",
       "2767                                       0   \n",
       "2768                                       0   \n",
       "2769                                       0   \n",
       "2770                                       0   \n",
       "2771                                       0   \n",
       "\n",
       "      How did you hear about X Education_Social Media  \\\n",
       "0                                                   0   \n",
       "1                                                   0   \n",
       "2                                                   0   \n",
       "3                                                   0   \n",
       "4                                                   1   \n",
       "...                                               ...   \n",
       "2767                                                0   \n",
       "2768                                                0   \n",
       "2769                                                0   \n",
       "2770                                                0   \n",
       "2771                                                0   \n",
       "\n",
       "      How did you hear about X Education_Student of SomeSchool  \\\n",
       "0                                                     0          \n",
       "1                                                     0          \n",
       "2                                                     0          \n",
       "3                                                     0          \n",
       "4                                                     0          \n",
       "...                                                 ...          \n",
       "2767                                                  0          \n",
       "2768                                                  0          \n",
       "2769                                                  1          \n",
       "2770                                                  0          \n",
       "2771                                                  0          \n",
       "\n",
       "      How did you hear about X Education_Word Of Mouth  \\\n",
       "0                                                    0   \n",
       "1                                                    0   \n",
       "2                                                    0   \n",
       "3                                                    0   \n",
       "4                                                    0   \n",
       "...                                                ...   \n",
       "2767                                                 0   \n",
       "2768                                                 0   \n",
       "2769                                                 0   \n",
       "2770                                                 0   \n",
       "2771                                                 0   \n",
       "\n",
       "      How did you hear about X Education_unknown  \\\n",
       "0                                              1   \n",
       "1                                              1   \n",
       "2                                              1   \n",
       "3                                              1   \n",
       "4                                              0   \n",
       "...                                          ...   \n",
       "2767                                           1   \n",
       "2768                                           1   \n",
       "2769                                           0   \n",
       "2770                                           1   \n",
       "2771                                           0   \n",
       "\n",
       "      What is your current occupation_Others  \\\n",
       "0                                          0   \n",
       "1                                          0   \n",
       "2                                          0   \n",
       "3                                          0   \n",
       "4                                          0   \n",
       "...                                      ...   \n",
       "2767                                       0   \n",
       "2768                                       0   \n",
       "2769                                       0   \n",
       "2770                                       0   \n",
       "2771                                       0   \n",
       "\n",
       "      What is your current occupation_Student  \\\n",
       "0                                           0   \n",
       "1                                           0   \n",
       "2                                           1   \n",
       "3                                           0   \n",
       "4                                           0   \n",
       "...                                       ...   \n",
       "2767                                        0   \n",
       "2768                                        0   \n",
       "2769                                        0   \n",
       "2770                                        0   \n",
       "2771                                        0   \n",
       "\n",
       "      What is your current occupation_Unemployed  \\\n",
       "0                                              1   \n",
       "1                                              1   \n",
       "2                                              0   \n",
       "3                                              1   \n",
       "4                                              1   \n",
       "...                                          ...   \n",
       "2767                                           0   \n",
       "2768                                           1   \n",
       "2769                                           1   \n",
       "2770                                           1   \n",
       "2771                                           1   \n",
       "\n",
       "      What is your current occupation_Working Professional  \\\n",
       "0                                                     0      \n",
       "1                                                     0      \n",
       "2                                                     0      \n",
       "3                                                     0      \n",
       "4                                                     0      \n",
       "...                                                 ...      \n",
       "2767                                                  0      \n",
       "2768                                                  0      \n",
       "2769                                                  0      \n",
       "2770                                                  0      \n",
       "2771                                                  0      \n",
       "\n",
       "      What matters most to you in choosing a course_Others  \\\n",
       "0                                                     0      \n",
       "1                                                     0      \n",
       "2                                                     0      \n",
       "3                                                     0      \n",
       "4                                                     0      \n",
       "...                                                 ...      \n",
       "2767                                                  1      \n",
       "2768                                                  0      \n",
       "2769                                                  0      \n",
       "2770                                                  0      \n",
       "2771                                                  0      \n",
       "\n",
       "      Tags_Graduation in progress  Tags_Lost to Others  Tags_Not Eligible  \\\n",
       "0                               0                    0                  0   \n",
       "1                               0                    0                  0   \n",
       "2                               0                    0                  0   \n",
       "3                               0                    0                  0   \n",
       "4                               0                    0                  0   \n",
       "...                           ...                  ...                ...   \n",
       "2767                            0                    0                  0   \n",
       "2768                            0                    0                  0   \n",
       "2769                            0                    1                  0   \n",
       "2770                            0                    0                  0   \n",
       "2771                            0                    0                  0   \n",
       "\n",
       "      Tags_Not Reachable  Tags_Response Received  Tags_Status Unknown  \\\n",
       "0                      0                       0                    1   \n",
       "1                      1                       0                    0   \n",
       "2                      0                       0                    0   \n",
       "3                      0                       1                    0   \n",
       "4                      1                       0                    0   \n",
       "...                  ...                     ...                  ...   \n",
       "2767                   0                       0                    1   \n",
       "2768                   1                       0                    0   \n",
       "2769                   0                       0                    0   \n",
       "2770                   1                       0                    0   \n",
       "2771                   1                       0                    0   \n",
       "\n",
       "      Lead Quality_Low in Relevance  Lead Quality_Might be  \\\n",
       "0                                 0                      0   \n",
       "1                                 0                      0   \n",
       "2                                 1                      0   \n",
       "3                                 0                      0   \n",
       "4                                 0                      0   \n",
       "...                             ...                    ...   \n",
       "2767                              0                      0   \n",
       "2768                              0                      0   \n",
       "2769                              0                      0   \n",
       "2770                              0                      1   \n",
       "2771                              0                      0   \n",
       "\n",
       "      Lead Quality_Not Sure  Lead Quality_Worst  Lead Profile_Lateral Student  \\\n",
       "0                         1                   0                             0   \n",
       "1                         1                   0                             0   \n",
       "2                         0                   0                             0   \n",
       "3                         0                   0                             0   \n",
       "4                         1                   0                             0   \n",
       "...                     ...                 ...                           ...   \n",
       "2767                      1                   0                             0   \n",
       "2768                      1                   0                             0   \n",
       "2769                      0                   1                             0   \n",
       "2770                      0                   0                             0   \n",
       "2771                      1                   0                             0   \n",
       "\n",
       "      Lead Profile_Other Leads  Lead Profile_Potential Lead  \\\n",
       "0                            0                            0   \n",
       "1                            0                            0   \n",
       "2                            0                            1   \n",
       "3                            0                            1   \n",
       "4                            0                            0   \n",
       "...                        ...                          ...   \n",
       "2767                         0                            0   \n",
       "2768                         0                            0   \n",
       "2769                         1                            0   \n",
       "2770                         0                            0   \n",
       "2771                         0                            0   \n",
       "\n",
       "      Lead Profile_Student of SomeSchool  Lead Profile_Unknown  City_Tier2  \\\n",
       "0                                      0                     1           0   \n",
       "1                                      0                     1           0   \n",
       "2                                      0                     0           0   \n",
       "3                                      0                     0           0   \n",
       "4                                      0                     1           0   \n",
       "...                                  ...                   ...         ...   \n",
       "2767                                   0                     1           0   \n",
       "2768                                   0                     1           0   \n",
       "2769                                   0                     0           0   \n",
       "2770                                   0                     1           0   \n",
       "2771                                   0                     1           0   \n",
       "\n",
       "      City_Tier3  City_Unknown  A free copy of Mastering The Interview_Yes  \\\n",
       "0              0             0                                           1   \n",
       "1              0             0                                           1   \n",
       "2              0             0                                           1   \n",
       "3              0             0                                           1   \n",
       "4              0             0                                           0   \n",
       "...          ...           ...                                         ...   \n",
       "2767           0             1                                           0   \n",
       "2768           0             1                                           0   \n",
       "2769           0             0                                           0   \n",
       "2770           0             1                                           0   \n",
       "2771           0             0                                           0   \n",
       "\n",
       "      Last Notable Activity_Email Bounced  \\\n",
       "0                                       0   \n",
       "1                                       0   \n",
       "2                                       0   \n",
       "3                                       0   \n",
       "4                                       0   \n",
       "...                                   ...   \n",
       "2767                                    0   \n",
       "2768                                    0   \n",
       "2769                                    0   \n",
       "2770                                    0   \n",
       "2771                                    0   \n",
       "\n",
       "      Last Notable Activity_Email Link Clicked  \\\n",
       "0                                            0   \n",
       "1                                            0   \n",
       "2                                            0   \n",
       "3                                            0   \n",
       "4                                            0   \n",
       "...                                        ...   \n",
       "2767                                         0   \n",
       "2768                                         0   \n",
       "2769                                         0   \n",
       "2770                                         0   \n",
       "2771                                         0   \n",
       "\n",
       "      Last Notable Activity_Email Marked Spam  \\\n",
       "0                                           0   \n",
       "1                                           0   \n",
       "2                                           0   \n",
       "3                                           0   \n",
       "4                                           0   \n",
       "...                                       ...   \n",
       "2767                                        0   \n",
       "2768                                        0   \n",
       "2769                                        0   \n",
       "2770                                        0   \n",
       "2771                                        0   \n",
       "\n",
       "      Last Notable Activity_Email Opened  \\\n",
       "0                                      1   \n",
       "1                                      0   \n",
       "2                                      1   \n",
       "3                                      1   \n",
       "4                                      1   \n",
       "...                                  ...   \n",
       "2767                                   0   \n",
       "2768                                   0   \n",
       "2769                                   0   \n",
       "2770                                   0   \n",
       "2771                                   1   \n",
       "\n",
       "      Last Notable Activity_Email Received  \\\n",
       "0                                        0   \n",
       "1                                        0   \n",
       "2                                        0   \n",
       "3                                        0   \n",
       "4                                        0   \n",
       "...                                    ...   \n",
       "2767                                     0   \n",
       "2768                                     0   \n",
       "2769                                     0   \n",
       "2770                                     0   \n",
       "2771                                     0   \n",
       "\n",
       "      Last Notable Activity_Form Submitted on Website  \\\n",
       "0                                                   0   \n",
       "1                                                   0   \n",
       "2                                                   0   \n",
       "3                                                   0   \n",
       "4                                                   0   \n",
       "...                                               ...   \n",
       "2767                                                0   \n",
       "2768                                                0   \n",
       "2769                                                0   \n",
       "2770                                                0   \n",
       "2771                                                0   \n",
       "\n",
       "      Last Notable Activity_Had a Phone Conversation  \\\n",
       "0                                                  0   \n",
       "1                                                  0   \n",
       "2                                                  0   \n",
       "3                                                  0   \n",
       "4                                                  0   \n",
       "...                                              ...   \n",
       "2767                                               0   \n",
       "2768                                               0   \n",
       "2769                                               0   \n",
       "2770                                               0   \n",
       "2771                                               0   \n",
       "\n",
       "      Last Notable Activity_Modified  \\\n",
       "0                                  0   \n",
       "1                                  0   \n",
       "2                                  0   \n",
       "3                                  0   \n",
       "4                                  0   \n",
       "...                              ...   \n",
       "2767                               1   \n",
       "2768                               1   \n",
       "2769                               1   \n",
       "2770                               0   \n",
       "2771                               0   \n",
       "\n",
       "      Last Notable Activity_Olark Chat Conversation  \\\n",
       "0                                                 0   \n",
       "1                                                 0   \n",
       "2                                                 0   \n",
       "3                                                 0   \n",
       "4                                                 0   \n",
       "...                                             ...   \n",
       "2767                                              0   \n",
       "2768                                              0   \n",
       "2769                                              0   \n",
       "2770                                              0   \n",
       "2771                                              0   \n",
       "\n",
       "      Last Notable Activity_Page Visited on Website  \\\n",
       "0                                                 0   \n",
       "1                                                 0   \n",
       "2                                                 0   \n",
       "3                                                 0   \n",
       "4                                                 0   \n",
       "...                                             ...   \n",
       "2767                                              0   \n",
       "2768                                              0   \n",
       "2769                                              0   \n",
       "2770                                              0   \n",
       "2771                                              0   \n",
       "\n",
       "      Last Notable Activity_Resubscribed to emails  \\\n",
       "0                                                0   \n",
       "1                                                0   \n",
       "2                                                0   \n",
       "3                                                0   \n",
       "4                                                0   \n",
       "...                                            ...   \n",
       "2767                                             0   \n",
       "2768                                             0   \n",
       "2769                                             0   \n",
       "2770                                             0   \n",
       "2771                                             0   \n",
       "\n",
       "      Last Notable Activity_SMS Sent  Last Notable Activity_Unreachable  \\\n",
       "0                                  0                                  0   \n",
       "1                                  1                                  0   \n",
       "2                                  0                                  0   \n",
       "3                                  0                                  0   \n",
       "4                                  0                                  0   \n",
       "...                              ...                                ...   \n",
       "2767                               0                                  0   \n",
       "2768                               0                                  0   \n",
       "2769                               0                                  0   \n",
       "2770                               1                                  0   \n",
       "2771                               0                                  0   \n",
       "\n",
       "      Last Notable Activity_Unsubscribed  \\\n",
       "0                                      0   \n",
       "1                                      0   \n",
       "2                                      0   \n",
       "3                                      0   \n",
       "4                                      0   \n",
       "...                                  ...   \n",
       "2767                                   0   \n",
       "2768                                   0   \n",
       "2769                                   0   \n",
       "2770                                   0   \n",
       "2771                                   0   \n",
       "\n",
       "      Last Notable Activity_View in browser link Clicked  \n",
       "0                                                     0   \n",
       "1                                                     0   \n",
       "2                                                     0   \n",
       "3                                                     0   \n",
       "4                                                     0   \n",
       "...                                                 ...   \n",
       "2767                                                  0   \n",
       "2768                                                  0   \n",
       "2769                                                  0   \n",
       "2770                                                  0   \n",
       "2771                                                  0   \n",
       "\n",
       "[9240 rows x 75 columns]"
      ]
     },
     "execution_count": 44,
     "metadata": {},
     "output_type": "execute_result"
    }
   ],
   "source": [
    "X"
   ]
  },
  {
   "cell_type": "code",
   "execution_count": 45,
   "metadata": {
    "id": "vABSzllTpWwO"
   },
   "outputs": [],
   "source": [
    "X_train=X[X['train']==1]"
   ]
  },
  {
   "cell_type": "code",
   "execution_count": 46,
   "metadata": {
    "id": "H8vkWPG7pWwO"
   },
   "outputs": [],
   "source": [
    "X_test=X[X['train']==0]"
   ]
  },
  {
   "cell_type": "code",
   "execution_count": 47,
   "metadata": {
    "colab": {
     "base_uri": "https://localhost:8080/",
     "height": 266
    },
    "id": "ZOHAQA0apWwO",
    "outputId": "487d9994-6d35-476d-9e86-263e869043be"
   },
   "outputs": [
    {
     "data": {
      "text/html": [
       "<div>\n",
       "<style scoped>\n",
       "    .dataframe tbody tr th:only-of-type {\n",
       "        vertical-align: middle;\n",
       "    }\n",
       "\n",
       "    .dataframe tbody tr th {\n",
       "        vertical-align: top;\n",
       "    }\n",
       "\n",
       "    .dataframe thead th {\n",
       "        text-align: right;\n",
       "    }\n",
       "</style>\n",
       "<table border=\"1\" class=\"dataframe\">\n",
       "  <thead>\n",
       "    <tr style=\"text-align: right;\">\n",
       "      <th></th>\n",
       "      <th>Total Time Spent on Website</th>\n",
       "      <th>Asymmetrique Activity Index</th>\n",
       "      <th>Asymmetrique Profile Index</th>\n",
       "      <th>train</th>\n",
       "      <th>Lead Source_Google</th>\n",
       "      <th>Lead Source_Olark Chat</th>\n",
       "      <th>Lead Source_Organic Search</th>\n",
       "      <th>Lead Source_Other Sources</th>\n",
       "      <th>Lead Source_Reference</th>\n",
       "      <th>Do Not Email_Yes</th>\n",
       "      <th>Last Activity_Email Responded</th>\n",
       "      <th>Last Activity_Email Unsubscribed</th>\n",
       "      <th>Last Activity_Olark Chat Conversation</th>\n",
       "      <th>Last Activity_Page Visited on Website</th>\n",
       "      <th>Last Activity_SMS Reverted</th>\n",
       "      <th>Country_other_country</th>\n",
       "      <th>Country_unknown</th>\n",
       "      <th>Specialization_Finance</th>\n",
       "      <th>Specialization_HR</th>\n",
       "      <th>Specialization_Healthcare</th>\n",
       "      <th>Specialization_IT Projects</th>\n",
       "      <th>Specialization_International Business</th>\n",
       "      <th>Specialization_Logistics</th>\n",
       "      <th>Specialization_Marketing</th>\n",
       "      <th>Specialization_Rural and Agribusiness</th>\n",
       "      <th>Specialization_Tourism</th>\n",
       "      <th>Specialization_unknown</th>\n",
       "      <th>How did you hear about X Education_Email</th>\n",
       "      <th>How did you hear about X Education_Multiple Sources</th>\n",
       "      <th>How did you hear about X Education_Online Search</th>\n",
       "      <th>How did you hear about X Education_Other</th>\n",
       "      <th>How did you hear about X Education_SMS</th>\n",
       "      <th>How did you hear about X Education_Social Media</th>\n",
       "      <th>How did you hear about X Education_Student of SomeSchool</th>\n",
       "      <th>How did you hear about X Education_Word Of Mouth</th>\n",
       "      <th>How did you hear about X Education_unknown</th>\n",
       "      <th>What is your current occupation_Others</th>\n",
       "      <th>What is your current occupation_Student</th>\n",
       "      <th>What is your current occupation_Unemployed</th>\n",
       "      <th>What is your current occupation_Working Professional</th>\n",
       "      <th>What matters most to you in choosing a course_Others</th>\n",
       "      <th>Tags_Graduation in progress</th>\n",
       "      <th>Tags_Lost to Others</th>\n",
       "      <th>Tags_Not Eligible</th>\n",
       "      <th>Tags_Not Reachable</th>\n",
       "      <th>Tags_Response Received</th>\n",
       "      <th>Tags_Status Unknown</th>\n",
       "      <th>Lead Quality_Low in Relevance</th>\n",
       "      <th>Lead Quality_Might be</th>\n",
       "      <th>Lead Quality_Not Sure</th>\n",
       "      <th>Lead Quality_Worst</th>\n",
       "      <th>Lead Profile_Lateral Student</th>\n",
       "      <th>Lead Profile_Other Leads</th>\n",
       "      <th>Lead Profile_Potential Lead</th>\n",
       "      <th>Lead Profile_Student of SomeSchool</th>\n",
       "      <th>Lead Profile_Unknown</th>\n",
       "      <th>City_Tier2</th>\n",
       "      <th>City_Tier3</th>\n",
       "      <th>City_Unknown</th>\n",
       "      <th>A free copy of Mastering The Interview_Yes</th>\n",
       "      <th>Last Notable Activity_Email Bounced</th>\n",
       "      <th>Last Notable Activity_Email Link Clicked</th>\n",
       "      <th>Last Notable Activity_Email Marked Spam</th>\n",
       "      <th>Last Notable Activity_Email Opened</th>\n",
       "      <th>Last Notable Activity_Email Received</th>\n",
       "      <th>Last Notable Activity_Form Submitted on Website</th>\n",
       "      <th>Last Notable Activity_Had a Phone Conversation</th>\n",
       "      <th>Last Notable Activity_Modified</th>\n",
       "      <th>Last Notable Activity_Olark Chat Conversation</th>\n",
       "      <th>Last Notable Activity_Page Visited on Website</th>\n",
       "      <th>Last Notable Activity_Resubscribed to emails</th>\n",
       "      <th>Last Notable Activity_SMS Sent</th>\n",
       "      <th>Last Notable Activity_Unreachable</th>\n",
       "      <th>Last Notable Activity_Unsubscribed</th>\n",
       "      <th>Last Notable Activity_View in browser link Clicked</th>\n",
       "    </tr>\n",
       "  </thead>\n",
       "  <tbody>\n",
       "    <tr>\n",
       "      <th>0</th>\n",
       "      <td>20.297783</td>\n",
       "      <td>2</td>\n",
       "      <td>2</td>\n",
       "      <td>1</td>\n",
       "      <td>0</td>\n",
       "      <td>0</td>\n",
       "      <td>0</td>\n",
       "      <td>0</td>\n",
       "      <td>0</td>\n",
       "      <td>0</td>\n",
       "      <td>1</td>\n",
       "      <td>0</td>\n",
       "      <td>0</td>\n",
       "      <td>0</td>\n",
       "      <td>0</td>\n",
       "      <td>0</td>\n",
       "      <td>0</td>\n",
       "      <td>0</td>\n",
       "      <td>0</td>\n",
       "      <td>0</td>\n",
       "      <td>0</td>\n",
       "      <td>0</td>\n",
       "      <td>0</td>\n",
       "      <td>0</td>\n",
       "      <td>0</td>\n",
       "      <td>0</td>\n",
       "      <td>0</td>\n",
       "      <td>0</td>\n",
       "      <td>0</td>\n",
       "      <td>0</td>\n",
       "      <td>0</td>\n",
       "      <td>0</td>\n",
       "      <td>0</td>\n",
       "      <td>0</td>\n",
       "      <td>0</td>\n",
       "      <td>1</td>\n",
       "      <td>0</td>\n",
       "      <td>0</td>\n",
       "      <td>1</td>\n",
       "      <td>0</td>\n",
       "      <td>0</td>\n",
       "      <td>0</td>\n",
       "      <td>0</td>\n",
       "      <td>0</td>\n",
       "      <td>0</td>\n",
       "      <td>0</td>\n",
       "      <td>1</td>\n",
       "      <td>0</td>\n",
       "      <td>0</td>\n",
       "      <td>1</td>\n",
       "      <td>0</td>\n",
       "      <td>0</td>\n",
       "      <td>0</td>\n",
       "      <td>0</td>\n",
       "      <td>0</td>\n",
       "      <td>1</td>\n",
       "      <td>0</td>\n",
       "      <td>0</td>\n",
       "      <td>0</td>\n",
       "      <td>1</td>\n",
       "      <td>0</td>\n",
       "      <td>0</td>\n",
       "      <td>0</td>\n",
       "      <td>1</td>\n",
       "      <td>0</td>\n",
       "      <td>0</td>\n",
       "      <td>0</td>\n",
       "      <td>0</td>\n",
       "      <td>0</td>\n",
       "      <td>0</td>\n",
       "      <td>0</td>\n",
       "      <td>0</td>\n",
       "      <td>0</td>\n",
       "      <td>0</td>\n",
       "      <td>0</td>\n",
       "    </tr>\n",
       "    <tr>\n",
       "      <th>1</th>\n",
       "      <td>39.127995</td>\n",
       "      <td>2</td>\n",
       "      <td>3</td>\n",
       "      <td>1</td>\n",
       "      <td>0</td>\n",
       "      <td>0</td>\n",
       "      <td>1</td>\n",
       "      <td>0</td>\n",
       "      <td>0</td>\n",
       "      <td>0</td>\n",
       "      <td>0</td>\n",
       "      <td>0</td>\n",
       "      <td>0</td>\n",
       "      <td>0</td>\n",
       "      <td>1</td>\n",
       "      <td>0</td>\n",
       "      <td>0</td>\n",
       "      <td>0</td>\n",
       "      <td>0</td>\n",
       "      <td>0</td>\n",
       "      <td>0</td>\n",
       "      <td>0</td>\n",
       "      <td>0</td>\n",
       "      <td>1</td>\n",
       "      <td>0</td>\n",
       "      <td>0</td>\n",
       "      <td>0</td>\n",
       "      <td>0</td>\n",
       "      <td>0</td>\n",
       "      <td>0</td>\n",
       "      <td>0</td>\n",
       "      <td>0</td>\n",
       "      <td>0</td>\n",
       "      <td>0</td>\n",
       "      <td>0</td>\n",
       "      <td>1</td>\n",
       "      <td>0</td>\n",
       "      <td>0</td>\n",
       "      <td>1</td>\n",
       "      <td>0</td>\n",
       "      <td>0</td>\n",
       "      <td>0</td>\n",
       "      <td>0</td>\n",
       "      <td>0</td>\n",
       "      <td>1</td>\n",
       "      <td>0</td>\n",
       "      <td>0</td>\n",
       "      <td>0</td>\n",
       "      <td>0</td>\n",
       "      <td>1</td>\n",
       "      <td>0</td>\n",
       "      <td>0</td>\n",
       "      <td>0</td>\n",
       "      <td>0</td>\n",
       "      <td>0</td>\n",
       "      <td>1</td>\n",
       "      <td>0</td>\n",
       "      <td>0</td>\n",
       "      <td>0</td>\n",
       "      <td>1</td>\n",
       "      <td>0</td>\n",
       "      <td>0</td>\n",
       "      <td>0</td>\n",
       "      <td>0</td>\n",
       "      <td>0</td>\n",
       "      <td>0</td>\n",
       "      <td>0</td>\n",
       "      <td>0</td>\n",
       "      <td>0</td>\n",
       "      <td>0</td>\n",
       "      <td>0</td>\n",
       "      <td>1</td>\n",
       "      <td>0</td>\n",
       "      <td>0</td>\n",
       "      <td>0</td>\n",
       "    </tr>\n",
       "    <tr>\n",
       "      <th>2</th>\n",
       "      <td>35.327043</td>\n",
       "      <td>2</td>\n",
       "      <td>3</td>\n",
       "      <td>1</td>\n",
       "      <td>0</td>\n",
       "      <td>0</td>\n",
       "      <td>0</td>\n",
       "      <td>0</td>\n",
       "      <td>1</td>\n",
       "      <td>0</td>\n",
       "      <td>1</td>\n",
       "      <td>0</td>\n",
       "      <td>0</td>\n",
       "      <td>0</td>\n",
       "      <td>0</td>\n",
       "      <td>0</td>\n",
       "      <td>0</td>\n",
       "      <td>0</td>\n",
       "      <td>1</td>\n",
       "      <td>0</td>\n",
       "      <td>0</td>\n",
       "      <td>0</td>\n",
       "      <td>0</td>\n",
       "      <td>0</td>\n",
       "      <td>0</td>\n",
       "      <td>0</td>\n",
       "      <td>0</td>\n",
       "      <td>0</td>\n",
       "      <td>0</td>\n",
       "      <td>0</td>\n",
       "      <td>0</td>\n",
       "      <td>0</td>\n",
       "      <td>0</td>\n",
       "      <td>0</td>\n",
       "      <td>0</td>\n",
       "      <td>1</td>\n",
       "      <td>0</td>\n",
       "      <td>1</td>\n",
       "      <td>0</td>\n",
       "      <td>0</td>\n",
       "      <td>0</td>\n",
       "      <td>0</td>\n",
       "      <td>0</td>\n",
       "      <td>0</td>\n",
       "      <td>0</td>\n",
       "      <td>0</td>\n",
       "      <td>0</td>\n",
       "      <td>1</td>\n",
       "      <td>0</td>\n",
       "      <td>0</td>\n",
       "      <td>0</td>\n",
       "      <td>0</td>\n",
       "      <td>0</td>\n",
       "      <td>1</td>\n",
       "      <td>0</td>\n",
       "      <td>0</td>\n",
       "      <td>0</td>\n",
       "      <td>0</td>\n",
       "      <td>0</td>\n",
       "      <td>1</td>\n",
       "      <td>0</td>\n",
       "      <td>0</td>\n",
       "      <td>0</td>\n",
       "      <td>1</td>\n",
       "      <td>0</td>\n",
       "      <td>0</td>\n",
       "      <td>0</td>\n",
       "      <td>0</td>\n",
       "      <td>0</td>\n",
       "      <td>0</td>\n",
       "      <td>0</td>\n",
       "      <td>0</td>\n",
       "      <td>0</td>\n",
       "      <td>0</td>\n",
       "      <td>0</td>\n",
       "    </tr>\n",
       "    <tr>\n",
       "      <th>3</th>\n",
       "      <td>33.719431</td>\n",
       "      <td>2</td>\n",
       "      <td>3</td>\n",
       "      <td>1</td>\n",
       "      <td>1</td>\n",
       "      <td>0</td>\n",
       "      <td>0</td>\n",
       "      <td>0</td>\n",
       "      <td>0</td>\n",
       "      <td>0</td>\n",
       "      <td>1</td>\n",
       "      <td>0</td>\n",
       "      <td>0</td>\n",
       "      <td>0</td>\n",
       "      <td>0</td>\n",
       "      <td>0</td>\n",
       "      <td>0</td>\n",
       "      <td>0</td>\n",
       "      <td>0</td>\n",
       "      <td>0</td>\n",
       "      <td>0</td>\n",
       "      <td>0</td>\n",
       "      <td>0</td>\n",
       "      <td>1</td>\n",
       "      <td>0</td>\n",
       "      <td>0</td>\n",
       "      <td>0</td>\n",
       "      <td>0</td>\n",
       "      <td>0</td>\n",
       "      <td>0</td>\n",
       "      <td>0</td>\n",
       "      <td>0</td>\n",
       "      <td>0</td>\n",
       "      <td>0</td>\n",
       "      <td>0</td>\n",
       "      <td>1</td>\n",
       "      <td>0</td>\n",
       "      <td>0</td>\n",
       "      <td>1</td>\n",
       "      <td>0</td>\n",
       "      <td>0</td>\n",
       "      <td>0</td>\n",
       "      <td>0</td>\n",
       "      <td>0</td>\n",
       "      <td>0</td>\n",
       "      <td>1</td>\n",
       "      <td>0</td>\n",
       "      <td>0</td>\n",
       "      <td>0</td>\n",
       "      <td>0</td>\n",
       "      <td>0</td>\n",
       "      <td>0</td>\n",
       "      <td>0</td>\n",
       "      <td>1</td>\n",
       "      <td>0</td>\n",
       "      <td>0</td>\n",
       "      <td>0</td>\n",
       "      <td>0</td>\n",
       "      <td>0</td>\n",
       "      <td>1</td>\n",
       "      <td>0</td>\n",
       "      <td>0</td>\n",
       "      <td>0</td>\n",
       "      <td>1</td>\n",
       "      <td>0</td>\n",
       "      <td>0</td>\n",
       "      <td>0</td>\n",
       "      <td>0</td>\n",
       "      <td>0</td>\n",
       "      <td>0</td>\n",
       "      <td>0</td>\n",
       "      <td>0</td>\n",
       "      <td>0</td>\n",
       "      <td>0</td>\n",
       "      <td>0</td>\n",
       "    </tr>\n",
       "    <tr>\n",
       "      <th>4</th>\n",
       "      <td>31.670175</td>\n",
       "      <td>2</td>\n",
       "      <td>2</td>\n",
       "      <td>1</td>\n",
       "      <td>0</td>\n",
       "      <td>0</td>\n",
       "      <td>1</td>\n",
       "      <td>0</td>\n",
       "      <td>0</td>\n",
       "      <td>0</td>\n",
       "      <td>1</td>\n",
       "      <td>0</td>\n",
       "      <td>0</td>\n",
       "      <td>0</td>\n",
       "      <td>0</td>\n",
       "      <td>0</td>\n",
       "      <td>0</td>\n",
       "      <td>0</td>\n",
       "      <td>0</td>\n",
       "      <td>0</td>\n",
       "      <td>0</td>\n",
       "      <td>0</td>\n",
       "      <td>1</td>\n",
       "      <td>0</td>\n",
       "      <td>0</td>\n",
       "      <td>0</td>\n",
       "      <td>0</td>\n",
       "      <td>0</td>\n",
       "      <td>0</td>\n",
       "      <td>0</td>\n",
       "      <td>0</td>\n",
       "      <td>0</td>\n",
       "      <td>1</td>\n",
       "      <td>0</td>\n",
       "      <td>0</td>\n",
       "      <td>0</td>\n",
       "      <td>0</td>\n",
       "      <td>0</td>\n",
       "      <td>1</td>\n",
       "      <td>0</td>\n",
       "      <td>0</td>\n",
       "      <td>0</td>\n",
       "      <td>0</td>\n",
       "      <td>0</td>\n",
       "      <td>1</td>\n",
       "      <td>0</td>\n",
       "      <td>0</td>\n",
       "      <td>0</td>\n",
       "      <td>0</td>\n",
       "      <td>1</td>\n",
       "      <td>0</td>\n",
       "      <td>0</td>\n",
       "      <td>0</td>\n",
       "      <td>0</td>\n",
       "      <td>0</td>\n",
       "      <td>1</td>\n",
       "      <td>0</td>\n",
       "      <td>0</td>\n",
       "      <td>0</td>\n",
       "      <td>0</td>\n",
       "      <td>0</td>\n",
       "      <td>0</td>\n",
       "      <td>0</td>\n",
       "      <td>1</td>\n",
       "      <td>0</td>\n",
       "      <td>0</td>\n",
       "      <td>0</td>\n",
       "      <td>0</td>\n",
       "      <td>0</td>\n",
       "      <td>0</td>\n",
       "      <td>0</td>\n",
       "      <td>0</td>\n",
       "      <td>0</td>\n",
       "      <td>0</td>\n",
       "      <td>0</td>\n",
       "    </tr>\n",
       "  </tbody>\n",
       "</table>\n",
       "</div>"
      ],
      "text/plain": [
       "   Total Time Spent on Website  Asymmetrique Activity Index  \\\n",
       "0                    20.297783                            2   \n",
       "1                    39.127995                            2   \n",
       "2                    35.327043                            2   \n",
       "3                    33.719431                            2   \n",
       "4                    31.670175                            2   \n",
       "\n",
       "   Asymmetrique Profile Index  train  Lead Source_Google  \\\n",
       "0                           2      1                   0   \n",
       "1                           3      1                   0   \n",
       "2                           3      1                   0   \n",
       "3                           3      1                   1   \n",
       "4                           2      1                   0   \n",
       "\n",
       "   Lead Source_Olark Chat  Lead Source_Organic Search  \\\n",
       "0                       0                           0   \n",
       "1                       0                           1   \n",
       "2                       0                           0   \n",
       "3                       0                           0   \n",
       "4                       0                           1   \n",
       "\n",
       "   Lead Source_Other Sources  Lead Source_Reference  Do Not Email_Yes  \\\n",
       "0                          0                      0                 0   \n",
       "1                          0                      0                 0   \n",
       "2                          0                      1                 0   \n",
       "3                          0                      0                 0   \n",
       "4                          0                      0                 0   \n",
       "\n",
       "   Last Activity_Email Responded  Last Activity_Email Unsubscribed  \\\n",
       "0                              1                                 0   \n",
       "1                              0                                 0   \n",
       "2                              1                                 0   \n",
       "3                              1                                 0   \n",
       "4                              1                                 0   \n",
       "\n",
       "   Last Activity_Olark Chat Conversation  \\\n",
       "0                                      0   \n",
       "1                                      0   \n",
       "2                                      0   \n",
       "3                                      0   \n",
       "4                                      0   \n",
       "\n",
       "   Last Activity_Page Visited on Website  Last Activity_SMS Reverted  \\\n",
       "0                                      0                           0   \n",
       "1                                      0                           1   \n",
       "2                                      0                           0   \n",
       "3                                      0                           0   \n",
       "4                                      0                           0   \n",
       "\n",
       "   Country_other_country  Country_unknown  Specialization_Finance  \\\n",
       "0                      0                0                       0   \n",
       "1                      0                0                       0   \n",
       "2                      0                0                       0   \n",
       "3                      0                0                       0   \n",
       "4                      0                0                       0   \n",
       "\n",
       "   Specialization_HR  Specialization_Healthcare  Specialization_IT Projects  \\\n",
       "0                  0                          0                           0   \n",
       "1                  0                          0                           0   \n",
       "2                  1                          0                           0   \n",
       "3                  0                          0                           0   \n",
       "4                  0                          0                           0   \n",
       "\n",
       "   Specialization_International Business  Specialization_Logistics  \\\n",
       "0                                      0                         0   \n",
       "1                                      0                         0   \n",
       "2                                      0                         0   \n",
       "3                                      0                         0   \n",
       "4                                      0                         1   \n",
       "\n",
       "   Specialization_Marketing  Specialization_Rural and Agribusiness  \\\n",
       "0                         0                                      0   \n",
       "1                         1                                      0   \n",
       "2                         0                                      0   \n",
       "3                         1                                      0   \n",
       "4                         0                                      0   \n",
       "\n",
       "   Specialization_Tourism  Specialization_unknown  \\\n",
       "0                       0                       0   \n",
       "1                       0                       0   \n",
       "2                       0                       0   \n",
       "3                       0                       0   \n",
       "4                       0                       0   \n",
       "\n",
       "   How did you hear about X Education_Email  \\\n",
       "0                                         0   \n",
       "1                                         0   \n",
       "2                                         0   \n",
       "3                                         0   \n",
       "4                                         0   \n",
       "\n",
       "   How did you hear about X Education_Multiple Sources  \\\n",
       "0                                                  0     \n",
       "1                                                  0     \n",
       "2                                                  0     \n",
       "3                                                  0     \n",
       "4                                                  0     \n",
       "\n",
       "   How did you hear about X Education_Online Search  \\\n",
       "0                                                 0   \n",
       "1                                                 0   \n",
       "2                                                 0   \n",
       "3                                                 0   \n",
       "4                                                 0   \n",
       "\n",
       "   How did you hear about X Education_Other  \\\n",
       "0                                         0   \n",
       "1                                         0   \n",
       "2                                         0   \n",
       "3                                         0   \n",
       "4                                         0   \n",
       "\n",
       "   How did you hear about X Education_SMS  \\\n",
       "0                                       0   \n",
       "1                                       0   \n",
       "2                                       0   \n",
       "3                                       0   \n",
       "4                                       0   \n",
       "\n",
       "   How did you hear about X Education_Social Media  \\\n",
       "0                                                0   \n",
       "1                                                0   \n",
       "2                                                0   \n",
       "3                                                0   \n",
       "4                                                1   \n",
       "\n",
       "   How did you hear about X Education_Student of SomeSchool  \\\n",
       "0                                                  0          \n",
       "1                                                  0          \n",
       "2                                                  0          \n",
       "3                                                  0          \n",
       "4                                                  0          \n",
       "\n",
       "   How did you hear about X Education_Word Of Mouth  \\\n",
       "0                                                 0   \n",
       "1                                                 0   \n",
       "2                                                 0   \n",
       "3                                                 0   \n",
       "4                                                 0   \n",
       "\n",
       "   How did you hear about X Education_unknown  \\\n",
       "0                                           1   \n",
       "1                                           1   \n",
       "2                                           1   \n",
       "3                                           1   \n",
       "4                                           0   \n",
       "\n",
       "   What is your current occupation_Others  \\\n",
       "0                                       0   \n",
       "1                                       0   \n",
       "2                                       0   \n",
       "3                                       0   \n",
       "4                                       0   \n",
       "\n",
       "   What is your current occupation_Student  \\\n",
       "0                                        0   \n",
       "1                                        0   \n",
       "2                                        1   \n",
       "3                                        0   \n",
       "4                                        0   \n",
       "\n",
       "   What is your current occupation_Unemployed  \\\n",
       "0                                           1   \n",
       "1                                           1   \n",
       "2                                           0   \n",
       "3                                           1   \n",
       "4                                           1   \n",
       "\n",
       "   What is your current occupation_Working Professional  \\\n",
       "0                                                  0      \n",
       "1                                                  0      \n",
       "2                                                  0      \n",
       "3                                                  0      \n",
       "4                                                  0      \n",
       "\n",
       "   What matters most to you in choosing a course_Others  \\\n",
       "0                                                  0      \n",
       "1                                                  0      \n",
       "2                                                  0      \n",
       "3                                                  0      \n",
       "4                                                  0      \n",
       "\n",
       "   Tags_Graduation in progress  Tags_Lost to Others  Tags_Not Eligible  \\\n",
       "0                            0                    0                  0   \n",
       "1                            0                    0                  0   \n",
       "2                            0                    0                  0   \n",
       "3                            0                    0                  0   \n",
       "4                            0                    0                  0   \n",
       "\n",
       "   Tags_Not Reachable  Tags_Response Received  Tags_Status Unknown  \\\n",
       "0                   0                       0                    1   \n",
       "1                   1                       0                    0   \n",
       "2                   0                       0                    0   \n",
       "3                   0                       1                    0   \n",
       "4                   1                       0                    0   \n",
       "\n",
       "   Lead Quality_Low in Relevance  Lead Quality_Might be  \\\n",
       "0                              0                      0   \n",
       "1                              0                      0   \n",
       "2                              1                      0   \n",
       "3                              0                      0   \n",
       "4                              0                      0   \n",
       "\n",
       "   Lead Quality_Not Sure  Lead Quality_Worst  Lead Profile_Lateral Student  \\\n",
       "0                      1                   0                             0   \n",
       "1                      1                   0                             0   \n",
       "2                      0                   0                             0   \n",
       "3                      0                   0                             0   \n",
       "4                      1                   0                             0   \n",
       "\n",
       "   Lead Profile_Other Leads  Lead Profile_Potential Lead  \\\n",
       "0                         0                            0   \n",
       "1                         0                            0   \n",
       "2                         0                            1   \n",
       "3                         0                            1   \n",
       "4                         0                            0   \n",
       "\n",
       "   Lead Profile_Student of SomeSchool  Lead Profile_Unknown  City_Tier2  \\\n",
       "0                                   0                     1           0   \n",
       "1                                   0                     1           0   \n",
       "2                                   0                     0           0   \n",
       "3                                   0                     0           0   \n",
       "4                                   0                     1           0   \n",
       "\n",
       "   City_Tier3  City_Unknown  A free copy of Mastering The Interview_Yes  \\\n",
       "0           0             0                                           1   \n",
       "1           0             0                                           1   \n",
       "2           0             0                                           1   \n",
       "3           0             0                                           1   \n",
       "4           0             0                                           0   \n",
       "\n",
       "   Last Notable Activity_Email Bounced  \\\n",
       "0                                    0   \n",
       "1                                    0   \n",
       "2                                    0   \n",
       "3                                    0   \n",
       "4                                    0   \n",
       "\n",
       "   Last Notable Activity_Email Link Clicked  \\\n",
       "0                                         0   \n",
       "1                                         0   \n",
       "2                                         0   \n",
       "3                                         0   \n",
       "4                                         0   \n",
       "\n",
       "   Last Notable Activity_Email Marked Spam  \\\n",
       "0                                        0   \n",
       "1                                        0   \n",
       "2                                        0   \n",
       "3                                        0   \n",
       "4                                        0   \n",
       "\n",
       "   Last Notable Activity_Email Opened  Last Notable Activity_Email Received  \\\n",
       "0                                   1                                     0   \n",
       "1                                   0                                     0   \n",
       "2                                   1                                     0   \n",
       "3                                   1                                     0   \n",
       "4                                   1                                     0   \n",
       "\n",
       "   Last Notable Activity_Form Submitted on Website  \\\n",
       "0                                                0   \n",
       "1                                                0   \n",
       "2                                                0   \n",
       "3                                                0   \n",
       "4                                                0   \n",
       "\n",
       "   Last Notable Activity_Had a Phone Conversation  \\\n",
       "0                                               0   \n",
       "1                                               0   \n",
       "2                                               0   \n",
       "3                                               0   \n",
       "4                                               0   \n",
       "\n",
       "   Last Notable Activity_Modified  \\\n",
       "0                               0   \n",
       "1                               0   \n",
       "2                               0   \n",
       "3                               0   \n",
       "4                               0   \n",
       "\n",
       "   Last Notable Activity_Olark Chat Conversation  \\\n",
       "0                                              0   \n",
       "1                                              0   \n",
       "2                                              0   \n",
       "3                                              0   \n",
       "4                                              0   \n",
       "\n",
       "   Last Notable Activity_Page Visited on Website  \\\n",
       "0                                              0   \n",
       "1                                              0   \n",
       "2                                              0   \n",
       "3                                              0   \n",
       "4                                              0   \n",
       "\n",
       "   Last Notable Activity_Resubscribed to emails  \\\n",
       "0                                             0   \n",
       "1                                             0   \n",
       "2                                             0   \n",
       "3                                             0   \n",
       "4                                             0   \n",
       "\n",
       "   Last Notable Activity_SMS Sent  Last Notable Activity_Unreachable  \\\n",
       "0                               0                                  0   \n",
       "1                               1                                  0   \n",
       "2                               0                                  0   \n",
       "3                               0                                  0   \n",
       "4                               0                                  0   \n",
       "\n",
       "   Last Notable Activity_Unsubscribed  \\\n",
       "0                                   0   \n",
       "1                                   0   \n",
       "2                                   0   \n",
       "3                                   0   \n",
       "4                                   0   \n",
       "\n",
       "   Last Notable Activity_View in browser link Clicked  \n",
       "0                                                  0   \n",
       "1                                                  0   \n",
       "2                                                  0   \n",
       "3                                                  0   \n",
       "4                                                  0   "
      ]
     },
     "execution_count": 47,
     "metadata": {},
     "output_type": "execute_result"
    }
   ],
   "source": [
    "X_train.head()"
   ]
  },
  {
   "cell_type": "code",
   "execution_count": 48,
   "metadata": {
    "colab": {
     "base_uri": "https://localhost:8080/",
     "height": 266
    },
    "id": "f1esl9pnpWwO",
    "outputId": "404d2d0e-eb37-4918-e459-c0f1211405f4"
   },
   "outputs": [
    {
     "data": {
      "text/html": [
       "<div>\n",
       "<style scoped>\n",
       "    .dataframe tbody tr th:only-of-type {\n",
       "        vertical-align: middle;\n",
       "    }\n",
       "\n",
       "    .dataframe tbody tr th {\n",
       "        vertical-align: top;\n",
       "    }\n",
       "\n",
       "    .dataframe thead th {\n",
       "        text-align: right;\n",
       "    }\n",
       "</style>\n",
       "<table border=\"1\" class=\"dataframe\">\n",
       "  <thead>\n",
       "    <tr style=\"text-align: right;\">\n",
       "      <th></th>\n",
       "      <th>Total Time Spent on Website</th>\n",
       "      <th>Asymmetrique Activity Index</th>\n",
       "      <th>Asymmetrique Profile Index</th>\n",
       "      <th>train</th>\n",
       "      <th>Lead Source_Google</th>\n",
       "      <th>Lead Source_Olark Chat</th>\n",
       "      <th>Lead Source_Organic Search</th>\n",
       "      <th>Lead Source_Other Sources</th>\n",
       "      <th>Lead Source_Reference</th>\n",
       "      <th>Do Not Email_Yes</th>\n",
       "      <th>Last Activity_Email Responded</th>\n",
       "      <th>Last Activity_Email Unsubscribed</th>\n",
       "      <th>Last Activity_Olark Chat Conversation</th>\n",
       "      <th>Last Activity_Page Visited on Website</th>\n",
       "      <th>Last Activity_SMS Reverted</th>\n",
       "      <th>Country_other_country</th>\n",
       "      <th>Country_unknown</th>\n",
       "      <th>Specialization_Finance</th>\n",
       "      <th>Specialization_HR</th>\n",
       "      <th>Specialization_Healthcare</th>\n",
       "      <th>Specialization_IT Projects</th>\n",
       "      <th>Specialization_International Business</th>\n",
       "      <th>Specialization_Logistics</th>\n",
       "      <th>Specialization_Marketing</th>\n",
       "      <th>Specialization_Rural and Agribusiness</th>\n",
       "      <th>Specialization_Tourism</th>\n",
       "      <th>Specialization_unknown</th>\n",
       "      <th>How did you hear about X Education_Email</th>\n",
       "      <th>How did you hear about X Education_Multiple Sources</th>\n",
       "      <th>How did you hear about X Education_Online Search</th>\n",
       "      <th>How did you hear about X Education_Other</th>\n",
       "      <th>How did you hear about X Education_SMS</th>\n",
       "      <th>How did you hear about X Education_Social Media</th>\n",
       "      <th>How did you hear about X Education_Student of SomeSchool</th>\n",
       "      <th>How did you hear about X Education_Word Of Mouth</th>\n",
       "      <th>How did you hear about X Education_unknown</th>\n",
       "      <th>What is your current occupation_Others</th>\n",
       "      <th>What is your current occupation_Student</th>\n",
       "      <th>What is your current occupation_Unemployed</th>\n",
       "      <th>What is your current occupation_Working Professional</th>\n",
       "      <th>What matters most to you in choosing a course_Others</th>\n",
       "      <th>Tags_Graduation in progress</th>\n",
       "      <th>Tags_Lost to Others</th>\n",
       "      <th>Tags_Not Eligible</th>\n",
       "      <th>Tags_Not Reachable</th>\n",
       "      <th>Tags_Response Received</th>\n",
       "      <th>Tags_Status Unknown</th>\n",
       "      <th>Lead Quality_Low in Relevance</th>\n",
       "      <th>Lead Quality_Might be</th>\n",
       "      <th>Lead Quality_Not Sure</th>\n",
       "      <th>Lead Quality_Worst</th>\n",
       "      <th>Lead Profile_Lateral Student</th>\n",
       "      <th>Lead Profile_Other Leads</th>\n",
       "      <th>Lead Profile_Potential Lead</th>\n",
       "      <th>Lead Profile_Student of SomeSchool</th>\n",
       "      <th>Lead Profile_Unknown</th>\n",
       "      <th>City_Tier2</th>\n",
       "      <th>City_Tier3</th>\n",
       "      <th>City_Unknown</th>\n",
       "      <th>A free copy of Mastering The Interview_Yes</th>\n",
       "      <th>Last Notable Activity_Email Bounced</th>\n",
       "      <th>Last Notable Activity_Email Link Clicked</th>\n",
       "      <th>Last Notable Activity_Email Marked Spam</th>\n",
       "      <th>Last Notable Activity_Email Opened</th>\n",
       "      <th>Last Notable Activity_Email Received</th>\n",
       "      <th>Last Notable Activity_Form Submitted on Website</th>\n",
       "      <th>Last Notable Activity_Had a Phone Conversation</th>\n",
       "      <th>Last Notable Activity_Modified</th>\n",
       "      <th>Last Notable Activity_Olark Chat Conversation</th>\n",
       "      <th>Last Notable Activity_Page Visited on Website</th>\n",
       "      <th>Last Notable Activity_Resubscribed to emails</th>\n",
       "      <th>Last Notable Activity_SMS Sent</th>\n",
       "      <th>Last Notable Activity_Unreachable</th>\n",
       "      <th>Last Notable Activity_Unsubscribed</th>\n",
       "      <th>Last Notable Activity_View in browser link Clicked</th>\n",
       "    </tr>\n",
       "  </thead>\n",
       "  <tbody>\n",
       "    <tr>\n",
       "      <th>0</th>\n",
       "      <td>18.220867</td>\n",
       "      <td>2</td>\n",
       "      <td>2</td>\n",
       "      <td>0</td>\n",
       "      <td>1</td>\n",
       "      <td>0</td>\n",
       "      <td>0</td>\n",
       "      <td>0</td>\n",
       "      <td>0</td>\n",
       "      <td>0</td>\n",
       "      <td>1</td>\n",
       "      <td>0</td>\n",
       "      <td>0</td>\n",
       "      <td>0</td>\n",
       "      <td>0</td>\n",
       "      <td>0</td>\n",
       "      <td>0</td>\n",
       "      <td>0</td>\n",
       "      <td>0</td>\n",
       "      <td>0</td>\n",
       "      <td>1</td>\n",
       "      <td>0</td>\n",
       "      <td>0</td>\n",
       "      <td>0</td>\n",
       "      <td>0</td>\n",
       "      <td>0</td>\n",
       "      <td>0</td>\n",
       "      <td>0</td>\n",
       "      <td>1</td>\n",
       "      <td>0</td>\n",
       "      <td>0</td>\n",
       "      <td>0</td>\n",
       "      <td>0</td>\n",
       "      <td>0</td>\n",
       "      <td>0</td>\n",
       "      <td>0</td>\n",
       "      <td>0</td>\n",
       "      <td>0</td>\n",
       "      <td>1</td>\n",
       "      <td>0</td>\n",
       "      <td>0</td>\n",
       "      <td>0</td>\n",
       "      <td>0</td>\n",
       "      <td>0</td>\n",
       "      <td>1</td>\n",
       "      <td>0</td>\n",
       "      <td>0</td>\n",
       "      <td>0</td>\n",
       "      <td>0</td>\n",
       "      <td>1</td>\n",
       "      <td>0</td>\n",
       "      <td>0</td>\n",
       "      <td>0</td>\n",
       "      <td>0</td>\n",
       "      <td>0</td>\n",
       "      <td>1</td>\n",
       "      <td>0</td>\n",
       "      <td>0</td>\n",
       "      <td>0</td>\n",
       "      <td>0</td>\n",
       "      <td>0</td>\n",
       "      <td>0</td>\n",
       "      <td>0</td>\n",
       "      <td>1</td>\n",
       "      <td>0</td>\n",
       "      <td>0</td>\n",
       "      <td>0</td>\n",
       "      <td>0</td>\n",
       "      <td>0</td>\n",
       "      <td>0</td>\n",
       "      <td>0</td>\n",
       "      <td>0</td>\n",
       "      <td>0</td>\n",
       "      <td>0</td>\n",
       "      <td>0</td>\n",
       "    </tr>\n",
       "    <tr>\n",
       "      <th>1</th>\n",
       "      <td>39.395431</td>\n",
       "      <td>2</td>\n",
       "      <td>3</td>\n",
       "      <td>0</td>\n",
       "      <td>1</td>\n",
       "      <td>0</td>\n",
       "      <td>0</td>\n",
       "      <td>0</td>\n",
       "      <td>0</td>\n",
       "      <td>0</td>\n",
       "      <td>0</td>\n",
       "      <td>0</td>\n",
       "      <td>0</td>\n",
       "      <td>0</td>\n",
       "      <td>0</td>\n",
       "      <td>0</td>\n",
       "      <td>0</td>\n",
       "      <td>0</td>\n",
       "      <td>0</td>\n",
       "      <td>0</td>\n",
       "      <td>0</td>\n",
       "      <td>0</td>\n",
       "      <td>0</td>\n",
       "      <td>1</td>\n",
       "      <td>0</td>\n",
       "      <td>0</td>\n",
       "      <td>0</td>\n",
       "      <td>0</td>\n",
       "      <td>0</td>\n",
       "      <td>0</td>\n",
       "      <td>1</td>\n",
       "      <td>0</td>\n",
       "      <td>0</td>\n",
       "      <td>0</td>\n",
       "      <td>0</td>\n",
       "      <td>0</td>\n",
       "      <td>0</td>\n",
       "      <td>0</td>\n",
       "      <td>1</td>\n",
       "      <td>0</td>\n",
       "      <td>0</td>\n",
       "      <td>0</td>\n",
       "      <td>1</td>\n",
       "      <td>0</td>\n",
       "      <td>0</td>\n",
       "      <td>0</td>\n",
       "      <td>0</td>\n",
       "      <td>0</td>\n",
       "      <td>0</td>\n",
       "      <td>1</td>\n",
       "      <td>0</td>\n",
       "      <td>0</td>\n",
       "      <td>1</td>\n",
       "      <td>0</td>\n",
       "      <td>0</td>\n",
       "      <td>0</td>\n",
       "      <td>0</td>\n",
       "      <td>0</td>\n",
       "      <td>0</td>\n",
       "      <td>0</td>\n",
       "      <td>0</td>\n",
       "      <td>0</td>\n",
       "      <td>0</td>\n",
       "      <td>0</td>\n",
       "      <td>0</td>\n",
       "      <td>0</td>\n",
       "      <td>0</td>\n",
       "      <td>1</td>\n",
       "      <td>0</td>\n",
       "      <td>0</td>\n",
       "      <td>0</td>\n",
       "      <td>0</td>\n",
       "      <td>0</td>\n",
       "      <td>0</td>\n",
       "      <td>0</td>\n",
       "    </tr>\n",
       "    <tr>\n",
       "      <th>2</th>\n",
       "      <td>36.660606</td>\n",
       "      <td>2</td>\n",
       "      <td>1</td>\n",
       "      <td>0</td>\n",
       "      <td>1</td>\n",
       "      <td>0</td>\n",
       "      <td>0</td>\n",
       "      <td>0</td>\n",
       "      <td>0</td>\n",
       "      <td>0</td>\n",
       "      <td>1</td>\n",
       "      <td>0</td>\n",
       "      <td>0</td>\n",
       "      <td>0</td>\n",
       "      <td>0</td>\n",
       "      <td>0</td>\n",
       "      <td>0</td>\n",
       "      <td>0</td>\n",
       "      <td>0</td>\n",
       "      <td>0</td>\n",
       "      <td>0</td>\n",
       "      <td>0</td>\n",
       "      <td>0</td>\n",
       "      <td>0</td>\n",
       "      <td>0</td>\n",
       "      <td>1</td>\n",
       "      <td>0</td>\n",
       "      <td>0</td>\n",
       "      <td>0</td>\n",
       "      <td>0</td>\n",
       "      <td>0</td>\n",
       "      <td>0</td>\n",
       "      <td>0</td>\n",
       "      <td>0</td>\n",
       "      <td>0</td>\n",
       "      <td>1</td>\n",
       "      <td>0</td>\n",
       "      <td>0</td>\n",
       "      <td>1</td>\n",
       "      <td>0</td>\n",
       "      <td>0</td>\n",
       "      <td>0</td>\n",
       "      <td>0</td>\n",
       "      <td>0</td>\n",
       "      <td>0</td>\n",
       "      <td>1</td>\n",
       "      <td>0</td>\n",
       "      <td>0</td>\n",
       "      <td>0</td>\n",
       "      <td>1</td>\n",
       "      <td>0</td>\n",
       "      <td>0</td>\n",
       "      <td>0</td>\n",
       "      <td>0</td>\n",
       "      <td>0</td>\n",
       "      <td>1</td>\n",
       "      <td>0</td>\n",
       "      <td>0</td>\n",
       "      <td>1</td>\n",
       "      <td>0</td>\n",
       "      <td>0</td>\n",
       "      <td>0</td>\n",
       "      <td>0</td>\n",
       "      <td>1</td>\n",
       "      <td>0</td>\n",
       "      <td>0</td>\n",
       "      <td>0</td>\n",
       "      <td>0</td>\n",
       "      <td>0</td>\n",
       "      <td>0</td>\n",
       "      <td>0</td>\n",
       "      <td>0</td>\n",
       "      <td>0</td>\n",
       "      <td>0</td>\n",
       "      <td>0</td>\n",
       "    </tr>\n",
       "    <tr>\n",
       "      <th>3</th>\n",
       "      <td>13.674794</td>\n",
       "      <td>2</td>\n",
       "      <td>2</td>\n",
       "      <td>0</td>\n",
       "      <td>1</td>\n",
       "      <td>0</td>\n",
       "      <td>0</td>\n",
       "      <td>0</td>\n",
       "      <td>0</td>\n",
       "      <td>0</td>\n",
       "      <td>1</td>\n",
       "      <td>0</td>\n",
       "      <td>0</td>\n",
       "      <td>0</td>\n",
       "      <td>0</td>\n",
       "      <td>0</td>\n",
       "      <td>0</td>\n",
       "      <td>1</td>\n",
       "      <td>0</td>\n",
       "      <td>0</td>\n",
       "      <td>0</td>\n",
       "      <td>0</td>\n",
       "      <td>0</td>\n",
       "      <td>0</td>\n",
       "      <td>0</td>\n",
       "      <td>0</td>\n",
       "      <td>0</td>\n",
       "      <td>0</td>\n",
       "      <td>0</td>\n",
       "      <td>1</td>\n",
       "      <td>0</td>\n",
       "      <td>0</td>\n",
       "      <td>0</td>\n",
       "      <td>0</td>\n",
       "      <td>0</td>\n",
       "      <td>0</td>\n",
       "      <td>0</td>\n",
       "      <td>0</td>\n",
       "      <td>1</td>\n",
       "      <td>0</td>\n",
       "      <td>0</td>\n",
       "      <td>0</td>\n",
       "      <td>0</td>\n",
       "      <td>0</td>\n",
       "      <td>0</td>\n",
       "      <td>0</td>\n",
       "      <td>1</td>\n",
       "      <td>0</td>\n",
       "      <td>0</td>\n",
       "      <td>1</td>\n",
       "      <td>0</td>\n",
       "      <td>0</td>\n",
       "      <td>0</td>\n",
       "      <td>0</td>\n",
       "      <td>0</td>\n",
       "      <td>1</td>\n",
       "      <td>1</td>\n",
       "      <td>0</td>\n",
       "      <td>0</td>\n",
       "      <td>0</td>\n",
       "      <td>0</td>\n",
       "      <td>0</td>\n",
       "      <td>0</td>\n",
       "      <td>1</td>\n",
       "      <td>0</td>\n",
       "      <td>0</td>\n",
       "      <td>0</td>\n",
       "      <td>0</td>\n",
       "      <td>0</td>\n",
       "      <td>0</td>\n",
       "      <td>0</td>\n",
       "      <td>0</td>\n",
       "      <td>0</td>\n",
       "      <td>0</td>\n",
       "      <td>0</td>\n",
       "    </tr>\n",
       "    <tr>\n",
       "      <th>4</th>\n",
       "      <td>26.495283</td>\n",
       "      <td>2</td>\n",
       "      <td>3</td>\n",
       "      <td>0</td>\n",
       "      <td>1</td>\n",
       "      <td>0</td>\n",
       "      <td>0</td>\n",
       "      <td>0</td>\n",
       "      <td>0</td>\n",
       "      <td>0</td>\n",
       "      <td>1</td>\n",
       "      <td>0</td>\n",
       "      <td>0</td>\n",
       "      <td>0</td>\n",
       "      <td>0</td>\n",
       "      <td>0</td>\n",
       "      <td>0</td>\n",
       "      <td>0</td>\n",
       "      <td>0</td>\n",
       "      <td>0</td>\n",
       "      <td>0</td>\n",
       "      <td>0</td>\n",
       "      <td>0</td>\n",
       "      <td>1</td>\n",
       "      <td>0</td>\n",
       "      <td>0</td>\n",
       "      <td>0</td>\n",
       "      <td>0</td>\n",
       "      <td>0</td>\n",
       "      <td>0</td>\n",
       "      <td>0</td>\n",
       "      <td>0</td>\n",
       "      <td>1</td>\n",
       "      <td>0</td>\n",
       "      <td>0</td>\n",
       "      <td>0</td>\n",
       "      <td>0</td>\n",
       "      <td>0</td>\n",
       "      <td>1</td>\n",
       "      <td>0</td>\n",
       "      <td>0</td>\n",
       "      <td>0</td>\n",
       "      <td>0</td>\n",
       "      <td>0</td>\n",
       "      <td>0</td>\n",
       "      <td>1</td>\n",
       "      <td>0</td>\n",
       "      <td>0</td>\n",
       "      <td>0</td>\n",
       "      <td>1</td>\n",
       "      <td>0</td>\n",
       "      <td>0</td>\n",
       "      <td>0</td>\n",
       "      <td>0</td>\n",
       "      <td>0</td>\n",
       "      <td>1</td>\n",
       "      <td>0</td>\n",
       "      <td>1</td>\n",
       "      <td>0</td>\n",
       "      <td>0</td>\n",
       "      <td>0</td>\n",
       "      <td>0</td>\n",
       "      <td>0</td>\n",
       "      <td>1</td>\n",
       "      <td>0</td>\n",
       "      <td>0</td>\n",
       "      <td>0</td>\n",
       "      <td>0</td>\n",
       "      <td>0</td>\n",
       "      <td>0</td>\n",
       "      <td>0</td>\n",
       "      <td>0</td>\n",
       "      <td>0</td>\n",
       "      <td>0</td>\n",
       "      <td>0</td>\n",
       "    </tr>\n",
       "  </tbody>\n",
       "</table>\n",
       "</div>"
      ],
      "text/plain": [
       "   Total Time Spent on Website  Asymmetrique Activity Index  \\\n",
       "0                    18.220867                            2   \n",
       "1                    39.395431                            2   \n",
       "2                    36.660606                            2   \n",
       "3                    13.674794                            2   \n",
       "4                    26.495283                            2   \n",
       "\n",
       "   Asymmetrique Profile Index  train  Lead Source_Google  \\\n",
       "0                           2      0                   1   \n",
       "1                           3      0                   1   \n",
       "2                           1      0                   1   \n",
       "3                           2      0                   1   \n",
       "4                           3      0                   1   \n",
       "\n",
       "   Lead Source_Olark Chat  Lead Source_Organic Search  \\\n",
       "0                       0                           0   \n",
       "1                       0                           0   \n",
       "2                       0                           0   \n",
       "3                       0                           0   \n",
       "4                       0                           0   \n",
       "\n",
       "   Lead Source_Other Sources  Lead Source_Reference  Do Not Email_Yes  \\\n",
       "0                          0                      0                 0   \n",
       "1                          0                      0                 0   \n",
       "2                          0                      0                 0   \n",
       "3                          0                      0                 0   \n",
       "4                          0                      0                 0   \n",
       "\n",
       "   Last Activity_Email Responded  Last Activity_Email Unsubscribed  \\\n",
       "0                              1                                 0   \n",
       "1                              0                                 0   \n",
       "2                              1                                 0   \n",
       "3                              1                                 0   \n",
       "4                              1                                 0   \n",
       "\n",
       "   Last Activity_Olark Chat Conversation  \\\n",
       "0                                      0   \n",
       "1                                      0   \n",
       "2                                      0   \n",
       "3                                      0   \n",
       "4                                      0   \n",
       "\n",
       "   Last Activity_Page Visited on Website  Last Activity_SMS Reverted  \\\n",
       "0                                      0                           0   \n",
       "1                                      0                           0   \n",
       "2                                      0                           0   \n",
       "3                                      0                           0   \n",
       "4                                      0                           0   \n",
       "\n",
       "   Country_other_country  Country_unknown  Specialization_Finance  \\\n",
       "0                      0                0                       0   \n",
       "1                      0                0                       0   \n",
       "2                      0                0                       0   \n",
       "3                      0                0                       1   \n",
       "4                      0                0                       0   \n",
       "\n",
       "   Specialization_HR  Specialization_Healthcare  Specialization_IT Projects  \\\n",
       "0                  0                          0                           1   \n",
       "1                  0                          0                           0   \n",
       "2                  0                          0                           0   \n",
       "3                  0                          0                           0   \n",
       "4                  0                          0                           0   \n",
       "\n",
       "   Specialization_International Business  Specialization_Logistics  \\\n",
       "0                                      0                         0   \n",
       "1                                      0                         0   \n",
       "2                                      0                         0   \n",
       "3                                      0                         0   \n",
       "4                                      0                         0   \n",
       "\n",
       "   Specialization_Marketing  Specialization_Rural and Agribusiness  \\\n",
       "0                         0                                      0   \n",
       "1                         1                                      0   \n",
       "2                         0                                      0   \n",
       "3                         0                                      0   \n",
       "4                         1                                      0   \n",
       "\n",
       "   Specialization_Tourism  Specialization_unknown  \\\n",
       "0                       0                       0   \n",
       "1                       0                       0   \n",
       "2                       1                       0   \n",
       "3                       0                       0   \n",
       "4                       0                       0   \n",
       "\n",
       "   How did you hear about X Education_Email  \\\n",
       "0                                         0   \n",
       "1                                         0   \n",
       "2                                         0   \n",
       "3                                         0   \n",
       "4                                         0   \n",
       "\n",
       "   How did you hear about X Education_Multiple Sources  \\\n",
       "0                                                  1     \n",
       "1                                                  0     \n",
       "2                                                  0     \n",
       "3                                                  0     \n",
       "4                                                  0     \n",
       "\n",
       "   How did you hear about X Education_Online Search  \\\n",
       "0                                                 0   \n",
       "1                                                 0   \n",
       "2                                                 0   \n",
       "3                                                 1   \n",
       "4                                                 0   \n",
       "\n",
       "   How did you hear about X Education_Other  \\\n",
       "0                                         0   \n",
       "1                                         1   \n",
       "2                                         0   \n",
       "3                                         0   \n",
       "4                                         0   \n",
       "\n",
       "   How did you hear about X Education_SMS  \\\n",
       "0                                       0   \n",
       "1                                       0   \n",
       "2                                       0   \n",
       "3                                       0   \n",
       "4                                       0   \n",
       "\n",
       "   How did you hear about X Education_Social Media  \\\n",
       "0                                                0   \n",
       "1                                                0   \n",
       "2                                                0   \n",
       "3                                                0   \n",
       "4                                                1   \n",
       "\n",
       "   How did you hear about X Education_Student of SomeSchool  \\\n",
       "0                                                  0          \n",
       "1                                                  0          \n",
       "2                                                  0          \n",
       "3                                                  0          \n",
       "4                                                  0          \n",
       "\n",
       "   How did you hear about X Education_Word Of Mouth  \\\n",
       "0                                                 0   \n",
       "1                                                 0   \n",
       "2                                                 0   \n",
       "3                                                 0   \n",
       "4                                                 0   \n",
       "\n",
       "   How did you hear about X Education_unknown  \\\n",
       "0                                           0   \n",
       "1                                           0   \n",
       "2                                           1   \n",
       "3                                           0   \n",
       "4                                           0   \n",
       "\n",
       "   What is your current occupation_Others  \\\n",
       "0                                       0   \n",
       "1                                       0   \n",
       "2                                       0   \n",
       "3                                       0   \n",
       "4                                       0   \n",
       "\n",
       "   What is your current occupation_Student  \\\n",
       "0                                        0   \n",
       "1                                        0   \n",
       "2                                        0   \n",
       "3                                        0   \n",
       "4                                        0   \n",
       "\n",
       "   What is your current occupation_Unemployed  \\\n",
       "0                                           1   \n",
       "1                                           1   \n",
       "2                                           1   \n",
       "3                                           1   \n",
       "4                                           1   \n",
       "\n",
       "   What is your current occupation_Working Professional  \\\n",
       "0                                                  0      \n",
       "1                                                  0      \n",
       "2                                                  0      \n",
       "3                                                  0      \n",
       "4                                                  0      \n",
       "\n",
       "   What matters most to you in choosing a course_Others  \\\n",
       "0                                                  0      \n",
       "1                                                  0      \n",
       "2                                                  0      \n",
       "3                                                  0      \n",
       "4                                                  0      \n",
       "\n",
       "   Tags_Graduation in progress  Tags_Lost to Others  Tags_Not Eligible  \\\n",
       "0                            0                    0                  0   \n",
       "1                            0                    1                  0   \n",
       "2                            0                    0                  0   \n",
       "3                            0                    0                  0   \n",
       "4                            0                    0                  0   \n",
       "\n",
       "   Tags_Not Reachable  Tags_Response Received  Tags_Status Unknown  \\\n",
       "0                   1                       0                    0   \n",
       "1                   0                       0                    0   \n",
       "2                   0                       1                    0   \n",
       "3                   0                       0                    1   \n",
       "4                   0                       1                    0   \n",
       "\n",
       "   Lead Quality_Low in Relevance  Lead Quality_Might be  \\\n",
       "0                              0                      0   \n",
       "1                              0                      0   \n",
       "2                              0                      0   \n",
       "3                              0                      0   \n",
       "4                              0                      0   \n",
       "\n",
       "   Lead Quality_Not Sure  Lead Quality_Worst  Lead Profile_Lateral Student  \\\n",
       "0                      1                   0                             0   \n",
       "1                      1                   0                             0   \n",
       "2                      1                   0                             0   \n",
       "3                      1                   0                             0   \n",
       "4                      1                   0                             0   \n",
       "\n",
       "   Lead Profile_Other Leads  Lead Profile_Potential Lead  \\\n",
       "0                         0                            0   \n",
       "1                         1                            0   \n",
       "2                         0                            0   \n",
       "3                         0                            0   \n",
       "4                         0                            0   \n",
       "\n",
       "   Lead Profile_Student of SomeSchool  Lead Profile_Unknown  City_Tier2  \\\n",
       "0                                   0                     1           0   \n",
       "1                                   0                     0           0   \n",
       "2                                   0                     1           0   \n",
       "3                                   0                     1           1   \n",
       "4                                   0                     1           0   \n",
       "\n",
       "   City_Tier3  City_Unknown  A free copy of Mastering The Interview_Yes  \\\n",
       "0           0             0                                           0   \n",
       "1           0             0                                           0   \n",
       "2           0             1                                           0   \n",
       "3           0             0                                           0   \n",
       "4           1             0                                           0   \n",
       "\n",
       "   Last Notable Activity_Email Bounced  \\\n",
       "0                                    0   \n",
       "1                                    0   \n",
       "2                                    0   \n",
       "3                                    0   \n",
       "4                                    0   \n",
       "\n",
       "   Last Notable Activity_Email Link Clicked  \\\n",
       "0                                         0   \n",
       "1                                         0   \n",
       "2                                         0   \n",
       "3                                         0   \n",
       "4                                         0   \n",
       "\n",
       "   Last Notable Activity_Email Marked Spam  \\\n",
       "0                                        0   \n",
       "1                                        0   \n",
       "2                                        0   \n",
       "3                                        0   \n",
       "4                                        0   \n",
       "\n",
       "   Last Notable Activity_Email Opened  Last Notable Activity_Email Received  \\\n",
       "0                                   1                                     0   \n",
       "1                                   0                                     0   \n",
       "2                                   1                                     0   \n",
       "3                                   1                                     0   \n",
       "4                                   1                                     0   \n",
       "\n",
       "   Last Notable Activity_Form Submitted on Website  \\\n",
       "0                                                0   \n",
       "1                                                0   \n",
       "2                                                0   \n",
       "3                                                0   \n",
       "4                                                0   \n",
       "\n",
       "   Last Notable Activity_Had a Phone Conversation  \\\n",
       "0                                               0   \n",
       "1                                               0   \n",
       "2                                               0   \n",
       "3                                               0   \n",
       "4                                               0   \n",
       "\n",
       "   Last Notable Activity_Modified  \\\n",
       "0                               0   \n",
       "1                               1   \n",
       "2                               0   \n",
       "3                               0   \n",
       "4                               0   \n",
       "\n",
       "   Last Notable Activity_Olark Chat Conversation  \\\n",
       "0                                              0   \n",
       "1                                              0   \n",
       "2                                              0   \n",
       "3                                              0   \n",
       "4                                              0   \n",
       "\n",
       "   Last Notable Activity_Page Visited on Website  \\\n",
       "0                                              0   \n",
       "1                                              0   \n",
       "2                                              0   \n",
       "3                                              0   \n",
       "4                                              0   \n",
       "\n",
       "   Last Notable Activity_Resubscribed to emails  \\\n",
       "0                                             0   \n",
       "1                                             0   \n",
       "2                                             0   \n",
       "3                                             0   \n",
       "4                                             0   \n",
       "\n",
       "   Last Notable Activity_SMS Sent  Last Notable Activity_Unreachable  \\\n",
       "0                               0                                  0   \n",
       "1                               0                                  0   \n",
       "2                               0                                  0   \n",
       "3                               0                                  0   \n",
       "4                               0                                  0   \n",
       "\n",
       "   Last Notable Activity_Unsubscribed  \\\n",
       "0                                   0   \n",
       "1                                   0   \n",
       "2                                   0   \n",
       "3                                   0   \n",
       "4                                   0   \n",
       "\n",
       "   Last Notable Activity_View in browser link Clicked  \n",
       "0                                                  0   \n",
       "1                                                  0   \n",
       "2                                                  0   \n",
       "3                                                  0   \n",
       "4                                                  0   "
      ]
     },
     "execution_count": 48,
     "metadata": {},
     "output_type": "execute_result"
    }
   ],
   "source": [
    "X_test.head()"
   ]
  },
  {
   "cell_type": "code",
   "execution_count": 49,
   "metadata": {
    "colab": {
     "base_uri": "https://localhost:8080/"
    },
    "id": "hDrBjQISpWwP",
    "outputId": "c22a7311-1ac5-4f90-8146-9d8b17e53307"
   },
   "outputs": [
    {
     "data": {
      "text/plain": [
       "(6468, 75)"
      ]
     },
     "execution_count": 49,
     "metadata": {},
     "output_type": "execute_result"
    }
   ],
   "source": [
    "X_train.shape"
   ]
  },
  {
   "cell_type": "code",
   "execution_count": 50,
   "metadata": {
    "colab": {
     "base_uri": "https://localhost:8080/"
    },
    "id": "CG1zZZCvpWwP",
    "outputId": "204bdda9-f1ee-44d8-a462-5685b7635da0"
   },
   "outputs": [
    {
     "data": {
      "text/plain": [
       "(2772, 75)"
      ]
     },
     "execution_count": 50,
     "metadata": {},
     "output_type": "execute_result"
    }
   ],
   "source": [
    "X_test.shape"
   ]
  },
  {
   "cell_type": "code",
   "execution_count": 51,
   "metadata": {
    "colab": {
     "base_uri": "https://localhost:8080/"
    },
    "id": "DConiTsbpWwP",
    "outputId": "d0c336fb-cb47-415e-fe23-caedf115097b"
   },
   "outputs": [
    {
     "data": {
      "text/plain": [
       "(9240, 75)"
      ]
     },
     "execution_count": 51,
     "metadata": {},
     "output_type": "execute_result"
    }
   ],
   "source": [
    "X.shape"
   ]
  },
  {
   "cell_type": "code",
   "execution_count": 52,
   "metadata": {
    "id": "XmV3o-edpWwP"
   },
   "outputs": [],
   "source": [
    "X_train=X_train.drop('train',axis=1)"
   ]
  },
  {
   "cell_type": "code",
   "execution_count": 53,
   "metadata": {
    "id": "8ZlAoePspWwQ"
   },
   "outputs": [],
   "source": [
    "X_test=X_test.drop('train',axis=1)"
   ]
  },
  {
   "cell_type": "code",
   "execution_count": 54,
   "metadata": {
    "colab": {
     "base_uri": "https://localhost:8080/"
    },
    "id": "12xTxdINpWwQ",
    "outputId": "b92c63ff-27f0-4af2-f76b-3930bf1f9b0b"
   },
   "outputs": [
    {
     "data": {
      "text/plain": [
       "(6468, 74)"
      ]
     },
     "execution_count": 54,
     "metadata": {},
     "output_type": "execute_result"
    }
   ],
   "source": [
    "X_train.shape"
   ]
  },
  {
   "cell_type": "code",
   "execution_count": 55,
   "metadata": {
    "colab": {
     "base_uri": "https://localhost:8080/"
    },
    "id": "bmfqMoQnpWwQ",
    "outputId": "884b951b-e192-47b0-cd70-caac5f1492f2"
   },
   "outputs": [
    {
     "data": {
      "text/plain": [
       "(2772, 74)"
      ]
     },
     "execution_count": 55,
     "metadata": {},
     "output_type": "execute_result"
    }
   ],
   "source": [
    "X_test.shape"
   ]
  },
  {
   "cell_type": "code",
   "execution_count": null,
   "metadata": {
    "id": "ENMij2qApWwQ"
   },
   "outputs": [],
   "source": []
  },
  {
   "cell_type": "code",
   "execution_count": 56,
   "metadata": {
    "id": "SA0ao_SepWwQ"
   },
   "outputs": [],
   "source": [
    "# applying RFECV for feature selection"
   ]
  },
  {
   "cell_type": "code",
   "execution_count": 57,
   "metadata": {
    "id": "Vz_HYw9apWwR"
   },
   "outputs": [],
   "source": [
    "from sklearn.feature_selection import RFECV"
   ]
  },
  {
   "cell_type": "code",
   "execution_count": 58,
   "metadata": {
    "id": "Eyo-s97XpWwR"
   },
   "outputs": [],
   "source": [
    "from sklearn.linear_model import LogisticRegression\n",
    "model2=LogisticRegression()"
   ]
  },
  {
   "cell_type": "code",
   "execution_count": 59,
   "metadata": {
    "id": "ux-ZUMKfpWwR"
   },
   "outputs": [],
   "source": [
    "from sklearn import metrics"
   ]
  },
  {
   "cell_type": "code",
   "execution_count": 60,
   "metadata": {
    "colab": {
     "base_uri": "https://localhost:8080/"
    },
    "id": "4kG6WJf-pWwR",
    "outputId": "e2f86213-5f04-4c61-9b93-209548fc46a1"
   },
   "outputs": [
    {
     "data": {
      "text/plain": [
       "dict_keys(['explained_variance', 'r2', 'max_error', 'neg_median_absolute_error', 'neg_mean_absolute_error', 'neg_mean_squared_error', 'neg_mean_squared_log_error', 'neg_root_mean_squared_error', 'neg_mean_poisson_deviance', 'neg_mean_gamma_deviance', 'accuracy', 'roc_auc', 'roc_auc_ovr', 'roc_auc_ovo', 'roc_auc_ovr_weighted', 'roc_auc_ovo_weighted', 'balanced_accuracy', 'average_precision', 'neg_log_loss', 'neg_brier_score', 'adjusted_rand_score', 'homogeneity_score', 'completeness_score', 'v_measure_score', 'mutual_info_score', 'adjusted_mutual_info_score', 'normalized_mutual_info_score', 'fowlkes_mallows_score', 'precision', 'precision_macro', 'precision_micro', 'precision_samples', 'precision_weighted', 'recall', 'recall_macro', 'recall_micro', 'recall_samples', 'recall_weighted', 'f1', 'f1_macro', 'f1_micro', 'f1_samples', 'f1_weighted', 'jaccard', 'jaccard_macro', 'jaccard_micro', 'jaccard_samples', 'jaccard_weighted'])"
      ]
     },
     "execution_count": 60,
     "metadata": {},
     "output_type": "execute_result"
    }
   ],
   "source": [
    "metrics.SCORERS.keys()"
   ]
  },
  {
   "cell_type": "code",
   "execution_count": 61,
   "metadata": {
    "colab": {
     "base_uri": "https://localhost:8080/"
    },
    "id": "p8fEo2uYpWwR",
    "outputId": "e7599d8b-db78-44b1-c9fd-14ad5de5234c"
   },
   "outputs": [
    {
     "data": {
      "text/plain": [
       "RFECV(cv=10, estimator=LogisticRegression(), scoring='roc_auc')"
      ]
     },
     "execution_count": 61,
     "metadata": {},
     "output_type": "execute_result"
    }
   ],
   "source": [
    "\n",
    "rfecv=RFECV(model2,cv=10,scoring='roc_auc')\n",
    "rfecv.fit(X_train,y_train)"
   ]
  },
  {
   "cell_type": "code",
   "execution_count": 62,
   "metadata": {
    "colab": {
     "base_uri": "https://localhost:8080/"
    },
    "id": "jtQagyORpWwS",
    "outputId": "928386d8-4e53-4aa8-82a3-fec2ee22167d"
   },
   "outputs": [
    {
     "data": {
      "text/plain": [
       "array([0.54799396, 0.56828303, 0.69402523, 0.69728136, 0.8652359 ,\n",
       "       0.90702142, 0.92269239, 0.92770949, 0.93124243, 0.93378144,\n",
       "       0.93525469, 0.93625609, 0.93808723, 0.93870597, 0.939121  ,\n",
       "       0.9386456 , 0.93987105, 0.94108236, 0.94084981, 0.94130739,\n",
       "       0.94122481, 0.94179662, 0.94199656, 0.94219758, 0.94204377,\n",
       "       0.9420357 , 0.9421783 , 0.94263608, 0.94287243, 0.94286621,\n",
       "       0.94273034, 0.94253862, 0.94259614, 0.94273168, 0.94273606,\n",
       "       0.94281691, 0.94279284, 0.94275529, 0.94269335, 0.94265895,\n",
       "       0.94283925, 0.94274284, 0.94270207, 0.94267544, 0.94251542,\n",
       "       0.94281484, 0.94280881, 0.94273586, 0.94274694, 0.94262762,\n",
       "       0.9441828 , 0.94417125, 0.94415527, 0.94584112, 0.94666097,\n",
       "       0.95057102, 0.95064402, 0.95136876, 0.95147357, 0.95353391,\n",
       "       0.95670017, 0.95641791, 0.95688849, 0.95673466, 0.95646684,\n",
       "       0.95670235, 0.9567004 , 0.95677067, 0.95677001, 0.95662514,\n",
       "       0.95681721, 0.95662849, 0.95657611, 0.95672891])"
      ]
     },
     "execution_count": 62,
     "metadata": {},
     "output_type": "execute_result"
    }
   ],
   "source": [
    "rfecv.grid_scores_"
   ]
  },
  {
   "cell_type": "code",
   "execution_count": 63,
   "metadata": {
    "colab": {
     "base_uri": "https://localhost:8080/",
     "height": 297
    },
    "id": "UNrpOFgdpWwS",
    "outputId": "117d95f6-72d6-4a43-ba5b-014265168bcf"
   },
   "outputs": [
    {
     "data": {
      "text/plain": [
       "Text(0, 0.5, 'mean_roc_auc_scores')"
      ]
     },
     "execution_count": 63,
     "metadata": {},
     "output_type": "execute_result"
    },
    {
     "data": {
      "image/png": "[encoded data removed]",
      "text/plain": [
       "<Figure size 432x288 with 1 Axes>"
      ]
     },
     "metadata": {
      "needs_background": "light"
     },
     "output_type": "display_data"
    }
   ],
   "source": [
    "no_of_features=[]\n",
    "mean_roc_auc_scores=[]\n",
    "for i,j in enumerate(rfecv.grid_scores_,1):\n",
    "    no_of_features.append(i)\n",
    "    mean_roc_auc_scores.append(j)\n",
    "plt.plot(no_of_features,mean_roc_auc_scores)\n",
    "plt.xlabel('no_of_features')\n",
    "plt.ylabel('mean_roc_auc_scores')"
   ]
  },
  {
   "cell_type": "code",
   "execution_count": 64,
   "metadata": {
    "colab": {
     "base_uri": "https://localhost:8080/"
    },
    "id": "jXV87KtlpWwS",
    "outputId": "bce1a228-5cd9-40ba-b8cf-47ac002b470c"
   },
   "outputs": [
    {
     "name": "stdout",
     "output_type": "stream",
     "text": [
      "best no of features 63\n"
     ]
    }
   ],
   "source": [
    "print('best no of features',rfecv.n_features_)"
   ]
  },
  {
   "cell_type": "code",
   "execution_count": 65,
   "metadata": {
    "colab": {
     "base_uri": "https://localhost:8080/"
    },
    "id": "SbUdNMS8pWwS",
    "outputId": "53065511-8cda-4ba9-b256-dfbbe5592358"
   },
   "outputs": [
    {
     "data": {
      "text/plain": [
       "array([ True,  True,  True, False, False, False,  True,  True,  True,\n",
       "        True,  True,  True, False,  True,  True,  True, False,  True,\n",
       "        True,  True,  True,  True,  True,  True,  True,  True,  True,\n",
       "        True,  True,  True,  True,  True,  True,  True,  True,  True,\n",
       "       False,  True,  True,  True,  True, False,  True,  True,  True,\n",
       "        True,  True,  True,  True,  True,  True,  True,  True,  True,\n",
       "        True,  True, False,  True,  True,  True,  True,  True,  True,\n",
       "       False, False,  True,  True,  True,  True,  True,  True,  True,\n",
       "        True, False])"
      ]
     },
     "execution_count": 65,
     "metadata": {},
     "output_type": "execute_result"
    }
   ],
   "source": [
    "rfecv.support_"
   ]
  },
  {
   "cell_type": "code",
   "execution_count": 66,
   "metadata": {
    "colab": {
     "base_uri": "https://localhost:8080/"
    },
    "id": "n9vKiG8PpWwT",
    "outputId": "9ffc163c-a126-46a7-f9f2-433b87da23ef"
   },
   "outputs": [
    {
     "data": {
      "text/plain": [
       "['Total Time Spent on Website',\n",
       " 'Asymmetrique Activity Index',\n",
       " 'Asymmetrique Profile Index',\n",
       " 'Lead Source_Other Sources',\n",
       " 'Lead Source_Reference',\n",
       " 'Do Not Email_Yes',\n",
       " 'Last Activity_Email Responded',\n",
       " 'Last Activity_Email Unsubscribed',\n",
       " 'Last Activity_Olark Chat Conversation',\n",
       " 'Last Activity_SMS Reverted',\n",
       " 'Country_other_country',\n",
       " 'Country_unknown',\n",
       " 'Specialization_HR',\n",
       " 'Specialization_Healthcare',\n",
       " 'Specialization_IT Projects',\n",
       " 'Specialization_International Business',\n",
       " 'Specialization_Logistics',\n",
       " 'Specialization_Marketing',\n",
       " 'Specialization_Rural and Agribusiness',\n",
       " 'Specialization_Tourism',\n",
       " 'Specialization_unknown',\n",
       " 'How did you hear about X Education_Email',\n",
       " 'How did you hear about X Education_Multiple Sources',\n",
       " 'How did you hear about X Education_Online Search',\n",
       " 'How did you hear about X Education_Other',\n",
       " 'How did you hear about X Education_SMS',\n",
       " 'How did you hear about X Education_Social Media',\n",
       " 'How did you hear about X Education_Student of SomeSchool',\n",
       " 'How did you hear about X Education_Word Of Mouth',\n",
       " 'How did you hear about X Education_unknown',\n",
       " 'What is your current occupation_Others',\n",
       " 'What is your current occupation_Unemployed',\n",
       " 'What is your current occupation_Working Professional',\n",
       " 'What matters most to you in choosing a course_Others',\n",
       " 'Tags_Graduation in progress',\n",
       " 'Tags_Not Eligible',\n",
       " 'Tags_Not Reachable',\n",
       " 'Tags_Response Received',\n",
       " 'Tags_Status Unknown',\n",
       " 'Lead Quality_Low in Relevance',\n",
       " 'Lead Quality_Might be',\n",
       " 'Lead Quality_Not Sure',\n",
       " 'Lead Quality_Worst',\n",
       " 'Lead Profile_Lateral Student',\n",
       " 'Lead Profile_Other Leads',\n",
       " 'Lead Profile_Potential Lead',\n",
       " 'Lead Profile_Student of SomeSchool',\n",
       " 'Lead Profile_Unknown',\n",
       " 'City_Tier2',\n",
       " 'City_Unknown',\n",
       " 'A free copy of Mastering The Interview_Yes',\n",
       " 'Last Notable Activity_Email Bounced',\n",
       " 'Last Notable Activity_Email Link Clicked',\n",
       " 'Last Notable Activity_Email Marked Spam',\n",
       " 'Last Notable Activity_Email Opened',\n",
       " 'Last Notable Activity_Had a Phone Conversation',\n",
       " 'Last Notable Activity_Modified',\n",
       " 'Last Notable Activity_Olark Chat Conversation',\n",
       " 'Last Notable Activity_Page Visited on Website',\n",
       " 'Last Notable Activity_Resubscribed to emails',\n",
       " 'Last Notable Activity_SMS Sent',\n",
       " 'Last Notable Activity_Unreachable',\n",
       " 'Last Notable Activity_Unsubscribed']"
      ]
     },
     "execution_count": 66,
     "metadata": {},
     "output_type": "execute_result"
    }
   ],
   "source": [
    "list(X_train.columns[rfecv.support_])                        #list of best features we got"
   ]
  },
  {
   "cell_type": "code",
   "execution_count": 67,
   "metadata": {
    "id": "-8-5471npWwT"
   },
   "outputs": [],
   "source": [
    "X_train_selcols=X_train[list(X_train.columns[rfecv.support_])]"
   ]
  },
  {
   "cell_type": "code",
   "execution_count": 68,
   "metadata": {
    "id": "rPJHLVxEpWwT"
   },
   "outputs": [],
   "source": [
    "X_test_selcols=X_test[list(X_train.columns[rfecv.support_])]"
   ]
  },
  {
   "cell_type": "code",
   "execution_count": 69,
   "metadata": {
    "colab": {
     "base_uri": "https://localhost:8080/"
    },
    "id": "v68PmjvopWwT",
    "outputId": "898f331e-e494-4a56-f37f-6c2209093ebd"
   },
   "outputs": [
    {
     "data": {
      "text/plain": [
       "74"
      ]
     },
     "execution_count": 69,
     "metadata": {},
     "output_type": "execute_result"
    }
   ],
   "source": [
    "len(X_train.columns)"
   ]
  },
  {
   "cell_type": "code",
   "execution_count": 70,
   "metadata": {
    "colab": {
     "base_uri": "https://localhost:8080/"
    },
    "id": "7G3z6BYwpWwT",
    "outputId": "24f7d487-3828-4d93-e4a2-605829ba0d86"
   },
   "outputs": [
    {
     "data": {
      "text/plain": [
       "63"
      ]
     },
     "execution_count": 70,
     "metadata": {},
     "output_type": "execute_result"
    }
   ],
   "source": [
    "len(X_train_selcols.columns)"
   ]
  },
  {
   "cell_type": "code",
   "execution_count": 71,
   "metadata": {
    "colab": {
     "base_uri": "https://localhost:8080/"
    },
    "id": "ctZLs6UOpWwU",
    "outputId": "15386d67-e9b2-4ac7-ca00-a889e33839bc"
   },
   "outputs": [
    {
     "data": {
      "text/plain": [
       "74"
      ]
     },
     "execution_count": 71,
     "metadata": {},
     "output_type": "execute_result"
    }
   ],
   "source": [
    "len(X_test.columns)"
   ]
  },
  {
   "cell_type": "code",
   "execution_count": 72,
   "metadata": {
    "colab": {
     "base_uri": "https://localhost:8080/"
    },
    "id": "TTK-uTKlpWwU",
    "outputId": "2afe0932-554a-4094-bbae-97af28b434af"
   },
   "outputs": [
    {
     "data": {
      "text/plain": [
       "63"
      ]
     },
     "execution_count": 72,
     "metadata": {},
     "output_type": "execute_result"
    }
   ],
   "source": [
    "len(X_test_selcols.columns)"
   ]
  },
  {
   "cell_type": "code",
   "execution_count": null,
   "metadata": {
    "id": "3DSGvXeTpWwU"
   },
   "outputs": [],
   "source": []
  },
  {
   "cell_type": "code",
   "execution_count": 73,
   "metadata": {
    "id": "A0JoNrjMpWwU"
   },
   "outputs": [],
   "source": [
    "# now applying feature scaling"
   ]
  },
  {
   "cell_type": "code",
   "execution_count": 74,
   "metadata": {
    "id": "BHsENibypWwU"
   },
   "outputs": [],
   "source": [
    "from sklearn.preprocessing import MinMaxScaler\n",
    "mmc=MinMaxScaler()"
   ]
  },
  {
   "cell_type": "code",
   "execution_count": null,
   "metadata": {
    "id": "_MpStoOipWwU"
   },
   "outputs": [],
   "source": []
  },
  {
   "cell_type": "code",
   "execution_count": 75,
   "metadata": {
    "id": "gOqdy6uopWwV"
   },
   "outputs": [],
   "source": [
    "X_train_selcols=pd.DataFrame(mmc.fit_transform(X_train_selcols),columns=X_train_selcols.columns)"
   ]
  },
  {
   "cell_type": "code",
   "execution_count": 76,
   "metadata": {
    "id": "y7IQyRKLpWwV"
   },
   "outputs": [],
   "source": [
    "X_test_selcols=pd.DataFrame(mmc.transform(X_test_selcols),columns=X_test_selcols.columns)"
   ]
  },
  {
   "cell_type": "code",
   "execution_count": 77,
   "metadata": {
    "colab": {
     "base_uri": "https://localhost:8080/",
     "height": 282
    },
    "id": "RMaqEw62pWwV",
    "outputId": "f69f2229-c73e-4630-e0db-b2e319d76317"
   },
   "outputs": [
    {
     "data": {
      "text/html": [
       "<div>\n",
       "<style scoped>\n",
       "    .dataframe tbody tr th:only-of-type {\n",
       "        vertical-align: middle;\n",
       "    }\n",
       "\n",
       "    .dataframe tbody tr th {\n",
       "        vertical-align: top;\n",
       "    }\n",
       "\n",
       "    .dataframe thead th {\n",
       "        text-align: right;\n",
       "    }\n",
       "</style>\n",
       "<table border=\"1\" class=\"dataframe\">\n",
       "  <thead>\n",
       "    <tr style=\"text-align: right;\">\n",
       "      <th></th>\n",
       "      <th>Total Time Spent on Website</th>\n",
       "      <th>Asymmetrique Activity Index</th>\n",
       "      <th>Asymmetrique Profile Index</th>\n",
       "      <th>Lead Source_Other Sources</th>\n",
       "      <th>Lead Source_Reference</th>\n",
       "      <th>Do Not Email_Yes</th>\n",
       "      <th>Last Activity_Email Responded</th>\n",
       "      <th>Last Activity_Email Unsubscribed</th>\n",
       "      <th>Last Activity_Olark Chat Conversation</th>\n",
       "      <th>Last Activity_SMS Reverted</th>\n",
       "      <th>Country_other_country</th>\n",
       "      <th>Country_unknown</th>\n",
       "      <th>Specialization_HR</th>\n",
       "      <th>Specialization_Healthcare</th>\n",
       "      <th>Specialization_IT Projects</th>\n",
       "      <th>Specialization_International Business</th>\n",
       "      <th>Specialization_Logistics</th>\n",
       "      <th>Specialization_Marketing</th>\n",
       "      <th>Specialization_Rural and Agribusiness</th>\n",
       "      <th>Specialization_Tourism</th>\n",
       "      <th>Specialization_unknown</th>\n",
       "      <th>How did you hear about X Education_Email</th>\n",
       "      <th>How did you hear about X Education_Multiple Sources</th>\n",
       "      <th>How did you hear about X Education_Online Search</th>\n",
       "      <th>How did you hear about X Education_Other</th>\n",
       "      <th>How did you hear about X Education_SMS</th>\n",
       "      <th>How did you hear about X Education_Social Media</th>\n",
       "      <th>How did you hear about X Education_Student of SomeSchool</th>\n",
       "      <th>How did you hear about X Education_Word Of Mouth</th>\n",
       "      <th>How did you hear about X Education_unknown</th>\n",
       "      <th>What is your current occupation_Others</th>\n",
       "      <th>What is your current occupation_Unemployed</th>\n",
       "      <th>What is your current occupation_Working Professional</th>\n",
       "      <th>What matters most to you in choosing a course_Others</th>\n",
       "      <th>Tags_Graduation in progress</th>\n",
       "      <th>Tags_Not Eligible</th>\n",
       "      <th>Tags_Not Reachable</th>\n",
       "      <th>Tags_Response Received</th>\n",
       "      <th>Tags_Status Unknown</th>\n",
       "      <th>Lead Quality_Low in Relevance</th>\n",
       "      <th>Lead Quality_Might be</th>\n",
       "      <th>Lead Quality_Not Sure</th>\n",
       "      <th>Lead Quality_Worst</th>\n",
       "      <th>Lead Profile_Lateral Student</th>\n",
       "      <th>Lead Profile_Other Leads</th>\n",
       "      <th>Lead Profile_Potential Lead</th>\n",
       "      <th>Lead Profile_Student of SomeSchool</th>\n",
       "      <th>Lead Profile_Unknown</th>\n",
       "      <th>City_Tier2</th>\n",
       "      <th>City_Unknown</th>\n",
       "      <th>A free copy of Mastering The Interview_Yes</th>\n",
       "      <th>Last Notable Activity_Email Bounced</th>\n",
       "      <th>Last Notable Activity_Email Link Clicked</th>\n",
       "      <th>Last Notable Activity_Email Marked Spam</th>\n",
       "      <th>Last Notable Activity_Email Opened</th>\n",
       "      <th>Last Notable Activity_Had a Phone Conversation</th>\n",
       "      <th>Last Notable Activity_Modified</th>\n",
       "      <th>Last Notable Activity_Olark Chat Conversation</th>\n",
       "      <th>Last Notable Activity_Page Visited on Website</th>\n",
       "      <th>Last Notable Activity_Resubscribed to emails</th>\n",
       "      <th>Last Notable Activity_SMS Sent</th>\n",
       "      <th>Last Notable Activity_Unreachable</th>\n",
       "      <th>Last Notable Activity_Unsubscribed</th>\n",
       "    </tr>\n",
       "  </thead>\n",
       "  <tbody>\n",
       "    <tr>\n",
       "      <th>0</th>\n",
       "      <td>0.427630</td>\n",
       "      <td>0.5</td>\n",
       "      <td>0.5</td>\n",
       "      <td>0.0</td>\n",
       "      <td>0.0</td>\n",
       "      <td>0.0</td>\n",
       "      <td>1.0</td>\n",
       "      <td>0.0</td>\n",
       "      <td>0.0</td>\n",
       "      <td>0.0</td>\n",
       "      <td>0.0</td>\n",
       "      <td>0.0</td>\n",
       "      <td>0.0</td>\n",
       "      <td>0.0</td>\n",
       "      <td>0.0</td>\n",
       "      <td>0.0</td>\n",
       "      <td>0.0</td>\n",
       "      <td>0.0</td>\n",
       "      <td>0.0</td>\n",
       "      <td>0.0</td>\n",
       "      <td>0.0</td>\n",
       "      <td>0.0</td>\n",
       "      <td>0.0</td>\n",
       "      <td>0.0</td>\n",
       "      <td>0.0</td>\n",
       "      <td>0.0</td>\n",
       "      <td>0.0</td>\n",
       "      <td>0.0</td>\n",
       "      <td>0.0</td>\n",
       "      <td>1.0</td>\n",
       "      <td>0.0</td>\n",
       "      <td>1.0</td>\n",
       "      <td>0.0</td>\n",
       "      <td>0.0</td>\n",
       "      <td>0.0</td>\n",
       "      <td>0.0</td>\n",
       "      <td>0.0</td>\n",
       "      <td>0.0</td>\n",
       "      <td>1.0</td>\n",
       "      <td>0.0</td>\n",
       "      <td>0.0</td>\n",
       "      <td>1.0</td>\n",
       "      <td>0.0</td>\n",
       "      <td>0.0</td>\n",
       "      <td>0.0</td>\n",
       "      <td>0.0</td>\n",
       "      <td>0.0</td>\n",
       "      <td>1.0</td>\n",
       "      <td>0.0</td>\n",
       "      <td>0.0</td>\n",
       "      <td>1.0</td>\n",
       "      <td>0.0</td>\n",
       "      <td>0.0</td>\n",
       "      <td>0.0</td>\n",
       "      <td>1.0</td>\n",
       "      <td>0.0</td>\n",
       "      <td>0.0</td>\n",
       "      <td>0.0</td>\n",
       "      <td>0.0</td>\n",
       "      <td>0.0</td>\n",
       "      <td>0.0</td>\n",
       "      <td>0.0</td>\n",
       "      <td>0.0</td>\n",
       "    </tr>\n",
       "    <tr>\n",
       "      <th>1</th>\n",
       "      <td>0.824341</td>\n",
       "      <td>0.5</td>\n",
       "      <td>1.0</td>\n",
       "      <td>0.0</td>\n",
       "      <td>0.0</td>\n",
       "      <td>0.0</td>\n",
       "      <td>0.0</td>\n",
       "      <td>0.0</td>\n",
       "      <td>0.0</td>\n",
       "      <td>1.0</td>\n",
       "      <td>0.0</td>\n",
       "      <td>0.0</td>\n",
       "      <td>0.0</td>\n",
       "      <td>0.0</td>\n",
       "      <td>0.0</td>\n",
       "      <td>0.0</td>\n",
       "      <td>0.0</td>\n",
       "      <td>1.0</td>\n",
       "      <td>0.0</td>\n",
       "      <td>0.0</td>\n",
       "      <td>0.0</td>\n",
       "      <td>0.0</td>\n",
       "      <td>0.0</td>\n",
       "      <td>0.0</td>\n",
       "      <td>0.0</td>\n",
       "      <td>0.0</td>\n",
       "      <td>0.0</td>\n",
       "      <td>0.0</td>\n",
       "      <td>0.0</td>\n",
       "      <td>1.0</td>\n",
       "      <td>0.0</td>\n",
       "      <td>1.0</td>\n",
       "      <td>0.0</td>\n",
       "      <td>0.0</td>\n",
       "      <td>0.0</td>\n",
       "      <td>0.0</td>\n",
       "      <td>1.0</td>\n",
       "      <td>0.0</td>\n",
       "      <td>0.0</td>\n",
       "      <td>0.0</td>\n",
       "      <td>0.0</td>\n",
       "      <td>1.0</td>\n",
       "      <td>0.0</td>\n",
       "      <td>0.0</td>\n",
       "      <td>0.0</td>\n",
       "      <td>0.0</td>\n",
       "      <td>0.0</td>\n",
       "      <td>1.0</td>\n",
       "      <td>0.0</td>\n",
       "      <td>0.0</td>\n",
       "      <td>1.0</td>\n",
       "      <td>0.0</td>\n",
       "      <td>0.0</td>\n",
       "      <td>0.0</td>\n",
       "      <td>0.0</td>\n",
       "      <td>0.0</td>\n",
       "      <td>0.0</td>\n",
       "      <td>0.0</td>\n",
       "      <td>0.0</td>\n",
       "      <td>0.0</td>\n",
       "      <td>1.0</td>\n",
       "      <td>0.0</td>\n",
       "      <td>0.0</td>\n",
       "    </tr>\n",
       "    <tr>\n",
       "      <th>2</th>\n",
       "      <td>0.744263</td>\n",
       "      <td>0.5</td>\n",
       "      <td>1.0</td>\n",
       "      <td>0.0</td>\n",
       "      <td>1.0</td>\n",
       "      <td>0.0</td>\n",
       "      <td>1.0</td>\n",
       "      <td>0.0</td>\n",
       "      <td>0.0</td>\n",
       "      <td>0.0</td>\n",
       "      <td>0.0</td>\n",
       "      <td>0.0</td>\n",
       "      <td>1.0</td>\n",
       "      <td>0.0</td>\n",
       "      <td>0.0</td>\n",
       "      <td>0.0</td>\n",
       "      <td>0.0</td>\n",
       "      <td>0.0</td>\n",
       "      <td>0.0</td>\n",
       "      <td>0.0</td>\n",
       "      <td>0.0</td>\n",
       "      <td>0.0</td>\n",
       "      <td>0.0</td>\n",
       "      <td>0.0</td>\n",
       "      <td>0.0</td>\n",
       "      <td>0.0</td>\n",
       "      <td>0.0</td>\n",
       "      <td>0.0</td>\n",
       "      <td>0.0</td>\n",
       "      <td>1.0</td>\n",
       "      <td>0.0</td>\n",
       "      <td>0.0</td>\n",
       "      <td>0.0</td>\n",
       "      <td>0.0</td>\n",
       "      <td>0.0</td>\n",
       "      <td>0.0</td>\n",
       "      <td>0.0</td>\n",
       "      <td>0.0</td>\n",
       "      <td>0.0</td>\n",
       "      <td>1.0</td>\n",
       "      <td>0.0</td>\n",
       "      <td>0.0</td>\n",
       "      <td>0.0</td>\n",
       "      <td>0.0</td>\n",
       "      <td>0.0</td>\n",
       "      <td>1.0</td>\n",
       "      <td>0.0</td>\n",
       "      <td>0.0</td>\n",
       "      <td>0.0</td>\n",
       "      <td>0.0</td>\n",
       "      <td>1.0</td>\n",
       "      <td>0.0</td>\n",
       "      <td>0.0</td>\n",
       "      <td>0.0</td>\n",
       "      <td>1.0</td>\n",
       "      <td>0.0</td>\n",
       "      <td>0.0</td>\n",
       "      <td>0.0</td>\n",
       "      <td>0.0</td>\n",
       "      <td>0.0</td>\n",
       "      <td>0.0</td>\n",
       "      <td>0.0</td>\n",
       "      <td>0.0</td>\n",
       "    </tr>\n",
       "    <tr>\n",
       "      <th>3</th>\n",
       "      <td>0.710395</td>\n",
       "      <td>0.5</td>\n",
       "      <td>1.0</td>\n",
       "      <td>0.0</td>\n",
       "      <td>0.0</td>\n",
       "      <td>0.0</td>\n",
       "      <td>1.0</td>\n",
       "      <td>0.0</td>\n",
       "      <td>0.0</td>\n",
       "      <td>0.0</td>\n",
       "      <td>0.0</td>\n",
       "      <td>0.0</td>\n",
       "      <td>0.0</td>\n",
       "      <td>0.0</td>\n",
       "      <td>0.0</td>\n",
       "      <td>0.0</td>\n",
       "      <td>0.0</td>\n",
       "      <td>1.0</td>\n",
       "      <td>0.0</td>\n",
       "      <td>0.0</td>\n",
       "      <td>0.0</td>\n",
       "      <td>0.0</td>\n",
       "      <td>0.0</td>\n",
       "      <td>0.0</td>\n",
       "      <td>0.0</td>\n",
       "      <td>0.0</td>\n",
       "      <td>0.0</td>\n",
       "      <td>0.0</td>\n",
       "      <td>0.0</td>\n",
       "      <td>1.0</td>\n",
       "      <td>0.0</td>\n",
       "      <td>1.0</td>\n",
       "      <td>0.0</td>\n",
       "      <td>0.0</td>\n",
       "      <td>0.0</td>\n",
       "      <td>0.0</td>\n",
       "      <td>0.0</td>\n",
       "      <td>1.0</td>\n",
       "      <td>0.0</td>\n",
       "      <td>0.0</td>\n",
       "      <td>0.0</td>\n",
       "      <td>0.0</td>\n",
       "      <td>0.0</td>\n",
       "      <td>0.0</td>\n",
       "      <td>0.0</td>\n",
       "      <td>1.0</td>\n",
       "      <td>0.0</td>\n",
       "      <td>0.0</td>\n",
       "      <td>0.0</td>\n",
       "      <td>0.0</td>\n",
       "      <td>1.0</td>\n",
       "      <td>0.0</td>\n",
       "      <td>0.0</td>\n",
       "      <td>0.0</td>\n",
       "      <td>1.0</td>\n",
       "      <td>0.0</td>\n",
       "      <td>0.0</td>\n",
       "      <td>0.0</td>\n",
       "      <td>0.0</td>\n",
       "      <td>0.0</td>\n",
       "      <td>0.0</td>\n",
       "      <td>0.0</td>\n",
       "      <td>0.0</td>\n",
       "    </tr>\n",
       "    <tr>\n",
       "      <th>4</th>\n",
       "      <td>0.667221</td>\n",
       "      <td>0.5</td>\n",
       "      <td>0.5</td>\n",
       "      <td>0.0</td>\n",
       "      <td>0.0</td>\n",
       "      <td>0.0</td>\n",
       "      <td>1.0</td>\n",
       "      <td>0.0</td>\n",
       "      <td>0.0</td>\n",
       "      <td>0.0</td>\n",
       "      <td>0.0</td>\n",
       "      <td>0.0</td>\n",
       "      <td>0.0</td>\n",
       "      <td>0.0</td>\n",
       "      <td>0.0</td>\n",
       "      <td>0.0</td>\n",
       "      <td>1.0</td>\n",
       "      <td>0.0</td>\n",
       "      <td>0.0</td>\n",
       "      <td>0.0</td>\n",
       "      <td>0.0</td>\n",
       "      <td>0.0</td>\n",
       "      <td>0.0</td>\n",
       "      <td>0.0</td>\n",
       "      <td>0.0</td>\n",
       "      <td>0.0</td>\n",
       "      <td>1.0</td>\n",
       "      <td>0.0</td>\n",
       "      <td>0.0</td>\n",
       "      <td>0.0</td>\n",
       "      <td>0.0</td>\n",
       "      <td>1.0</td>\n",
       "      <td>0.0</td>\n",
       "      <td>0.0</td>\n",
       "      <td>0.0</td>\n",
       "      <td>0.0</td>\n",
       "      <td>1.0</td>\n",
       "      <td>0.0</td>\n",
       "      <td>0.0</td>\n",
       "      <td>0.0</td>\n",
       "      <td>0.0</td>\n",
       "      <td>1.0</td>\n",
       "      <td>0.0</td>\n",
       "      <td>0.0</td>\n",
       "      <td>0.0</td>\n",
       "      <td>0.0</td>\n",
       "      <td>0.0</td>\n",
       "      <td>1.0</td>\n",
       "      <td>0.0</td>\n",
       "      <td>0.0</td>\n",
       "      <td>0.0</td>\n",
       "      <td>0.0</td>\n",
       "      <td>0.0</td>\n",
       "      <td>0.0</td>\n",
       "      <td>1.0</td>\n",
       "      <td>0.0</td>\n",
       "      <td>0.0</td>\n",
       "      <td>0.0</td>\n",
       "      <td>0.0</td>\n",
       "      <td>0.0</td>\n",
       "      <td>0.0</td>\n",
       "      <td>0.0</td>\n",
       "      <td>0.0</td>\n",
       "    </tr>\n",
       "  </tbody>\n",
       "</table>\n",
       "</div>"
      ],
      "text/plain": [
       "   Total Time Spent on Website  Asymmetrique Activity Index  \\\n",
       "0                     0.427630                          0.5   \n",
       "1                     0.824341                          0.5   \n",
       "2                     0.744263                          0.5   \n",
       "3                     0.710395                          0.5   \n",
       "4                     0.667221                          0.5   \n",
       "\n",
       "   Asymmetrique Profile Index  Lead Source_Other Sources  \\\n",
       "0                         0.5                        0.0   \n",
       "1                         1.0                        0.0   \n",
       "2                         1.0                        0.0   \n",
       "3                         1.0                        0.0   \n",
       "4                         0.5                        0.0   \n",
       "\n",
       "   Lead Source_Reference  Do Not Email_Yes  Last Activity_Email Responded  \\\n",
       "0                    0.0               0.0                            1.0   \n",
       "1                    0.0               0.0                            0.0   \n",
       "2                    1.0               0.0                            1.0   \n",
       "3                    0.0               0.0                            1.0   \n",
       "4                    0.0               0.0                            1.0   \n",
       "\n",
       "   Last Activity_Email Unsubscribed  Last Activity_Olark Chat Conversation  \\\n",
       "0                               0.0                                    0.0   \n",
       "1                               0.0                                    0.0   \n",
       "2                               0.0                                    0.0   \n",
       "3                               0.0                                    0.0   \n",
       "4                               0.0                                    0.0   \n",
       "\n",
       "   Last Activity_SMS Reverted  Country_other_country  Country_unknown  \\\n",
       "0                         0.0                    0.0              0.0   \n",
       "1                         1.0                    0.0              0.0   \n",
       "2                         0.0                    0.0              0.0   \n",
       "3                         0.0                    0.0              0.0   \n",
       "4                         0.0                    0.0              0.0   \n",
       "\n",
       "   Specialization_HR  Specialization_Healthcare  Specialization_IT Projects  \\\n",
       "0                0.0                        0.0                         0.0   \n",
       "1                0.0                        0.0                         0.0   \n",
       "2                1.0                        0.0                         0.0   \n",
       "3                0.0                        0.0                         0.0   \n",
       "4                0.0                        0.0                         0.0   \n",
       "\n",
       "   Specialization_International Business  Specialization_Logistics  \\\n",
       "0                                    0.0                       0.0   \n",
       "1                                    0.0                       0.0   \n",
       "2                                    0.0                       0.0   \n",
       "3                                    0.0                       0.0   \n",
       "4                                    0.0                       1.0   \n",
       "\n",
       "   Specialization_Marketing  Specialization_Rural and Agribusiness  \\\n",
       "0                       0.0                                    0.0   \n",
       "1                       1.0                                    0.0   \n",
       "2                       0.0                                    0.0   \n",
       "3                       1.0                                    0.0   \n",
       "4                       0.0                                    0.0   \n",
       "\n",
       "   Specialization_Tourism  Specialization_unknown  \\\n",
       "0                     0.0                     0.0   \n",
       "1                     0.0                     0.0   \n",
       "2                     0.0                     0.0   \n",
       "3                     0.0                     0.0   \n",
       "4                     0.0                     0.0   \n",
       "\n",
       "   How did you hear about X Education_Email  \\\n",
       "0                                       0.0   \n",
       "1                                       0.0   \n",
       "2                                       0.0   \n",
       "3                                       0.0   \n",
       "4                                       0.0   \n",
       "\n",
       "   How did you hear about X Education_Multiple Sources  \\\n",
       "0                                                0.0     \n",
       "1                                                0.0     \n",
       "2                                                0.0     \n",
       "3                                                0.0     \n",
       "4                                                0.0     \n",
       "\n",
       "   How did you hear about X Education_Online Search  \\\n",
       "0                                               0.0   \n",
       "1                                               0.0   \n",
       "2                                               0.0   \n",
       "3                                               0.0   \n",
       "4                                               0.0   \n",
       "\n",
       "   How did you hear about X Education_Other  \\\n",
       "0                                       0.0   \n",
       "1                                       0.0   \n",
       "2                                       0.0   \n",
       "3                                       0.0   \n",
       "4                                       0.0   \n",
       "\n",
       "   How did you hear about X Education_SMS  \\\n",
       "0                                     0.0   \n",
       "1                                     0.0   \n",
       "2                                     0.0   \n",
       "3                                     0.0   \n",
       "4                                     0.0   \n",
       "\n",
       "   How did you hear about X Education_Social Media  \\\n",
       "0                                              0.0   \n",
       "1                                              0.0   \n",
       "2                                              0.0   \n",
       "3                                              0.0   \n",
       "4                                              1.0   \n",
       "\n",
       "   How did you hear about X Education_Student of SomeSchool  \\\n",
       "0                                                0.0          \n",
       "1                                                0.0          \n",
       "2                                                0.0          \n",
       "3                                                0.0          \n",
       "4                                                0.0          \n",
       "\n",
       "   How did you hear about X Education_Word Of Mouth  \\\n",
       "0                                               0.0   \n",
       "1                                               0.0   \n",
       "2                                               0.0   \n",
       "3                                               0.0   \n",
       "4                                               0.0   \n",
       "\n",
       "   How did you hear about X Education_unknown  \\\n",
       "0                                         1.0   \n",
       "1                                         1.0   \n",
       "2                                         1.0   \n",
       "3                                         1.0   \n",
       "4                                         0.0   \n",
       "\n",
       "   What is your current occupation_Others  \\\n",
       "0                                     0.0   \n",
       "1                                     0.0   \n",
       "2                                     0.0   \n",
       "3                                     0.0   \n",
       "4                                     0.0   \n",
       "\n",
       "   What is your current occupation_Unemployed  \\\n",
       "0                                         1.0   \n",
       "1                                         1.0   \n",
       "2                                         0.0   \n",
       "3                                         1.0   \n",
       "4                                         1.0   \n",
       "\n",
       "   What is your current occupation_Working Professional  \\\n",
       "0                                                0.0      \n",
       "1                                                0.0      \n",
       "2                                                0.0      \n",
       "3                                                0.0      \n",
       "4                                                0.0      \n",
       "\n",
       "   What matters most to you in choosing a course_Others  \\\n",
       "0                                                0.0      \n",
       "1                                                0.0      \n",
       "2                                                0.0      \n",
       "3                                                0.0      \n",
       "4                                                0.0      \n",
       "\n",
       "   Tags_Graduation in progress  Tags_Not Eligible  Tags_Not Reachable  \\\n",
       "0                          0.0                0.0                 0.0   \n",
       "1                          0.0                0.0                 1.0   \n",
       "2                          0.0                0.0                 0.0   \n",
       "3                          0.0                0.0                 0.0   \n",
       "4                          0.0                0.0                 1.0   \n",
       "\n",
       "   Tags_Response Received  Tags_Status Unknown  Lead Quality_Low in Relevance  \\\n",
       "0                     0.0                  1.0                            0.0   \n",
       "1                     0.0                  0.0                            0.0   \n",
       "2                     0.0                  0.0                            1.0   \n",
       "3                     1.0                  0.0                            0.0   \n",
       "4                     0.0                  0.0                            0.0   \n",
       "\n",
       "   Lead Quality_Might be  Lead Quality_Not Sure  Lead Quality_Worst  \\\n",
       "0                    0.0                    1.0                 0.0   \n",
       "1                    0.0                    1.0                 0.0   \n",
       "2                    0.0                    0.0                 0.0   \n",
       "3                    0.0                    0.0                 0.0   \n",
       "4                    0.0                    1.0                 0.0   \n",
       "\n",
       "   Lead Profile_Lateral Student  Lead Profile_Other Leads  \\\n",
       "0                           0.0                       0.0   \n",
       "1                           0.0                       0.0   \n",
       "2                           0.0                       0.0   \n",
       "3                           0.0                       0.0   \n",
       "4                           0.0                       0.0   \n",
       "\n",
       "   Lead Profile_Potential Lead  Lead Profile_Student of SomeSchool  \\\n",
       "0                          0.0                                 0.0   \n",
       "1                          0.0                                 0.0   \n",
       "2                          1.0                                 0.0   \n",
       "3                          1.0                                 0.0   \n",
       "4                          0.0                                 0.0   \n",
       "\n",
       "   Lead Profile_Unknown  City_Tier2  City_Unknown  \\\n",
       "0                   1.0         0.0           0.0   \n",
       "1                   1.0         0.0           0.0   \n",
       "2                   0.0         0.0           0.0   \n",
       "3                   0.0         0.0           0.0   \n",
       "4                   1.0         0.0           0.0   \n",
       "\n",
       "   A free copy of Mastering The Interview_Yes  \\\n",
       "0                                         1.0   \n",
       "1                                         1.0   \n",
       "2                                         1.0   \n",
       "3                                         1.0   \n",
       "4                                         0.0   \n",
       "\n",
       "   Last Notable Activity_Email Bounced  \\\n",
       "0                                  0.0   \n",
       "1                                  0.0   \n",
       "2                                  0.0   \n",
       "3                                  0.0   \n",
       "4                                  0.0   \n",
       "\n",
       "   Last Notable Activity_Email Link Clicked  \\\n",
       "0                                       0.0   \n",
       "1                                       0.0   \n",
       "2                                       0.0   \n",
       "3                                       0.0   \n",
       "4                                       0.0   \n",
       "\n",
       "   Last Notable Activity_Email Marked Spam  \\\n",
       "0                                      0.0   \n",
       "1                                      0.0   \n",
       "2                                      0.0   \n",
       "3                                      0.0   \n",
       "4                                      0.0   \n",
       "\n",
       "   Last Notable Activity_Email Opened  \\\n",
       "0                                 1.0   \n",
       "1                                 0.0   \n",
       "2                                 1.0   \n",
       "3                                 1.0   \n",
       "4                                 1.0   \n",
       "\n",
       "   Last Notable Activity_Had a Phone Conversation  \\\n",
       "0                                             0.0   \n",
       "1                                             0.0   \n",
       "2                                             0.0   \n",
       "3                                             0.0   \n",
       "4                                             0.0   \n",
       "\n",
       "   Last Notable Activity_Modified  \\\n",
       "0                             0.0   \n",
       "1                             0.0   \n",
       "2                             0.0   \n",
       "3                             0.0   \n",
       "4                             0.0   \n",
       "\n",
       "   Last Notable Activity_Olark Chat Conversation  \\\n",
       "0                                            0.0   \n",
       "1                                            0.0   \n",
       "2                                            0.0   \n",
       "3                                            0.0   \n",
       "4                                            0.0   \n",
       "\n",
       "   Last Notable Activity_Page Visited on Website  \\\n",
       "0                                            0.0   \n",
       "1                                            0.0   \n",
       "2                                            0.0   \n",
       "3                                            0.0   \n",
       "4                                            0.0   \n",
       "\n",
       "   Last Notable Activity_Resubscribed to emails  \\\n",
       "0                                           0.0   \n",
       "1                                           0.0   \n",
       "2                                           0.0   \n",
       "3                                           0.0   \n",
       "4                                           0.0   \n",
       "\n",
       "   Last Notable Activity_SMS Sent  Last Notable Activity_Unreachable  \\\n",
       "0                             0.0                                0.0   \n",
       "1                             1.0                                0.0   \n",
       "2                             0.0                                0.0   \n",
       "3                             0.0                                0.0   \n",
       "4                             0.0                                0.0   \n",
       "\n",
       "   Last Notable Activity_Unsubscribed  \n",
       "0                                 0.0  \n",
       "1                                 0.0  \n",
       "2                                 0.0  \n",
       "3                                 0.0  \n",
       "4                                 0.0  "
      ]
     },
     "execution_count": 77,
     "metadata": {},
     "output_type": "execute_result"
    }
   ],
   "source": [
    "X_train_selcols.head()"
   ]
  },
  {
   "cell_type": "code",
   "execution_count": 78,
   "metadata": {
    "colab": {
     "base_uri": "https://localhost:8080/",
     "height": 282
    },
    "id": "kzv6uquwpWwV",
    "outputId": "5117f93a-9f8f-4b3e-ccac-aac2519f0107"
   },
   "outputs": [
    {
     "data": {
      "text/html": [
       "<div>\n",
       "<style scoped>\n",
       "    .dataframe tbody tr th:only-of-type {\n",
       "        vertical-align: middle;\n",
       "    }\n",
       "\n",
       "    .dataframe tbody tr th {\n",
       "        vertical-align: top;\n",
       "    }\n",
       "\n",
       "    .dataframe thead th {\n",
       "        text-align: right;\n",
       "    }\n",
       "</style>\n",
       "<table border=\"1\" class=\"dataframe\">\n",
       "  <thead>\n",
       "    <tr style=\"text-align: right;\">\n",
       "      <th></th>\n",
       "      <th>Total Time Spent on Website</th>\n",
       "      <th>Asymmetrique Activity Index</th>\n",
       "      <th>Asymmetrique Profile Index</th>\n",
       "      <th>Lead Source_Other Sources</th>\n",
       "      <th>Lead Source_Reference</th>\n",
       "      <th>Do Not Email_Yes</th>\n",
       "      <th>Last Activity_Email Responded</th>\n",
       "      <th>Last Activity_Email Unsubscribed</th>\n",
       "      <th>Last Activity_Olark Chat Conversation</th>\n",
       "      <th>Last Activity_SMS Reverted</th>\n",
       "      <th>Country_other_country</th>\n",
       "      <th>Country_unknown</th>\n",
       "      <th>Specialization_HR</th>\n",
       "      <th>Specialization_Healthcare</th>\n",
       "      <th>Specialization_IT Projects</th>\n",
       "      <th>Specialization_International Business</th>\n",
       "      <th>Specialization_Logistics</th>\n",
       "      <th>Specialization_Marketing</th>\n",
       "      <th>Specialization_Rural and Agribusiness</th>\n",
       "      <th>Specialization_Tourism</th>\n",
       "      <th>Specialization_unknown</th>\n",
       "      <th>How did you hear about X Education_Email</th>\n",
       "      <th>How did you hear about X Education_Multiple Sources</th>\n",
       "      <th>How did you hear about X Education_Online Search</th>\n",
       "      <th>How did you hear about X Education_Other</th>\n",
       "      <th>How did you hear about X Education_SMS</th>\n",
       "      <th>How did you hear about X Education_Social Media</th>\n",
       "      <th>How did you hear about X Education_Student of SomeSchool</th>\n",
       "      <th>How did you hear about X Education_Word Of Mouth</th>\n",
       "      <th>How did you hear about X Education_unknown</th>\n",
       "      <th>What is your current occupation_Others</th>\n",
       "      <th>What is your current occupation_Unemployed</th>\n",
       "      <th>What is your current occupation_Working Professional</th>\n",
       "      <th>What matters most to you in choosing a course_Others</th>\n",
       "      <th>Tags_Graduation in progress</th>\n",
       "      <th>Tags_Not Eligible</th>\n",
       "      <th>Tags_Not Reachable</th>\n",
       "      <th>Tags_Response Received</th>\n",
       "      <th>Tags_Status Unknown</th>\n",
       "      <th>Lead Quality_Low in Relevance</th>\n",
       "      <th>Lead Quality_Might be</th>\n",
       "      <th>Lead Quality_Not Sure</th>\n",
       "      <th>Lead Quality_Worst</th>\n",
       "      <th>Lead Profile_Lateral Student</th>\n",
       "      <th>Lead Profile_Other Leads</th>\n",
       "      <th>Lead Profile_Potential Lead</th>\n",
       "      <th>Lead Profile_Student of SomeSchool</th>\n",
       "      <th>Lead Profile_Unknown</th>\n",
       "      <th>City_Tier2</th>\n",
       "      <th>City_Unknown</th>\n",
       "      <th>A free copy of Mastering The Interview_Yes</th>\n",
       "      <th>Last Notable Activity_Email Bounced</th>\n",
       "      <th>Last Notable Activity_Email Link Clicked</th>\n",
       "      <th>Last Notable Activity_Email Marked Spam</th>\n",
       "      <th>Last Notable Activity_Email Opened</th>\n",
       "      <th>Last Notable Activity_Had a Phone Conversation</th>\n",
       "      <th>Last Notable Activity_Modified</th>\n",
       "      <th>Last Notable Activity_Olark Chat Conversation</th>\n",
       "      <th>Last Notable Activity_Page Visited on Website</th>\n",
       "      <th>Last Notable Activity_Resubscribed to emails</th>\n",
       "      <th>Last Notable Activity_SMS Sent</th>\n",
       "      <th>Last Notable Activity_Unreachable</th>\n",
       "      <th>Last Notable Activity_Unsubscribed</th>\n",
       "    </tr>\n",
       "  </thead>\n",
       "  <tbody>\n",
       "    <tr>\n",
       "      <th>0</th>\n",
       "      <td>0.383874</td>\n",
       "      <td>0.5</td>\n",
       "      <td>0.5</td>\n",
       "      <td>0.0</td>\n",
       "      <td>0.0</td>\n",
       "      <td>0.0</td>\n",
       "      <td>1.0</td>\n",
       "      <td>0.0</td>\n",
       "      <td>0.0</td>\n",
       "      <td>0.0</td>\n",
       "      <td>0.0</td>\n",
       "      <td>0.0</td>\n",
       "      <td>0.0</td>\n",
       "      <td>0.0</td>\n",
       "      <td>1.0</td>\n",
       "      <td>0.0</td>\n",
       "      <td>0.0</td>\n",
       "      <td>0.0</td>\n",
       "      <td>0.0</td>\n",
       "      <td>0.0</td>\n",
       "      <td>0.0</td>\n",
       "      <td>0.0</td>\n",
       "      <td>1.0</td>\n",
       "      <td>0.0</td>\n",
       "      <td>0.0</td>\n",
       "      <td>0.0</td>\n",
       "      <td>0.0</td>\n",
       "      <td>0.0</td>\n",
       "      <td>0.0</td>\n",
       "      <td>0.0</td>\n",
       "      <td>0.0</td>\n",
       "      <td>1.0</td>\n",
       "      <td>0.0</td>\n",
       "      <td>0.0</td>\n",
       "      <td>0.0</td>\n",
       "      <td>0.0</td>\n",
       "      <td>1.0</td>\n",
       "      <td>0.0</td>\n",
       "      <td>0.0</td>\n",
       "      <td>0.0</td>\n",
       "      <td>0.0</td>\n",
       "      <td>1.0</td>\n",
       "      <td>0.0</td>\n",
       "      <td>0.0</td>\n",
       "      <td>0.0</td>\n",
       "      <td>0.0</td>\n",
       "      <td>0.0</td>\n",
       "      <td>1.0</td>\n",
       "      <td>0.0</td>\n",
       "      <td>0.0</td>\n",
       "      <td>0.0</td>\n",
       "      <td>0.0</td>\n",
       "      <td>0.0</td>\n",
       "      <td>0.0</td>\n",
       "      <td>1.0</td>\n",
       "      <td>0.0</td>\n",
       "      <td>0.0</td>\n",
       "      <td>0.0</td>\n",
       "      <td>0.0</td>\n",
       "      <td>0.0</td>\n",
       "      <td>0.0</td>\n",
       "      <td>0.0</td>\n",
       "      <td>0.0</td>\n",
       "    </tr>\n",
       "    <tr>\n",
       "      <th>1</th>\n",
       "      <td>0.829975</td>\n",
       "      <td>0.5</td>\n",
       "      <td>1.0</td>\n",
       "      <td>0.0</td>\n",
       "      <td>0.0</td>\n",
       "      <td>0.0</td>\n",
       "      <td>0.0</td>\n",
       "      <td>0.0</td>\n",
       "      <td>0.0</td>\n",
       "      <td>0.0</td>\n",
       "      <td>0.0</td>\n",
       "      <td>0.0</td>\n",
       "      <td>0.0</td>\n",
       "      <td>0.0</td>\n",
       "      <td>0.0</td>\n",
       "      <td>0.0</td>\n",
       "      <td>0.0</td>\n",
       "      <td>1.0</td>\n",
       "      <td>0.0</td>\n",
       "      <td>0.0</td>\n",
       "      <td>0.0</td>\n",
       "      <td>0.0</td>\n",
       "      <td>0.0</td>\n",
       "      <td>0.0</td>\n",
       "      <td>1.0</td>\n",
       "      <td>0.0</td>\n",
       "      <td>0.0</td>\n",
       "      <td>0.0</td>\n",
       "      <td>0.0</td>\n",
       "      <td>0.0</td>\n",
       "      <td>0.0</td>\n",
       "      <td>1.0</td>\n",
       "      <td>0.0</td>\n",
       "      <td>0.0</td>\n",
       "      <td>0.0</td>\n",
       "      <td>0.0</td>\n",
       "      <td>0.0</td>\n",
       "      <td>0.0</td>\n",
       "      <td>0.0</td>\n",
       "      <td>0.0</td>\n",
       "      <td>0.0</td>\n",
       "      <td>1.0</td>\n",
       "      <td>0.0</td>\n",
       "      <td>0.0</td>\n",
       "      <td>1.0</td>\n",
       "      <td>0.0</td>\n",
       "      <td>0.0</td>\n",
       "      <td>0.0</td>\n",
       "      <td>0.0</td>\n",
       "      <td>0.0</td>\n",
       "      <td>0.0</td>\n",
       "      <td>0.0</td>\n",
       "      <td>0.0</td>\n",
       "      <td>0.0</td>\n",
       "      <td>0.0</td>\n",
       "      <td>0.0</td>\n",
       "      <td>1.0</td>\n",
       "      <td>0.0</td>\n",
       "      <td>0.0</td>\n",
       "      <td>0.0</td>\n",
       "      <td>0.0</td>\n",
       "      <td>0.0</td>\n",
       "      <td>0.0</td>\n",
       "    </tr>\n",
       "    <tr>\n",
       "      <th>2</th>\n",
       "      <td>0.772359</td>\n",
       "      <td>0.5</td>\n",
       "      <td>0.0</td>\n",
       "      <td>0.0</td>\n",
       "      <td>0.0</td>\n",
       "      <td>0.0</td>\n",
       "      <td>1.0</td>\n",
       "      <td>0.0</td>\n",
       "      <td>0.0</td>\n",
       "      <td>0.0</td>\n",
       "      <td>0.0</td>\n",
       "      <td>0.0</td>\n",
       "      <td>0.0</td>\n",
       "      <td>0.0</td>\n",
       "      <td>0.0</td>\n",
       "      <td>0.0</td>\n",
       "      <td>0.0</td>\n",
       "      <td>0.0</td>\n",
       "      <td>0.0</td>\n",
       "      <td>1.0</td>\n",
       "      <td>0.0</td>\n",
       "      <td>0.0</td>\n",
       "      <td>0.0</td>\n",
       "      <td>0.0</td>\n",
       "      <td>0.0</td>\n",
       "      <td>0.0</td>\n",
       "      <td>0.0</td>\n",
       "      <td>0.0</td>\n",
       "      <td>0.0</td>\n",
       "      <td>1.0</td>\n",
       "      <td>0.0</td>\n",
       "      <td>1.0</td>\n",
       "      <td>0.0</td>\n",
       "      <td>0.0</td>\n",
       "      <td>0.0</td>\n",
       "      <td>0.0</td>\n",
       "      <td>0.0</td>\n",
       "      <td>1.0</td>\n",
       "      <td>0.0</td>\n",
       "      <td>0.0</td>\n",
       "      <td>0.0</td>\n",
       "      <td>1.0</td>\n",
       "      <td>0.0</td>\n",
       "      <td>0.0</td>\n",
       "      <td>0.0</td>\n",
       "      <td>0.0</td>\n",
       "      <td>0.0</td>\n",
       "      <td>1.0</td>\n",
       "      <td>0.0</td>\n",
       "      <td>1.0</td>\n",
       "      <td>0.0</td>\n",
       "      <td>0.0</td>\n",
       "      <td>0.0</td>\n",
       "      <td>0.0</td>\n",
       "      <td>1.0</td>\n",
       "      <td>0.0</td>\n",
       "      <td>0.0</td>\n",
       "      <td>0.0</td>\n",
       "      <td>0.0</td>\n",
       "      <td>0.0</td>\n",
       "      <td>0.0</td>\n",
       "      <td>0.0</td>\n",
       "      <td>0.0</td>\n",
       "    </tr>\n",
       "    <tr>\n",
       "      <th>3</th>\n",
       "      <td>0.288098</td>\n",
       "      <td>0.5</td>\n",
       "      <td>0.5</td>\n",
       "      <td>0.0</td>\n",
       "      <td>0.0</td>\n",
       "      <td>0.0</td>\n",
       "      <td>1.0</td>\n",
       "      <td>0.0</td>\n",
       "      <td>0.0</td>\n",
       "      <td>0.0</td>\n",
       "      <td>0.0</td>\n",
       "      <td>0.0</td>\n",
       "      <td>0.0</td>\n",
       "      <td>0.0</td>\n",
       "      <td>0.0</td>\n",
       "      <td>0.0</td>\n",
       "      <td>0.0</td>\n",
       "      <td>0.0</td>\n",
       "      <td>0.0</td>\n",
       "      <td>0.0</td>\n",
       "      <td>0.0</td>\n",
       "      <td>0.0</td>\n",
       "      <td>0.0</td>\n",
       "      <td>1.0</td>\n",
       "      <td>0.0</td>\n",
       "      <td>0.0</td>\n",
       "      <td>0.0</td>\n",
       "      <td>0.0</td>\n",
       "      <td>0.0</td>\n",
       "      <td>0.0</td>\n",
       "      <td>0.0</td>\n",
       "      <td>1.0</td>\n",
       "      <td>0.0</td>\n",
       "      <td>0.0</td>\n",
       "      <td>0.0</td>\n",
       "      <td>0.0</td>\n",
       "      <td>0.0</td>\n",
       "      <td>0.0</td>\n",
       "      <td>1.0</td>\n",
       "      <td>0.0</td>\n",
       "      <td>0.0</td>\n",
       "      <td>1.0</td>\n",
       "      <td>0.0</td>\n",
       "      <td>0.0</td>\n",
       "      <td>0.0</td>\n",
       "      <td>0.0</td>\n",
       "      <td>0.0</td>\n",
       "      <td>1.0</td>\n",
       "      <td>1.0</td>\n",
       "      <td>0.0</td>\n",
       "      <td>0.0</td>\n",
       "      <td>0.0</td>\n",
       "      <td>0.0</td>\n",
       "      <td>0.0</td>\n",
       "      <td>1.0</td>\n",
       "      <td>0.0</td>\n",
       "      <td>0.0</td>\n",
       "      <td>0.0</td>\n",
       "      <td>0.0</td>\n",
       "      <td>0.0</td>\n",
       "      <td>0.0</td>\n",
       "      <td>0.0</td>\n",
       "      <td>0.0</td>\n",
       "    </tr>\n",
       "    <tr>\n",
       "      <th>4</th>\n",
       "      <td>0.558198</td>\n",
       "      <td>0.5</td>\n",
       "      <td>1.0</td>\n",
       "      <td>0.0</td>\n",
       "      <td>0.0</td>\n",
       "      <td>0.0</td>\n",
       "      <td>1.0</td>\n",
       "      <td>0.0</td>\n",
       "      <td>0.0</td>\n",
       "      <td>0.0</td>\n",
       "      <td>0.0</td>\n",
       "      <td>0.0</td>\n",
       "      <td>0.0</td>\n",
       "      <td>0.0</td>\n",
       "      <td>0.0</td>\n",
       "      <td>0.0</td>\n",
       "      <td>0.0</td>\n",
       "      <td>1.0</td>\n",
       "      <td>0.0</td>\n",
       "      <td>0.0</td>\n",
       "      <td>0.0</td>\n",
       "      <td>0.0</td>\n",
       "      <td>0.0</td>\n",
       "      <td>0.0</td>\n",
       "      <td>0.0</td>\n",
       "      <td>0.0</td>\n",
       "      <td>1.0</td>\n",
       "      <td>0.0</td>\n",
       "      <td>0.0</td>\n",
       "      <td>0.0</td>\n",
       "      <td>0.0</td>\n",
       "      <td>1.0</td>\n",
       "      <td>0.0</td>\n",
       "      <td>0.0</td>\n",
       "      <td>0.0</td>\n",
       "      <td>0.0</td>\n",
       "      <td>0.0</td>\n",
       "      <td>1.0</td>\n",
       "      <td>0.0</td>\n",
       "      <td>0.0</td>\n",
       "      <td>0.0</td>\n",
       "      <td>1.0</td>\n",
       "      <td>0.0</td>\n",
       "      <td>0.0</td>\n",
       "      <td>0.0</td>\n",
       "      <td>0.0</td>\n",
       "      <td>0.0</td>\n",
       "      <td>1.0</td>\n",
       "      <td>0.0</td>\n",
       "      <td>0.0</td>\n",
       "      <td>0.0</td>\n",
       "      <td>0.0</td>\n",
       "      <td>0.0</td>\n",
       "      <td>0.0</td>\n",
       "      <td>1.0</td>\n",
       "      <td>0.0</td>\n",
       "      <td>0.0</td>\n",
       "      <td>0.0</td>\n",
       "      <td>0.0</td>\n",
       "      <td>0.0</td>\n",
       "      <td>0.0</td>\n",
       "      <td>0.0</td>\n",
       "      <td>0.0</td>\n",
       "    </tr>\n",
       "  </tbody>\n",
       "</table>\n",
       "</div>"
      ],
      "text/plain": [
       "   Total Time Spent on Website  Asymmetrique Activity Index  \\\n",
       "0                     0.383874                          0.5   \n",
       "1                     0.829975                          0.5   \n",
       "2                     0.772359                          0.5   \n",
       "3                     0.288098                          0.5   \n",
       "4                     0.558198                          0.5   \n",
       "\n",
       "   Asymmetrique Profile Index  Lead Source_Other Sources  \\\n",
       "0                         0.5                        0.0   \n",
       "1                         1.0                        0.0   \n",
       "2                         0.0                        0.0   \n",
       "3                         0.5                        0.0   \n",
       "4                         1.0                        0.0   \n",
       "\n",
       "   Lead Source_Reference  Do Not Email_Yes  Last Activity_Email Responded  \\\n",
       "0                    0.0               0.0                            1.0   \n",
       "1                    0.0               0.0                            0.0   \n",
       "2                    0.0               0.0                            1.0   \n",
       "3                    0.0               0.0                            1.0   \n",
       "4                    0.0               0.0                            1.0   \n",
       "\n",
       "   Last Activity_Email Unsubscribed  Last Activity_Olark Chat Conversation  \\\n",
       "0                               0.0                                    0.0   \n",
       "1                               0.0                                    0.0   \n",
       "2                               0.0                                    0.0   \n",
       "3                               0.0                                    0.0   \n",
       "4                               0.0                                    0.0   \n",
       "\n",
       "   Last Activity_SMS Reverted  Country_other_country  Country_unknown  \\\n",
       "0                         0.0                    0.0              0.0   \n",
       "1                         0.0                    0.0              0.0   \n",
       "2                         0.0                    0.0              0.0   \n",
       "3                         0.0                    0.0              0.0   \n",
       "4                         0.0                    0.0              0.0   \n",
       "\n",
       "   Specialization_HR  Specialization_Healthcare  Specialization_IT Projects  \\\n",
       "0                0.0                        0.0                         1.0   \n",
       "1                0.0                        0.0                         0.0   \n",
       "2                0.0                        0.0                         0.0   \n",
       "3                0.0                        0.0                         0.0   \n",
       "4                0.0                        0.0                         0.0   \n",
       "\n",
       "   Specialization_International Business  Specialization_Logistics  \\\n",
       "0                                    0.0                       0.0   \n",
       "1                                    0.0                       0.0   \n",
       "2                                    0.0                       0.0   \n",
       "3                                    0.0                       0.0   \n",
       "4                                    0.0                       0.0   \n",
       "\n",
       "   Specialization_Marketing  Specialization_Rural and Agribusiness  \\\n",
       "0                       0.0                                    0.0   \n",
       "1                       1.0                                    0.0   \n",
       "2                       0.0                                    0.0   \n",
       "3                       0.0                                    0.0   \n",
       "4                       1.0                                    0.0   \n",
       "\n",
       "   Specialization_Tourism  Specialization_unknown  \\\n",
       "0                     0.0                     0.0   \n",
       "1                     0.0                     0.0   \n",
       "2                     1.0                     0.0   \n",
       "3                     0.0                     0.0   \n",
       "4                     0.0                     0.0   \n",
       "\n",
       "   How did you hear about X Education_Email  \\\n",
       "0                                       0.0   \n",
       "1                                       0.0   \n",
       "2                                       0.0   \n",
       "3                                       0.0   \n",
       "4                                       0.0   \n",
       "\n",
       "   How did you hear about X Education_Multiple Sources  \\\n",
       "0                                                1.0     \n",
       "1                                                0.0     \n",
       "2                                                0.0     \n",
       "3                                                0.0     \n",
       "4                                                0.0     \n",
       "\n",
       "   How did you hear about X Education_Online Search  \\\n",
       "0                                               0.0   \n",
       "1                                               0.0   \n",
       "2                                               0.0   \n",
       "3                                               1.0   \n",
       "4                                               0.0   \n",
       "\n",
       "   How did you hear about X Education_Other  \\\n",
       "0                                       0.0   \n",
       "1                                       1.0   \n",
       "2                                       0.0   \n",
       "3                                       0.0   \n",
       "4                                       0.0   \n",
       "\n",
       "   How did you hear about X Education_SMS  \\\n",
       "0                                     0.0   \n",
       "1                                     0.0   \n",
       "2                                     0.0   \n",
       "3                                     0.0   \n",
       "4                                     0.0   \n",
       "\n",
       "   How did you hear about X Education_Social Media  \\\n",
       "0                                              0.0   \n",
       "1                                              0.0   \n",
       "2                                              0.0   \n",
       "3                                              0.0   \n",
       "4                                              1.0   \n",
       "\n",
       "   How did you hear about X Education_Student of SomeSchool  \\\n",
       "0                                                0.0          \n",
       "1                                                0.0          \n",
       "2                                                0.0          \n",
       "3                                                0.0          \n",
       "4                                                0.0          \n",
       "\n",
       "   How did you hear about X Education_Word Of Mouth  \\\n",
       "0                                               0.0   \n",
       "1                                               0.0   \n",
       "2                                               0.0   \n",
       "3                                               0.0   \n",
       "4                                               0.0   \n",
       "\n",
       "   How did you hear about X Education_unknown  \\\n",
       "0                                         0.0   \n",
       "1                                         0.0   \n",
       "2                                         1.0   \n",
       "3                                         0.0   \n",
       "4                                         0.0   \n",
       "\n",
       "   What is your current occupation_Others  \\\n",
       "0                                     0.0   \n",
       "1                                     0.0   \n",
       "2                                     0.0   \n",
       "3                                     0.0   \n",
       "4                                     0.0   \n",
       "\n",
       "   What is your current occupation_Unemployed  \\\n",
       "0                                         1.0   \n",
       "1                                         1.0   \n",
       "2                                         1.0   \n",
       "3                                         1.0   \n",
       "4                                         1.0   \n",
       "\n",
       "   What is your current occupation_Working Professional  \\\n",
       "0                                                0.0      \n",
       "1                                                0.0      \n",
       "2                                                0.0      \n",
       "3                                                0.0      \n",
       "4                                                0.0      \n",
       "\n",
       "   What matters most to you in choosing a course_Others  \\\n",
       "0                                                0.0      \n",
       "1                                                0.0      \n",
       "2                                                0.0      \n",
       "3                                                0.0      \n",
       "4                                                0.0      \n",
       "\n",
       "   Tags_Graduation in progress  Tags_Not Eligible  Tags_Not Reachable  \\\n",
       "0                          0.0                0.0                 1.0   \n",
       "1                          0.0                0.0                 0.0   \n",
       "2                          0.0                0.0                 0.0   \n",
       "3                          0.0                0.0                 0.0   \n",
       "4                          0.0                0.0                 0.0   \n",
       "\n",
       "   Tags_Response Received  Tags_Status Unknown  Lead Quality_Low in Relevance  \\\n",
       "0                     0.0                  0.0                            0.0   \n",
       "1                     0.0                  0.0                            0.0   \n",
       "2                     1.0                  0.0                            0.0   \n",
       "3                     0.0                  1.0                            0.0   \n",
       "4                     1.0                  0.0                            0.0   \n",
       "\n",
       "   Lead Quality_Might be  Lead Quality_Not Sure  Lead Quality_Worst  \\\n",
       "0                    0.0                    1.0                 0.0   \n",
       "1                    0.0                    1.0                 0.0   \n",
       "2                    0.0                    1.0                 0.0   \n",
       "3                    0.0                    1.0                 0.0   \n",
       "4                    0.0                    1.0                 0.0   \n",
       "\n",
       "   Lead Profile_Lateral Student  Lead Profile_Other Leads  \\\n",
       "0                           0.0                       0.0   \n",
       "1                           0.0                       1.0   \n",
       "2                           0.0                       0.0   \n",
       "3                           0.0                       0.0   \n",
       "4                           0.0                       0.0   \n",
       "\n",
       "   Lead Profile_Potential Lead  Lead Profile_Student of SomeSchool  \\\n",
       "0                          0.0                                 0.0   \n",
       "1                          0.0                                 0.0   \n",
       "2                          0.0                                 0.0   \n",
       "3                          0.0                                 0.0   \n",
       "4                          0.0                                 0.0   \n",
       "\n",
       "   Lead Profile_Unknown  City_Tier2  City_Unknown  \\\n",
       "0                   1.0         0.0           0.0   \n",
       "1                   0.0         0.0           0.0   \n",
       "2                   1.0         0.0           1.0   \n",
       "3                   1.0         1.0           0.0   \n",
       "4                   1.0         0.0           0.0   \n",
       "\n",
       "   A free copy of Mastering The Interview_Yes  \\\n",
       "0                                         0.0   \n",
       "1                                         0.0   \n",
       "2                                         0.0   \n",
       "3                                         0.0   \n",
       "4                                         0.0   \n",
       "\n",
       "   Last Notable Activity_Email Bounced  \\\n",
       "0                                  0.0   \n",
       "1                                  0.0   \n",
       "2                                  0.0   \n",
       "3                                  0.0   \n",
       "4                                  0.0   \n",
       "\n",
       "   Last Notable Activity_Email Link Clicked  \\\n",
       "0                                       0.0   \n",
       "1                                       0.0   \n",
       "2                                       0.0   \n",
       "3                                       0.0   \n",
       "4                                       0.0   \n",
       "\n",
       "   Last Notable Activity_Email Marked Spam  \\\n",
       "0                                      0.0   \n",
       "1                                      0.0   \n",
       "2                                      0.0   \n",
       "3                                      0.0   \n",
       "4                                      0.0   \n",
       "\n",
       "   Last Notable Activity_Email Opened  \\\n",
       "0                                 1.0   \n",
       "1                                 0.0   \n",
       "2                                 1.0   \n",
       "3                                 1.0   \n",
       "4                                 1.0   \n",
       "\n",
       "   Last Notable Activity_Had a Phone Conversation  \\\n",
       "0                                             0.0   \n",
       "1                                             0.0   \n",
       "2                                             0.0   \n",
       "3                                             0.0   \n",
       "4                                             0.0   \n",
       "\n",
       "   Last Notable Activity_Modified  \\\n",
       "0                             0.0   \n",
       "1                             1.0   \n",
       "2                             0.0   \n",
       "3                             0.0   \n",
       "4                             0.0   \n",
       "\n",
       "   Last Notable Activity_Olark Chat Conversation  \\\n",
       "0                                            0.0   \n",
       "1                                            0.0   \n",
       "2                                            0.0   \n",
       "3                                            0.0   \n",
       "4                                            0.0   \n",
       "\n",
       "   Last Notable Activity_Page Visited on Website  \\\n",
       "0                                            0.0   \n",
       "1                                            0.0   \n",
       "2                                            0.0   \n",
       "3                                            0.0   \n",
       "4                                            0.0   \n",
       "\n",
       "   Last Notable Activity_Resubscribed to emails  \\\n",
       "0                                           0.0   \n",
       "1                                           0.0   \n",
       "2                                           0.0   \n",
       "3                                           0.0   \n",
       "4                                           0.0   \n",
       "\n",
       "   Last Notable Activity_SMS Sent  Last Notable Activity_Unreachable  \\\n",
       "0                             0.0                                0.0   \n",
       "1                             0.0                                0.0   \n",
       "2                             0.0                                0.0   \n",
       "3                             0.0                                0.0   \n",
       "4                             0.0                                0.0   \n",
       "\n",
       "   Last Notable Activity_Unsubscribed  \n",
       "0                                 0.0  \n",
       "1                                 0.0  \n",
       "2                                 0.0  \n",
       "3                                 0.0  \n",
       "4                                 0.0  "
      ]
     },
     "execution_count": 78,
     "metadata": {},
     "output_type": "execute_result"
    }
   ],
   "source": [
    "X_test_selcols.head()"
   ]
  },
  {
   "cell_type": "code",
   "execution_count": 79,
   "metadata": {
    "id": "jfYw5lGzpWwW"
   },
   "outputs": [],
   "source": [
    "from sklearn import metrics\n",
    "from sklearn.metrics import roc_curve"
   ]
  },
  {
   "cell_type": "code",
   "execution_count": 80,
   "metadata": {
    "id": "6flc3eT0pWwW"
   },
   "outputs": [],
   "source": [
    "model=[]\n",
    "train_accuracy_score=[]\n",
    "train_roc_auc_score=[]\n",
    "train_recall_score=[]\n",
    "train_precision_score=[]\n",
    "train_f1_score=[]\n",
    "\n",
    "\n",
    "test_accuracy_score=[]\n",
    "test_roc_auc_score=[]\n",
    "test_recall_score=[]\n",
    "test_precision_score=[]\n",
    "test_f1_score=[]"
   ]
  },
  {
   "cell_type": "code",
   "execution_count": 81,
   "metadata": {
    "id": "UipB2qdRWjNl"
   },
   "outputs": [],
   "source": [
    "# printing all scores on train set \n",
    "\n",
    "def train_scores(model1,model_name,X_train_selcols,y_train,y_train_pred,y_train_predprob):\n",
    "  model.append(model_name)\n",
    "  train_accuracy_score.append(model1.score(X_train_selcols,y_train))\n",
    "  train_roc_auc_score.append(metrics.roc_auc_score(y_train,y_train_predprob))\n",
    "  train_recall_score.append(metrics.recall_score(y_train,y_train_pred))\n",
    "  train_precision_score.append(metrics.precision_score(y_train,y_train_pred))\n",
    "  train_f1_score.append(metrics.f1_score(y_train,y_train_pred))\n",
    "\n",
    "  print('accuracy score on train set=',model1.score(X_train_selcols,y_train))\n",
    "  print('roc_auc_score on train set=',metrics.roc_auc_score(y_train,y_train_predprob))\n",
    "  print('precision score on train set =',metrics.precision_score(y_train,y_train_pred))\n",
    "  print('recall score pn train set=',metrics.recall_score(y_train,y_train_pred))\n",
    "  print('f1 score on train set=',metrics.f1_score(y_train,y_train_pred))"
   ]
  },
  {
   "cell_type": "code",
   "execution_count": 82,
   "metadata": {
    "id": "drOuQ7EkWjSl"
   },
   "outputs": [],
   "source": [
    "def test_scores(model1,X_test_selcols,y_test,y_test_pred,y_test_predprob):\n",
    "\n",
    "  test_accuracy_score.append(model1.score(X_test_selcols,y_test))\n",
    "  test_roc_auc_score.append(metrics.roc_auc_score(y_test,y_test_predprob))\n",
    "  test_recall_score.append(metrics.recall_score(y_test,y_test_pred))\n",
    "  test_precision_score.append(metrics.precision_score(y_test,y_test_pred))\n",
    "  test_f1_score.append(metrics.f1_score(y_test,y_test_pred))\n",
    "\n",
    "  print('accuracy score on test set=',model1.score(X_test_selcols,y_test))\n",
    "  print('roc_auc_score on test set=',metrics.roc_auc_score(y_test,y_test_predprob))\n",
    "  print('precision score on test set=',metrics.precision_score(y_test,y_test_pred))\n",
    "  print('recall score on test set=',metrics.recall_score(y_test,y_test_pred))\n",
    "  print('f1 score on test set=',metrics.f1_score(y_test,y_test_pred))"
   ]
  },
  {
   "cell_type": "code",
   "execution_count": 83,
   "metadata": {},
   "outputs": [],
   "source": [
    "def confusion_mat_train(y_train,y_train_pred):\n",
    "    cm=metrics.confusion_matrix(y_train,y_train_pred)\n",
    "    conf_matrix = pd.DataFrame(data = cm,columns = ['Predicted:0','Predicted:1'], index = ['Actual:0','Actual:1'])\n",
    "    sns.heatmap(conf_matrix, annot = True, fmt = 'd', cmap = 'viridis', cbar = False, \n",
    "                linewidths = 0.1, annot_kws = {'size':25})\n",
    "    plt.xticks(fontsize = 20)\n",
    "    plt.yticks(fontsize = 20)\n",
    "    plt.title('Confusion Matrix on Train set')\n",
    "    plt.show()"
   ]
  },
  {
   "cell_type": "code",
   "execution_count": 84,
   "metadata": {},
   "outputs": [],
   "source": [
    "def confusion_mat_test(y_test,y_test_pred):\n",
    "    cm=metrics.confusion_matrix(y_test,y_test_pred)\n",
    "    conf_matrix = pd.DataFrame(data = cm,columns = ['Predicted:0','Predicted:1'], index = ['Actual:0','Actual:1'])\n",
    "    sns.heatmap(conf_matrix, annot = True, fmt = 'd', cmap = 'viridis', cbar = False, \n",
    "                linewidths = 0.1, annot_kws = {'size':25})\n",
    "    plt.xticks(fontsize = 20)\n",
    "    plt.yticks(fontsize = 20)\n",
    "    plt.title('Confusion Matrix on Test set')\n",
    "    plt.show()"
   ]
  },
  {
   "cell_type": "code",
   "execution_count": 85,
   "metadata": {
    "id": "z-OHj7PhpWwW"
   },
   "outputs": [],
   "source": [
    "def roc_auc_curve1(y_train,y_train_predprob,y_test,y_test_predprob):\n",
    "    fpr1,tpr1,thresholds1=metrics.roc_curve(y_train,y_train_predprob)\n",
    "\n",
    "    fpr,tpr,thresholds=metrics.roc_curve(y_test,y_test_predprob)\n",
    "\n",
    "    thresholds=thresholds[0]-1\n",
    "    thresholds1=thresholds1[0]-1\n",
    "\n",
    "    plt.plot(fpr1,tpr1,'y',label='train_set')\n",
    "\n",
    "\n",
    "    plt.plot(fpr,tpr,'b',label='test_set')\n",
    "\n",
    "    plt.plot(fpr,fpr,'r')\n",
    "    plt.xlabel('TPR')\n",
    "    plt.ylabel('FPR')\n",
    "    plt.legend()\n",
    "    plt.title('ROC AUC Curve')\n",
    "\n",
    "    plt.text(x = 0.02, y = 0.8, s = ('AUC Score:',round(metrics.roc_auc_score(y_train, y_train_predprob),4)))\n",
    "    plt.text(x = 0.02, y = 0.9, s = ('AUC Score:',round(metrics.roc_auc_score(y_test, y_test_predprob),4)))\n",
    "    plt.grid(True)"
   ]
  },
  {
   "cell_type": "code",
   "execution_count": null,
   "metadata": {
    "id": "TXJAwdTzpWwW"
   },
   "outputs": [],
   "source": []
  },
  {
   "cell_type": "markdown",
   "metadata": {
    "id": "zh91PwL6pWwW"
   },
   "source": [
    "## BASIC LOGISTIC REGRESSION MODEL"
   ]
  },
  {
   "cell_type": "code",
   "execution_count": 86,
   "metadata": {
    "id": "fYrV3m0lpWwW"
   },
   "outputs": [],
   "source": [
    "lr=LogisticRegression(solver='liblinear')"
   ]
  },
  {
   "cell_type": "code",
   "execution_count": 87,
   "metadata": {
    "id": "ZHG0ohcR0GEk"
   },
   "outputs": [],
   "source": [
    "params={'C':np.logspace(-1,0,500)}"
   ]
  },
  {
   "cell_type": "code",
   "execution_count": 88,
   "metadata": {
    "id": "t6yOYxT50GIP"
   },
   "outputs": [],
   "source": [
    "from sklearn.model_selection import RandomizedSearchCV"
   ]
  },
  {
   "cell_type": "code",
   "execution_count": 89,
   "metadata": {
    "id": "KXPR-yyy0oEc"
   },
   "outputs": [],
   "source": [
    "rsearch=RandomizedSearchCV(lr,param_distributions=params,cv=10,scoring='roc_auc',n_iter=100,n_jobs=1)"
   ]
  },
  {
   "cell_type": "code",
   "execution_count": 90,
   "metadata": {
    "colab": {
     "base_uri": "https://localhost:8080/"
    },
    "id": "JsXY64sE0oH9",
    "outputId": "312781dd-cfbf-42ed-d6db-36766e6364c1"
   },
   "outputs": [
    {
     "data": {
      "text/plain": [
       "RandomizedSearchCV(cv=10, estimator=LogisticRegression(solver='liblinear'),\n",
       "                   n_iter=100, n_jobs=1,\n",
       "                   param_distributions={'C': array([0.1       , 0.10046251, 0.10092715, 0.10139395, 0.1018629 ,\n",
       "       0.10233402, 0.10280732, 0.10328281, 0.1037605 , 0.1042404 ,\n",
       "       0.10472252, 0.10520687, 0.10569346, 0.10618229, 0.10667339,\n",
       "       0.10716676, 0.10766242, 0.10816036, 0.10866061, 0.10916317,\n",
       "       0.10966806, 0.1...\n",
       "       0.85479845, 0.85875195, 0.86272373, 0.86671388, 0.87072248,\n",
       "       0.87474963, 0.8787954 , 0.88285988, 0.88694317, 0.89104533,\n",
       "       0.89516647, 0.89930667, 0.90346602, 0.90764461, 0.91184252,\n",
       "       0.91605985, 0.92029668, 0.92455311, 0.92882923, 0.93312512,\n",
       "       0.93744088, 0.9417766 , 0.94613238, 0.9505083 , 0.95490446,\n",
       "       0.95932095, 0.96375787, 0.96821531, 0.97269336, 0.97719213,\n",
       "       0.9817117 , 0.98625218, 0.99081366, 0.99539623, 1.        ])},\n",
       "                   scoring='roc_auc')"
      ]
     },
     "execution_count": 90,
     "metadata": {},
     "output_type": "execute_result"
    }
   ],
   "source": [
    "rsearch.fit(X_train_selcols,y_train)[]"
   ]
  },
  {
   "cell_type": "code",
   "execution_count": 91,
   "metadata": {
    "colab": {
     "base_uri": "https://localhost:8080/"
    },
    "id": "zfdrOZPe0oLe",
    "outputId": "4259e9be-65d2-4f92-b4ca-6bdecd999850"
   },
   "outputs": [
    {
     "data": {
      "text/plain": [
       "{'C': 0.9953962309984233}"
      ]
     },
     "execution_count": 91,
     "metadata": {},
     "output_type": "execute_result"
    }
   ],
   "source": [
    "rsearch.best_params_"
   ]
  },
  {
   "cell_type": "code",
   "execution_count": 92,
   "metadata": {
    "id": "w6F4L6KA0_X4"
   },
   "outputs": [],
   "source": [
    "lr1=LogisticRegression(**rsearch.best_params_)"
   ]
  },
  {
   "cell_type": "code",
   "execution_count": 93,
   "metadata": {
    "colab": {
     "base_uri": "https://localhost:8080/"
    },
    "id": "dAjrhKj7pWwX",
    "outputId": "eb818a25-48f1-4f1c-e37f-650fea66fcf3"
   },
   "outputs": [
    {
     "data": {
      "text/plain": [
       "LogisticRegression(C=0.9953962309984233)"
      ]
     },
     "execution_count": 93,
     "metadata": {},
     "output_type": "execute_result"
    }
   ],
   "source": [
    "lr1.fit(X_train_selcols,y_train)"
   ]
  },
  {
   "cell_type": "code",
   "execution_count": 94,
   "metadata": {
    "id": "Ylr6-GzfpWwX"
   },
   "outputs": [],
   "source": [
    "y_train_pred=lr1.predict(X_train_selcols)\n",
    "y_train_predprob=lr1.predict_proba(X_train_selcols)[:,1]"
   ]
  },
  {
   "cell_type": "code",
   "execution_count": 95,
   "metadata": {
    "id": "X5xYdEn2pWwX"
   },
   "outputs": [],
   "source": [
    "y_test_pred=lr1.predict(X_test_selcols)\n",
    "y_test_predprob=lr1.predict_proba(X_test_selcols)[:,1]"
   ]
  },
  {
   "cell_type": "code",
   "execution_count": 96,
   "metadata": {
    "id": "coJzCRfdpWwX"
   },
   "outputs": [],
   "source": [
    "from sklearn import metrics"
   ]
  },
  {
   "cell_type": "code",
   "execution_count": 97,
   "metadata": {
    "colab": {
     "base_uri": "https://localhost:8080/"
    },
    "id": "_kBT0jmlpWwY",
    "outputId": "ac7b6553-94f7-4e32-f61b-d84e7bebaabe"
   },
   "outputs": [
    {
     "name": "stdout",
     "output_type": "stream",
     "text": [
      "accuracy score on train set= 0.9024427952999382\n",
      "roc_auc_score on train set= 0.9601024852631032\n",
      "precision score on train set = 0.8892104175279041\n",
      "recall score pn train set= 0.8556085918854416\n",
      "f1 score on train set= 0.8720859517534968\n"
     ]
    }
   ],
   "source": [
    "# printing all scores on train set \n",
    "\n",
    "train_scores(lr1,'Logistic Regression',X_train_selcols,y_train,y_train_pred,y_train_predprob)\n",
    "\n"
   ]
  },
  {
   "cell_type": "code",
   "execution_count": 98,
   "metadata": {
    "colab": {
     "base_uri": "https://localhost:8080/"
    },
    "id": "ociKodKEpWwY",
    "outputId": "42224e7c-afa7-42bd-fed9-8a79cf15c586"
   },
   "outputs": [
    {
     "name": "stdout",
     "output_type": "stream",
     "text": [
      "accuracy score on test set= 0.9090909090909091\n",
      "roc_auc_score on test set= 0.9595473609899922\n",
      "precision score on test set= 0.8971028971028971\n",
      "recall score on test set= 0.8576886341929322\n",
      "f1 score on test set= 0.876953125\n"
     ]
    }
   ],
   "source": [
    "# printing all scores on test set \n",
    "\n",
    "test_scores(lr1,X_test_selcols,y_test,y_test_pred,y_test_predprob)\n"
   ]
  },
  {
   "cell_type": "code",
   "execution_count": 99,
   "metadata": {
    "colab": {
     "base_uri": "https://localhost:8080/"
    },
    "id": "MUlQq6HKpWwZ",
    "outputId": "d4e40c36-f4d5-4aab-e0ba-80ac0494ae06"
   },
   "outputs": [
    {
     "data": {
      "image/png": "[encoded data removed]",
      "text/plain": [
       "<Figure size 432x288 with 1 Axes>"
      ]
     },
     "metadata": {
      "needs_background": "light"
     },
     "output_type": "display_data"
    }
   ],
   "source": [
    "#printing confusion matrix on train set\n",
    "\n",
    "confusion_mat_train(y_train,y_train_pred)"
   ]
  },
  {
   "cell_type": "code",
   "execution_count": 100,
   "metadata": {},
   "outputs": [
    {
     "data": {
      "image/png": "[encoded data removed]",
      "text/plain": [
       "<Figure size 432x288 with 1 Axes>"
      ]
     },
     "metadata": {
      "needs_background": "light"
     },
     "output_type": "display_data"
    }
   ],
   "source": [
    "#printing confusion matrix on test set\n",
    "\n",
    "confusion_mat_test(y_test,y_test_pred)"
   ]
  },
  {
   "cell_type": "code",
   "execution_count": 101,
   "metadata": {
    "colab": {
     "base_uri": "https://localhost:8080/",
     "height": 281
    },
    "id": "3byPYO5wpWwa",
    "outputId": "d25b25b0-196a-47b9-a729-814e8e9d5987"
   },
   "outputs": [
    {
     "data": {
      "image/png": "[encoded data removed]",
      "text/plain": [
       "<Figure size 432x288 with 1 Axes>"
      ]
     },
     "metadata": {
      "needs_background": "light"
     },
     "output_type": "display_data"
    }
   ],
   "source": [
    "# roc_auc_curve on train and test set\n",
    "\n",
    "roc_auc_curve1(y_train,y_train_predprob,y_test,y_test_predprob) \n"
   ]
  },
  {
   "cell_type": "code",
   "execution_count": null,
   "metadata": {
    "id": "kNSQs4vbpWwa"
   },
   "outputs": [],
   "source": []
  },
  {
   "cell_type": "code",
   "execution_count": null,
   "metadata": {
    "id": "I4aa6_wypWwa"
   },
   "outputs": [],
   "source": []
  },
  {
   "cell_type": "markdown",
   "metadata": {
    "id": "YWzLT66gpWwa"
   },
   "source": [
    "## RANDOM FOREST CLASSIFIER"
   ]
  },
  {
   "cell_type": "code",
   "execution_count": 102,
   "metadata": {
    "id": "9YsBY88upWwa"
   },
   "outputs": [],
   "source": [
    "from sklearn.ensemble import RandomForestClassifier"
   ]
  },
  {
   "cell_type": "code",
   "execution_count": 103,
   "metadata": {
    "id": "YG8sKvwDpWwb"
   },
   "outputs": [],
   "source": [
    "rfc=RandomForestClassifier(random_state=10)"
   ]
  },
  {
   "cell_type": "code",
   "execution_count": 104,
   "metadata": {
    "id": "Jyewu323pWwc"
   },
   "outputs": [],
   "source": [
    "from scipy.stats import randint as sp_randint"
   ]
  },
  {
   "cell_type": "code",
   "execution_count": 105,
   "metadata": {
    "id": "qZp1IfRrpWwc"
   },
   "outputs": [],
   "source": [
    "params={'n_estimators':sp_randint(80,250),'max_depth':sp_randint(2,10),'min_samples_split':sp_randint(2,30),\n",
    "       'min_samples_leaf':sp_randint(1,20)}"
   ]
  },
  {
   "cell_type": "code",
   "execution_count": 106,
   "metadata": {
    "id": "uz8n0amZpWwd"
   },
   "outputs": [],
   "source": [
    "from sklearn.model_selection import RandomizedSearchCV"
   ]
  },
  {
   "cell_type": "code",
   "execution_count": 107,
   "metadata": {
    "id": "T-eVF78RpWwd"
   },
   "outputs": [],
   "source": [
    "rsearch=RandomizedSearchCV(rfc,param_distributions=params,cv=10,scoring='roc_auc',n_iter=100,n_jobs=-1)"
   ]
  },
  {
   "cell_type": "code",
   "execution_count": 108,
   "metadata": {
    "colab": {
     "base_uri": "https://localhost:8080/"
    },
    "id": "HDJDUFtqpWwd",
    "outputId": "d659633c-55db-4d13-cc32-e2bb3eb45559"
   },
   "outputs": [
    {
     "data": {
      "text/plain": [
       "RandomizedSearchCV(cv=10, estimator=RandomForestClassifier(random_state=10),\n",
       "                   n_iter=100, n_jobs=-1,\n",
       "                   param_distributions={'max_depth': <scipy.stats._distn_infrastructure.rv_frozen object at 0x00000299AC5BDD90>,\n",
       "                                        'min_samples_leaf': <scipy.stats._distn_infrastructure.rv_frozen object at 0x00000299AE0ABC70>,\n",
       "                                        'min_samples_split': <scipy.stats._distn_infrastructure.rv_frozen object at 0x00000299AC46F7C0>,\n",
       "                                        'n_estimators': <scipy.stats._distn_infrastructure.rv_frozen object at 0x00000299AC46FFD0>},\n",
       "                   scoring='roc_auc')"
      ]
     },
     "execution_count": 108,
     "metadata": {},
     "output_type": "execute_result"
    }
   ],
   "source": [
    "rsearch.fit(X_train_selcols,y_train)"
   ]
  },
  {
   "cell_type": "code",
   "execution_count": 109,
   "metadata": {
    "colab": {
     "base_uri": "https://localhost:8080/"
    },
    "id": "xUx2QYT2pWwd",
    "outputId": "3010a005-2b50-4bdb-e615-5dc6cdc43b5c"
   },
   "outputs": [
    {
     "data": {
      "text/plain": [
       "{'max_depth': 9,\n",
       " 'min_samples_leaf': 3,\n",
       " 'min_samples_split': 20,\n",
       " 'n_estimators': 188}"
      ]
     },
     "execution_count": 109,
     "metadata": {},
     "output_type": "execute_result"
    }
   ],
   "source": [
    "rsearch.best_params_"
   ]
  },
  {
   "cell_type": "code",
   "execution_count": null,
   "metadata": {
    "id": "-nzaju1DpWwe"
   },
   "outputs": [],
   "source": []
  },
  {
   "cell_type": "code",
   "execution_count": 110,
   "metadata": {
    "id": "AqzExSdUpWwe"
   },
   "outputs": [],
   "source": [
    "rfc1=RandomForestClassifier(random_state=10,**rsearch.best_params_)"
   ]
  },
  {
   "cell_type": "code",
   "execution_count": 111,
   "metadata": {
    "colab": {
     "base_uri": "https://localhost:8080/"
    },
    "id": "ikA6JOqapWwe",
    "outputId": "9d368a23-6501-4a99-fd26-e7c661328177"
   },
   "outputs": [
    {
     "data": {
      "text/plain": [
       "RandomForestClassifier(max_depth=9, min_samples_leaf=3, min_samples_split=20,\n",
       "                       n_estimators=188, random_state=10)"
      ]
     },
     "execution_count": 111,
     "metadata": {},
     "output_type": "execute_result"
    }
   ],
   "source": [
    "rfc1.fit(X_train_selcols,y_train)"
   ]
  },
  {
   "cell_type": "code",
   "execution_count": 112,
   "metadata": {
    "id": "lYTxsJKaciRX"
   },
   "outputs": [],
   "source": [
    "y_train_pred=rfc1.predict(X_train_selcols)\n",
    "y_train_predprob=rfc1.predict_proba(X_train_selcols)[:,1]"
   ]
  },
  {
   "cell_type": "code",
   "execution_count": 113,
   "metadata": {
    "id": "2RkuOazppWwe"
   },
   "outputs": [],
   "source": [
    "y_test_pred=rfc1.predict(X_test_selcols)\n",
    "y_test_predprob=rfc1.predict_proba(X_test_selcols)[:,1]"
   ]
  },
  {
   "cell_type": "code",
   "execution_count": 114,
   "metadata": {
    "colab": {
     "base_uri": "https://localhost:8080/"
    },
    "id": "iyOlAJfqpWwe",
    "outputId": "b9b493ef-6987-4d61-f70f-66ca2df243e8"
   },
   "outputs": [
    {
     "name": "stdout",
     "output_type": "stream",
     "text": [
      "accuracy score on train set= 0.9056895485466914\n",
      "roc_auc_score on train set= 0.9679091976182745\n",
      "precision score on train set = 0.9257602862254025\n",
      "recall score pn train set= 0.8233890214797136\n",
      "f1 score on train set= 0.8715789473684211\n"
     ]
    }
   ],
   "source": [
    "# printing all scores on train set \n",
    "\n",
    "train_scores(rfc1,'Random Forest Classifier',X_train_selcols,y_train,y_train_pred,y_train_predprob)\n"
   ]
  },
  {
   "cell_type": "code",
   "execution_count": 115,
   "metadata": {
    "colab": {
     "base_uri": "https://localhost:8080/"
    },
    "id": "TUXfmR7IpWwf",
    "outputId": "3e3e1d32-cbf4-4822-b079-d03e5e6316a9"
   },
   "outputs": [
    {
     "name": "stdout",
     "output_type": "stream",
     "text": [
      "accuracy score on test set= 0.8968253968253969\n",
      "roc_auc_score on test set= 0.963389670971582\n",
      "precision score on test set= 0.9223085460599334\n",
      "recall score on test set= 0.7936962750716332\n",
      "f1 score on test set= 0.8531827515400411\n"
     ]
    }
   ],
   "source": [
    "#printing all scores on test set\n",
    "\n",
    "test_scores(rfc1,X_test_selcols,y_test,y_test_pred,y_test_predprob)\n"
   ]
  },
  {
   "cell_type": "code",
   "execution_count": 116,
   "metadata": {
    "colab": {
     "base_uri": "https://localhost:8080/"
    },
    "id": "MUlQq6HKpWwZ",
    "outputId": "d4e40c36-f4d5-4aab-e0ba-80ac0494ae06"
   },
   "outputs": [
    {
     "data": {
      "image/png": "[encoded data removed]",
      "text/plain": [
       "<Figure size 432x288 with 1 Axes>"
      ]
     },
     "metadata": {
      "needs_background": "light"
     },
     "output_type": "display_data"
    }
   ],
   "source": [
    "#printing confusion matrix on train set\n",
    "\n",
    "confusion_mat_train(y_train,y_train_pred)"
   ]
  },
  {
   "cell_type": "code",
   "execution_count": 117,
   "metadata": {},
   "outputs": [
    {
     "data": {
      "image/png": "[encoded data removed]",
      "text/plain": [
       "<Figure size 432x288 with 1 Axes>"
      ]
     },
     "metadata": {
      "needs_background": "light"
     },
     "output_type": "display_data"
    }
   ],
   "source": [
    "#printing confusion matrix on test set\n",
    "\n",
    "confusion_mat_test(y_test,y_test_pred)"
   ]
  },
  {
   "cell_type": "code",
   "execution_count": 118,
   "metadata": {
    "colab": {
     "base_uri": "https://localhost:8080/",
     "height": 281
    },
    "id": "PdJc8DELpWwf",
    "outputId": "e3c23551-9900-4c4b-fab0-2c5697fb1dad"
   },
   "outputs": [
    {
     "data": {
      "image/png": "[encoded data removed]",
      "text/plain": [
       "<Figure size 432x288 with 1 Axes>"
      ]
     },
     "metadata": {
      "needs_background": "light"
     },
     "output_type": "display_data"
    }
   ],
   "source": [
    "#printing roc_auc_curve\n",
    "\n",
    "roc_auc_curve1(y_train,y_train_predprob,y_test,y_test_predprob) \n"
   ]
  },
  {
   "cell_type": "code",
   "execution_count": null,
   "metadata": {
    "id": "gt4rH0DppWwf"
   },
   "outputs": [],
   "source": []
  },
  {
   "cell_type": "markdown",
   "metadata": {
    "id": "MXZbhcKUpWwf"
   },
   "source": [
    "## XGBoost Classifier"
   ]
  },
  {
   "cell_type": "code",
   "execution_count": 119,
   "metadata": {
    "id": "kccN3sSFpWwg"
   },
   "outputs": [],
   "source": [
    "from xgboost import XGBClassifier"
   ]
  },
  {
   "cell_type": "code",
   "execution_count": 120,
   "metadata": {
    "id": "lBeXAIMTpWwg"
   },
   "outputs": [],
   "source": [
    "xgb=XGBClassifier(random_state=10,eval_metric='logloss',use_label_encoder=False)"
   ]
  },
  {
   "cell_type": "code",
   "execution_count": 121,
   "metadata": {
    "id": "nliyRWQ4pWwg"
   },
   "outputs": [],
   "source": [
    "params={'n_estimators':sp_randint(80,250),'max_depth':sp_randint(2,10),'learning_rate':np.logspace(-3,-1,100)}"
   ]
  },
  {
   "cell_type": "code",
   "execution_count": 122,
   "metadata": {
    "id": "V4ZWgOiXpWwg"
   },
   "outputs": [],
   "source": [
    "from sklearn.model_selection import RandomizedSearchCV"
   ]
  },
  {
   "cell_type": "code",
   "execution_count": 123,
   "metadata": {
    "id": "8UxSLcK5pWwg"
   },
   "outputs": [],
   "source": [
    "rsearch=RandomizedSearchCV(xgb,param_distributions=params,cv=10,scoring='roc_auc',n_iter=100,n_jobs=-1)"
   ]
  },
  {
   "cell_type": "code",
   "execution_count": 124,
   "metadata": {
    "colab": {
     "base_uri": "https://localhost:8080/"
    },
    "id": "Jv7iZAxnpWwh",
    "outputId": "d515b2a2-8235-468c-e7d0-51991dbaebf9"
   },
   "outputs": [
    {
     "data": {
      "text/plain": [
       "RandomizedSearchCV(cv=10,\n",
       "                   estimator=XGBClassifier(base_score=None, booster=None,\n",
       "                                           colsample_bylevel=None,\n",
       "                                           colsample_bynode=None,\n",
       "                                           colsample_bytree=None,\n",
       "                                           eval_metric='logloss', gamma=None,\n",
       "                                           gpu_id=None, importance_type='gain',\n",
       "                                           interaction_constraints=None,\n",
       "                                           learning_rate=None,\n",
       "                                           max_delta_step=None, max_depth=None,\n",
       "                                           min_child_weight=None, missing=nan,\n",
       "                                           monotone_constraints...\n",
       "       0.04132012, 0.04328761, 0.04534879, 0.0475081 , 0.04977024,\n",
       "       0.05214008, 0.05462277, 0.05722368, 0.05994843, 0.06280291,\n",
       "       0.06579332, 0.06892612, 0.07220809, 0.07564633, 0.07924829,\n",
       "       0.08302176, 0.0869749 , 0.09111628, 0.09545485, 0.1       ]),\n",
       "                                        'max_depth': <scipy.stats._distn_infrastructure.rv_frozen object at 0x00000299AE244A90>,\n",
       "                                        'n_estimators': <scipy.stats._distn_infrastructure.rv_frozen object at 0x00000299AE244EB0>},\n",
       "                   scoring='roc_auc')"
      ]
     },
     "execution_count": 124,
     "metadata": {},
     "output_type": "execute_result"
    }
   ],
   "source": [
    "rsearch.fit(X_train_selcols,y_train)"
   ]
  },
  {
   "cell_type": "code",
   "execution_count": 125,
   "metadata": {
    "colab": {
     "base_uri": "https://localhost:8080/"
    },
    "id": "yVlD24sapWwh",
    "outputId": "13e8a11e-c452-4e5d-87c1-de3ab3276ece"
   },
   "outputs": [
    {
     "data": {
      "text/plain": [
       "{'learning_rate': 0.05994842503189412, 'max_depth': 4, 'n_estimators': 179}"
      ]
     },
     "execution_count": 125,
     "metadata": {},
     "output_type": "execute_result"
    }
   ],
   "source": [
    "rsearch.best_params_"
   ]
  },
  {
   "cell_type": "code",
   "execution_count": 126,
   "metadata": {
    "id": "ncVG-LUJpWwh"
   },
   "outputs": [],
   "source": [
    "xgb1=XGBClassifier(**rsearch.best_params_,random_state=10,eval_metric='logloss',use_label_encoder=False)"
   ]
  },
  {
   "cell_type": "code",
   "execution_count": 127,
   "metadata": {
    "colab": {
     "base_uri": "https://localhost:8080/"
    },
    "id": "ujUCalqPpWwh",
    "outputId": "58207062-7807-4250-9881-ac091af8605e"
   },
   "outputs": [
    {
     "data": {
      "text/plain": [
       "XGBClassifier(base_score=0.5, booster='gbtree', colsample_bylevel=1,\n",
       "              colsample_bynode=1, colsample_bytree=1, eval_metric='logloss',\n",
       "              gamma=0, gpu_id=-1, importance_type='gain',\n",
       "              interaction_constraints='', learning_rate=0.05994842503189412,\n",
       "              max_delta_step=0, max_depth=4, min_child_weight=1, missing=nan,\n",
       "              monotone_constraints='()', n_estimators=179, n_jobs=8,\n",
       "              num_parallel_tree=1, random_state=10, reg_alpha=0, reg_lambda=1,\n",
       "              scale_pos_weight=1, subsample=1, tree_method='exact',\n",
       "              use_label_encoder=False, validate_parameters=1, verbosity=None)"
      ]
     },
     "execution_count": 127,
     "metadata": {},
     "output_type": "execute_result"
    }
   ],
   "source": [
    "xgb1.fit(X_train_selcols,y_train)"
   ]
  },
  {
   "cell_type": "code",
   "execution_count": 128,
   "metadata": {
    "id": "mAvNo5ndkjXc"
   },
   "outputs": [],
   "source": [
    "y_train_pred=xgb1.predict(X_train_selcols)\n",
    "y_train_predprob=xgb1.predict_proba(X_train_selcols)[:,1]"
   ]
  },
  {
   "cell_type": "code",
   "execution_count": 129,
   "metadata": {
    "id": "BnQZydrhpWwi"
   },
   "outputs": [],
   "source": [
    "y_test_pred=xgb1.predict(X_test_selcols)\n",
    "y_test_predprob=xgb1.predict_proba(X_test_selcols)[:,1]"
   ]
  },
  {
   "cell_type": "code",
   "execution_count": 130,
   "metadata": {
    "colab": {
     "base_uri": "https://localhost:8080/"
    },
    "id": "VPLi2mkTpWwi",
    "outputId": "1fe06412-40ab-4e07-f835-b3a40b78cae0"
   },
   "outputs": [
    {
     "name": "stdout",
     "output_type": "stream",
     "text": [
      "accuracy score on train set= 0.9257884972170687\n",
      "roc_auc_score on train set= 0.9767630555686335\n",
      "precision score on train set = 0.9269521410579346\n",
      "recall score pn train set= 0.8782816229116945\n",
      "f1 score on train set= 0.9019607843137255\n"
     ]
    }
   ],
   "source": [
    "# printing all scores on train set \n",
    "\n",
    "train_scores(xgb1,'XGBoost Classifier',X_train_selcols,y_train,y_train_pred,y_train_predprob)\n"
   ]
  },
  {
   "cell_type": "code",
   "execution_count": 131,
   "metadata": {
    "colab": {
     "base_uri": "https://localhost:8080/"
    },
    "id": "qspRxog_pWwi",
    "outputId": "9056b71a-9a26-4857-e294-02ccc377f558"
   },
   "outputs": [
    {
     "name": "stdout",
     "output_type": "stream",
     "text": [
      "accuracy score on test set= 0.9177489177489178\n",
      "roc_auc_score on test set= 0.9707218692468474\n",
      "precision score on test set= 0.9174311926605505\n",
      "recall score on test set= 0.8595988538681948\n",
      "f1 score on test set= 0.8875739644970414\n"
     ]
    }
   ],
   "source": [
    "#printing all scores on test set\n",
    "\n",
    "test_scores(xgb1,X_test_selcols,y_test,y_test_pred,y_test_predprob)"
   ]
  },
  {
   "cell_type": "code",
   "execution_count": 132,
   "metadata": {
    "colab": {
     "base_uri": "https://localhost:8080/"
    },
    "id": "MUlQq6HKpWwZ",
    "outputId": "d4e40c36-f4d5-4aab-e0ba-80ac0494ae06"
   },
   "outputs": [
    {
     "data": {
      "image/png": "[encoded data removed]",
      "text/plain": [
       "<Figure size 432x288 with 1 Axes>"
      ]
     },
     "metadata": {
      "needs_background": "light"
     },
     "output_type": "display_data"
    }
   ],
   "source": [
    "#printing confusion matrix on train set\n",
    "\n",
    "confusion_mat_train(y_train,y_train_pred)"
   ]
  },
  {
   "cell_type": "code",
   "execution_count": 133,
   "metadata": {},
   "outputs": [
    {
     "data": {
      "image/png": "[encoded data removed]",
      "text/plain": [
       "<Figure size 432x288 with 1 Axes>"
      ]
     },
     "metadata": {
      "needs_background": "light"
     },
     "output_type": "display_data"
    }
   ],
   "source": [
    "#printing confusion matrix on test set\n",
    "\n",
    "confusion_mat_test(y_test,y_test_pred)"
   ]
  },
  {
   "cell_type": "code",
   "execution_count": 134,
   "metadata": {
    "colab": {
     "base_uri": "https://localhost:8080/",
     "height": 281
    },
    "id": "4RQ_as4PpWwj",
    "outputId": "750051cb-b861-447f-dcbe-2ea6a306ce7b"
   },
   "outputs": [
    {
     "data": {
      "image/png": "[encoded data removed]",
      "text/plain": [
       "<Figure size 432x288 with 1 Axes>"
      ]
     },
     "metadata": {
      "needs_background": "light"
     },
     "output_type": "display_data"
    }
   ],
   "source": [
    "#printing roc_auc_curve\n",
    "\n",
    "roc_auc_curve1(y_train,y_train_predprob,y_test,y_test_predprob) \n"
   ]
  },
  {
   "cell_type": "code",
   "execution_count": null,
   "metadata": {
    "id": "IXPR6INhpWwj"
   },
   "outputs": [],
   "source": []
  },
  {
   "cell_type": "markdown",
   "metadata": {
    "id": "VzX-iXZ_pWwj"
   },
   "source": [
    "## LIGHTGBM CLASSIFIER"
   ]
  },
  {
   "cell_type": "code",
   "execution_count": 135,
   "metadata": {
    "colab": {
     "base_uri": "https://localhost:8080/"
    },
    "id": "KmIObVympWwj",
    "outputId": "11f32d73-6a34-41ba-de66-9591b12b22c5"
   },
   "outputs": [
    {
     "name": "stdout",
     "output_type": "stream",
     "text": [
      "Requirement already satisfied: lightgbm in c:\\users\\sheeb\\anaconda3\\lib\\site-packages (3.1.1)\n",
      "Requirement already satisfied: wheel in c:\\users\\sheeb\\anaconda3\\lib\\site-packages (from lightgbm) (0.35.1)\n",
      "Requirement already satisfied: scipy in c:\\users\\sheeb\\anaconda3\\lib\\site-packages (from lightgbm) (1.5.2)\n",
      "Requirement already satisfied: numpy in c:\\users\\sheeb\\anaconda3\\lib\\site-packages (from lightgbm) (1.19.2)\n",
      "Requirement already satisfied: scikit-learn!=0.22.0 in c:\\users\\sheeb\\anaconda3\\lib\\site-packages (from lightgbm) (0.23.2)\n",
      "Requirement already satisfied: threadpoolctl>=2.0.0 in c:\\users\\sheeb\\anaconda3\\lib\\site-packages (from scikit-learn!=0.22.0->lightgbm) (2.1.0)\n",
      "Requirement already satisfied: joblib>=0.11 in c:\\users\\sheeb\\anaconda3\\lib\\site-packages (from scikit-learn!=0.22.0->lightgbm) (0.17.0)\n"
     ]
    }
   ],
   "source": [
    "!pip install lightgbm"
   ]
  },
  {
   "cell_type": "code",
   "execution_count": 136,
   "metadata": {
    "id": "3VC4sZoOpWwk"
   },
   "outputs": [],
   "source": [
    "from lightgbm import LGBMClassifier"
   ]
  },
  {
   "cell_type": "code",
   "execution_count": 137,
   "metadata": {
    "id": "sGddarJHpWwk"
   },
   "outputs": [],
   "source": [
    "lgb=LGBMClassifier(random_state=10)"
   ]
  },
  {
   "cell_type": "code",
   "execution_count": 138,
   "metadata": {
    "id": "ct2eNGunpWwk"
   },
   "outputs": [],
   "source": [
    "params={'n_estimators':sp_randint(80,250),'max_depth':sp_randint(2,10),'learning_rate':np.logspace(-3,-1,100)\n",
    "        }"
   ]
  },
  {
   "cell_type": "code",
   "execution_count": 139,
   "metadata": {
    "id": "5C65wCmdpWwk"
   },
   "outputs": [],
   "source": [
    "from sklearn.model_selection import RandomizedSearchCV"
   ]
  },
  {
   "cell_type": "code",
   "execution_count": 140,
   "metadata": {
    "id": "prspLxWdpWwk"
   },
   "outputs": [],
   "source": [
    "rsearch=RandomizedSearchCV(lgb,param_distributions=params,cv=10,scoring='roc_auc',n_iter=100,n_jobs=-1)"
   ]
  },
  {
   "cell_type": "code",
   "execution_count": 141,
   "metadata": {
    "colab": {
     "base_uri": "https://localhost:8080/"
    },
    "id": "9Gn9LkOvpWwk",
    "outputId": "83352c3d-0220-40a8-b5b6-b97e86208e33"
   },
   "outputs": [
    {
     "data": {
      "text/plain": [
       "RandomizedSearchCV(cv=10, estimator=LGBMClassifier(random_state=10), n_iter=100,\n",
       "                   n_jobs=-1,\n",
       "                   param_distributions={'learning_rate': array([0.001     , 0.00104762, 0.0010975 , 0.00114976, 0.0012045 ,\n",
       "       0.00126186, 0.00132194, 0.00138489, 0.00145083, 0.00151991,\n",
       "       0.00159228, 0.0016681 , 0.00174753, 0.00183074, 0.00191791,\n",
       "       0.00200923, 0.0021049 , 0.00220513, 0.00231013, 0.00242013,\n",
       "       0.00253...\n",
       "       0.04132012, 0.04328761, 0.04534879, 0.0475081 , 0.04977024,\n",
       "       0.05214008, 0.05462277, 0.05722368, 0.05994843, 0.06280291,\n",
       "       0.06579332, 0.06892612, 0.07220809, 0.07564633, 0.07924829,\n",
       "       0.08302176, 0.0869749 , 0.09111628, 0.09545485, 0.1       ]),\n",
       "                                        'max_depth': <scipy.stats._distn_infrastructure.rv_frozen object at 0x00000299AE3F6730>,\n",
       "                                        'n_estimators': <scipy.stats._distn_infrastructure.rv_frozen object at 0x00000299AE3F6580>},\n",
       "                   scoring='roc_auc')"
      ]
     },
     "execution_count": 141,
     "metadata": {},
     "output_type": "execute_result"
    }
   ],
   "source": [
    "rsearch.fit(X_train_selcols,y_train)"
   ]
  },
  {
   "cell_type": "code",
   "execution_count": 142,
   "metadata": {
    "id": "usokijX9pWwl"
   },
   "outputs": [
    {
     "data": {
      "text/plain": [
       "{'learning_rate': 0.08302175681319748, 'max_depth': 4, 'n_estimators': 154}"
      ]
     },
     "execution_count": 142,
     "metadata": {},
     "output_type": "execute_result"
    }
   ],
   "source": [
    "rsearch.best_params_"
   ]
  },
  {
   "cell_type": "code",
   "execution_count": 143,
   "metadata": {
    "id": "DGoObK3PpWwl"
   },
   "outputs": [],
   "source": [
    "lgb1=LGBMClassifier(random_state=10,**rsearch.best_params_)"
   ]
  },
  {
   "cell_type": "code",
   "execution_count": 144,
   "metadata": {
    "id": "yP6N5HHGpWwl"
   },
   "outputs": [
    {
     "data": {
      "text/plain": [
       "LGBMClassifier(learning_rate=0.08302175681319748, max_depth=4, n_estimators=154,\n",
       "               random_state=10)"
      ]
     },
     "execution_count": 144,
     "metadata": {},
     "output_type": "execute_result"
    }
   ],
   "source": [
    "lgb1.fit(X_train_selcols,y_train)"
   ]
  },
  {
   "cell_type": "code",
   "execution_count": 145,
   "metadata": {
    "id": "7uysNXe-pWwl"
   },
   "outputs": [],
   "source": [
    "y_train_pred=lgb1.predict(X_train_selcols)\n",
    "y_train_predprob=lgb1.predict_proba(X_train_selcols)[:,1]\n",
    "\n",
    "y_test_pred=lgb1.predict(X_test_selcols)\n",
    "y_test_predprob=lgb1.predict_proba(X_test_selcols)[:,1]"
   ]
  },
  {
   "cell_type": "code",
   "execution_count": 146,
   "metadata": {
    "id": "2FaNA3kjpWwm"
   },
   "outputs": [
    {
     "name": "stdout",
     "output_type": "stream",
     "text": [
      "accuracy score on train set= 0.9293444650587508\n",
      "roc_auc_score on train set= 0.9792310758286726\n",
      "precision score on train set = 0.9265864786395687\n",
      "recall score pn train set= 0.888623707239459\n",
      "f1 score on train set= 0.9072081218274112\n"
     ]
    }
   ],
   "source": [
    "# printing all scores on train set \n",
    "\n",
    "train_scores(lgb1,'LightGBM Classifier',X_train_selcols,y_train,y_train_pred,y_train_predprob)\n"
   ]
  },
  {
   "cell_type": "code",
   "execution_count": 147,
   "metadata": {
    "id": "NawMcTAGpWwm"
   },
   "outputs": [
    {
     "name": "stdout",
     "output_type": "stream",
     "text": [
      "accuracy score on test set= 0.9217171717171717\n",
      "roc_auc_score on test set= 0.9712415043672051\n",
      "precision score on test set= 0.9158316633266533\n",
      "recall score on test set= 0.8729703915950334\n",
      "f1 score on test set= 0.8938875305623472\n"
     ]
    }
   ],
   "source": [
    "#printing all scores on test set\n",
    "\n",
    "test_scores(lgb1,X_test_selcols,y_test,y_test_pred,y_test_predprob)"
   ]
  },
  {
   "cell_type": "code",
   "execution_count": 148,
   "metadata": {
    "colab": {
     "base_uri": "https://localhost:8080/"
    },
    "id": "MUlQq6HKpWwZ",
    "outputId": "d4e40c36-f4d5-4aab-e0ba-80ac0494ae06"
   },
   "outputs": [
    {
     "data": {
      "image/png": "[encoded data removed]",
      "text/plain": [
       "<Figure size 432x288 with 1 Axes>"
      ]
     },
     "metadata": {
      "needs_background": "light"
     },
     "output_type": "display_data"
    }
   ],
   "source": [
    "#printing confusion matrix on train set\n",
    "\n",
    "confusion_mat_train(y_train,y_train_pred)"
   ]
  },
  {
   "cell_type": "code",
   "execution_count": 149,
   "metadata": {},
   "outputs": [
    {
     "data": {
      "image/png": "[encoded data removed]",
      "text/plain": [
       "<Figure size 432x288 with 1 Axes>"
      ]
     },
     "metadata": {
      "needs_background": "light"
     },
     "output_type": "display_data"
    }
   ],
   "source": [
    "#printing confusion matrix on test set\n",
    "\n",
    "confusion_mat_test(y_test,y_test_pred)"
   ]
  },
  {
   "cell_type": "code",
   "execution_count": 150,
   "metadata": {
    "id": "az8e4ibgpWwm"
   },
   "outputs": [
    {
     "data": {
      "image/png": "[encoded data removed]",
      "text/plain": [
       "<Figure size 432x288 with 1 Axes>"
      ]
     },
     "metadata": {
      "needs_background": "light"
     },
     "output_type": "display_data"
    }
   ],
   "source": [
    "#printing roc_auc_curve\n",
    "\n",
    "roc_auc_curve1(y_train,y_train_predprob,y_test,y_test_predprob) \n"
   ]
  },
  {
   "cell_type": "code",
   "execution_count": null,
   "metadata": {
    "id": "i0ZJXmO-pWwn"
   },
   "outputs": [],
   "source": []
  },
  {
   "cell_type": "code",
   "execution_count": null,
   "metadata": {
    "id": "4XeORkzEpWwn"
   },
   "outputs": [],
   "source": []
  },
  {
   "cell_type": "markdown",
   "metadata": {
    "id": "IASudZYppWwn"
   },
   "source": [
    "## Naive Bayes Classifier"
   ]
  },
  {
   "cell_type": "code",
   "execution_count": 151,
   "metadata": {
    "id": "NzkzFEn4pWwn"
   },
   "outputs": [],
   "source": [
    "from sklearn.naive_bayes import BernoulliNB"
   ]
  },
  {
   "cell_type": "code",
   "execution_count": 152,
   "metadata": {
    "id": "dBh5qND6pWwn"
   },
   "outputs": [],
   "source": [
    "bnb=BernoulliNB()"
   ]
  },
  {
   "cell_type": "code",
   "execution_count": 153,
   "metadata": {
    "id": "rg6AjpsapWwn"
   },
   "outputs": [
    {
     "data": {
      "text/plain": [
       "BernoulliNB()"
      ]
     },
     "execution_count": 153,
     "metadata": {},
     "output_type": "execute_result"
    }
   ],
   "source": [
    "bnb.fit(X_train_selcols.drop(['Total Time Spent on Website','Asymmetrique Activity Index','Asymmetrique Profile Index'],axis=1),y_train)"
   ]
  },
  {
   "cell_type": "code",
   "execution_count": 154,
   "metadata": {
    "id": "OesgKYEMpWwo"
   },
   "outputs": [],
   "source": [
    "y_test_pred=bnb.predict(X_test_selcols.drop(['Total Time Spent on Website','Asymmetrique Activity Index','Asymmetrique Profile Index'],axis=1))\n",
    "y_test_predprob=bnb.predict_proba(X_test_selcols.drop(['Total Time Spent on Website','Asymmetrique Activity Index','Asymmetrique Profile Index'],axis=1))[:,1]\n",
    "\n"
   ]
  },
  {
   "cell_type": "code",
   "execution_count": 155,
   "metadata": {
    "id": "4GKOnbWXpWwo"
   },
   "outputs": [],
   "source": [
    "y_train_pred=bnb.predict(X_train_selcols.drop(['Total Time Spent on Website','Asymmetrique Activity Index','Asymmetrique Profile Index'],axis=1))\n",
    "y_train_predprob=bnb.predict_proba(X_train_selcols.drop(['Total Time Spent on Website','Asymmetrique Activity Index','Asymmetrique Profile Index'],axis=1))[:,1]\n",
    "\n"
   ]
  },
  {
   "cell_type": "code",
   "execution_count": 156,
   "metadata": {
    "colab": {
     "base_uri": "https://localhost:8080/"
    },
    "id": "PWewXytopWwo",
    "outputId": "40e60591-43f6-4a6b-b129-0ad6098fd9f1"
   },
   "outputs": [
    {
     "name": "stdout",
     "output_type": "stream",
     "text": [
      "accuracy score on train set= 0.8246753246753247\n",
      "roc_auc_score on train set= 0.8926975552988243\n",
      "precision score on train set = 0.8191489361702128\n",
      "recall score pn train set= 0.7044550517104217\n",
      "f1 score on train set= 0.7574850299401198\n"
     ]
    }
   ],
   "source": [
    "# printing all scores on train set \n",
    "\n",
    "train_scores(bnb,'Naive Bayes Classifier',X_train_selcols.drop(['Total Time Spent on Website','Asymmetrique Activity Index','Asymmetrique Profile Index'],axis=1),y_train,y_train_pred,y_train_predprob)\n",
    "\n",
    "\n"
   ]
  },
  {
   "cell_type": "code",
   "execution_count": 157,
   "metadata": {
    "colab": {
     "base_uri": "https://localhost:8080/"
    },
    "id": "f7HdUc1ppWwp",
    "outputId": "80b5d3cc-b495-497a-e720-061abb9a3dd1"
   },
   "outputs": [
    {
     "name": "stdout",
     "output_type": "stream",
     "text": [
      "accuracy score on test set= 0.829004329004329\n",
      "roc_auc_score on test set= 0.896024251484573\n",
      "precision score on test set= 0.8304498269896193\n",
      "recall score on test set= 0.6876790830945558\n",
      "f1 score on test set= 0.7523510971786833\n"
     ]
    }
   ],
   "source": [
    "# printing all scores on test set \n",
    "\n",
    "test_scores(bnb,X_test_selcols.drop(['Total Time Spent on Website','Asymmetrique Activity Index','Asymmetrique Profile Index'],axis=1),y_test,y_test_pred,y_test_predprob)"
   ]
  },
  {
   "cell_type": "code",
   "execution_count": 158,
   "metadata": {
    "colab": {
     "base_uri": "https://localhost:8080/"
    },
    "id": "MUlQq6HKpWwZ",
    "outputId": "d4e40c36-f4d5-4aab-e0ba-80ac0494ae06"
   },
   "outputs": [
    {
     "data": {
      "image/png": "[encoded data removed]",
      "text/plain": [
       "<Figure size 432x288 with 1 Axes>"
      ]
     },
     "metadata": {
      "needs_background": "light"
     },
     "output_type": "display_data"
    }
   ],
   "source": [
    "#printing confusion matrix on train set\n",
    "\n",
    "confusion_mat_train(y_train,y_train_pred)"
   ]
  },
  {
   "cell_type": "code",
   "execution_count": 159,
   "metadata": {},
   "outputs": [
    {
     "data": {
      "image/png": "[encoded data removed]",
      "text/plain": [
       "<Figure size 432x288 with 1 Axes>"
      ]
     },
     "metadata": {
      "needs_background": "light"
     },
     "output_type": "display_data"
    }
   ],
   "source": [
    "#printing confusion matrix on test set\n",
    "\n",
    "confusion_mat_test(y_test,y_test_pred)"
   ]
  },
  {
   "cell_type": "code",
   "execution_count": 160,
   "metadata": {
    "id": "XSDPWI9ZpWwp"
   },
   "outputs": [
    {
     "data": {
      "image/png": "[encoded data removed]",
      "text/plain": [
       "<Figure size 432x288 with 1 Axes>"
      ]
     },
     "metadata": {
      "needs_background": "light"
     },
     "output_type": "display_data"
    }
   ],
   "source": [
    "#printing roc_auc_curve\n",
    "\n",
    "roc_auc_curve1(y_train,y_train_predprob,y_test,y_test_predprob) \n"
   ]
  },
  {
   "cell_type": "code",
   "execution_count": null,
   "metadata": {
    "colab": {
     "base_uri": "https://localhost:8080/",
     "height": 195
    },
    "id": "35EM0j06pWwp",
    "outputId": "5904ba93-afe0-453c-bb3f-716bd34a6bad"
   },
   "outputs": [],
   "source": []
  },
  {
   "cell_type": "code",
   "execution_count": null,
   "metadata": {
    "id": "Nkg4eTvkH6SS"
   },
   "outputs": [],
   "source": []
  },
  {
   "cell_type": "markdown",
   "metadata": {
    "id": "fqIo7TmqpWwq"
   },
   "source": [
    "## KNN Classifier"
   ]
  },
  {
   "cell_type": "code",
   "execution_count": 161,
   "metadata": {
    "colab": {
     "base_uri": "https://localhost:8080/",
     "height": 282
    },
    "id": "gjO62U1tpWwq",
    "outputId": "9dc9d0ad-9007-4e8e-9ba3-966ac6091c87"
   },
   "outputs": [
    {
     "data": {
      "text/html": [
       "<div>\n",
       "<style scoped>\n",
       "    .dataframe tbody tr th:only-of-type {\n",
       "        vertical-align: middle;\n",
       "    }\n",
       "\n",
       "    .dataframe tbody tr th {\n",
       "        vertical-align: top;\n",
       "    }\n",
       "\n",
       "    .dataframe thead th {\n",
       "        text-align: right;\n",
       "    }\n",
       "</style>\n",
       "<table border=\"1\" class=\"dataframe\">\n",
       "  <thead>\n",
       "    <tr style=\"text-align: right;\">\n",
       "      <th></th>\n",
       "      <th>Total Time Spent on Website</th>\n",
       "      <th>Asymmetrique Activity Index</th>\n",
       "      <th>Asymmetrique Profile Index</th>\n",
       "      <th>Lead Source_Other Sources</th>\n",
       "      <th>Lead Source_Reference</th>\n",
       "      <th>Do Not Email_Yes</th>\n",
       "      <th>Last Activity_Email Responded</th>\n",
       "      <th>Last Activity_Email Unsubscribed</th>\n",
       "      <th>Last Activity_Olark Chat Conversation</th>\n",
       "      <th>Last Activity_SMS Reverted</th>\n",
       "      <th>Country_other_country</th>\n",
       "      <th>Country_unknown</th>\n",
       "      <th>Specialization_HR</th>\n",
       "      <th>Specialization_Healthcare</th>\n",
       "      <th>Specialization_IT Projects</th>\n",
       "      <th>Specialization_International Business</th>\n",
       "      <th>Specialization_Logistics</th>\n",
       "      <th>Specialization_Marketing</th>\n",
       "      <th>Specialization_Rural and Agribusiness</th>\n",
       "      <th>Specialization_Tourism</th>\n",
       "      <th>Specialization_unknown</th>\n",
       "      <th>How did you hear about X Education_Email</th>\n",
       "      <th>How did you hear about X Education_Multiple Sources</th>\n",
       "      <th>How did you hear about X Education_Online Search</th>\n",
       "      <th>How did you hear about X Education_Other</th>\n",
       "      <th>How did you hear about X Education_SMS</th>\n",
       "      <th>How did you hear about X Education_Social Media</th>\n",
       "      <th>How did you hear about X Education_Student of SomeSchool</th>\n",
       "      <th>How did you hear about X Education_Word Of Mouth</th>\n",
       "      <th>How did you hear about X Education_unknown</th>\n",
       "      <th>What is your current occupation_Others</th>\n",
       "      <th>What is your current occupation_Unemployed</th>\n",
       "      <th>What is your current occupation_Working Professional</th>\n",
       "      <th>What matters most to you in choosing a course_Others</th>\n",
       "      <th>Tags_Graduation in progress</th>\n",
       "      <th>Tags_Not Eligible</th>\n",
       "      <th>Tags_Not Reachable</th>\n",
       "      <th>Tags_Response Received</th>\n",
       "      <th>Tags_Status Unknown</th>\n",
       "      <th>Lead Quality_Low in Relevance</th>\n",
       "      <th>Lead Quality_Might be</th>\n",
       "      <th>Lead Quality_Not Sure</th>\n",
       "      <th>Lead Quality_Worst</th>\n",
       "      <th>Lead Profile_Lateral Student</th>\n",
       "      <th>Lead Profile_Other Leads</th>\n",
       "      <th>Lead Profile_Potential Lead</th>\n",
       "      <th>Lead Profile_Student of SomeSchool</th>\n",
       "      <th>Lead Profile_Unknown</th>\n",
       "      <th>City_Tier2</th>\n",
       "      <th>City_Unknown</th>\n",
       "      <th>A free copy of Mastering The Interview_Yes</th>\n",
       "      <th>Last Notable Activity_Email Bounced</th>\n",
       "      <th>Last Notable Activity_Email Link Clicked</th>\n",
       "      <th>Last Notable Activity_Email Marked Spam</th>\n",
       "      <th>Last Notable Activity_Email Opened</th>\n",
       "      <th>Last Notable Activity_Had a Phone Conversation</th>\n",
       "      <th>Last Notable Activity_Modified</th>\n",
       "      <th>Last Notable Activity_Olark Chat Conversation</th>\n",
       "      <th>Last Notable Activity_Page Visited on Website</th>\n",
       "      <th>Last Notable Activity_Resubscribed to emails</th>\n",
       "      <th>Last Notable Activity_SMS Sent</th>\n",
       "      <th>Last Notable Activity_Unreachable</th>\n",
       "      <th>Last Notable Activity_Unsubscribed</th>\n",
       "    </tr>\n",
       "  </thead>\n",
       "  <tbody>\n",
       "    <tr>\n",
       "      <th>0</th>\n",
       "      <td>0.427630</td>\n",
       "      <td>0.5</td>\n",
       "      <td>0.5</td>\n",
       "      <td>0.0</td>\n",
       "      <td>0.0</td>\n",
       "      <td>0.0</td>\n",
       "      <td>1.0</td>\n",
       "      <td>0.0</td>\n",
       "      <td>0.0</td>\n",
       "      <td>0.0</td>\n",
       "      <td>0.0</td>\n",
       "      <td>0.0</td>\n",
       "      <td>0.0</td>\n",
       "      <td>0.0</td>\n",
       "      <td>0.0</td>\n",
       "      <td>0.0</td>\n",
       "      <td>0.0</td>\n",
       "      <td>0.0</td>\n",
       "      <td>0.0</td>\n",
       "      <td>0.0</td>\n",
       "      <td>0.0</td>\n",
       "      <td>0.0</td>\n",
       "      <td>0.0</td>\n",
       "      <td>0.0</td>\n",
       "      <td>0.0</td>\n",
       "      <td>0.0</td>\n",
       "      <td>0.0</td>\n",
       "      <td>0.0</td>\n",
       "      <td>0.0</td>\n",
       "      <td>1.0</td>\n",
       "      <td>0.0</td>\n",
       "      <td>1.0</td>\n",
       "      <td>0.0</td>\n",
       "      <td>0.0</td>\n",
       "      <td>0.0</td>\n",
       "      <td>0.0</td>\n",
       "      <td>0.0</td>\n",
       "      <td>0.0</td>\n",
       "      <td>1.0</td>\n",
       "      <td>0.0</td>\n",
       "      <td>0.0</td>\n",
       "      <td>1.0</td>\n",
       "      <td>0.0</td>\n",
       "      <td>0.0</td>\n",
       "      <td>0.0</td>\n",
       "      <td>0.0</td>\n",
       "      <td>0.0</td>\n",
       "      <td>1.0</td>\n",
       "      <td>0.0</td>\n",
       "      <td>0.0</td>\n",
       "      <td>1.0</td>\n",
       "      <td>0.0</td>\n",
       "      <td>0.0</td>\n",
       "      <td>0.0</td>\n",
       "      <td>1.0</td>\n",
       "      <td>0.0</td>\n",
       "      <td>0.0</td>\n",
       "      <td>0.0</td>\n",
       "      <td>0.0</td>\n",
       "      <td>0.0</td>\n",
       "      <td>0.0</td>\n",
       "      <td>0.0</td>\n",
       "      <td>0.0</td>\n",
       "    </tr>\n",
       "    <tr>\n",
       "      <th>1</th>\n",
       "      <td>0.824341</td>\n",
       "      <td>0.5</td>\n",
       "      <td>1.0</td>\n",
       "      <td>0.0</td>\n",
       "      <td>0.0</td>\n",
       "      <td>0.0</td>\n",
       "      <td>0.0</td>\n",
       "      <td>0.0</td>\n",
       "      <td>0.0</td>\n",
       "      <td>1.0</td>\n",
       "      <td>0.0</td>\n",
       "      <td>0.0</td>\n",
       "      <td>0.0</td>\n",
       "      <td>0.0</td>\n",
       "      <td>0.0</td>\n",
       "      <td>0.0</td>\n",
       "      <td>0.0</td>\n",
       "      <td>1.0</td>\n",
       "      <td>0.0</td>\n",
       "      <td>0.0</td>\n",
       "      <td>0.0</td>\n",
       "      <td>0.0</td>\n",
       "      <td>0.0</td>\n",
       "      <td>0.0</td>\n",
       "      <td>0.0</td>\n",
       "      <td>0.0</td>\n",
       "      <td>0.0</td>\n",
       "      <td>0.0</td>\n",
       "      <td>0.0</td>\n",
       "      <td>1.0</td>\n",
       "      <td>0.0</td>\n",
       "      <td>1.0</td>\n",
       "      <td>0.0</td>\n",
       "      <td>0.0</td>\n",
       "      <td>0.0</td>\n",
       "      <td>0.0</td>\n",
       "      <td>1.0</td>\n",
       "      <td>0.0</td>\n",
       "      <td>0.0</td>\n",
       "      <td>0.0</td>\n",
       "      <td>0.0</td>\n",
       "      <td>1.0</td>\n",
       "      <td>0.0</td>\n",
       "      <td>0.0</td>\n",
       "      <td>0.0</td>\n",
       "      <td>0.0</td>\n",
       "      <td>0.0</td>\n",
       "      <td>1.0</td>\n",
       "      <td>0.0</td>\n",
       "      <td>0.0</td>\n",
       "      <td>1.0</td>\n",
       "      <td>0.0</td>\n",
       "      <td>0.0</td>\n",
       "      <td>0.0</td>\n",
       "      <td>0.0</td>\n",
       "      <td>0.0</td>\n",
       "      <td>0.0</td>\n",
       "      <td>0.0</td>\n",
       "      <td>0.0</td>\n",
       "      <td>0.0</td>\n",
       "      <td>1.0</td>\n",
       "      <td>0.0</td>\n",
       "      <td>0.0</td>\n",
       "    </tr>\n",
       "    <tr>\n",
       "      <th>2</th>\n",
       "      <td>0.744263</td>\n",
       "      <td>0.5</td>\n",
       "      <td>1.0</td>\n",
       "      <td>0.0</td>\n",
       "      <td>1.0</td>\n",
       "      <td>0.0</td>\n",
       "      <td>1.0</td>\n",
       "      <td>0.0</td>\n",
       "      <td>0.0</td>\n",
       "      <td>0.0</td>\n",
       "      <td>0.0</td>\n",
       "      <td>0.0</td>\n",
       "      <td>1.0</td>\n",
       "      <td>0.0</td>\n",
       "      <td>0.0</td>\n",
       "      <td>0.0</td>\n",
       "      <td>0.0</td>\n",
       "      <td>0.0</td>\n",
       "      <td>0.0</td>\n",
       "      <td>0.0</td>\n",
       "      <td>0.0</td>\n",
       "      <td>0.0</td>\n",
       "      <td>0.0</td>\n",
       "      <td>0.0</td>\n",
       "      <td>0.0</td>\n",
       "      <td>0.0</td>\n",
       "      <td>0.0</td>\n",
       "      <td>0.0</td>\n",
       "      <td>0.0</td>\n",
       "      <td>1.0</td>\n",
       "      <td>0.0</td>\n",
       "      <td>0.0</td>\n",
       "      <td>0.0</td>\n",
       "      <td>0.0</td>\n",
       "      <td>0.0</td>\n",
       "      <td>0.0</td>\n",
       "      <td>0.0</td>\n",
       "      <td>0.0</td>\n",
       "      <td>0.0</td>\n",
       "      <td>1.0</td>\n",
       "      <td>0.0</td>\n",
       "      <td>0.0</td>\n",
       "      <td>0.0</td>\n",
       "      <td>0.0</td>\n",
       "      <td>0.0</td>\n",
       "      <td>1.0</td>\n",
       "      <td>0.0</td>\n",
       "      <td>0.0</td>\n",
       "      <td>0.0</td>\n",
       "      <td>0.0</td>\n",
       "      <td>1.0</td>\n",
       "      <td>0.0</td>\n",
       "      <td>0.0</td>\n",
       "      <td>0.0</td>\n",
       "      <td>1.0</td>\n",
       "      <td>0.0</td>\n",
       "      <td>0.0</td>\n",
       "      <td>0.0</td>\n",
       "      <td>0.0</td>\n",
       "      <td>0.0</td>\n",
       "      <td>0.0</td>\n",
       "      <td>0.0</td>\n",
       "      <td>0.0</td>\n",
       "    </tr>\n",
       "    <tr>\n",
       "      <th>3</th>\n",
       "      <td>0.710395</td>\n",
       "      <td>0.5</td>\n",
       "      <td>1.0</td>\n",
       "      <td>0.0</td>\n",
       "      <td>0.0</td>\n",
       "      <td>0.0</td>\n",
       "      <td>1.0</td>\n",
       "      <td>0.0</td>\n",
       "      <td>0.0</td>\n",
       "      <td>0.0</td>\n",
       "      <td>0.0</td>\n",
       "      <td>0.0</td>\n",
       "      <td>0.0</td>\n",
       "      <td>0.0</td>\n",
       "      <td>0.0</td>\n",
       "      <td>0.0</td>\n",
       "      <td>0.0</td>\n",
       "      <td>1.0</td>\n",
       "      <td>0.0</td>\n",
       "      <td>0.0</td>\n",
       "      <td>0.0</td>\n",
       "      <td>0.0</td>\n",
       "      <td>0.0</td>\n",
       "      <td>0.0</td>\n",
       "      <td>0.0</td>\n",
       "      <td>0.0</td>\n",
       "      <td>0.0</td>\n",
       "      <td>0.0</td>\n",
       "      <td>0.0</td>\n",
       "      <td>1.0</td>\n",
       "      <td>0.0</td>\n",
       "      <td>1.0</td>\n",
       "      <td>0.0</td>\n",
       "      <td>0.0</td>\n",
       "      <td>0.0</td>\n",
       "      <td>0.0</td>\n",
       "      <td>0.0</td>\n",
       "      <td>1.0</td>\n",
       "      <td>0.0</td>\n",
       "      <td>0.0</td>\n",
       "      <td>0.0</td>\n",
       "      <td>0.0</td>\n",
       "      <td>0.0</td>\n",
       "      <td>0.0</td>\n",
       "      <td>0.0</td>\n",
       "      <td>1.0</td>\n",
       "      <td>0.0</td>\n",
       "      <td>0.0</td>\n",
       "      <td>0.0</td>\n",
       "      <td>0.0</td>\n",
       "      <td>1.0</td>\n",
       "      <td>0.0</td>\n",
       "      <td>0.0</td>\n",
       "      <td>0.0</td>\n",
       "      <td>1.0</td>\n",
       "      <td>0.0</td>\n",
       "      <td>0.0</td>\n",
       "      <td>0.0</td>\n",
       "      <td>0.0</td>\n",
       "      <td>0.0</td>\n",
       "      <td>0.0</td>\n",
       "      <td>0.0</td>\n",
       "      <td>0.0</td>\n",
       "    </tr>\n",
       "    <tr>\n",
       "      <th>4</th>\n",
       "      <td>0.667221</td>\n",
       "      <td>0.5</td>\n",
       "      <td>0.5</td>\n",
       "      <td>0.0</td>\n",
       "      <td>0.0</td>\n",
       "      <td>0.0</td>\n",
       "      <td>1.0</td>\n",
       "      <td>0.0</td>\n",
       "      <td>0.0</td>\n",
       "      <td>0.0</td>\n",
       "      <td>0.0</td>\n",
       "      <td>0.0</td>\n",
       "      <td>0.0</td>\n",
       "      <td>0.0</td>\n",
       "      <td>0.0</td>\n",
       "      <td>0.0</td>\n",
       "      <td>1.0</td>\n",
       "      <td>0.0</td>\n",
       "      <td>0.0</td>\n",
       "      <td>0.0</td>\n",
       "      <td>0.0</td>\n",
       "      <td>0.0</td>\n",
       "      <td>0.0</td>\n",
       "      <td>0.0</td>\n",
       "      <td>0.0</td>\n",
       "      <td>0.0</td>\n",
       "      <td>1.0</td>\n",
       "      <td>0.0</td>\n",
       "      <td>0.0</td>\n",
       "      <td>0.0</td>\n",
       "      <td>0.0</td>\n",
       "      <td>1.0</td>\n",
       "      <td>0.0</td>\n",
       "      <td>0.0</td>\n",
       "      <td>0.0</td>\n",
       "      <td>0.0</td>\n",
       "      <td>1.0</td>\n",
       "      <td>0.0</td>\n",
       "      <td>0.0</td>\n",
       "      <td>0.0</td>\n",
       "      <td>0.0</td>\n",
       "      <td>1.0</td>\n",
       "      <td>0.0</td>\n",
       "      <td>0.0</td>\n",
       "      <td>0.0</td>\n",
       "      <td>0.0</td>\n",
       "      <td>0.0</td>\n",
       "      <td>1.0</td>\n",
       "      <td>0.0</td>\n",
       "      <td>0.0</td>\n",
       "      <td>0.0</td>\n",
       "      <td>0.0</td>\n",
       "      <td>0.0</td>\n",
       "      <td>0.0</td>\n",
       "      <td>1.0</td>\n",
       "      <td>0.0</td>\n",
       "      <td>0.0</td>\n",
       "      <td>0.0</td>\n",
       "      <td>0.0</td>\n",
       "      <td>0.0</td>\n",
       "      <td>0.0</td>\n",
       "      <td>0.0</td>\n",
       "      <td>0.0</td>\n",
       "    </tr>\n",
       "  </tbody>\n",
       "</table>\n",
       "</div>"
      ],
      "text/plain": [
       "   Total Time Spent on Website  Asymmetrique Activity Index  \\\n",
       "0                     0.427630                          0.5   \n",
       "1                     0.824341                          0.5   \n",
       "2                     0.744263                          0.5   \n",
       "3                     0.710395                          0.5   \n",
       "4                     0.667221                          0.5   \n",
       "\n",
       "   Asymmetrique Profile Index  Lead Source_Other Sources  \\\n",
       "0                         0.5                        0.0   \n",
       "1                         1.0                        0.0   \n",
       "2                         1.0                        0.0   \n",
       "3                         1.0                        0.0   \n",
       "4                         0.5                        0.0   \n",
       "\n",
       "   Lead Source_Reference  Do Not Email_Yes  Last Activity_Email Responded  \\\n",
       "0                    0.0               0.0                            1.0   \n",
       "1                    0.0               0.0                            0.0   \n",
       "2                    1.0               0.0                            1.0   \n",
       "3                    0.0               0.0                            1.0   \n",
       "4                    0.0               0.0                            1.0   \n",
       "\n",
       "   Last Activity_Email Unsubscribed  Last Activity_Olark Chat Conversation  \\\n",
       "0                               0.0                                    0.0   \n",
       "1                               0.0                                    0.0   \n",
       "2                               0.0                                    0.0   \n",
       "3                               0.0                                    0.0   \n",
       "4                               0.0                                    0.0   \n",
       "\n",
       "   Last Activity_SMS Reverted  Country_other_country  Country_unknown  \\\n",
       "0                         0.0                    0.0              0.0   \n",
       "1                         1.0                    0.0              0.0   \n",
       "2                         0.0                    0.0              0.0   \n",
       "3                         0.0                    0.0              0.0   \n",
       "4                         0.0                    0.0              0.0   \n",
       "\n",
       "   Specialization_HR  Specialization_Healthcare  Specialization_IT Projects  \\\n",
       "0                0.0                        0.0                         0.0   \n",
       "1                0.0                        0.0                         0.0   \n",
       "2                1.0                        0.0                         0.0   \n",
       "3                0.0                        0.0                         0.0   \n",
       "4                0.0                        0.0                         0.0   \n",
       "\n",
       "   Specialization_International Business  Specialization_Logistics  \\\n",
       "0                                    0.0                       0.0   \n",
       "1                                    0.0                       0.0   \n",
       "2                                    0.0                       0.0   \n",
       "3                                    0.0                       0.0   \n",
       "4                                    0.0                       1.0   \n",
       "\n",
       "   Specialization_Marketing  Specialization_Rural and Agribusiness  \\\n",
       "0                       0.0                                    0.0   \n",
       "1                       1.0                                    0.0   \n",
       "2                       0.0                                    0.0   \n",
       "3                       1.0                                    0.0   \n",
       "4                       0.0                                    0.0   \n",
       "\n",
       "   Specialization_Tourism  Specialization_unknown  \\\n",
       "0                     0.0                     0.0   \n",
       "1                     0.0                     0.0   \n",
       "2                     0.0                     0.0   \n",
       "3                     0.0                     0.0   \n",
       "4                     0.0                     0.0   \n",
       "\n",
       "   How did you hear about X Education_Email  \\\n",
       "0                                       0.0   \n",
       "1                                       0.0   \n",
       "2                                       0.0   \n",
       "3                                       0.0   \n",
       "4                                       0.0   \n",
       "\n",
       "   How did you hear about X Education_Multiple Sources  \\\n",
       "0                                                0.0     \n",
       "1                                                0.0     \n",
       "2                                                0.0     \n",
       "3                                                0.0     \n",
       "4                                                0.0     \n",
       "\n",
       "   How did you hear about X Education_Online Search  \\\n",
       "0                                               0.0   \n",
       "1                                               0.0   \n",
       "2                                               0.0   \n",
       "3                                               0.0   \n",
       "4                                               0.0   \n",
       "\n",
       "   How did you hear about X Education_Other  \\\n",
       "0                                       0.0   \n",
       "1                                       0.0   \n",
       "2                                       0.0   \n",
       "3                                       0.0   \n",
       "4                                       0.0   \n",
       "\n",
       "   How did you hear about X Education_SMS  \\\n",
       "0                                     0.0   \n",
       "1                                     0.0   \n",
       "2                                     0.0   \n",
       "3                                     0.0   \n",
       "4                                     0.0   \n",
       "\n",
       "   How did you hear about X Education_Social Media  \\\n",
       "0                                              0.0   \n",
       "1                                              0.0   \n",
       "2                                              0.0   \n",
       "3                                              0.0   \n",
       "4                                              1.0   \n",
       "\n",
       "   How did you hear about X Education_Student of SomeSchool  \\\n",
       "0                                                0.0          \n",
       "1                                                0.0          \n",
       "2                                                0.0          \n",
       "3                                                0.0          \n",
       "4                                                0.0          \n",
       "\n",
       "   How did you hear about X Education_Word Of Mouth  \\\n",
       "0                                               0.0   \n",
       "1                                               0.0   \n",
       "2                                               0.0   \n",
       "3                                               0.0   \n",
       "4                                               0.0   \n",
       "\n",
       "   How did you hear about X Education_unknown  \\\n",
       "0                                         1.0   \n",
       "1                                         1.0   \n",
       "2                                         1.0   \n",
       "3                                         1.0   \n",
       "4                                         0.0   \n",
       "\n",
       "   What is your current occupation_Others  \\\n",
       "0                                     0.0   \n",
       "1                                     0.0   \n",
       "2                                     0.0   \n",
       "3                                     0.0   \n",
       "4                                     0.0   \n",
       "\n",
       "   What is your current occupation_Unemployed  \\\n",
       "0                                         1.0   \n",
       "1                                         1.0   \n",
       "2                                         0.0   \n",
       "3                                         1.0   \n",
       "4                                         1.0   \n",
       "\n",
       "   What is your current occupation_Working Professional  \\\n",
       "0                                                0.0      \n",
       "1                                                0.0      \n",
       "2                                                0.0      \n",
       "3                                                0.0      \n",
       "4                                                0.0      \n",
       "\n",
       "   What matters most to you in choosing a course_Others  \\\n",
       "0                                                0.0      \n",
       "1                                                0.0      \n",
       "2                                                0.0      \n",
       "3                                                0.0      \n",
       "4                                                0.0      \n",
       "\n",
       "   Tags_Graduation in progress  Tags_Not Eligible  Tags_Not Reachable  \\\n",
       "0                          0.0                0.0                 0.0   \n",
       "1                          0.0                0.0                 1.0   \n",
       "2                          0.0                0.0                 0.0   \n",
       "3                          0.0                0.0                 0.0   \n",
       "4                          0.0                0.0                 1.0   \n",
       "\n",
       "   Tags_Response Received  Tags_Status Unknown  Lead Quality_Low in Relevance  \\\n",
       "0                     0.0                  1.0                            0.0   \n",
       "1                     0.0                  0.0                            0.0   \n",
       "2                     0.0                  0.0                            1.0   \n",
       "3                     1.0                  0.0                            0.0   \n",
       "4                     0.0                  0.0                            0.0   \n",
       "\n",
       "   Lead Quality_Might be  Lead Quality_Not Sure  Lead Quality_Worst  \\\n",
       "0                    0.0                    1.0                 0.0   \n",
       "1                    0.0                    1.0                 0.0   \n",
       "2                    0.0                    0.0                 0.0   \n",
       "3                    0.0                    0.0                 0.0   \n",
       "4                    0.0                    1.0                 0.0   \n",
       "\n",
       "   Lead Profile_Lateral Student  Lead Profile_Other Leads  \\\n",
       "0                           0.0                       0.0   \n",
       "1                           0.0                       0.0   \n",
       "2                           0.0                       0.0   \n",
       "3                           0.0                       0.0   \n",
       "4                           0.0                       0.0   \n",
       "\n",
       "   Lead Profile_Potential Lead  Lead Profile_Student of SomeSchool  \\\n",
       "0                          0.0                                 0.0   \n",
       "1                          0.0                                 0.0   \n",
       "2                          1.0                                 0.0   \n",
       "3                          1.0                                 0.0   \n",
       "4                          0.0                                 0.0   \n",
       "\n",
       "   Lead Profile_Unknown  City_Tier2  City_Unknown  \\\n",
       "0                   1.0         0.0           0.0   \n",
       "1                   1.0         0.0           0.0   \n",
       "2                   0.0         0.0           0.0   \n",
       "3                   0.0         0.0           0.0   \n",
       "4                   1.0         0.0           0.0   \n",
       "\n",
       "   A free copy of Mastering The Interview_Yes  \\\n",
       "0                                         1.0   \n",
       "1                                         1.0   \n",
       "2                                         1.0   \n",
       "3                                         1.0   \n",
       "4                                         0.0   \n",
       "\n",
       "   Last Notable Activity_Email Bounced  \\\n",
       "0                                  0.0   \n",
       "1                                  0.0   \n",
       "2                                  0.0   \n",
       "3                                  0.0   \n",
       "4                                  0.0   \n",
       "\n",
       "   Last Notable Activity_Email Link Clicked  \\\n",
       "0                                       0.0   \n",
       "1                                       0.0   \n",
       "2                                       0.0   \n",
       "3                                       0.0   \n",
       "4                                       0.0   \n",
       "\n",
       "   Last Notable Activity_Email Marked Spam  \\\n",
       "0                                      0.0   \n",
       "1                                      0.0   \n",
       "2                                      0.0   \n",
       "3                                      0.0   \n",
       "4                                      0.0   \n",
       "\n",
       "   Last Notable Activity_Email Opened  \\\n",
       "0                                 1.0   \n",
       "1                                 0.0   \n",
       "2                                 1.0   \n",
       "3                                 1.0   \n",
       "4                                 1.0   \n",
       "\n",
       "   Last Notable Activity_Had a Phone Conversation  \\\n",
       "0                                             0.0   \n",
       "1                                             0.0   \n",
       "2                                             0.0   \n",
       "3                                             0.0   \n",
       "4                                             0.0   \n",
       "\n",
       "   Last Notable Activity_Modified  \\\n",
       "0                             0.0   \n",
       "1                             0.0   \n",
       "2                             0.0   \n",
       "3                             0.0   \n",
       "4                             0.0   \n",
       "\n",
       "   Last Notable Activity_Olark Chat Conversation  \\\n",
       "0                                            0.0   \n",
       "1                                            0.0   \n",
       "2                                            0.0   \n",
       "3                                            0.0   \n",
       "4                                            0.0   \n",
       "\n",
       "   Last Notable Activity_Page Visited on Website  \\\n",
       "0                                            0.0   \n",
       "1                                            0.0   \n",
       "2                                            0.0   \n",
       "3                                            0.0   \n",
       "4                                            0.0   \n",
       "\n",
       "   Last Notable Activity_Resubscribed to emails  \\\n",
       "0                                           0.0   \n",
       "1                                           0.0   \n",
       "2                                           0.0   \n",
       "3                                           0.0   \n",
       "4                                           0.0   \n",
       "\n",
       "   Last Notable Activity_SMS Sent  Last Notable Activity_Unreachable  \\\n",
       "0                             0.0                                0.0   \n",
       "1                             1.0                                0.0   \n",
       "2                             0.0                                0.0   \n",
       "3                             0.0                                0.0   \n",
       "4                             0.0                                0.0   \n",
       "\n",
       "   Last Notable Activity_Unsubscribed  \n",
       "0                                 0.0  \n",
       "1                                 0.0  \n",
       "2                                 0.0  \n",
       "3                                 0.0  \n",
       "4                                 0.0  "
      ]
     },
     "execution_count": 161,
     "metadata": {},
     "output_type": "execute_result"
    }
   ],
   "source": [
    "X_train_selcols.head()"
   ]
  },
  {
   "cell_type": "code",
   "execution_count": 162,
   "metadata": {
    "id": "dtQWRJInpWwq"
   },
   "outputs": [],
   "source": [
    "from sklearn.neighbors import KNeighborsClassifier"
   ]
  },
  {
   "cell_type": "code",
   "execution_count": 163,
   "metadata": {
    "id": "Sz0yau9ApWwq"
   },
   "outputs": [],
   "source": [
    "knn=KNeighborsClassifier(  )            "
   ]
  },
  {
   "cell_type": "code",
   "execution_count": 164,
   "metadata": {
    "id": "nPQIqd2D319b"
   },
   "outputs": [],
   "source": [
    "params={'n_neighbors':np.arange(1,50),'p':[0,1,2],'weights':['uniform','distance']\n",
    "        }"
   ]
  },
  {
   "cell_type": "code",
   "execution_count": 165,
   "metadata": {
    "id": "IcmrTV2b3197"
   },
   "outputs": [],
   "source": [
    "from sklearn.model_selection import RandomizedSearchCV"
   ]
  },
  {
   "cell_type": "code",
   "execution_count": 166,
   "metadata": {
    "id": "aSfxTzOB3197"
   },
   "outputs": [],
   "source": [
    "rsearch=RandomizedSearchCV(knn,param_distributions=params,cv=10,scoring='roc_auc',n_iter=150,n_jobs=-1)"
   ]
  },
  {
   "cell_type": "code",
   "execution_count": 167,
   "metadata": {
    "colab": {
     "base_uri": "https://localhost:8080/"
    },
    "id": "lBz3NlIo3198",
    "outputId": "a736d27f-ed71-44ad-e9c0-43b06f7eda4c"
   },
   "outputs": [
    {
     "data": {
      "text/plain": [
       "RandomizedSearchCV(cv=10, estimator=KNeighborsClassifier(), n_iter=150,\n",
       "                   n_jobs=-1,\n",
       "                   param_distributions={'n_neighbors': array([ 1,  2,  3,  4,  5,  6,  7,  8,  9, 10, 11, 12, 13, 14, 15, 16, 17,\n",
       "       18, 19, 20, 21, 22, 23, 24, 25, 26, 27, 28, 29, 30, 31, 32, 33, 34,\n",
       "       35, 36, 37, 38, 39, 40, 41, 42, 43, 44, 45, 46, 47, 48, 49]),\n",
       "                                        'p': [0, 1, 2],\n",
       "                                        'weights': ['uniform', 'distance']},\n",
       "                   scoring='roc_auc')"
      ]
     },
     "execution_count": 167,
     "metadata": {},
     "output_type": "execute_result"
    }
   ],
   "source": [
    "rsearch.fit(X_train_selcols,y_train)"
   ]
  },
  {
   "cell_type": "code",
   "execution_count": 168,
   "metadata": {
    "colab": {
     "base_uri": "https://localhost:8080/"
    },
    "id": "qwBvCAP8319-",
    "outputId": "aed9c879-a6b9-427c-8ca4-67156a8437a7"
   },
   "outputs": [
    {
     "data": {
      "text/plain": [
       "{'weights': 'distance', 'p': 1, 'n_neighbors': 43}"
      ]
     },
     "execution_count": 168,
     "metadata": {},
     "output_type": "execute_result"
    }
   ],
   "source": [
    "rsearch.best_params_"
   ]
  },
  {
   "cell_type": "code",
   "execution_count": 169,
   "metadata": {
    "id": "NL9i1HqppWwq"
   },
   "outputs": [],
   "source": [
    "knn1=KNeighborsClassifier( **rsearch.best_params_ )            "
   ]
  },
  {
   "cell_type": "code",
   "execution_count": 170,
   "metadata": {
    "colab": {
     "base_uri": "https://localhost:8080/"
    },
    "id": "96GBrK6CpWwq",
    "outputId": "5337ea0d-c2ab-4dbc-f5e2-bec567dd1516"
   },
   "outputs": [
    {
     "data": {
      "text/plain": [
       "KNeighborsClassifier(n_neighbors=43, p=1, weights='distance')"
      ]
     },
     "execution_count": 170,
     "metadata": {},
     "output_type": "execute_result"
    }
   ],
   "source": [
    "knn1.fit(X_train_selcols,y_train)"
   ]
  },
  {
   "cell_type": "code",
   "execution_count": 171,
   "metadata": {
    "id": "RFWWwKgsGFPo"
   },
   "outputs": [],
   "source": [
    "y_train_pred=knn1.predict(X_train_selcols)\n",
    "y_train_predprob=knn1.predict_proba(X_train_selcols)[:,1]"
   ]
  },
  {
   "cell_type": "code",
   "execution_count": 172,
   "metadata": {
    "id": "yyLoH20qpWwr"
   },
   "outputs": [],
   "source": [
    "y_test_pred=knn1.predict(X_test_selcols)\n",
    "y_test_predprob=knn1.predict_proba(X_test_selcols)[:,1]"
   ]
  },
  {
   "cell_type": "code",
   "execution_count": 173,
   "metadata": {
    "colab": {
     "base_uri": "https://localhost:8080/"
    },
    "id": "ewU0cOB7pWwr",
    "outputId": "517996d4-e858-4d41-9fbd-b9cbd69ce92e"
   },
   "outputs": [
    {
     "name": "stdout",
     "output_type": "stream",
     "text": [
      "accuracy score on train set= 0.9927334570191713\n",
      "roc_auc_score on train set= 0.999490460905022\n",
      "precision score on train set = 0.990067540723083\n",
      "recall score pn train set= 0.9912490055688147\n",
      "f1 score on train set= 0.9906579208904791\n"
     ]
    }
   ],
   "source": [
    "# printing all scores on train set \n",
    "\n",
    "train_scores(knn1,'KNN Classifier',X_train_selcols,y_train,y_train_pred,y_train_predprob)\n"
   ]
  },
  {
   "cell_type": "code",
   "execution_count": 174,
   "metadata": {
    "colab": {
     "base_uri": "https://localhost:8080/"
    },
    "id": "5NXHpxpYHhf0",
    "outputId": "bf30e988-5496-4f85-8ad9-d155a0fb44bd"
   },
   "outputs": [
    {
     "name": "stdout",
     "output_type": "stream",
     "text": [
      "accuracy score on test set= 0.8943001443001443\n",
      "roc_auc_score on test set= 0.9522876956937004\n",
      "precision score on test set= 0.8943514644351465\n",
      "recall score on test set= 0.8166189111747851\n",
      "f1 score on test set= 0.8537194208686969\n"
     ]
    }
   ],
   "source": [
    "\n",
    "# printing all scores on test set\n",
    "\n",
    "test_scores(knn1,X_test_selcols,y_test,y_test_pred,y_test_predprob)"
   ]
  },
  {
   "cell_type": "code",
   "execution_count": 175,
   "metadata": {
    "colab": {
     "base_uri": "https://localhost:8080/"
    },
    "id": "MUlQq6HKpWwZ",
    "outputId": "d4e40c36-f4d5-4aab-e0ba-80ac0494ae06"
   },
   "outputs": [
    {
     "data": {
      "image/png": "[encoded data removed]",
      "text/plain": [
       "<Figure size 432x288 with 1 Axes>"
      ]
     },
     "metadata": {
      "needs_background": "light"
     },
     "output_type": "display_data"
    }
   ],
   "source": [
    "#printing confusion matrix on train set\n",
    "\n",
    "confusion_mat_train(y_train,y_train_pred)"
   ]
  },
  {
   "cell_type": "code",
   "execution_count": 176,
   "metadata": {},
   "outputs": [
    {
     "data": {
      "image/png": "[encoded data removed]",
      "text/plain": [
       "<Figure size 432x288 with 1 Axes>"
      ]
     },
     "metadata": {
      "needs_background": "light"
     },
     "output_type": "display_data"
    }
   ],
   "source": [
    "#printing confusion matrix on test set\n",
    "\n",
    "confusion_mat_test(y_test,y_test_pred)"
   ]
  },
  {
   "cell_type": "code",
   "execution_count": 177,
   "metadata": {
    "id": "gsKlcLZqI9xo"
   },
   "outputs": [
    {
     "data": {
      "image/png": "[encoded data removed]",
      "text/plain": [
       "<Figure size 432x288 with 1 Axes>"
      ]
     },
     "metadata": {
      "needs_background": "light"
     },
     "output_type": "display_data"
    }
   ],
   "source": [
    "# printing roc_auc_curve\n",
    "\n",
    "roc_auc_curve1(y_train,y_train_predprob,y_test,y_test_predprob) \n"
   ]
  },
  {
   "cell_type": "code",
   "execution_count": null,
   "metadata": {
    "id": "TpDFrpOZxNom"
   },
   "outputs": [],
   "source": []
  },
  {
   "cell_type": "markdown",
   "metadata": {
    "id": "6M-xOrZrI92S"
   },
   "source": [
    "## GradientBoosting Classifier"
   ]
  },
  {
   "cell_type": "code",
   "execution_count": 178,
   "metadata": {
    "id": "5i1pn-18I97-"
   },
   "outputs": [],
   "source": [
    "from sklearn.ensemble import GradientBoostingClassifier"
   ]
  },
  {
   "cell_type": "code",
   "execution_count": 179,
   "metadata": {
    "id": "DKREM3NFI-VT"
   },
   "outputs": [],
   "source": [
    "gbc=GradientBoostingClassifier(random_state=10)"
   ]
  },
  {
   "cell_type": "code",
   "execution_count": 180,
   "metadata": {
    "id": "rz4hOCW5K4wQ"
   },
   "outputs": [],
   "source": [
    "params={'n_estimators':sp_randint(80,250),'max_depth':sp_randint(2,10),'learning_rate':np.logspace(-3,-1,100),'max_features':sp_randint(5,10)}"
   ]
  },
  {
   "cell_type": "code",
   "execution_count": 181,
   "metadata": {
    "id": "RJQx75NLK4wR"
   },
   "outputs": [],
   "source": [
    "from sklearn.model_selection import RandomizedSearchCV"
   ]
  },
  {
   "cell_type": "code",
   "execution_count": 182,
   "metadata": {
    "id": "GzyivvThK4wR"
   },
   "outputs": [],
   "source": [
    "rsearch=RandomizedSearchCV(gbc,param_distributions=params,cv=10,scoring='roc_auc',n_iter=100,n_jobs=-1)"
   ]
  },
  {
   "cell_type": "code",
   "execution_count": null,
   "metadata": {
    "id": "7qFjVPyyJ0IO"
   },
   "outputs": [],
   "source": []
  },
  {
   "cell_type": "code",
   "execution_count": 184,
   "metadata": {
    "colab": {
     "base_uri": "https://localhost:8080/"
    },
    "id": "_FmA6YNPM_Nz",
    "outputId": "d515b2a2-8235-468c-e7d0-51991dbaebf9"
   },
   "outputs": [
    {
     "data": {
      "text/plain": [
       "RandomizedSearchCV(cv=10, estimator=GradientBoostingClassifier(random_state=10),\n",
       "                   n_iter=100, n_jobs=-1,\n",
       "                   param_distributions={'learning_rate': array([0.001     , 0.00104762, 0.0010975 , 0.00114976, 0.0012045 ,\n",
       "       0.00126186, 0.00132194, 0.00138489, 0.00145083, 0.00151991,\n",
       "       0.00159228, 0.0016681 , 0.00174753, 0.00183074, 0.00191791,\n",
       "       0.00200923, 0.0021049 , 0.00220513, 0.00231013, 0.0024...\n",
       "       0.06579332, 0.06892612, 0.07220809, 0.07564633, 0.07924829,\n",
       "       0.08302176, 0.0869749 , 0.09111628, 0.09545485, 0.1       ]),\n",
       "                                        'max_depth': <scipy.stats._distn_infrastructure.rv_frozen object at 0x00000299AE2CA6A0>,\n",
       "                                        'max_features': <scipy.stats._distn_infrastructure.rv_frozen object at 0x00000299AE4E7F10>,\n",
       "                                        'n_estimators': <scipy.stats._distn_infrastructure.rv_frozen object at 0x00000299AE4F9850>},\n",
       "                   scoring='roc_auc')"
      ]
     },
     "execution_count": 184,
     "metadata": {},
     "output_type": "execute_result"
    }
   ],
   "source": [
    "rsearch.fit(X_train_selcols,y_train)"
   ]
  },
  {
   "cell_type": "code",
   "execution_count": 185,
   "metadata": {
    "colab": {
     "base_uri": "https://localhost:8080/"
    },
    "id": "eQBSexGPM_N_",
    "outputId": "13e8a11e-c452-4e5d-87c1-de3ab3276ece"
   },
   "outputs": [
    {
     "data": {
      "text/plain": [
       "{'learning_rate': 0.04132012400115339,\n",
       " 'max_depth': 7,\n",
       " 'max_features': 9,\n",
       " 'n_estimators': 208}"
      ]
     },
     "execution_count": 185,
     "metadata": {},
     "output_type": "execute_result"
    }
   ],
   "source": [
    "rsearch.best_params_"
   ]
  },
  {
   "cell_type": "code",
   "execution_count": 186,
   "metadata": {
    "id": "Wyzb1sMKM_OB"
   },
   "outputs": [],
   "source": [
    "gbc1=GradientBoostingClassifier(random_state=10,**rsearch.best_params_)"
   ]
  },
  {
   "cell_type": "code",
   "execution_count": 187,
   "metadata": {
    "colab": {
     "base_uri": "https://localhost:8080/"
    },
    "id": "gN6BOovrM_OC",
    "outputId": "58207062-7807-4250-9881-ac091af8605e"
   },
   "outputs": [
    {
     "data": {
      "text/plain": [
       "GradientBoostingClassifier(random_state=10)"
      ]
     },
     "execution_count": 187,
     "metadata": {},
     "output_type": "execute_result"
    }
   ],
   "source": [
    "gbc1.fit(X_train_selcols,y_train)"
   ]
  },
  {
   "cell_type": "code",
   "execution_count": 188,
   "metadata": {
    "id": "0LwPNtOTNx9J"
   },
   "outputs": [],
   "source": [
    "y_train_pred=gbc1.predict(X_train_selcols)\n",
    "y_train_predprob=gbc1.predict_proba(X_train_selcols)[:,1]"
   ]
  },
  {
   "cell_type": "code",
   "execution_count": 189,
   "metadata": {
    "id": "v3f4CsYmM_OD"
   },
   "outputs": [],
   "source": [
    "y_test_pred=gbc1.predict(X_test_selcols)\n",
    "y_test_predprob=gbc1.predict_proba(X_test_selcols)[:,1]"
   ]
  },
  {
   "cell_type": "code",
   "execution_count": 190,
   "metadata": {
    "id": "tkVcy3MwM_OE"
   },
   "outputs": [],
   "source": [
    "from sklearn import metrics"
   ]
  },
  {
   "cell_type": "code",
   "execution_count": 191,
   "metadata": {
    "colab": {
     "base_uri": "https://localhost:8080/"
    },
    "id": "nFzDZmPeM_OF",
    "outputId": "1fe06412-40ab-4e07-f835-b3a40b78cae0"
   },
   "outputs": [
    {
     "name": "stdout",
     "output_type": "stream",
     "text": [
      "accuracy score on train set= 0.9197588126159555\n",
      "roc_auc_score on train set= 0.9721402835069489\n",
      "precision score on train set = 0.92\n",
      "recall score pn train set= 0.8691328560063644\n",
      "f1 score on train set= 0.8938433217426878\n"
     ]
    }
   ],
   "source": [
    "# printing all scores on train set \n",
    "\n",
    "train_scores(gbc1,'GradientBoosting Classifier',X_train_selcols,y_train,y_train_pred,y_train_predprob)\n"
   ]
  },
  {
   "cell_type": "code",
   "execution_count": 192,
   "metadata": {
    "colab": {
     "base_uri": "https://localhost:8080/"
    },
    "id": "omuZx3kLM_OG",
    "outputId": "9056b71a-9a26-4857-e294-02ccc377f558"
   },
   "outputs": [
    {
     "name": "stdout",
     "output_type": "stream",
     "text": [
      "accuracy score on test set= 0.915945165945166\n",
      "roc_auc_score on test set= 0.9691967387843805\n",
      "precision score on test set= 0.9153061224489796\n",
      "recall score on test set= 0.8567335243553008\n",
      "f1 score on test set= 0.8850518006906759\n"
     ]
    }
   ],
   "source": [
    "\n",
    "# printing all scores on test set\n",
    "\n",
    "test_scores(gbc1,X_test_selcols,y_test,y_test_pred,y_test_predprob)"
   ]
  },
  {
   "cell_type": "code",
   "execution_count": 193,
   "metadata": {
    "colab": {
     "base_uri": "https://localhost:8080/"
    },
    "id": "MUlQq6HKpWwZ",
    "outputId": "d4e40c36-f4d5-4aab-e0ba-80ac0494ae06"
   },
   "outputs": [
    {
     "data": {
      "image/png": "[encoded data removed]",
      "text/plain": [
       "<Figure size 432x288 with 1 Axes>"
      ]
     },
     "metadata": {
      "needs_background": "light"
     },
     "output_type": "display_data"
    }
   ],
   "source": [
    "#printing confusion matrix on train set\n",
    "\n",
    "confusion_mat_train(y_train,y_train_pred)"
   ]
  },
  {
   "cell_type": "code",
   "execution_count": 194,
   "metadata": {},
   "outputs": [
    {
     "data": {
      "image/png": "[encoded data removed]",
      "text/plain": [
       "<Figure size 432x288 with 1 Axes>"
      ]
     },
     "metadata": {
      "needs_background": "light"
     },
     "output_type": "display_data"
    }
   ],
   "source": [
    "#printing confusion matrix on test set\n",
    "\n",
    "confusion_mat_test(y_test,y_test_pred)"
   ]
  },
  {
   "cell_type": "code",
   "execution_count": 195,
   "metadata": {
    "colab": {
     "base_uri": "https://localhost:8080/",
     "height": 281
    },
    "id": "OuGdLu-lM_OJ",
    "outputId": "ef2d2070-b8f6-4a91-fb56-d84bd1a5c3d2"
   },
   "outputs": [
    {
     "data": {
      "image/png": "[encoded data removed]",
      "text/plain": [
       "<Figure size 432x288 with 1 Axes>"
      ]
     },
     "metadata": {
      "needs_background": "light"
     },
     "output_type": "display_data"
    }
   ],
   "source": [
    "# printing roc_auc_curve\n",
    "\n",
    "roc_auc_curve1(y_train,y_train_predprob,y_test,y_test_predprob) \n"
   ]
  },
  {
   "cell_type": "code",
   "execution_count": null,
   "metadata": {
    "id": "pcjIiJaRJ0Ns"
   },
   "outputs": [],
   "source": []
  },
  {
   "cell_type": "markdown",
   "metadata": {
    "id": "xGhU-kWDJ0Rt"
   },
   "source": [
    "## Adaboost Classifier"
   ]
  },
  {
   "cell_type": "code",
   "execution_count": 196,
   "metadata": {
    "id": "Fawcg9XoQHr6"
   },
   "outputs": [],
   "source": [
    "from sklearn.ensemble import AdaBoostClassifier"
   ]
  },
  {
   "cell_type": "code",
   "execution_count": 198,
   "metadata": {
    "id": "zr5J_M6sQHsc"
   },
   "outputs": [],
   "source": [
    "ada=AdaBoostClassifier(random_state=10)"
   ]
  },
  {
   "cell_type": "code",
   "execution_count": 199,
   "metadata": {
    "id": "H8cQ3hp_QHse"
   },
   "outputs": [],
   "source": [
    "params={'n_estimators':sp_randint(80,250),'learning_rate':np.logspace(-3,-1,100)}"
   ]
  },
  {
   "cell_type": "code",
   "execution_count": 200,
   "metadata": {
    "id": "JXx5p6qxQHsf"
   },
   "outputs": [],
   "source": [
    "from sklearn.model_selection import RandomizedSearchCV"
   ]
  },
  {
   "cell_type": "code",
   "execution_count": 201,
   "metadata": {
    "id": "gfEarHp4QHsg"
   },
   "outputs": [],
   "source": [
    "rsearch=RandomizedSearchCV(ada,param_distributions=params,cv=10,scoring='roc_auc',n_iter=100,n_jobs=-1)"
   ]
  },
  {
   "cell_type": "code",
   "execution_count": null,
   "metadata": {
    "colab": {
     "base_uri": "https://localhost:8080/"
    },
    "id": "Udbnyx9CQHsh",
    "outputId": "d515b2a2-8235-468c-e7d0-51991dbaebf9"
   },
   "outputs": [],
   "source": []
  },
  {
   "cell_type": "code",
   "execution_count": null,
   "metadata": {
    "id": "k-5RzmILQHsi"
   },
   "outputs": [],
   "source": []
  },
  {
   "cell_type": "code",
   "execution_count": 203,
   "metadata": {
    "colab": {
     "base_uri": "https://localhost:8080/"
    },
    "id": "_mlf5cZ2QHsj",
    "outputId": "d515b2a2-8235-468c-e7d0-51991dbaebf9"
   },
   "outputs": [
    {
     "data": {
      "text/plain": [
       "RandomizedSearchCV(cv=10, estimator=AdaBoostClassifier(random_state=10),\n",
       "                   n_iter=100, n_jobs=-1,\n",
       "                   param_distributions={'learning_rate': array([0.001     , 0.00104762, 0.0010975 , 0.00114976, 0.0012045 ,\n",
       "       0.00126186, 0.00132194, 0.00138489, 0.00145083, 0.00151991,\n",
       "       0.00159228, 0.0016681 , 0.00174753, 0.00183074, 0.00191791,\n",
       "       0.00200923, 0.0021049 , 0.00220513, 0.00231013, 0.00242013,\n",
       "       0.0...\n",
       "       0.03274549, 0.03430469, 0.03593814, 0.03764936, 0.03944206,\n",
       "       0.04132012, 0.04328761, 0.04534879, 0.0475081 , 0.04977024,\n",
       "       0.05214008, 0.05462277, 0.05722368, 0.05994843, 0.06280291,\n",
       "       0.06579332, 0.06892612, 0.07220809, 0.07564633, 0.07924829,\n",
       "       0.08302176, 0.0869749 , 0.09111628, 0.09545485, 0.1       ]),\n",
       "                                        'n_estimators': <scipy.stats._distn_infrastructure.rv_frozen object at 0x00000299AE94F400>},\n",
       "                   scoring='roc_auc')"
      ]
     },
     "execution_count": 203,
     "metadata": {},
     "output_type": "execute_result"
    }
   ],
   "source": [
    "rsearch.fit(X_train_selcols,y_train)"
   ]
  },
  {
   "cell_type": "code",
   "execution_count": 204,
   "metadata": {
    "colab": {
     "base_uri": "https://localhost:8080/"
    },
    "id": "Q-GziIu3QHsk",
    "outputId": "13e8a11e-c452-4e5d-87c1-de3ab3276ece"
   },
   "outputs": [
    {
     "data": {
      "text/plain": [
       "{'learning_rate': 0.09111627561154896, 'n_estimators': 222}"
      ]
     },
     "execution_count": 204,
     "metadata": {},
     "output_type": "execute_result"
    }
   ],
   "source": [
    "rsearch.best_params_"
   ]
  },
  {
   "cell_type": "code",
   "execution_count": 205,
   "metadata": {
    "id": "D8Fk4DMsQHsl"
   },
   "outputs": [],
   "source": [
    "ada1=AdaBoostClassifier(random_state=10,**rsearch.best_params_)"
   ]
  },
  {
   "cell_type": "code",
   "execution_count": 206,
   "metadata": {
    "colab": {
     "base_uri": "https://localhost:8080/"
    },
    "id": "8QpGHxXDQHsl",
    "outputId": "58207062-7807-4250-9881-ac091af8605e"
   },
   "outputs": [
    {
     "data": {
      "text/plain": [
       "AdaBoostClassifier(random_state=10)"
      ]
     },
     "execution_count": 206,
     "metadata": {},
     "output_type": "execute_result"
    }
   ],
   "source": [
    "ada1.fit(X_train_selcols,y_train)"
   ]
  },
  {
   "cell_type": "code",
   "execution_count": 207,
   "metadata": {
    "id": "IuDGVLzXQHsm"
   },
   "outputs": [],
   "source": [
    "y_train_pred=ada1.predict(X_train_selcols)\n",
    "y_train_predprob=ada1.predict_proba(X_train_selcols)[:,1]"
   ]
  },
  {
   "cell_type": "code",
   "execution_count": 208,
   "metadata": {
    "id": "pZ5bVBr2QHsm"
   },
   "outputs": [],
   "source": [
    "y_test_pred=ada1.predict(X_test_selcols)\n",
    "y_test_predprob=ada1.predict_proba(X_test_selcols)[:,1]"
   ]
  },
  {
   "cell_type": "code",
   "execution_count": 209,
   "metadata": {
    "id": "WHaxcXJRQHsn"
   },
   "outputs": [],
   "source": [
    "from sklearn import metrics"
   ]
  },
  {
   "cell_type": "code",
   "execution_count": 210,
   "metadata": {
    "colab": {
     "base_uri": "https://localhost:8080/"
    },
    "id": "eT_yM2pVQHsn",
    "outputId": "1fe06412-40ab-4e07-f835-b3a40b78cae0"
   },
   "outputs": [
    {
     "name": "stdout",
     "output_type": "stream",
     "text": [
      "accuracy score on train set= 0.9035250463821892\n",
      "roc_auc_score on train set= 0.9620318930227449\n",
      "precision score on train set = 0.89375\n",
      "recall score pn train set= 0.8532219570405728\n",
      "f1 score on train set= 0.873015873015873\n"
     ]
    }
   ],
   "source": [
    "# printing all scores on train set \n",
    "\n",
    "train_scores(ada1,'AdaBoost Classifier',X_train_selcols,y_train,y_train_pred,y_train_predprob)\n"
   ]
  },
  {
   "cell_type": "code",
   "execution_count": 212,
   "metadata": {
    "colab": {
     "base_uri": "https://localhost:8080/"
    },
    "id": "0ImuGxefQHso",
    "outputId": "9056b71a-9a26-4857-e294-02ccc377f558"
   },
   "outputs": [
    {
     "name": "stdout",
     "output_type": "stream",
     "text": [
      "accuracy score on test set= 0.9044011544011544\n",
      "roc_auc_score on test set= 0.9577010921473361\n",
      "precision score on test set= 0.8863636363636364\n",
      "recall score on test set= 0.8567335243553008\n",
      "f1 score on test set= 0.8712967459932006\n"
     ]
    }
   ],
   "source": [
    "\n",
    "# printing all scores on test set\n",
    "\n",
    "test_scores(ada1,X_test_selcols,y_test,y_test_pred,y_test_predprob)"
   ]
  },
  {
   "cell_type": "code",
   "execution_count": 213,
   "metadata": {
    "colab": {
     "base_uri": "https://localhost:8080/"
    },
    "id": "MUlQq6HKpWwZ",
    "outputId": "d4e40c36-f4d5-4aab-e0ba-80ac0494ae06"
   },
   "outputs": [
    {
     "data": {
      "image/png": "[encoded data removed]",
      "text/plain": [
       "<Figure size 432x288 with 1 Axes>"
      ]
     },
     "metadata": {
      "needs_background": "light"
     },
     "output_type": "display_data"
    }
   ],
   "source": [
    "#printing confusion matrix on train set\n",
    "\n",
    "confusion_mat_train(y_train,y_train_pred)"
   ]
  },
  {
   "cell_type": "code",
   "execution_count": 214,
   "metadata": {},
   "outputs": [
    {
     "data": {
      "image/png": "[encoded data removed]",
      "text/plain": [
       "<Figure size 432x288 with 1 Axes>"
      ]
     },
     "metadata": {
      "needs_background": "light"
     },
     "output_type": "display_data"
    }
   ],
   "source": [
    "#printing confusion matrix on test set\n",
    "\n",
    "confusion_mat_test(y_test,y_test_pred)"
   ]
  },
  {
   "cell_type": "code",
   "execution_count": 215,
   "metadata": {
    "colab": {
     "base_uri": "https://localhost:8080/",
     "height": 281
    },
    "id": "7RiKvUy-QHsp",
    "outputId": "750051cb-b861-447f-dcbe-2ea6a306ce7b"
   },
   "outputs": [
    {
     "data": {
      "image/png": "[encoded data removed]",
      "text/plain": [
       "<Figure size 432x288 with 1 Axes>"
      ]
     },
     "metadata": {
      "needs_background": "light"
     },
     "output_type": "display_data"
    }
   ],
   "source": [
    "# printing roc_auc_curve\n",
    "\n",
    "roc_auc_curve1(y_train,y_train_predprob,y_test,y_test_predprob) \n"
   ]
  },
  {
   "cell_type": "code",
   "execution_count": null,
   "metadata": {
    "id": "g9DwgNGEQHsq"
   },
   "outputs": [],
   "source": []
  },
  {
   "cell_type": "markdown",
   "metadata": {
    "id": "cwx8PbbpQHsq"
   },
   "source": [
    "## Printing Scores of all models in a DataFrame"
   ]
  },
  {
   "cell_type": "code",
   "execution_count": 217,
   "metadata": {
    "id": "k-OPjIUcQHsq"
   },
   "outputs": [
    {
     "data": {
      "text/html": [
       "<div>\n",
       "<style scoped>\n",
       "    .dataframe tbody tr th:only-of-type {\n",
       "        vertical-align: middle;\n",
       "    }\n",
       "\n",
       "    .dataframe tbody tr th {\n",
       "        vertical-align: top;\n",
       "    }\n",
       "\n",
       "    .dataframe thead th {\n",
       "        text-align: right;\n",
       "    }\n",
       "</style>\n",
       "<table border=\"1\" class=\"dataframe\">\n",
       "  <thead>\n",
       "    <tr style=\"text-align: right;\">\n",
       "      <th></th>\n",
       "      <th>0</th>\n",
       "      <th>1</th>\n",
       "      <th>2</th>\n",
       "      <th>3</th>\n",
       "      <th>4</th>\n",
       "      <th>5</th>\n",
       "      <th>6</th>\n",
       "      <th>7</th>\n",
       "    </tr>\n",
       "  </thead>\n",
       "  <tbody>\n",
       "    <tr>\n",
       "      <th>model</th>\n",
       "      <td>Logistic Regression</td>\n",
       "      <td>Random Forest Classifier</td>\n",
       "      <td>XGBoost Classifier</td>\n",
       "      <td>LightGBM Classifier</td>\n",
       "      <td>Naive Bayes Classifier</td>\n",
       "      <td>KNN Classifier</td>\n",
       "      <td>GradientBoosting Classifier</td>\n",
       "      <td>AdaBoost Classifier</td>\n",
       "    </tr>\n",
       "    <tr>\n",
       "      <th>train_accuracy_score</th>\n",
       "      <td>0.902443</td>\n",
       "      <td>0.90569</td>\n",
       "      <td>0.925788</td>\n",
       "      <td>0.929344</td>\n",
       "      <td>0.824675</td>\n",
       "      <td>0.992733</td>\n",
       "      <td>0.919759</td>\n",
       "      <td>0.903525</td>\n",
       "    </tr>\n",
       "    <tr>\n",
       "      <th>test_accuracy_score</th>\n",
       "      <td>0.909091</td>\n",
       "      <td>0.896825</td>\n",
       "      <td>0.917749</td>\n",
       "      <td>0.921717</td>\n",
       "      <td>0.829004</td>\n",
       "      <td>0.8943</td>\n",
       "      <td>0.915945</td>\n",
       "      <td>0.904401</td>\n",
       "    </tr>\n",
       "    <tr>\n",
       "      <th>train_roc_auc_score</th>\n",
       "      <td>0.960102</td>\n",
       "      <td>0.967909</td>\n",
       "      <td>0.976763</td>\n",
       "      <td>0.979231</td>\n",
       "      <td>0.892698</td>\n",
       "      <td>0.99949</td>\n",
       "      <td>0.97214</td>\n",
       "      <td>0.962032</td>\n",
       "    </tr>\n",
       "    <tr>\n",
       "      <th>test_roc_auc_score</th>\n",
       "      <td>0.959547</td>\n",
       "      <td>0.96339</td>\n",
       "      <td>0.970722</td>\n",
       "      <td>0.971242</td>\n",
       "      <td>0.896024</td>\n",
       "      <td>0.952288</td>\n",
       "      <td>0.969197</td>\n",
       "      <td>0.957701</td>\n",
       "    </tr>\n",
       "    <tr>\n",
       "      <th>train_precision_score</th>\n",
       "      <td>0.897103</td>\n",
       "      <td>0.922309</td>\n",
       "      <td>0.917431</td>\n",
       "      <td>0.915832</td>\n",
       "      <td>0.83045</td>\n",
       "      <td>0.894351</td>\n",
       "      <td>0.915306</td>\n",
       "      <td>0.886364</td>\n",
       "    </tr>\n",
       "    <tr>\n",
       "      <th>test_precision_score</th>\n",
       "      <td>0.897103</td>\n",
       "      <td>0.922309</td>\n",
       "      <td>0.917431</td>\n",
       "      <td>0.915832</td>\n",
       "      <td>0.83045</td>\n",
       "      <td>0.894351</td>\n",
       "      <td>0.915306</td>\n",
       "      <td>0.886364</td>\n",
       "    </tr>\n",
       "    <tr>\n",
       "      <th>train_recall_scorel</th>\n",
       "      <td>0.857689</td>\n",
       "      <td>0.793696</td>\n",
       "      <td>0.859599</td>\n",
       "      <td>0.87297</td>\n",
       "      <td>0.687679</td>\n",
       "      <td>0.816619</td>\n",
       "      <td>0.856734</td>\n",
       "      <td>0.856734</td>\n",
       "    </tr>\n",
       "    <tr>\n",
       "      <th>test_recall_scorel</th>\n",
       "      <td>0.857689</td>\n",
       "      <td>0.793696</td>\n",
       "      <td>0.859599</td>\n",
       "      <td>0.87297</td>\n",
       "      <td>0.687679</td>\n",
       "      <td>0.816619</td>\n",
       "      <td>0.856734</td>\n",
       "      <td>0.856734</td>\n",
       "    </tr>\n",
       "    <tr>\n",
       "      <th>train_f1_score</th>\n",
       "      <td>0.876953</td>\n",
       "      <td>0.853183</td>\n",
       "      <td>0.887574</td>\n",
       "      <td>0.893888</td>\n",
       "      <td>0.752351</td>\n",
       "      <td>0.853719</td>\n",
       "      <td>0.885052</td>\n",
       "      <td>0.871297</td>\n",
       "    </tr>\n",
       "    <tr>\n",
       "      <th>test_f1_score</th>\n",
       "      <td>0.876953</td>\n",
       "      <td>0.853183</td>\n",
       "      <td>0.887574</td>\n",
       "      <td>0.893888</td>\n",
       "      <td>0.752351</td>\n",
       "      <td>0.853719</td>\n",
       "      <td>0.885052</td>\n",
       "      <td>0.871297</td>\n",
       "    </tr>\n",
       "  </tbody>\n",
       "</table>\n",
       "</div>"
      ],
      "text/plain": [
       "                                         0                         1  \\\n",
       "model                  Logistic Regression  Random Forest Classifier   \n",
       "train_accuracy_score              0.902443                   0.90569   \n",
       "test_accuracy_score               0.909091                  0.896825   \n",
       "train_roc_auc_score               0.960102                  0.967909   \n",
       "test_roc_auc_score                0.959547                   0.96339   \n",
       "train_precision_score             0.897103                  0.922309   \n",
       "test_precision_score              0.897103                  0.922309   \n",
       "train_recall_scorel               0.857689                  0.793696   \n",
       "test_recall_scorel                0.857689                  0.793696   \n",
       "train_f1_score                    0.876953                  0.853183   \n",
       "test_f1_score                     0.876953                  0.853183   \n",
       "\n",
       "                                        2                    3  \\\n",
       "model                  XGBoost Classifier  LightGBM Classifier   \n",
       "train_accuracy_score             0.925788             0.929344   \n",
       "test_accuracy_score              0.917749             0.921717   \n",
       "train_roc_auc_score              0.976763             0.979231   \n",
       "test_roc_auc_score               0.970722             0.971242   \n",
       "train_precision_score            0.917431             0.915832   \n",
       "test_precision_score             0.917431             0.915832   \n",
       "train_recall_scorel              0.859599              0.87297   \n",
       "test_recall_scorel               0.859599              0.87297   \n",
       "train_f1_score                   0.887574             0.893888   \n",
       "test_f1_score                    0.887574             0.893888   \n",
       "\n",
       "                                            4               5  \\\n",
       "model                  Naive Bayes Classifier  KNN Classifier   \n",
       "train_accuracy_score                 0.824675        0.992733   \n",
       "test_accuracy_score                  0.829004          0.8943   \n",
       "train_roc_auc_score                  0.892698         0.99949   \n",
       "test_roc_auc_score                   0.896024        0.952288   \n",
       "train_precision_score                 0.83045        0.894351   \n",
       "test_precision_score                  0.83045        0.894351   \n",
       "train_recall_scorel                  0.687679        0.816619   \n",
       "test_recall_scorel                   0.687679        0.816619   \n",
       "train_f1_score                       0.752351        0.853719   \n",
       "test_f1_score                        0.752351        0.853719   \n",
       "\n",
       "                                                 6                    7  \n",
       "model                  GradientBoosting Classifier  AdaBoost Classifier  \n",
       "train_accuracy_score                      0.919759             0.903525  \n",
       "test_accuracy_score                       0.915945             0.904401  \n",
       "train_roc_auc_score                        0.97214             0.962032  \n",
       "test_roc_auc_score                        0.969197             0.957701  \n",
       "train_precision_score                     0.915306             0.886364  \n",
       "test_precision_score                      0.915306             0.886364  \n",
       "train_recall_scorel                       0.856734             0.856734  \n",
       "test_recall_scorel                        0.856734             0.856734  \n",
       "train_f1_score                            0.885052             0.871297  \n",
       "test_f1_score                             0.885052             0.871297  "
      ]
     },
     "execution_count": 217,
     "metadata": {},
     "output_type": "execute_result"
    }
   ],
   "source": [
    "pd.DataFrame({'model':model,\n",
    "              'train_accuracy_score':train_accuracy_score,'test_accuracy_score':test_accuracy_score,\n",
    "              'train_roc_auc_score':train_roc_auc_score,'test_roc_auc_score':test_roc_auc_score,\n",
    "              'train_precision_score':train_precision_score,'test_precision_score':test_precision_score,\n",
    "              'train_recall_scorel':train_recall_score,'test_recall_scorel':test_recall_score,\n",
    "              'train_f1_score':train_f1_score,'test_f1_score':test_f1_score}).T"
   ]
  },
  {
   "cell_type": "code",
   "execution_count": null,
   "metadata": {
    "id": "kvqio3AiQHsr"
   },
   "outputs": [],
   "source": []
  },
  {
   "cell_type": "code",
   "execution_count": null,
   "metadata": {
    "id": "Hu-JCRVnJ0cg"
   },
   "outputs": [],
   "source": []
  }
 ],
 "metadata": {
  "colab": {
   "collapsed_sections": [],
   "name": "Model implementation 8th march updated.ipynb",
   "provenance": []
  },
  "kernelspec": {
   "display_name": "Python 3",
   "language": "python",
   "name": "python3"
  },
  "language_info": {
   "codemirror_mode": {
    "name": "ipython",
    "version": 3
   },
   "file_extension": ".py",
   "mimetype": "text/x-python",
   "name": "python",
   "nbconvert_exporter": "python",
   "pygments_lexer": "ipython3",
   "version": "3.7.4"
  }
 },
 "nbformat": 4,
 "nbformat_minor": 1
}
